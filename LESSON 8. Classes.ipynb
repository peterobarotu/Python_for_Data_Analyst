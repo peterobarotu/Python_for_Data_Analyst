{
 "cells": [
  {
   "cell_type": "markdown",
   "id": "35803f98",
   "metadata": {},
   "source": [
    "# Classes\n",
    "As mentioned at the beginning of the course, Python is an object-oriented programming language and so, as you might have probably notice, it is about creating and interacting with objects within a code. Numbers, strings, lists, functions e.t.c are all objects belonging to a particular class. The class an object belongs to is defined by its attribute and methods. Attribute are features or characteristics of an object inherited as a result of its class. Methods are behaviour or action that can be perfomed or executed as a result of their attfribute. For example, humans have hands and therefore can clap. Hand is an attribute, clapping is an action(method) as a result of having hands.\n",
    "\n",
    "Python Class is like an outline for creating a new object. An object is an *__instances__* of a particular class. Classes serve as blueprints for creating multiple instances.  Making an object from a class is called instantiation and each object is automatically equipped with the general behavior of that class. For example, my laptop and your laptop are objects/instances belonging to the class laptop, you and I belong to the same class and we're are instances of class Person or Human. Consider below a simple example of class."
   ]
  },
  {
   "cell_type": "markdown",
   "id": "655328be",
   "metadata": {},
   "source": [
    "## Creating Classes"
   ]
  },
  {
   "cell_type": "code",
   "execution_count": 1,
   "id": "a1a70df2",
   "metadata": {},
   "outputs": [],
   "source": [
    "class Person:           # A simple class\n",
    "    pass                # Does nothing (No attribute or method defined)"
   ]
  },
  {
   "cell_type": "code",
   "execution_count": 2,
   "id": "4e1e3810",
   "metadata": {},
   "outputs": [],
   "source": [
    "Person.name = 'john'      # Adding name and age attributes\n",
    "Person.age = 15"
   ]
  },
  {
   "cell_type": "code",
   "execution_count": 3,
   "id": "68326c8b",
   "metadata": {},
   "outputs": [],
   "source": [
    "person_1 = Person()          # Creates 2 instances of a person called person_1 and person_2 from Person class\n",
    "person_2 = Person()          # We can create as many as we like       "
   ]
  },
  {
   "cell_type": "code",
   "execution_count": 4,
   "id": "70ccb24f",
   "metadata": {},
   "outputs": [
    {
     "data": {
      "text/plain": [
       "'john'"
      ]
     },
     "execution_count": 4,
     "metadata": {},
     "output_type": "execute_result"
    }
   ],
   "source": [
    "person_1.name                # Accessing attribute"
   ]
  },
  {
   "cell_type": "code",
   "execution_count": 5,
   "id": "2ea8447b",
   "metadata": {},
   "outputs": [
    {
     "data": {
      "text/plain": [
       "15"
      ]
     },
     "execution_count": 5,
     "metadata": {},
     "output_type": "execute_result"
    }
   ],
   "source": [
    "person_1.age"
   ]
  },
  {
   "cell_type": "code",
   "execution_count": 6,
   "id": "e068aea3",
   "metadata": {},
   "outputs": [
    {
     "data": {
      "text/plain": [
       "'john'"
      ]
     },
     "execution_count": 6,
     "metadata": {},
     "output_type": "execute_result"
    }
   ],
   "source": [
    "person_2.name               # Not a desirable result. Every person keeps having name as 'john'"
   ]
  },
  {
   "cell_type": "code",
   "execution_count": 7,
   "id": "b75ee99b",
   "metadata": {},
   "outputs": [
    {
     "data": {
      "text/plain": [
       "'davina'"
      ]
     },
     "execution_count": 7,
     "metadata": {},
     "output_type": "execute_result"
    }
   ],
   "source": [
    "person_2.name = 'davina'     # Re-assign the value to name attribute for person_2 to 'davina'\n",
    "person_2.name"
   ]
  },
  {
   "cell_type": "markdown",
   "id": "5444fd18",
   "metadata": {},
   "source": [
    "Although it is possible to change the value of an attribute as seen above (we can also change the value to the `age` attribute for `person_2`), creating classes this way is inefficient, for example, we have to reassign values for each attribute for every instances created (imagine creating hundred instances of _persons_ this way). The _dunder_ **`__init__`** method is Python's way of solving this problem. It is use to __initialize__ the attribute of a class so that every instance created from any given class can assign its own attribute value. \"Dunder\" is a colloquial term used to refer to special methods in Python that have **d**ouble **under**scores (also known as \"magic methods\" or \"special methods\"). The code below shows how the `__init__` is used:"
   ]
  },
  {
   "cell_type": "code",
   "execution_count": 8,
   "id": "62903865",
   "metadata": {},
   "outputs": [],
   "source": [
    "class Person:\n",
    "    \"\"\"A simple model of a Person\"\"\"\n",
    "    def __init__(self, name, age):\n",
    "        self.name = name       \n",
    "        self.age = age"
   ]
  },
  {
   "cell_type": "code",
   "execution_count": 9,
   "id": "ec0da16e",
   "metadata": {},
   "outputs": [],
   "source": [
    "person_1 = Person(name='john', age=15)\n",
    "person_2 = Person('davina', 10)"
   ]
  },
  {
   "cell_type": "code",
   "execution_count": 10,
   "id": "70a90c0c",
   "metadata": {},
   "outputs": [
    {
     "data": {
      "text/plain": [
       "'john'"
      ]
     },
     "execution_count": 10,
     "metadata": {},
     "output_type": "execute_result"
    }
   ],
   "source": [
    "person_1.name"
   ]
  },
  {
   "cell_type": "code",
   "execution_count": 11,
   "id": "4ced73f6",
   "metadata": {},
   "outputs": [
    {
     "data": {
      "text/plain": [
       "'davina'"
      ]
     },
     "execution_count": 11,
     "metadata": {},
     "output_type": "execute_result"
    }
   ],
   "source": [
    "person_2.name"
   ]
  },
  {
   "cell_type": "code",
   "execution_count": 12,
   "id": "bdff7296",
   "metadata": {},
   "outputs": [
    {
     "data": {
      "text/plain": [
       "10"
      ]
     },
     "execution_count": 12,
     "metadata": {},
     "output_type": "execute_result"
    }
   ],
   "source": [
    "person_2.age"
   ]
  },
  {
   "cell_type": "markdown",
   "id": "dda74a01",
   "metadata": {},
   "source": [
    "**The `self` parameter in the `__init__` method is a placeholder** for the instances name to be created and  must be placed first in the parameter list. For example, `person_1` and `person_2` replaces `self` at instantiation so that `self.name = name` becomes `person_1.name = name`, and in the case of `person_1`, the value to the `name` argument is `'john'` --indirectly we have assigned `person_1` name to the string 'john'. Therefore when we call `person_1.name` we will get `'john'`. The same thing goes for `person_2`. Technically you can use any valid variable name instead of `self`, although it is not recommended for the sake of clarity and convention.\n",
    "\n",
    "Let see another example with more attributes to drive this concept home:"
   ]
  },
  {
   "cell_type": "code",
   "execution_count": 13,
   "id": "2cdbfee1",
   "metadata": {},
   "outputs": [],
   "source": [
    "class Employee:\n",
    "    \"\"\"A simple model of an employed person\"\"\"\n",
    "    def __init__(self, f_name, l_name, job=None, salary=0):\n",
    "        self.f_name = f_name\n",
    "        self.l_name = l_name\n",
    "        self.job = job\n",
    "        self.salary = salary"
   ]
  },
  {
   "cell_type": "code",
   "execution_count": 14,
   "id": "6baff6cf",
   "metadata": {},
   "outputs": [],
   "source": [
    "john = Employee('john', 'olu')\n",
    "davina = Employee('davina', 'klu', 'Secretary', 75000)"
   ]
  },
  {
   "cell_type": "code",
   "execution_count": 15,
   "id": "1c4a6ed0",
   "metadata": {},
   "outputs": [
    {
     "data": {
      "text/plain": [
       "'olu'"
      ]
     },
     "execution_count": 15,
     "metadata": {},
     "output_type": "execute_result"
    }
   ],
   "source": [
    "john.l_name"
   ]
  },
  {
   "cell_type": "code",
   "execution_count": 16,
   "id": "7e6b129d",
   "metadata": {},
   "outputs": [
    {
     "data": {
      "text/plain": [
       "0"
      ]
     },
     "execution_count": 16,
     "metadata": {},
     "output_type": "execute_result"
    }
   ],
   "source": [
    "john.salary"
   ]
  },
  {
   "cell_type": "code",
   "execution_count": 17,
   "id": "ec149521",
   "metadata": {},
   "outputs": [
    {
     "data": {
      "text/plain": [
       "'klu'"
      ]
     },
     "execution_count": 17,
     "metadata": {},
     "output_type": "execute_result"
    }
   ],
   "source": [
    "davina.l_name"
   ]
  },
  {
   "cell_type": "code",
   "execution_count": 18,
   "id": "8d63a08e",
   "metadata": {},
   "outputs": [
    {
     "data": {
      "text/plain": [
       "75000"
      ]
     },
     "execution_count": 18,
     "metadata": {},
     "output_type": "execute_result"
    }
   ],
   "source": [
    "davina.salary"
   ]
  },
  {
   "cell_type": "markdown",
   "id": "a1a07538",
   "metadata": {},
   "source": [
    "We can modify each intance's attribute values and set it to a new value:"
   ]
  },
  {
   "cell_type": "code",
   "execution_count": 19,
   "id": "0ec682b4",
   "metadata": {},
   "outputs": [],
   "source": [
    "john.job = 'Marketer'\n",
    "john.salary = 67000"
   ]
  },
  {
   "cell_type": "code",
   "execution_count": 20,
   "id": "097021b3",
   "metadata": {
    "scrolled": true
   },
   "outputs": [
    {
     "name": "stdout",
     "output_type": "stream",
     "text": [
      "Marketer\n",
      "67000\n"
     ]
    }
   ],
   "source": [
    "print(john.job)\n",
    "print(john.salary)"
   ]
  },
  {
   "cell_type": "markdown",
   "id": "eac36d02",
   "metadata": {},
   "source": [
    "### Defining a Class Method"
   ]
  },
  {
   "cell_type": "markdown",
   "id": "052727d5",
   "metadata": {},
   "source": [
    "Attributes can be modified directly, as shown above, or through methods defined within the class (which is recommended). Methods, which are essentially functions (with a compulsory `self` parameter), are used to perform operations or actions on an object (or instance) of a class based on the attributes of that class.\n",
    "\n",
    "These methods provide a way to encapsulate functionality related to the class, allowing for better organization and reusability of code. By defining methods within the class, you can manipulate the attributes and perform specific actions that are relevant to the class's purpose. Continuing with the `Person` class, we can define some methods base on the attributes:"
   ]
  },
  {
   "cell_type": "code",
   "execution_count": 21,
   "id": "f8f81c38",
   "metadata": {},
   "outputs": [],
   "source": [
    "class Person:\n",
    "    \"\"\"A simple model of a Person\"\"\"\n",
    "    def __init__(self, name, age):\n",
    "        self.name = name\n",
    "        self.age = age\n",
    "    \n",
    "    def change_name(self, new_name):           # A method that changes/update the name attribute\n",
    "        \"\"\"Change the person's name\"\"\"\n",
    "        self.name = new_name\n",
    "        print(\"Your name has been succesfully changed\")\n",
    "    \n",
    "    def celebrate_bday(self):                  # A method that modifies the value to age attribute\n",
    "        \"\"\"\n",
    "        Increase the value of age by 1 and \n",
    "        print a birthday message\n",
    "        \"\"\"\n",
    "        self.age += 1\n",
    "        print(f\"Happy birthday {self.name.title()}! You are now {self.age} years. Wishing you a fantastic year ahead.\")"
   ]
  },
  {
   "cell_type": "code",
   "execution_count": 22,
   "id": "3ea443c2",
   "metadata": {},
   "outputs": [],
   "source": [
    "person_1 = Person(name='john', age=27)\n",
    "person_2 = Person(name='davina', age=30)"
   ]
  },
  {
   "cell_type": "code",
   "execution_count": 23,
   "id": "eafdb667",
   "metadata": {},
   "outputs": [
    {
     "data": {
      "text/plain": [
       "'john'"
      ]
     },
     "execution_count": 23,
     "metadata": {},
     "output_type": "execute_result"
    }
   ],
   "source": [
    "person_1.name"
   ]
  },
  {
   "cell_type": "code",
   "execution_count": 25,
   "id": "ecd86678",
   "metadata": {
    "scrolled": true
   },
   "outputs": [
    {
     "name": "stdout",
     "output_type": "stream",
     "text": [
      "Your name has been succesfully changed\n"
     ]
    }
   ],
   "source": [
    "person_1.change_name('sydney')"
   ]
  },
  {
   "cell_type": "code",
   "execution_count": 26,
   "id": "9288b58e",
   "metadata": {},
   "outputs": [
    {
     "data": {
      "text/plain": [
       "'sydney'"
      ]
     },
     "execution_count": 26,
     "metadata": {},
     "output_type": "execute_result"
    }
   ],
   "source": [
    "person_1.name"
   ]
  },
  {
   "cell_type": "code",
   "execution_count": 27,
   "id": "d453da3d",
   "metadata": {},
   "outputs": [
    {
     "name": "stdout",
     "output_type": "stream",
     "text": [
      "Happy birthday Davina! You are now 31 years. Wishing you a fantastic year ahead.\n"
     ]
    }
   ],
   "source": [
    "person_2.celebrate_bday()      # Everytime you run this code the age increases by 1. Run it again!"
   ]
  },
  {
   "cell_type": "markdown",
   "id": "7bbd9572",
   "metadata": {},
   "source": [
    "Methods like this that modifies attributes are often referred to as setter methods or mutator methods. Although as pointed out earlier, you can modify the value of an attribute directly by doing something along the line `person_1.name = new_name`, it is generally not recommended to access an attribute directly but rather use a setter method like `change_name()`. The use of setter methods provides better control and _encapsulation_ of the attribute's value within a class. However, it's worth mentioning that not all attributes necessarily require setter methods. Sometimes, attributes can be read-only or directly accessible without any special restrictions. To improve our knowledge further, let's see another example with more methods:"
   ]
  },
  {
   "cell_type": "code",
   "execution_count": 28,
   "id": "e23423ea",
   "metadata": {},
   "outputs": [],
   "source": [
    "class Employee:\n",
    "    \"\"\"Models an Employee class\"\"\"\n",
    "    def __init__(self, f_name, l_name, job, salary):\n",
    "        self.f_name = f_name\n",
    "        self.l_name = l_name\n",
    "        self.job = job\n",
    "        self.salary = salary\n",
    "    \n",
    "    def update_salary(self, new_salary):            # A setter method which modifies the salary attribute\n",
    "        \"\"\"Set or reassign the salary of a worker\"\"\"\n",
    "        if self.salary < new_salary:\n",
    "            self.salary = new_salary\n",
    "        else:\n",
    "            print(\"New salary must be greater than the current salary.\")\n",
    "    \n",
    "    def give_bonus(self, percent=0.08):            # Give 8% bonus by default\n",
    "        \"\"\"Calculate an employee bonus base on a percentage\"\"\"\n",
    "        return self.salary*percent\n",
    "    \n",
    "    def compute_salary(self, percent=0):           # O% default in cases  where no bonus is given\n",
    "        \"\"\"Compute total salary for a given period(month)\"\"\"\n",
    "        return self.salary + self.give_bonus(percent)\n",
    "    \n",
    "    def get_info(self):\n",
    "        \"\"\"Return employee infomation in a dict.\"\"\"\n",
    "        return {'First name':self.f_name, \n",
    "                'Last name':self.l_name, \n",
    "                'Job':self.job, \n",
    "                'Salary':self.salary\n",
    "               }"
   ]
  },
  {
   "cell_type": "code",
   "execution_count": 29,
   "id": "20acff0e",
   "metadata": {
    "scrolled": true
   },
   "outputs": [],
   "source": [
    "john = Employee('john', 'olu', job='Marketer', salary=67000)\n",
    "davina = Employee('davina', 'klu', 'Secretary', 75000)"
   ]
  },
  {
   "cell_type": "code",
   "execution_count": 30,
   "id": "77e5a167",
   "metadata": {},
   "outputs": [
    {
     "data": {
      "text/plain": [
       "{'First name': 'john', 'Last name': 'olu', 'Job': 'Marketer', 'Salary': 67000}"
      ]
     },
     "execution_count": 30,
     "metadata": {},
     "output_type": "execute_result"
    }
   ],
   "source": [
    "john.get_info()"
   ]
  },
  {
   "cell_type": "code",
   "execution_count": 31,
   "id": "e3f02f52",
   "metadata": {},
   "outputs": [
    {
     "data": {
      "text/plain": [
       "{'First name': 'davina',\n",
       " 'Last name': 'klu',\n",
       " 'Job': 'Secretary',\n",
       " 'Salary': 75000}"
      ]
     },
     "execution_count": 31,
     "metadata": {},
     "output_type": "execute_result"
    }
   ],
   "source": [
    "davina.get_info()"
   ]
  },
  {
   "cell_type": "code",
   "execution_count": 32,
   "id": "ef437482",
   "metadata": {},
   "outputs": [
    {
     "data": {
      "text/plain": [
       "67000"
      ]
     },
     "execution_count": 32,
     "metadata": {},
     "output_type": "execute_result"
    }
   ],
   "source": [
    "john.salary"
   ]
  },
  {
   "cell_type": "code",
   "execution_count": 33,
   "id": "35d36072",
   "metadata": {},
   "outputs": [
    {
     "name": "stdout",
     "output_type": "stream",
     "text": [
      "New salary must be greater than the current salary.\n"
     ]
    },
    {
     "data": {
      "text/plain": [
       "67000"
      ]
     },
     "execution_count": 33,
     "metadata": {},
     "output_type": "execute_result"
    }
   ],
   "source": [
    "john.update_salary(60000)          # Increase wage to 70000 from 67000\n",
    "john.salary"
   ]
  },
  {
   "cell_type": "code",
   "execution_count": 34,
   "id": "a2b9380a",
   "metadata": {},
   "outputs": [
    {
     "data": {
      "text/plain": [
       "5360.0"
      ]
     },
     "execution_count": 34,
     "metadata": {},
     "output_type": "execute_result"
    }
   ],
   "source": [
    "john.give_bonus()              # Gives john 8% default bonus"
   ]
  },
  {
   "cell_type": "code",
   "execution_count": 35,
   "id": "125dfde5",
   "metadata": {},
   "outputs": [
    {
     "data": {
      "text/plain": [
       "72360.0"
      ]
     },
     "execution_count": 35,
     "metadata": {},
     "output_type": "execute_result"
    }
   ],
   "source": [
    "john.compute_salary(percent=0.08)      # Total salary after adding bonus"
   ]
  },
  {
   "cell_type": "code",
   "execution_count": 36,
   "id": "6c940a3a",
   "metadata": {
    "scrolled": true
   },
   "outputs": [
    {
     "data": {
      "text/plain": [
       "(7500.0, 82500.0)"
      ]
     },
     "execution_count": 36,
     "metadata": {},
     "output_type": "execute_result"
    }
   ],
   "source": [
    "davina.give_bonus(0.10), davina.compute_salary(0.10)        # 10% bonus and the total Salary after bonus is added     "
   ]
  },
  {
   "cell_type": "code",
   "execution_count": 37,
   "id": "633d324a",
   "metadata": {},
   "outputs": [
    {
     "name": "stdout",
     "output_type": "stream",
     "text": [
      "New salary must be greater than the current salary.\n"
     ]
    }
   ],
   "source": [
    "davina.update_salary(70000)"
   ]
  },
  {
   "cell_type": "code",
   "execution_count": 38,
   "id": "65267ac1",
   "metadata": {},
   "outputs": [],
   "source": [
    "davina.salary = 70000"
   ]
  },
  {
   "cell_type": "code",
   "execution_count": 39,
   "id": "8d379c96",
   "metadata": {},
   "outputs": [
    {
     "data": {
      "text/plain": [
       "70000"
      ]
     },
     "execution_count": 39,
     "metadata": {},
     "output_type": "execute_result"
    }
   ],
   "source": [
    "davina.salary"
   ]
  },
  {
   "cell_type": "markdown",
   "id": "fb87f782",
   "metadata": {},
   "source": [
    "Ealier we said something about using setter methods to access/modify an attribute which provides encapsulation. In simpler terms, encapsulation allows you to group related data and behaviors together, protecting the data from direct access and modification by external code. Encapsulation can be use to enforce certain conditions or validations on the attribute's value before assigning it. This allows you to control how the attribute is modified and ensure that it remains in a valid state. The `update_salary()`method ensures that new value to `salary`  must be greater than the current value. By doing this, you are encapsulating the logic for updating the attribute within the method and controlling how the attribute can be modified."
   ]
  },
  {
   "cell_type": "markdown",
   "id": "cd33ec1c",
   "metadata": {},
   "source": [
    "You can also call a method using the following syntax (although not recommended): \n",
    "    \n",
    "    Class.method(instance, args...)\n",
    "This way you are explicitly invoking a method on a specific instance of a class. Here's a breakdown of the components:\n",
    "\n",
    "* `Class`: Refers to the name of the class containing the method you want to call.\n",
    "* `method`: Represents the name of the method you wish to invoke.\n",
    "* `instance`: Represents the specific instance of the class on which you want to call the method.\n",
    "* `args...`: Refers to any additional arguments that the method may require.\n",
    "\n",
    "By explicitly specifying the instance as the first argument when calling the method (`instance` in this case), you are directly indicating on which instance of the class the method should be executed. This way, even if the method is inherited  (coming to this shortly) from a superclass or overridden in a subclass, the method belonging to the specific instance's class will be called."
   ]
  },
  {
   "cell_type": "code",
   "execution_count": 40,
   "id": "0071aedf",
   "metadata": {},
   "outputs": [
    {
     "data": {
      "text/plain": [
       "7000.0"
      ]
     },
     "execution_count": 40,
     "metadata": {},
     "output_type": "execute_result"
    }
   ],
   "source": [
    "Employee.give_bonus(davina, percent=0.10)      # Call the give_bonus method on instance davina"
   ]
  },
  {
   "cell_type": "code",
   "execution_count": 50,
   "id": "35b2a317",
   "metadata": {
    "scrolled": true
   },
   "outputs": [
    {
     "data": {
      "text/plain": [
       "82500.0"
      ]
     },
     "execution_count": 50,
     "metadata": {},
     "output_type": "execute_result"
    }
   ],
   "source": [
    "Employee.compute_salary(davina, 0.10) "
   ]
  },
  {
   "cell_type": "markdown",
   "id": "557f380c",
   "metadata": {},
   "source": [
    "Let's improve our class further. It's common to increase an employee salary from their starting salary, so we will add a method that increase an employee salary base on certain percentage. we can use the `update_salary()` method defined before to set this value manually after calculating the new salary base on the percentage, but why do this if we can employ a method that automatically performs the calculation base on a given percentage and then update the salary base on that result. Also note that we cannot use `give_bonus()` because bonus are not usually part of basic salary structure, they are given most times base on performance or other criteria and are not fixed amounts (i.e you can receive a bonus for a certain month and not receive for another month but your salary must be the agreed fee irrespective of performance). New salary can be calculated as follows:\n",
    "$$new \\ salary = old \\ salary + (old \\ salary \\times percentage)$$\n",
    "$$new \\ salary = old \\ salary \\times(1 + percentage)$$\n",
    "\n",
    "Lastly, we'll remove `get_info()` method an use a dunder method that helps display our class in a customized way when an instance of that class is called. The dunder **`__repr__`**  method will be use here though we can also  use the dunder **`__str__`**  method. Without the `__repr__` method, when we call an instance of a class we get a message displaying the address of the intance/object in memory as shown below:"
   ]
  },
  {
   "cell_type": "code",
   "execution_count": 41,
   "id": "da80f3dc",
   "metadata": {
    "scrolled": true
   },
   "outputs": [
    {
     "data": {
      "text/plain": [
       "<__main__.Employee at 0x22c537756d0>"
      ]
     },
     "execution_count": 41,
     "metadata": {},
     "output_type": "execute_result"
    }
   ],
   "source": [
    "john"
   ]
  },
  {
   "cell_type": "code",
   "execution_count": 42,
   "id": "bac6d7a5",
   "metadata": {},
   "outputs": [],
   "source": [
    "class Employee:\n",
    "    \"\"\"Models an Employee class\"\"\"\n",
    "    def __init__(self, f_name, l_name, job, salary):\n",
    "        self.f_name = f_name\n",
    "        self.l_name = l_name\n",
    "        self.job = job\n",
    "        self.salary = salary\n",
    "    \n",
    "    def update_salary(self, new_salary):\n",
    "        \"\"\"Set or reassign the salary of a worker\"\"\"\n",
    "        if new_salary > self.salary:\n",
    "            self.salary = new_salary\n",
    "        else:\n",
    "            print(\"New salary must be greater than the current salary.\")\n",
    "    \n",
    "    def give_bonus(self, percent=0.08):            # 8% bonus by default\n",
    "        \"\"\"Calculate an employee bonus base on a percentage\"\"\"\n",
    "        return self.salary*percent\n",
    "    \n",
    "    def give_raise(self, percent=0.12):       # 12% raise by default\n",
    "        \"\"\"Calculate and update an employee salary base on a percentage\"\"\"\n",
    "        self.salary = int(self.salary * (1 + percent))\n",
    "        \n",
    "    def compute_salary(self, percent=0):           # O% default in cases  where no bonus is given\n",
    "        \"\"\"Compute total salary for a given period(month)\"\"\"\n",
    "        return int(self.salary + self.give_bonus(percent))\n",
    "    \n",
    "    def __repr__ (self):\n",
    "        \"\"\"Return employee infomation\"\"\"\n",
    "        return f\"Employee\\n{8*'='} \\nName:{self.f_name.title()} {self.l_name.title()} \\nRole:{self.job} \\nBasic salary:{int(self.salary)}\""
   ]
  },
  {
   "cell_type": "code",
   "execution_count": 43,
   "id": "a13d1a49",
   "metadata": {},
   "outputs": [],
   "source": [
    "john = Employee('john', 'olu', job='Marketer', salary=67000)\n",
    "davina = Employee('davina', 'klu', 'Secretary', 75000)"
   ]
  },
  {
   "cell_type": "code",
   "execution_count": 44,
   "id": "f55ac4ff",
   "metadata": {},
   "outputs": [
    {
     "data": {
      "text/plain": [
       "Employee\n",
       "======== \n",
       "Name:John Olu \n",
       "Role:Marketer \n",
       "Basic salary:67000"
      ]
     },
     "execution_count": 44,
     "metadata": {},
     "output_type": "execute_result"
    }
   ],
   "source": [
    "john                # Customized display through __repr__"
   ]
  },
  {
   "cell_type": "code",
   "execution_count": 45,
   "id": "120772b9",
   "metadata": {
    "scrolled": true
   },
   "outputs": [
    {
     "data": {
      "text/plain": [
       "Employee\n",
       "======== \n",
       "Name:John Olu \n",
       "Role:Marketer \n",
       "Basic salary:75040"
      ]
     },
     "execution_count": 45,
     "metadata": {},
     "output_type": "execute_result"
    }
   ],
   "source": [
    "john.give_raise()        # default 12% raise in salary\n",
    "john"
   ]
  },
  {
   "cell_type": "code",
   "execution_count": 46,
   "id": "0d92fe5f",
   "metadata": {},
   "outputs": [
    {
     "data": {
      "text/plain": [
       "75040"
      ]
     },
     "execution_count": 46,
     "metadata": {},
     "output_type": "execute_result"
    }
   ],
   "source": [
    "john.compute_salary()              # New salary + 0% bonus    (Instance method)"
   ]
  },
  {
   "cell_type": "code",
   "execution_count": 47,
   "id": "f6c07456",
   "metadata": {},
   "outputs": [
    {
     "data": {
      "text/plain": [
       "75040"
      ]
     },
     "execution_count": 47,
     "metadata": {},
     "output_type": "execute_result"
    }
   ],
   "source": [
    "Employee.compute_salary(john)      # New salary + 0% bonus   (Class method)"
   ]
  },
  {
   "cell_type": "code",
   "execution_count": 48,
   "id": "cfaea557",
   "metadata": {},
   "outputs": [
    {
     "data": {
      "text/plain": [
       "6003.2"
      ]
     },
     "execution_count": 48,
     "metadata": {},
     "output_type": "execute_result"
    }
   ],
   "source": [
    "Employee.give_bonus(john)          # Bonus due base on  default 8%    (Class method)"
   ]
  },
  {
   "cell_type": "code",
   "execution_count": 49,
   "id": "72ca54fd",
   "metadata": {
    "scrolled": true
   },
   "outputs": [
    {
     "data": {
      "text/plain": [
       "81043"
      ]
     },
     "execution_count": 49,
     "metadata": {},
     "output_type": "execute_result"
    }
   ],
   "source": [
    "john.compute_salary(percent=.08)       # New salary + 8% bonus  (Instance method)  "
   ]
  },
  {
   "cell_type": "code",
   "execution_count": 50,
   "id": "c411fb74",
   "metadata": {},
   "outputs": [
    {
     "data": {
      "text/plain": [
       "81043"
      ]
     },
     "execution_count": 50,
     "metadata": {},
     "output_type": "execute_result"
    }
   ],
   "source": [
    "Employee.compute_salary(john, percent=.08)       # New salary + 8% bonus   (Class method)"
   ]
  },
  {
   "cell_type": "code",
   "execution_count": 51,
   "id": "618dd5b8",
   "metadata": {},
   "outputs": [],
   "source": [
    "davina.give_raise(percent=.10)          # 10% raise for davina    "
   ]
  },
  {
   "cell_type": "code",
   "execution_count": 52,
   "id": "7f38a051",
   "metadata": {
    "scrolled": true
   },
   "outputs": [
    {
     "data": {
      "text/plain": [
       "Employee\n",
       "======== \n",
       "Name:Davina Klu \n",
       "Role:Secretary \n",
       "Basic salary:82500"
      ]
     },
     "execution_count": 52,
     "metadata": {},
     "output_type": "execute_result"
    }
   ],
   "source": [
    "davina"
   ]
  },
  {
   "cell_type": "code",
   "execution_count": 53,
   "id": "b14f1028",
   "metadata": {},
   "outputs": [
    {
     "data": {
      "text/plain": [
       "Employee\n",
       "======== \n",
       "Name:John Olu \n",
       "Role:Marketer \n",
       "Basic salary:75040"
      ]
     },
     "execution_count": 53,
     "metadata": {},
     "output_type": "execute_result"
    }
   ],
   "source": [
    "john"
   ]
  },
  {
   "cell_type": "markdown",
   "id": "1ef57142",
   "metadata": {},
   "source": [
    "## Inheritance"
   ]
  },
  {
   "cell_type": "markdown",
   "id": "798bf442",
   "metadata": {},
   "source": [
    "Code reuse is common in software development, and this is one of the advantages of object oriented programming (OOP) as you can improve on work already done. If a class is a specialized version of already existing class, it helps saves time to _inherit_ some or all of the behaviour/properties of that class. Instead of building from ground up, we only extend the new class inherited functionality.  When a class is made to inherits from another class, it takes on all or some of  the attributes and methods of the first class. The original class is called the super or parent class, and the new class is the sub or child class. The `super` function is used to call methods from the parent class. In the `__init__` method of the child class,  the `super` function is used to call the `__init__` method of the parent class and initialize all of its attributes and methods along with the new attributes that will be defined for the child class."
   ]
  },
  {
   "cell_type": "code",
   "execution_count": 59,
   "id": "8de0cd51",
   "metadata": {},
   "outputs": [],
   "source": [
    "class Baby(Person):\n",
    "    \"\"\"Models a Baby between 0 and 1 years\"\"\"\n",
    "        \n",
    "    def __init__(self, name, weight, age=0): # age had to come after weight because age is a default parameter\n",
    "        \"\"\"\n",
    "        Initialize attributes of the parent class then \n",
    "        initialize attributes specific to the child class.\n",
    "        \"\"\"\n",
    "        # Initialize/acquire parent (Person) class attributes and methods\n",
    "        super().__init__(name, age)\n",
    "        \n",
    "        # Initialize attributes specific to a baby \n",
    "        self.weight = weight\n",
    "        self.skin = 'soft'\n",
    "    \n",
    "    # Define some methods(bahaviours) of a baby\n",
    "    def cry(self):\n",
    "        print(f'{self.name.title()} is crying')\n",
    "    \n",
    "    def make_sound(self, kind='babbling'):\n",
    "        \"\"\"Kind includes blabbing, fussing, cooing, etc\"\"\"\n",
    "        print(f'{self.name.title()} is trying to communicate by {kind}')\n",
    "    \n",
    "    def grow(self, new_weight, new_age):\n",
    "        # Issue a warning if weight hasn't changed or has decreased \n",
    "        if self.weight == new_weight: \n",
    "            print(f'{self.name.title()} has not gain weight.')\n",
    "            print(\"Weight should increase with age.\") \n",
    "        elif self.weight > new_weight:\n",
    "            print(f'{self.name.title()} has lost weight')\n",
    "            print(\"Weight gain is an essential indicator of a baby's overall health and development.\") \n",
    "        \n",
    "        if new_age > 1:\n",
    "            print('Age can not be greater than 1 for this baby class')\n",
    "            print('Reverting back to previous weight and age')\n",
    "        elif self.age >= new_age:\n",
    "            print('Age must increase')\n",
    "            print('Reverting back to previous weight and age')\n",
    "        elif self.age < new_age:\n",
    "            self.age = new_age           # Current age will be set to new_age only if new_age is greater than current age \n",
    "            self.weight = new_weight     # Weight will only change when age increases\n",
    "                   \n",
    "    def __repr__(self):\n",
    "        return f\"{self.name.title()} \\n{len(self.name) * '='} \\nAge:{self.age:.2f} \\nWeight:{self.weight} \\nSkin type:{self.skin}\""
   ]
  },
  {
   "cell_type": "markdown",
   "id": "8fecdab8",
   "metadata": {},
   "source": [
    "**Note** that not all attributes needs to be specify in the parameter list of `__init__` method. For example the `skin` attribute is not a parameter in the `__init__` method but was later initialized because we know that a baby's skin will normally be soft. "
   ]
  },
  {
   "cell_type": "code",
   "execution_count": 61,
   "id": "72917c25",
   "metadata": {},
   "outputs": [],
   "source": [
    "baby_1 = Baby('alice', 5.8)   # Only positional arguments passed (the name and the weight in pounds)\n",
    "baby_2 = Baby('jason', 6.5, age=2/12)"
   ]
  },
  {
   "cell_type": "code",
   "execution_count": 62,
   "id": "6c4addb7",
   "metadata": {},
   "outputs": [
    {
     "data": {
      "text/plain": [
       "Alice \n",
       "===== \n",
       "Age:0.00 \n",
       "Weight:5.8 \n",
       "Skin type:soft"
      ]
     },
     "execution_count": 62,
     "metadata": {},
     "output_type": "execute_result"
    }
   ],
   "source": [
    "baby_1"
   ]
  },
  {
   "cell_type": "code",
   "execution_count": 63,
   "id": "edf5078a",
   "metadata": {},
   "outputs": [
    {
     "data": {
      "text/plain": [
       "Jason \n",
       "===== \n",
       "Age:0.17 \n",
       "Weight:6.5 \n",
       "Skin type:soft"
      ]
     },
     "execution_count": 63,
     "metadata": {},
     "output_type": "execute_result"
    }
   ],
   "source": [
    "baby_2"
   ]
  },
  {
   "cell_type": "code",
   "execution_count": 64,
   "id": "d7575af5",
   "metadata": {},
   "outputs": [
    {
     "name": "stdout",
     "output_type": "stream",
     "text": [
      "Alice is crying\n"
     ]
    }
   ],
   "source": [
    "baby_1.cry()"
   ]
  },
  {
   "cell_type": "code",
   "execution_count": 65,
   "id": "c50777c1",
   "metadata": {},
   "outputs": [
    {
     "name": "stdout",
     "output_type": "stream",
     "text": [
      "Alice is trying to communicate by babbling\n"
     ]
    }
   ],
   "source": [
    "baby_1.make_sound()        # use default sound"
   ]
  },
  {
   "cell_type": "code",
   "execution_count": 66,
   "id": "82f34ef5",
   "metadata": {},
   "outputs": [],
   "source": [
    "baby_1.grow(7.8, 3/12)          # weight to 7.8lb and age is set to 3 months "
   ]
  },
  {
   "cell_type": "code",
   "execution_count": 67,
   "id": "7c58caf7",
   "metadata": {
    "scrolled": true
   },
   "outputs": [
    {
     "data": {
      "text/plain": [
       "Alice \n",
       "===== \n",
       "Age:0.25 \n",
       "Weight:7.8 \n",
       "Skin type:soft"
      ]
     },
     "execution_count": 67,
     "metadata": {},
     "output_type": "execute_result"
    }
   ],
   "source": [
    "baby_1"
   ]
  },
  {
   "cell_type": "code",
   "execution_count": 68,
   "id": "85c5b1f5",
   "metadata": {},
   "outputs": [
    {
     "name": "stdout",
     "output_type": "stream",
     "text": [
      "Jason is trying to communicate by cooing\n"
     ]
    }
   ],
   "source": [
    "baby_2.make_sound(kind='cooing')         # Specify a different kind of sound"
   ]
  },
  {
   "cell_type": "code",
   "execution_count": 69,
   "id": "74a93009",
   "metadata": {},
   "outputs": [
    {
     "name": "stdout",
     "output_type": "stream",
     "text": [
      "Jason has lost weight\n",
      "Weight gain is an essential indicator of a baby's overall health and development.\n"
     ]
    }
   ],
   "source": [
    "baby_2.grow(new_age=4/12, new_weight=6)"
   ]
  },
  {
   "cell_type": "code",
   "execution_count": 70,
   "id": "dca6c506",
   "metadata": {},
   "outputs": [
    {
     "data": {
      "text/plain": [
       "Jason \n",
       "===== \n",
       "Age:0.33 \n",
       "Weight:6 \n",
       "Skin type:soft"
      ]
     },
     "execution_count": 70,
     "metadata": {},
     "output_type": "execute_result"
    }
   ],
   "source": [
    "baby_2"
   ]
  },
  {
   "cell_type": "code",
   "execution_count": 71,
   "id": "008456d6",
   "metadata": {},
   "outputs": [
    {
     "name": "stdout",
     "output_type": "stream",
     "text": [
      "Age must increase\n",
      "Reverting back to previous weight and age\n"
     ]
    }
   ],
   "source": [
    "baby_2.grow(new_age=4/12, new_weight=9)"
   ]
  },
  {
   "cell_type": "code",
   "execution_count": 72,
   "id": "40db6616",
   "metadata": {},
   "outputs": [
    {
     "data": {
      "text/plain": [
       "6"
      ]
     },
     "execution_count": 72,
     "metadata": {},
     "output_type": "execute_result"
    }
   ],
   "source": [
    "baby_2.weight      # Weight had to be reverted because of invalid age(didn't change)"
   ]
  },
  {
   "cell_type": "code",
   "execution_count": 73,
   "id": "9716aed3",
   "metadata": {
    "scrolled": true
   },
   "outputs": [
    {
     "name": "stdout",
     "output_type": "stream",
     "text": [
      "Your name has been succesfully changed\n"
     ]
    }
   ],
   "source": [
    "baby_1.change_name('zara')        # Use method defined in the parent class"
   ]
  },
  {
   "cell_type": "code",
   "execution_count": 74,
   "id": "f1a7ce0d",
   "metadata": {},
   "outputs": [
    {
     "data": {
      "text/plain": [
       "Zara \n",
       "==== \n",
       "Age:0.25 \n",
       "Weight:7.8 \n",
       "Skin type:soft"
      ]
     },
     "execution_count": 74,
     "metadata": {},
     "output_type": "execute_result"
    }
   ],
   "source": [
    "baby_1"
   ]
  },
  {
   "cell_type": "code",
   "execution_count": 75,
   "id": "3c0ff85d",
   "metadata": {
    "scrolled": true
   },
   "outputs": [
    {
     "name": "stdout",
     "output_type": "stream",
     "text": [
      "Happy birthday Jason! You are now 1.3333333333333333 years. Wishing you a fantastic year ahead.\n"
     ]
    }
   ],
   "source": [
    "baby_2.celebrate_bday()       # Use method defined in the parent class"
   ]
  },
  {
   "cell_type": "code",
   "execution_count": 76,
   "id": "61b94351",
   "metadata": {},
   "outputs": [
    {
     "data": {
      "text/plain": [
       "Zara \n",
       "==== \n",
       "Age:0.25 \n",
       "Weight:7.8 \n",
       "Skin type:soft"
      ]
     },
     "execution_count": 76,
     "metadata": {},
     "output_type": "execute_result"
    }
   ],
   "source": [
    "baby_1"
   ]
  },
  {
   "cell_type": "code",
   "execution_count": 77,
   "id": "45d607f5",
   "metadata": {
    "scrolled": true
   },
   "outputs": [
    {
     "data": {
      "text/plain": [
       "Jason \n",
       "===== \n",
       "Age:1.33 \n",
       "Weight:6 \n",
       "Skin type:soft"
      ]
     },
     "execution_count": 77,
     "metadata": {},
     "output_type": "execute_result"
    }
   ],
   "source": [
    "baby_2"
   ]
  },
  {
   "cell_type": "markdown",
   "id": "4a673a02",
   "metadata": {},
   "source": [
    "Another example using the `Employee` class as a parent class:"
   ]
  },
  {
   "cell_type": "code",
   "execution_count": 2,
   "id": "19096cce",
   "metadata": {
    "scrolled": true
   },
   "outputs": [],
   "source": [
    "class Manager(Employee):\n",
    "    \"\"\"Simple Model of subclass of Employee\"\"\"\n",
    "\n",
    "    def __init__(self, f_name, l_name, salary, job='manager', dept='sales'):\n",
    "        \"\"\"\n",
    "        Initialize attributes of the parent class then \n",
    "        initialize attributes specific to the child class.\n",
    "        \"\"\"\n",
    "        # Initialize/acquire parent class attributes and methods\n",
    "        super().__init__(f_name, l_name, job, salary)\n",
    "        \n",
    "        # Initialize other attributes specific to child  \n",
    "        self.dept = dept\n",
    "        self.pto = 60             # Avg. annual paid time off       \n",
    "        \n",
    "    \n",
    "    def set_pto(self, days):\n",
    "        self.pto = days\n",
    "    \n",
    "    def adjust_pto(self, used_pto):\n",
    "        if self.pto > used_pto:\n",
    "            self.pto -= used_pto      \n",
    "            print(f\"You have {self.pto} days of your annual paid time off left\")\n",
    "        elif self.pto < used_pto:\n",
    "            print(\"Insufficient PTO\")\n",
    "            print(f'You only have {self.pto} days available')\n",
    "        else:\n",
    "            print('You no longer have any paid time off')\n",
    "    \n",
    "    def __repr__ (self):\n",
    "        \"\"\"Return employee infomation\"\"\"\n",
    "        str_1 = f\"Manager\\n{7*'='} \\nName:{self.f_name.title()} {self.l_name.title()}\"\n",
    "        str_2 = f\"\\nDepartment:{self.dept.title()} \\nBasic salary:{int(self.salary)}\"\n",
    "        return str_1 + str_2"
   ]
  },
  {
   "cell_type": "code",
   "execution_count": 27,
   "id": "167bf92d",
   "metadata": {},
   "outputs": [
    {
     "data": {
      "text/plain": [
       "Manager\n",
       "======= \n",
       "Name:Drake Graham\n",
       "Department:Sales \n",
       "Basic salary:200000"
      ]
     },
     "execution_count": 27,
     "metadata": {},
     "output_type": "execute_result"
    }
   ],
   "source": [
    "drake = Manager('drake', 'graham', 200000)\n",
    "drake"
   ]
  },
  {
   "cell_type": "code",
   "execution_count": 28,
   "id": "9fb995a7",
   "metadata": {},
   "outputs": [
    {
     "data": {
      "text/plain": [
       "60"
      ]
     },
     "execution_count": 28,
     "metadata": {},
     "output_type": "execute_result"
    }
   ],
   "source": [
    "drake.pto"
   ]
  },
  {
   "cell_type": "code",
   "execution_count": 29,
   "id": "f1200e9a",
   "metadata": {},
   "outputs": [
    {
     "name": "stdout",
     "output_type": "stream",
     "text": [
      "You have 45 days of your annual paid time off left\n"
     ]
    }
   ],
   "source": [
    "drake.adjust_pto(15)"
   ]
  },
  {
   "cell_type": "code",
   "execution_count": 30,
   "id": "65a75a03",
   "metadata": {},
   "outputs": [
    {
     "name": "stdout",
     "output_type": "stream",
     "text": [
      "Insufficient PTO\n",
      "You only have 45 days available\n"
     ]
    }
   ],
   "source": [
    "drake.adjust_pto(50)"
   ]
  },
  {
   "cell_type": "markdown",
   "id": "b7054cd6",
   "metadata": {},
   "source": [
    "### Class  as An Attributes"
   ]
  },
  {
   "cell_type": "markdown",
   "id": "d5c49fae",
   "metadata": {},
   "source": [
    "Just as we can break our code into functions, we can also break a class into smaller classes that works together, this helps to shorten our length of code. For example, our `Manager` class has a `pto` attributes and methods that work with that attributes. Paid time off (PTO) is one of the many work benefit packages for an employee. we could define more benefit for our manager class, like health and life insurance package, retirement benefits, etc. Instead of defining this attributes directly under the Manager `init` method and clutter the whole thing, we could create a seperate class for all this benefits and use it (an instance of it) as an attribute within the `Manager` class. This example is shown below:"
   ]
  },
  {
   "cell_type": "code",
   "execution_count": 3,
   "id": "0d85521f",
   "metadata": {},
   "outputs": [],
   "source": [
    "class Benefits():\n",
    "    \"\"\"Models all work benefits package available to an employee\"\"\"\n",
    "    def __init__(self, pto=60, health_ins=100000):\n",
    "        self.pto = pto                          # Avg. annual paid time off (60 days by default)\n",
    "        self.health_ins = health_ins            # Avg. annual paid health insurance plan (55,600 by default)\n",
    "    \n",
    "    def set_pto(self, days):\n",
    "        self.pto = days\n",
    "    \n",
    "    def adjust_pto(self, used_pto):\n",
    "        if self.pto > used_pto:\n",
    "            self.pto -= used_pto      \n",
    "            print(f\"You have {self.pto} days of your annual paid time off left\")\n",
    "        elif self.pto < used_pto:\n",
    "            print(\"Insufficient PTO\")\n",
    "            print(f'You only have {self.pto} days available')\n",
    "        else:\n",
    "            print('You no longer have any paid time off')\n",
    "    \n",
    "    def set_health_ins(self, amount):\n",
    "        self.health_ins = amount\n",
    "        \n",
    "    def __repr__(self):\n",
    "        return f\"Benefits: \\nPTO:{self.pto} days \\nHealth Insurance:N{self.health_ins}\"\n",
    "\n",
    "\n",
    "\n",
    "class Manager(Employee):\n",
    "    \"\"\"Simple Model of subclass of Employee\"\"\"\n",
    "    def __init__(self, f_name, l_name, salary, job='manager', dept='sales'):\n",
    "        \"\"\"\n",
    "        Initialize attributes of the parent class.\n",
    "        Then initialize attributes specific to a manager.\n",
    "        \"\"\"\n",
    "        # Initialize parent class attributes\n",
    "        super().__init__(f_name, l_name, job, salary) \n",
    "        \n",
    "        # Child attributes --Department and annual benefits packages(PTO, Health insurance)\n",
    "        self.dept = dept\n",
    "        self.benefits = Benefits()    \n",
    "        \n",
    "    def __repr__ (self):\n",
    "        \"\"\"Return employee infomation\"\"\"\n",
    "        str_1 = f\"Manager\\n{7*'='} \\nName:{self.f_name.title()} {self.l_name.title()}\"\n",
    "        str_2 = f\"\\nDepartment:{self.dept.title()} \\nBasic salary:{int(self.salary)}\"\n",
    "        return str_1 + str_2"
   ]
  },
  {
   "cell_type": "code",
   "execution_count": 36,
   "id": "f0409369",
   "metadata": {},
   "outputs": [
    {
     "data": {
      "text/plain": [
       "Manager\n",
       "======= \n",
       "Name:Drake Graham\n",
       "Department:Sales \n",
       "Basic salary:200000"
      ]
     },
     "execution_count": 36,
     "metadata": {},
     "output_type": "execute_result"
    }
   ],
   "source": [
    "drake = Manager('drake', 'graham', 200000)\n",
    "drake"
   ]
  },
  {
   "cell_type": "code",
   "execution_count": 41,
   "id": "c4f606fe",
   "metadata": {},
   "outputs": [
    {
     "data": {
      "text/plain": [
       "Benefits: \n",
       "PTO:60 days \n",
       "Health Insurance:N100000"
      ]
     },
     "execution_count": 41,
     "metadata": {},
     "output_type": "execute_result"
    }
   ],
   "source": [
    "drake.benefits"
   ]
  },
  {
   "cell_type": "code",
   "execution_count": 38,
   "id": "81be3a4a",
   "metadata": {},
   "outputs": [
    {
     "data": {
      "text/plain": [
       "Benefits: \n",
       "PTO:60 days \n",
       "Health Insurance:N100000"
      ]
     },
     "execution_count": 38,
     "metadata": {},
     "output_type": "execute_result"
    }
   ],
   "source": [
    "drake.benefits"
   ]
  },
  {
   "cell_type": "code",
   "execution_count": 37,
   "id": "97009dd5",
   "metadata": {},
   "outputs": [
    {
     "data": {
      "text/plain": [
       "60"
      ]
     },
     "execution_count": 37,
     "metadata": {},
     "output_type": "execute_result"
    }
   ],
   "source": [
    "drake.benefits.pto"
   ]
  },
  {
   "cell_type": "code",
   "execution_count": 42,
   "id": "1aa9336f",
   "metadata": {},
   "outputs": [
    {
     "data": {
      "text/plain": [
       "100000"
      ]
     },
     "execution_count": 42,
     "metadata": {},
     "output_type": "execute_result"
    }
   ],
   "source": [
    "drake.benefits.health_ins"
   ]
  },
  {
   "cell_type": "code",
   "execution_count": 43,
   "id": "9d1046ca",
   "metadata": {},
   "outputs": [],
   "source": [
    "drake.benefits.set_pto(days=70)\n",
    "drake.benefits.set_health_ins(amount=85000)"
   ]
  },
  {
   "cell_type": "code",
   "execution_count": 44,
   "id": "cd8c3947",
   "metadata": {
    "scrolled": true
   },
   "outputs": [
    {
     "data": {
      "text/plain": [
       "Benefits: \n",
       "PTO:70 days \n",
       "Health Insurance:N85000"
      ]
     },
     "execution_count": 44,
     "metadata": {},
     "output_type": "execute_result"
    }
   ],
   "source": [
    "drake.benefits"
   ]
  },
  {
   "cell_type": "code",
   "execution_count": 45,
   "id": "bd1d2c3c",
   "metadata": {},
   "outputs": [
    {
     "name": "stdout",
     "output_type": "stream",
     "text": [
      "You have 30 days of your annual paid time off left\n"
     ]
    }
   ],
   "source": [
    "drake.benefits.adjust_pto(used_pto=40)"
   ]
  },
  {
   "cell_type": "markdown",
   "id": "ab36a4a3",
   "metadata": {},
   "source": [
    "**Exercise 1**: Write a method called `adjust_health_ins` for the `Benefits` class that adjust the health insurance value of a manager base on the amount spent relative to the total annual amount."
   ]
  },
  {
   "cell_type": "markdown",
   "id": "9d382b74",
   "metadata": {},
   "source": [
    "### Augumenting Methods(Using Methods from Another Class)"
   ]
  },
  {
   "cell_type": "markdown",
   "id": "be3ec92d",
   "metadata": {},
   "source": [
    "Our `Manager` class automatically inherited `give_bonus` and `give_raise` and we could use them same way we did for the `Employee` class, but we want them to slightly work diffrently from the ones inherited. We want them to take additional argument `add_on` which is an extra bonus available for managers only. To do this, we should augument `give_bonus` and `give_raise` method from the parent class rather than redefine the whole thing from scracth like this:\n",
    "\n",
    "    def give_bonus(self, percent, add_on):           \n",
    "            \"\"\"Calculate a manger bonus base on a percentage and add_ons\"\"\"\n",
    "            return self.salary*(percent + add_on)\n",
    "            \n",
    "    def give_raise(self, percent, add_on):       \n",
    "        \"\"\"Calculate and update a manger salary base on a percentage and add_ons\"\"\"\n",
    "        self.salary = int(self.salary * (1 + percent + add_on))\n",
    "Rather than writing an entirely new method as shown above, we can call this method from the `Employee` class a make some modifications using the following general syntax:\n",
    "     \n",
    "     Class.method(self, args, ...)\n",
    "\n",
    "In our case we have something like this:\n",
    "\n",
    "    Employee.give_bonus(self, percent + add_on)\n",
    "     \n",
    "__Note that if both the parent and child have the same method name, the child method overrides the inherited parent's method.__"
   ]
  },
  {
   "cell_type": "code",
   "execution_count": 10,
   "id": "1f7f8f7f",
   "metadata": {},
   "outputs": [],
   "source": [
    "class Employee:\n",
    "    \"\"\"Models an Employee class\"\"\"\n",
    "    def __init__(self, f_name, l_name, job, salary):\n",
    "        self.f_name = f_name\n",
    "        self.l_name = l_name\n",
    "        self.job = job\n",
    "        self.salary = salary\n",
    "    \n",
    "    def update_salary(self, new_salary):\n",
    "        \"\"\"Set or reassign the salary of a worker\"\"\"\n",
    "        if new_salary > self.salary:\n",
    "            self.salary = new_salary\n",
    "        else:\n",
    "            print(\"New salary must be greater than the current salary.\")\n",
    "    \n",
    "    def give_bonus(self, percent=0.08):            # 8% bonus by default\n",
    "        \"\"\"Calculate an employee bonus base on a percentage\"\"\"\n",
    "        return self.salary*percent\n",
    "    \n",
    "    def give_raise(self, percent=0.12):       # 12% raise by default\n",
    "        \"\"\"Calculate and update an employee salary base on a percentage\"\"\"\n",
    "        self.salary = int(self.salary * (1 + percent))\n",
    "        \n",
    "    def compute_salary(self, percent=0):           # O% default in cases  where no bonus is given\n",
    "        \"\"\"Compute total salary for a given period(month)\"\"\"\n",
    "        return int(self.salary + self.give_bonus(percent))\n",
    "    \n",
    "    def __repr__ (self):\n",
    "        \"\"\"Return employee infomation\"\"\"\n",
    "        return f\"Employee\\n{8*'='} \\nName:{self.f_name.title()} {self.l_name.title()} \\nRole:{self.job} \\nBasic salary:{int(self.salary)}\""
   ]
  },
  {
   "cell_type": "code",
   "execution_count": 18,
   "id": "11b52b54",
   "metadata": {},
   "outputs": [],
   "source": [
    "class Manager(Employee):\n",
    "    \"\"\"Simple Model of subclass of Employee\"\"\"\n",
    "    def __init__(self, f_name, l_name, salary, job='manager', dept='sales'):\n",
    "        \"\"\"\n",
    "        Initialize attributes of the parent class.\n",
    "        Then initialize attributes specific to a Manager.\n",
    "        \"\"\"\n",
    "        super().__init__(f_name, l_name, job, salary)      \n",
    "        self.dept = dept\n",
    "        self.benefits = Benefits() \n",
    "        \n",
    "    def give_bonus(self, percent=0.08, add_on=0.10):       # extra 10% bonus after 8% general bonus for avg. employee\n",
    "        \"\"\"\n",
    "        Calculate a manger bonus base on a\n",
    "        percentage and add_ons(additional bonus)\n",
    "        \"\"\"\n",
    "        return Employee.give_bonus(self, percent + add_on)\n",
    "        \n",
    "    def give_raise(self, percent=0.12, add_on=0.10):       # extra 10% raise after 12% general raise for an avg. employee\n",
    "        \"\"\"\n",
    "        Calculate and update a manger salary base \n",
    "        on a percentage and add_ons(additional bonus)\n",
    "        \"\"\"\n",
    "        Employee.give_raise(self, percent + add_on)\n",
    "    \n",
    "    def compute_salary(self, percent=0, add_on=0):          # 0% by default in cases of no bonuses\n",
    "        return int(self.salary + self.give_bonus(percent, add_on))\n",
    "    \n",
    "    def __repr__ (self):\n",
    "        \"\"\"Return employee infomation\"\"\"\n",
    "        str_1 = f\"Manager\\n{7*'='} \\nName:{self.f_name.title()} {self.l_name.title()}\"\n",
    "        str_2 = f\"\\nDepartment:{self.dept.title()} \\nBasic salary:{int(self.salary)}\"\n",
    "        return str_1 + str_2"
   ]
  },
  {
   "cell_type": "markdown",
   "id": "35c2e9aa",
   "metadata": {},
   "source": [
    "In this case the `give_bonus`, `give_raise`, `compute_salary` and even the `__repr__` method that is inherited from the parent (`Employee`) class has been overwrite in the child (`Manager`) class, therefore the behaviour, for example the `give_bonus` in the child class will be different from its parent class:"
   ]
  },
  {
   "cell_type": "code",
   "execution_count": 19,
   "id": "6d0de25a",
   "metadata": {},
   "outputs": [
    {
     "data": {
      "text/plain": [
       "Manager\n",
       "======= \n",
       "Name:Drake Graham\n",
       "Department:Sales \n",
       "Basic salary:200000"
      ]
     },
     "execution_count": 19,
     "metadata": {},
     "output_type": "execute_result"
    }
   ],
   "source": [
    "drake = Manager('drake', 'graham', 200000)\n",
    "drake"
   ]
  },
  {
   "cell_type": "code",
   "execution_count": 20,
   "id": "5dda781c",
   "metadata": {},
   "outputs": [
    {
     "data": {
      "text/plain": [
       "36000.0"
      ]
     },
     "execution_count": 20,
     "metadata": {},
     "output_type": "execute_result"
    }
   ],
   "source": [
    "drake.give_bonus()                 # Default 18% total bonus"
   ]
  },
  {
   "cell_type": "code",
   "execution_count": 21,
   "id": "b54ab9b5",
   "metadata": {},
   "outputs": [
    {
     "data": {
      "text/plain": [
       "26000.0"
      ]
     },
     "execution_count": 21,
     "metadata": {},
     "output_type": "execute_result"
    }
   ],
   "source": [
    "drake.give_bonus(percent=0.08, add_on=.05)     # 13% total bonus"
   ]
  },
  {
   "cell_type": "code",
   "execution_count": null,
   "id": "12c0dab7",
   "metadata": {},
   "outputs": [],
   "source": [
    "# After 2 years..."
   ]
  },
  {
   "cell_type": "code",
   "execution_count": 22,
   "id": "6b2d1648",
   "metadata": {},
   "outputs": [
    {
     "data": {
      "text/plain": [
       "244000"
      ]
     },
     "execution_count": 22,
     "metadata": {},
     "output_type": "execute_result"
    }
   ],
   "source": [
    "drake.give_raise()                  # Default 22% total raise\n",
    "drake.salary"
   ]
  },
  {
   "cell_type": "code",
   "execution_count": 23,
   "id": "7e75f1af",
   "metadata": {
    "scrolled": true
   },
   "outputs": [
    {
     "data": {
      "text/plain": [
       "244000"
      ]
     },
     "execution_count": 23,
     "metadata": {},
     "output_type": "execute_result"
    }
   ],
   "source": [
    "drake.compute_salary()         # No bonus"
   ]
  },
  {
   "cell_type": "code",
   "execution_count": 24,
   "id": "70ecfad3",
   "metadata": {},
   "outputs": [
    {
     "data": {
      "text/plain": [
       "19520.0"
      ]
     },
     "execution_count": 24,
     "metadata": {},
     "output_type": "execute_result"
    }
   ],
   "source": [
    "drake.give_bonus(percent=0.08, add_on=0)"
   ]
  },
  {
   "cell_type": "code",
   "execution_count": 26,
   "id": "fd500778",
   "metadata": {},
   "outputs": [
    {
     "data": {
      "text/plain": [
       "263520"
      ]
     },
     "execution_count": 26,
     "metadata": {},
     "output_type": "execute_result"
    }
   ],
   "source": [
    "drake.compute_salary(percent=.08)        # Receives general bonus of 8% but no extra or add-on bonus"
   ]
  },
  {
   "cell_type": "code",
   "execution_count": 27,
   "id": "ab717de8",
   "metadata": {},
   "outputs": [
    {
     "data": {
      "text/plain": [
       "278160"
      ]
     },
     "execution_count": 27,
     "metadata": {},
     "output_type": "execute_result"
    }
   ],
   "source": [
    "drake.compute_salary(percent=.08, add_on=.06)        # Receives general bonus of 8% plus 6% extra bonus"
   ]
  },
  {
   "cell_type": "code",
   "execution_count": 17,
   "id": "4c99a457",
   "metadata": {},
   "outputs": [
    {
     "data": {
      "text/plain": [
       "Manager\n",
       "======= \n",
       "Name:Drake Graham\n",
       "Department:Sales \n",
       "Basic salary:244000"
      ]
     },
     "execution_count": 17,
     "metadata": {},
     "output_type": "execute_result"
    }
   ],
   "source": [
    "drake"
   ]
  },
  {
   "cell_type": "markdown",
   "id": "13b3afb8",
   "metadata": {},
   "source": [
    "**Exercise 2**: Re-write the `Baby` class to have it's own `celebrate_bday`, so that when it is call, it returns an integer. For example, the first call should return 1 and *not* 1.33333333333 and when it is run again should return 2 and so on. Also the skin attribute should change to `'firm'` for a baby 1 year or older."
   ]
  },
  {
   "cell_type": "markdown",
   "id": "3e1562c9",
   "metadata": {},
   "source": [
    "**Exercise 3**: Define more benefits for the `Benefits` class and also redefine the `Manager` class to have an abitrary keyword arguments that takes the various possible benefits that will be passed to the `Benefits` class."
   ]
  },
  {
   "cell_type": "code",
   "execution_count": 11,
   "id": "992f02c9",
   "metadata": {},
   "outputs": [],
   "source": [
    "class Benefits():\n",
    "    \"\"\"Models all work benefits package available to an employee\"\"\"\n",
    "    def __init__(self, f_name, l_name, pto=0, health_ins=0, life_ins=0, pension=0):\n",
    "        self.f_name = f_name\n",
    "        self.l_name = l_name\n",
    "        self.pto = pto                          # Avg. annual paid time off \n",
    "        self.health_ins = health_ins            # Avg. annual paid health insurance plan \n",
    "        self.life_ins = life_ins                # Life insurance\n",
    "        self.pension = pension                  # Pension\n",
    "        \n",
    "    \n",
    "    def set_pto(self, days):\n",
    "        self.pto = days\n",
    "    \n",
    "    def adjust_pto(self, used_pto):\n",
    "        if self.pto > used_pto:\n",
    "            self.pto -= used_pto\n",
    "            print(f\"You have {self.pto} days of your annual paid time off left\")\n",
    "        else:\n",
    "            print('You no longer have any paid time off')\n",
    "    \n",
    "    def set_health_ins(self, amount):\n",
    "        self.health_ins = amount\n",
    "    \n",
    "    def set_life_ins(self, amount):\n",
    "        self.life_ins = amount\n",
    "    \n",
    "    def pay_life_ins(self):\n",
    "        self.life_ins = 0\n",
    "        print(f'{self.f_name.title()} {self.l_name.title()} life insurance has been paid')\n",
    "    \n",
    "    def set_pension(self, amount):\n",
    "        self.pension = amount\n",
    "    \n",
    "    def pay_pension(self):\n",
    "        self.pension = 0\n",
    "        print(f'{self.f_name.title()} {self.l_name.title()} pension has been paid')\n",
    "        \n",
    "    def __repr__(self):\n",
    "        str_1 = f\"Benefits: \\nPTO:{self.pto} days \\nHealth Insurance:{self.health_ins}\\n\"\n",
    "        str_2 = f\"Life Insurance:{self.life_ins} \\nPension:{self.pension}\"\n",
    "        return str_1 + str_2\n",
    "        \n"
   ]
  },
  {
   "cell_type": "code",
   "execution_count": 1,
   "id": "bd31b93e",
   "metadata": {},
   "outputs": [],
   "source": [
    "def func(a, b, c):\n",
    "    return a + b + c"
   ]
  },
  {
   "cell_type": "code",
   "execution_count": 3,
   "id": "680583a2",
   "metadata": {},
   "outputs": [
    {
     "data": {
      "text/plain": [
       "6"
      ]
     },
     "execution_count": 3,
     "metadata": {},
     "output_type": "execute_result"
    }
   ],
   "source": [
    "func(a=1, b=2, c=3)"
   ]
  },
  {
   "cell_type": "code",
   "execution_count": 6,
   "id": "be20ee14",
   "metadata": {},
   "outputs": [
    {
     "data": {
      "text/plain": [
       "{'a': 1, 'b': 2, 'c': 3}"
      ]
     },
     "execution_count": 6,
     "metadata": {},
     "output_type": "execute_result"
    }
   ],
   "source": [
    "values = dict(a=1, b=2, c=3)\n",
    "values"
   ]
  },
  {
   "cell_type": "code",
   "execution_count": 7,
   "id": "d299e55c",
   "metadata": {},
   "outputs": [
    {
     "data": {
      "text/plain": [
       "6"
      ]
     },
     "execution_count": 7,
     "metadata": {},
     "output_type": "execute_result"
    }
   ],
   "source": [
    "func(**values)"
   ]
  },
  {
   "cell_type": "code",
   "execution_count": 12,
   "id": "1ec5c7fc",
   "metadata": {},
   "outputs": [],
   "source": [
    "class Manager(Employee):\n",
    "    \"\"\"Simple Model of subclass of Employee\"\"\"\n",
    "    def __init__(self, f_name, l_name, salary, job='manager', dept='sales', **kwargs):\n",
    "        \"\"\"\n",
    "        Initialize attributes of the parent class.\n",
    "        Then initialize attributes specific to a Manager.\n",
    "        \"\"\"\n",
    "        super().__init__(f_name, l_name, job, salary)      \n",
    "        self.dept = dept\n",
    "        self.benefits = Benefits(f_name, l_name, **kwargs) \n",
    "    \n",
    "    def give_bonus(self, percent=0.08, add_on=0.10):       # extra 10% bonus after 8% general bonus for avg. employee\n",
    "        \"\"\"\n",
    "        Calculate a manger bonus base on a\n",
    "        percentage and add_ons(additional bonus)\n",
    "        \"\"\"\n",
    "        return Employee.give_bonus(self, percent + add_on)\n",
    "        \n",
    "    def give_raise(self, percent=0.12, add_on=0.10):       # extra 10% raise after 12% general raise for an avg. employee\n",
    "        \"\"\"\n",
    "        Calculate and update a manger salary base \n",
    "        on a percentage and add_ons(additional bonus)\n",
    "        \"\"\"\n",
    "        Employee.give_raise(self, percent + add_on)\n",
    "    \n",
    "    def compute_salary(self, percent=0, add_on=0):          # 0% by default in cases of no bonuses\n",
    "        return int(self.salary + Employee.give_bonus(self, percent + add_on))\n",
    "    \n",
    "    def __repr__ (self):\n",
    "        \"\"\"Return employee infomation\"\"\"\n",
    "        str_1 = f\"Manager\\n{7*'='} \\nName:{self.f_name.title()} {self.l_name.title()}\"\n",
    "        str_2 = f\"\\nDepartment:{self.dept.title()} \\nBasic salary:{int(self.salary)}\"\n",
    "        return str_1 + str_2"
   ]
  },
  {
   "cell_type": "code",
   "execution_count": 23,
   "id": "0618b826",
   "metadata": {},
   "outputs": [],
   "source": [
    "frasier = Manager('frasier', 'crane', 275000, pto=100, health_ins=100000)"
   ]
  },
  {
   "cell_type": "code",
   "execution_count": 24,
   "id": "46c6283e",
   "metadata": {},
   "outputs": [
    {
     "data": {
      "text/plain": [
       "Manager\n",
       "======= \n",
       "Name:Frasier Crane\n",
       "Department:Sales \n",
       "Basic salary:275000"
      ]
     },
     "execution_count": 24,
     "metadata": {},
     "output_type": "execute_result"
    }
   ],
   "source": [
    "frasier"
   ]
  },
  {
   "cell_type": "code",
   "execution_count": 25,
   "id": "ba6b2963",
   "metadata": {
    "scrolled": true
   },
   "outputs": [
    {
     "data": {
      "text/plain": [
       "Benefits: \n",
       "PTO:100 days \n",
       "Health Insurance:100000\n",
       "Life Insurance:0 \n",
       "Pension:0"
      ]
     },
     "execution_count": 25,
     "metadata": {},
     "output_type": "execute_result"
    }
   ],
   "source": [
    "frasier.benefits"
   ]
  },
  {
   "cell_type": "code",
   "execution_count": 21,
   "id": "8823bfe0",
   "metadata": {
    "scrolled": true
   },
   "outputs": [
    {
     "name": "stdout",
     "output_type": "stream",
     "text": [
      "Frasier Crane life insurance has been paid\n"
     ]
    }
   ],
   "source": [
    "frasier.benefits.pay_life_ins()"
   ]
  },
  {
   "cell_type": "code",
   "execution_count": 22,
   "id": "cb99ebd0",
   "metadata": {
    "scrolled": true
   },
   "outputs": [
    {
     "data": {
      "text/plain": [
       "Benefits: \n",
       "PTO:100 days \n",
       "Health Insurance:100000\n",
       "Life Insurance:0 \n",
       "Pension:150000"
      ]
     },
     "execution_count": 22,
     "metadata": {},
     "output_type": "execute_result"
    }
   ],
   "source": [
    "frasier.benefits     # No longer have life insurance"
   ]
  },
  {
   "cell_type": "markdown",
   "id": "62c4a263",
   "metadata": {},
   "source": [
    "*Copyright &copy; 2025 DataClax. This content is licensed solely for personal use. Redistribution or publication of this material is strictly prohibited.*"
   ]
  }
 ],
 "metadata": {
  "kernelspec": {
   "display_name": "Python 3 (ipykernel)",
   "language": "python",
   "name": "python3"
  },
  "language_info": {
   "codemirror_mode": {
    "name": "ipython",
    "version": 3
   },
   "file_extension": ".py",
   "mimetype": "text/x-python",
   "name": "python",
   "nbconvert_exporter": "python",
   "pygments_lexer": "ipython3",
   "version": "3.11.7"
  }
 },
 "nbformat": 4,
 "nbformat_minor": 5
}
