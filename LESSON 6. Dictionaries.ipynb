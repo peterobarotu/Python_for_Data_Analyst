{
 "cells": [
  {
   "cell_type": "markdown",
   "id": "35c198ca",
   "metadata": {},
   "source": [
    "# Dictionaries"
   ]
  },
  {
   "cell_type": "markdown",
   "id": "42105ed0",
   "metadata": {},
   "source": [
    "Dictionaries was briefly touched upon in lesson 4. In this lesson we'll look at Dictionaries in more detail.\n",
    "Dictionaries like set are unordered and their values can only be retrieved through keys.\n",
    "Like lists, dictionaries can grow and shrink in place (without new copies being\n",
    "made), they can contain objects of any type, and they support nesting to any depth\n",
    "(they can contain lists, other dictionaries, and so on). Unlike list they are unordered and don't support operations like concatenation and slicing because keys are maps to a value (by using colon `:`), therefore using index values to extract items would not make sense."
   ]
  },
  {
   "cell_type": "markdown",
   "id": "dbbe608f",
   "metadata": {},
   "source": [
    "### Creating a Dictionaries"
   ]
  },
  {
   "cell_type": "code",
   "execution_count": null,
   "id": "3e030766",
   "metadata": {},
   "outputs": [],
   "source": [
    "# 1. Traditional methods\n",
    "# Useful if the entire dictionary can be created ahead of time\n",
    "\n",
    "d1 = {'one':1, 'two':2, 'three':3}            # Note that each key-value pair is seperated by a comma(,)\n",
    "d2 = {'first_name':'olu', 'last_name':'jacobs', 'age':80, 'occup':'actor'}"
   ]
  },
  {
   "cell_type": "code",
   "execution_count": null,
   "id": "7907f0e7",
   "metadata": {},
   "outputs": [],
   "source": [
    "d1"
   ]
  },
  {
   "cell_type": "code",
   "execution_count": null,
   "id": "ab9f07eb",
   "metadata": {},
   "outputs": [],
   "source": [
    "d2"
   ]
  },
  {
   "cell_type": "code",
   "execution_count": null,
   "id": "b5c3af00",
   "metadata": {},
   "outputs": [],
   "source": [
    "# 2. Creating a dict. from an empty dict.\n",
    "# This is of use if you need to create the dictionary one field at a time on the fly. \n",
    "\n",
    "d1 = {}       # Empty dict.\n",
    "d1"
   ]
  },
  {
   "cell_type": "markdown",
   "id": "7f9b94c0-b9dc-4763-8321-6d9ba7eab3eb",
   "metadata": {},
   "source": [
    "In Python, you can use the dictionary assignment operation to create a new key-value pair or update an existing key's value. If the key doesn't exist in the dictionary, Python automatically creates a new key with the given value. If the key already exists, the value associated with that key is updated (or reassigned) to the new value. Below we created some new key value pairs in the empty dictionary `d1`, above."
   ]
  },
  {
   "cell_type": "code",
   "execution_count": null,
   "id": "97bf9dea",
   "metadata": {},
   "outputs": [],
   "source": [
    "d1['one'] = 1    \n",
    "d1['two'] = 2\n",
    "d1['three'] =3"
   ]
  },
  {
   "cell_type": "code",
   "execution_count": null,
   "id": "b2d61616",
   "metadata": {
    "scrolled": true
   },
   "outputs": [],
   "source": [
    "d1"
   ]
  },
  {
   "cell_type": "code",
   "execution_count": null,
   "id": "7c29e224",
   "metadata": {},
   "outputs": [],
   "source": [
    "d1['four'] = 4        # Another new key added"
   ]
  },
  {
   "cell_type": "code",
   "execution_count": null,
   "id": "e0de3bd0",
   "metadata": {},
   "outputs": [],
   "source": [
    "d1"
   ]
  },
  {
   "cell_type": "code",
   "execution_count": null,
   "id": "cdcf7887",
   "metadata": {
    "scrolled": true
   },
   "outputs": [],
   "source": [
    "d1['one'] = 5         # value of key 'one' will be updated because it already exists."
   ]
  },
  {
   "cell_type": "code",
   "execution_count": null,
   "id": "252d2c80",
   "metadata": {},
   "outputs": [],
   "source": [
    "d1"
   ]
  },
  {
   "cell_type": "code",
   "execution_count": null,
   "id": "fd6a6658",
   "metadata": {},
   "outputs": [],
   "source": [
    "# 3. Dict. Keyword Argument form\n",
    "# less typing than the traditional method, but it requires all keys to be strings\n",
    "\n",
    "d2 = dict(first_name='olu', last_name='jacobs', age=80, occup='actor')\n",
    "d2"
   ]
  },
  {
   "cell_type": "code",
   "execution_count": null,
   "id": "b72fabb1",
   "metadata": {},
   "outputs": [],
   "source": [
    "# 4. Dict key/value tuples form\n",
    "# The dict function takes a list of tuples and each tuple contains two items --the key and its value\n",
    "\n",
    "d2 = dict([('first_name', 'olu'), ('last_name', 'jacobs'), ('age', 80 ), ('occup','actor')])\n",
    "d2"
   ]
  },
  {
   "cell_type": "markdown",
   "id": "163c9166",
   "metadata": {},
   "source": [
    "#### zip function\n",
    "\n",
    "The `zip()` function returns a zip object, which is an iterator of tuples where the first item in each passed iterator is paired together, and then the second item in each passed iterator are paired together so on.\n"
   ]
  },
  {
   "cell_type": "code",
   "execution_count": null,
   "id": "df0b5eb6",
   "metadata": {},
   "outputs": [],
   "source": [
    "iterable1 = ['one', 'two']          # using list as the iterable.\n",
    "iterable2 = [1, 2]\n",
    "zip(iterable1, iterable2)           # generates an iterable object."
   ]
  },
  {
   "cell_type": "code",
   "execution_count": null,
   "id": "bcd68991",
   "metadata": {
    "scrolled": true
   },
   "outputs": [],
   "source": [
    "list(zip(iterable1, iterable2))     # Unpacking the values of the object with list() function."
   ]
  },
  {
   "cell_type": "code",
   "execution_count": null,
   "id": "6cc7c98c",
   "metadata": {},
   "outputs": [],
   "source": [
    "iterable1 = ('one', 'two', 'three')           # using tuples as the iterable\n",
    "iterable2 = (1, 2, 3)\n",
    "list(zip(iterable1, iterable2))"
   ]
  },
  {
   "cell_type": "markdown",
   "id": "493e570b-5b91-4b7a-8758-fc486257f336",
   "metadata": {},
   "source": [
    "First item in `iterable1` is paired with the first item in `iterable2`. The second item in `iterable1` is paired with the second item in `iterable2`, and so on. We can combine this idea with method 4 to easily create a key value pairs."
   ]
  },
  {
   "cell_type": "code",
   "execution_count": null,
   "id": "2338221c",
   "metadata": {
    "scrolled": true
   },
   "outputs": [],
   "source": [
    "keyslist = ['first_name', 'last_name', 'age', 'occup']\n",
    "valueslist = ['olu', 'jacobs', 80, 'actor']\n",
    "\n",
    "d2 = dict(zip(keyslist, valueslist))\n",
    "d2"
   ]
  },
  {
   "cell_type": "markdown",
   "id": "55f559c1",
   "metadata": {},
   "source": [
    "### Accessing Values in a Dictionary\n",
    "To access a dict value, the name of the dict is use along with the key placed inside a squre bracket as shown below:"
   ]
  },
  {
   "cell_type": "code",
   "execution_count": null,
   "id": "a2417379",
   "metadata": {},
   "outputs": [],
   "source": [
    "d2['first_name']"
   ]
  },
  {
   "cell_type": "code",
   "execution_count": null,
   "id": "52f71cf9",
   "metadata": {},
   "outputs": [],
   "source": [
    "d2['last_name']"
   ]
  },
  {
   "cell_type": "code",
   "execution_count": null,
   "id": "dfa549ed",
   "metadata": {
    "scrolled": true
   },
   "outputs": [],
   "source": [
    "d2['age']"
   ]
  },
  {
   "cell_type": "markdown",
   "id": "c58d968a",
   "metadata": {},
   "source": [
    "### Adding Values in a Dictionary\n",
    "To add a new key value pair, the name of the dict. is use along with the __new__ key placed inside a squre bracket along with the new value."
   ]
  },
  {
   "cell_type": "code",
   "execution_count": null,
   "id": "8ec0e8a2",
   "metadata": {},
   "outputs": [],
   "source": [
    "d2"
   ]
  },
  {
   "cell_type": "code",
   "execution_count": null,
   "id": "bc92c961",
   "metadata": {
    "scrolled": true
   },
   "outputs": [],
   "source": [
    "d2['nationality'] = 'nigerian'\n",
    "d2"
   ]
  },
  {
   "cell_type": "markdown",
   "id": "89d42549",
   "metadata": {},
   "source": [
    "### Modifying Values in a Dictionary\n",
    "To modify a dict. the name of the dict. is use along with the key placed inside a squre bracket along with a new value"
   ]
  },
  {
   "cell_type": "code",
   "execution_count": null,
   "id": "08349158",
   "metadata": {},
   "outputs": [],
   "source": [
    "d1['four'] = [1, 2, 3, 4]\n",
    "d1"
   ]
  },
  {
   "cell_type": "code",
   "execution_count": null,
   "id": "eb011651",
   "metadata": {},
   "outputs": [],
   "source": [
    "d2"
   ]
  },
  {
   "cell_type": "code",
   "execution_count": null,
   "id": "de217105",
   "metadata": {},
   "outputs": [],
   "source": [
    "d2['first_name'] = 'joke'        # first and last name changed\n",
    "d2['last_name'] = 'silva' \n",
    "d2"
   ]
  },
  {
   "cell_type": "code",
   "execution_count": null,
   "id": "e2272bbf",
   "metadata": {},
   "outputs": [],
   "source": [
    "d2['age'] = 60                    # age is changed\n",
    "d2['occup'] = 'actress'           #'actor' changed to 'actress'\n",
    "d2"
   ]
  },
  {
   "cell_type": "markdown",
   "id": "c17c1b6a",
   "metadata": {},
   "source": [
    "We can also shrink the size of a dictionary by deleting it keys using the `del` keyword"
   ]
  },
  {
   "cell_type": "code",
   "execution_count": null,
   "id": "32a36dc1",
   "metadata": {},
   "outputs": [],
   "source": [
    "del d1['four']\n",
    "d1"
   ]
  },
  {
   "cell_type": "code",
   "execution_count": null,
   "id": "2f68104c",
   "metadata": {},
   "outputs": [],
   "source": [
    "del d2['nationality']\n",
    "d2"
   ]
  },
  {
   "cell_type": "markdown",
   "id": "495c7a8b",
   "metadata": {},
   "source": [
    "### Methods of a Dictionary\n",
    "* The `get()` method receives a key as an argument and returns the values associated to that key. If the key doesn't exist `None` will be returned by default. To change this default value, we can supply another value as a second (optional) argument to `get()`.\n",
    "* The `update()` method merges the keys and values of one dictionary into another, it overwrites values of the same key if there’s a clash\n",
    "* The  `pop()` method deletes a key from a dictionary and returns the value it had. It’s similar to the list pop method, but it takes a key instead of an optional position\n",
    "* The `popitem()` method is similar to `pop()` execept both key and value are retured as a tuple of 2 values.\n",
    "* The `keys()` method returns all the keys in a dictionary.\n",
    "* The `values()` method returns all the values in a dictionary.\n",
    "* The `items()` method returns all the keys and values in a dictionary as a list of tuples where the tuples are length of 2 containing each key-value pair.\n",
    "\n",
    "Examples of how this methods are used is shown below:"
   ]
  },
  {
   "cell_type": "code",
   "execution_count": null,
   "id": "ca5c2f75",
   "metadata": {
    "scrolled": true
   },
   "outputs": [],
   "source": [
    "d2"
   ]
  },
  {
   "cell_type": "code",
   "execution_count": null,
   "id": "26573c1c",
   "metadata": {},
   "outputs": [],
   "source": [
    "d2.get('first_name')"
   ]
  },
  {
   "cell_type": "code",
   "execution_count": null,
   "id": "3f02f4e5",
   "metadata": {},
   "outputs": [],
   "source": [
    "age = d2.get('age')\n",
    "print(age)"
   ]
  },
  {
   "cell_type": "code",
   "execution_count": null,
   "id": "68cbc015",
   "metadata": {},
   "outputs": [],
   "source": [
    "d2['nationality']"
   ]
  },
  {
   "cell_type": "code",
   "execution_count": null,
   "id": "07dd3901",
   "metadata": {},
   "outputs": [],
   "source": [
    "nationality = d2.get('nationality')    # nationality is not a key in the dictionary\n",
    "print(nationality)"
   ]
  },
  {
   "cell_type": "code",
   "execution_count": null,
   "id": "42be4efe",
   "metadata": {},
   "outputs": [],
   "source": [
    "nationality = d2.get('nationality', 'unknown')   # returns 'unknown' for a missing key.\n",
    "print(nationality)"
   ]
  },
  {
   "cell_type": "code",
   "execution_count": null,
   "id": "17e299e2",
   "metadata": {
    "scrolled": true
   },
   "outputs": [],
   "source": [
    "d1"
   ]
  },
  {
   "cell_type": "code",
   "execution_count": null,
   "id": "21d74aa5",
   "metadata": {
    "scrolled": true
   },
   "outputs": [],
   "source": [
    "d1.update(d2)                    # d1 and d2 is merge\n",
    "d1"
   ]
  },
  {
   "cell_type": "code",
   "execution_count": null,
   "id": "82139583",
   "metadata": {},
   "outputs": [],
   "source": [
    "d2.pop('age')                  # value of the removed key is returned"
   ]
  },
  {
   "cell_type": "code",
   "execution_count": null,
   "id": "04437f3f",
   "metadata": {},
   "outputs": [],
   "source": [
    "d2                            # age no longer included in the dictionary"
   ]
  },
  {
   "cell_type": "code",
   "execution_count": null,
   "id": "c9198797",
   "metadata": {},
   "outputs": [],
   "source": [
    "d3 = {'l':5, 'o':15, 'v':25, 'e':35}    # another dictionary"
   ]
  },
  {
   "cell_type": "code",
   "execution_count": null,
   "id": "ac113b46",
   "metadata": {
    "scrolled": true
   },
   "outputs": [],
   "source": [
    "d3.popitem()                          # last item removed and returned"
   ]
  },
  {
   "cell_type": "code",
   "execution_count": null,
   "id": "2b452429",
   "metadata": {
    "scrolled": true
   },
   "outputs": [],
   "source": [
    "d3"
   ]
  },
  {
   "cell_type": "code",
   "execution_count": null,
   "id": "87ba891e",
   "metadata": {},
   "outputs": [],
   "source": [
    "d2.keys()              # returns all keys"
   ]
  },
  {
   "cell_type": "code",
   "execution_count": null,
   "id": "b7e8d712",
   "metadata": {},
   "outputs": [],
   "source": [
    "d2.values()            # returns all values"
   ]
  },
  {
   "cell_type": "code",
   "execution_count": null,
   "id": "f378d34d",
   "metadata": {},
   "outputs": [],
   "source": [
    "d2.items()             # returns each key and value in a tuple"
   ]
  },
  {
   "cell_type": "markdown",
   "id": "f7b40299",
   "metadata": {},
   "source": [
    "### Looping Through a Dictionary"
   ]
  },
  {
   "cell_type": "markdown",
   "id": "476490c7",
   "metadata": {},
   "source": [
    "#### Looping Through a dictionary keys"
   ]
  },
  {
   "cell_type": "code",
   "execution_count": null,
   "id": "e0b150c1",
   "metadata": {},
   "outputs": [],
   "source": [
    "for key in d2.keys():\n",
    "    print(key)"
   ]
  },
  {
   "cell_type": "markdown",
   "id": "f07f039a",
   "metadata": {},
   "source": [
    "By default, looping through a dictionary is perfomed on its keys, therefore the above code can be written without the `keys()` method"
   ]
  },
  {
   "cell_type": "code",
   "execution_count": null,
   "id": "a60493af",
   "metadata": {
    "scrolled": true
   },
   "outputs": [],
   "source": [
    "for key in d2:\n",
    "    print(key)"
   ]
  },
  {
   "cell_type": "markdown",
   "id": "598ff629",
   "metadata": {},
   "source": [
    "#### Looping Through a dictionary values"
   ]
  },
  {
   "cell_type": "code",
   "execution_count": null,
   "id": "f2dc16c8",
   "metadata": {},
   "outputs": [],
   "source": [
    "for value in d2.values():\n",
    "    print(value.title())"
   ]
  },
  {
   "cell_type": "markdown",
   "id": "0a0ae1f8",
   "metadata": {},
   "source": [
    "#### Looping Through a dictionary items\n",
    "Before we look at how to loop through a dictionary items, let's look at **iterable unpacking**. Iterable unpacking is the method of assigning multiple variable to the items of an iterable(tuples , list, etc.) in one single assignment:"
   ]
  },
  {
   "cell_type": "code",
   "execution_count": null,
   "id": "c9cb7eaf",
   "metadata": {},
   "outputs": [],
   "source": [
    "a, b = (5, 8)         # Assigning two values to a 2 item tuple"
   ]
  },
  {
   "cell_type": "code",
   "execution_count": null,
   "id": "f599ca6b",
   "metadata": {},
   "outputs": [],
   "source": [
    "print(a)\n",
    "print(b)"
   ]
  },
  {
   "cell_type": "markdown",
   "id": "248b4fee",
   "metadata": {},
   "source": [
    "The tuple doesn't necessarily needs the parenthesis:"
   ]
  },
  {
   "cell_type": "code",
   "execution_count": null,
   "id": "f537a820",
   "metadata": {},
   "outputs": [],
   "source": [
    "a, b = 2.5, 4.7"
   ]
  },
  {
   "cell_type": "code",
   "execution_count": null,
   "id": "358f9f73",
   "metadata": {},
   "outputs": [],
   "source": [
    "print(a)\n",
    "print(b)"
   ]
  },
  {
   "cell_type": "code",
   "execution_count": null,
   "id": "64bd5949",
   "metadata": {},
   "outputs": [],
   "source": [
    "a, b, c, d = ['lagos', 'cairo', 'texas', 'moscow']"
   ]
  },
  {
   "cell_type": "code",
   "execution_count": null,
   "id": "acf41689",
   "metadata": {},
   "outputs": [],
   "source": [
    "print(a)\n",
    "print(b)"
   ]
  },
  {
   "cell_type": "code",
   "execution_count": null,
   "id": "0c8bb421",
   "metadata": {},
   "outputs": [],
   "source": [
    "print(c)\n",
    "print(d)"
   ]
  },
  {
   "cell_type": "markdown",
   "id": "2d594dfd",
   "metadata": {},
   "source": [
    "Using the concept of tuple unpacking, we can assign each item of the tuples to two variables as we loop through `dict_items` list:"
   ]
  },
  {
   "cell_type": "code",
   "execution_count": null,
   "id": "a828be45",
   "metadata": {},
   "outputs": [],
   "source": [
    "key, value = ('first_name', 'joke')"
   ]
  },
  {
   "cell_type": "code",
   "execution_count": null,
   "id": "955a3905",
   "metadata": {},
   "outputs": [],
   "source": [
    "key"
   ]
  },
  {
   "cell_type": "code",
   "execution_count": null,
   "id": "c0e37fd3",
   "metadata": {},
   "outputs": [],
   "source": [
    "value"
   ]
  },
  {
   "cell_type": "code",
   "execution_count": null,
   "id": "c3e924c3",
   "metadata": {},
   "outputs": [],
   "source": [
    "d2"
   ]
  },
  {
   "cell_type": "code",
   "execution_count": null,
   "id": "66d6a231",
   "metadata": {},
   "outputs": [],
   "source": [
    "d2.items()      # Returns a list of tuples"
   ]
  },
  {
   "cell_type": "code",
   "execution_count": null,
   "id": "cceaa05f",
   "metadata": {},
   "outputs": [],
   "source": [
    "for key, value in d2.items():\n",
    "    print(f\"{key.title()}:{value.title()}\")"
   ]
  },
  {
   "cell_type": "code",
   "execution_count": null,
   "id": "c51215bd",
   "metadata": {},
   "outputs": [],
   "source": [
    "players = {'messi': 'inter miami',              # Dict. in itemized format for readability\n",
    "           'ronaldo':'al nasir',\n",
    "           'benzema':'madrid',\n",
    "           'lewandoski':'barca',\n",
    "           'mendy':'chelsea',\n",
    "           'de bruyne': 'man city',}\n",
    "\n",
    "players"
   ]
  },
  {
   "cell_type": "markdown",
   "id": "38c3b844-e077-4289-8897-5cf753a67e57",
   "metadata": {},
   "source": [
    "Sorting by default is also done on the keys"
   ]
  },
  {
   "cell_type": "code",
   "execution_count": null,
   "id": "edcd1373",
   "metadata": {},
   "outputs": [],
   "source": [
    "sorted(players.items())"
   ]
  },
  {
   "cell_type": "code",
   "execution_count": null,
   "id": "9822f121",
   "metadata": {
    "scrolled": true
   },
   "outputs": [],
   "source": [
    "for key, val in list(players.items()):\n",
    "    print(key, val)"
   ]
  },
  {
   "cell_type": "code",
   "execution_count": null,
   "id": "ed5d227d",
   "metadata": {
    "scrolled": true
   },
   "outputs": [],
   "source": [
    "for player, club in players.items():\n",
    "    print(f\"{player.title()} plays for {club.title()}\")"
   ]
  },
  {
   "cell_type": "code",
   "execution_count": null,
   "id": "d81da037",
   "metadata": {},
   "outputs": [],
   "source": [
    "for player, club in sorted(players.items()):       # sort according to keys in alphabetical order:     \n",
    "    print(f\"{player.title()} plays for {club.title()}\")"
   ]
  },
  {
   "cell_type": "markdown",
   "id": "7f5711e9",
   "metadata": {},
   "source": [
    "## Nested Dictionaries.\n",
    "It might be necessary to store multiple dictionaries in a list, or a list of items as a value in a dictionary or even multiple dictionaries in a single dictionary. This is called __nesting__."
   ]
  },
  {
   "cell_type": "markdown",
   "id": "89cb5367",
   "metadata": {},
   "source": [
    "### List of Dictionaries"
   ]
  },
  {
   "cell_type": "code",
   "execution_count": null,
   "id": "9eaf6e24",
   "metadata": {},
   "outputs": [],
   "source": [
    "person1 = {'first_name':'olu', 'last_name':'jacobs', 'age':80}\n",
    "person2 = {'first_name':'joke', 'last_name':'silva', 'age':60}\n",
    "person3 = {'first_name':'pete', 'last_name':'edochie', 'age':75}\n",
    "\n",
    "celebs = [person1, person2, person3]          # list that contains dictionaries"
   ]
  },
  {
   "cell_type": "code",
   "execution_count": null,
   "id": "33debac9",
   "metadata": {},
   "outputs": [],
   "source": [
    "celebs"
   ]
  },
  {
   "cell_type": "code",
   "execution_count": null,
   "id": "3b412351",
   "metadata": {
    "scrolled": true
   },
   "outputs": [],
   "source": [
    "celebs[0]          # Accessing the first item of the list"
   ]
  },
  {
   "cell_type": "code",
   "execution_count": null,
   "id": "d5ff8a08",
   "metadata": {},
   "outputs": [],
   "source": [
    "celebs[-1]            # Accessing the last item of the list"
   ]
  },
  {
   "cell_type": "code",
   "execution_count": null,
   "id": "73eb2fa1",
   "metadata": {},
   "outputs": [],
   "source": [
    "for celeb in celebs:\n",
    "    print(f\"It is nice to meet you {celeb['first_name'].title()}\")"
   ]
  },
  {
   "cell_type": "markdown",
   "id": "92524513",
   "metadata": {},
   "source": [
    "### Dictionary of Lists"
   ]
  },
  {
   "cell_type": "code",
   "execution_count": null,
   "id": "2873d068",
   "metadata": {},
   "outputs": [],
   "source": [
    "first_names = ['olu', 'joke', 'pete']\n",
    "last_names = ['jacobs', 'silva', 'edochie']\n",
    "ages = [80, 60, 75]\n",
    "\n",
    "celebs = {'first_names':first_names, 'last_names':last_names, 'ages':ages}   # Dictionaries where the values are list"
   ]
  },
  {
   "cell_type": "code",
   "execution_count": null,
   "id": "1bebd1e3",
   "metadata": {
    "scrolled": true
   },
   "outputs": [],
   "source": [
    "celebs"
   ]
  },
  {
   "cell_type": "code",
   "execution_count": null,
   "id": "11f47991",
   "metadata": {
    "scrolled": true
   },
   "outputs": [],
   "source": [
    "celebs['first_names']"
   ]
  },
  {
   "cell_type": "code",
   "execution_count": null,
   "id": "378af981",
   "metadata": {},
   "outputs": [],
   "source": [
    "celebs['last_names']"
   ]
  },
  {
   "cell_type": "code",
   "execution_count": null,
   "id": "1f7213ef",
   "metadata": {},
   "outputs": [],
   "source": [
    "del celeb"
   ]
  },
  {
   "cell_type": "code",
   "execution_count": null,
   "id": "daa0c3c8",
   "metadata": {
    "scrolled": true
   },
   "outputs": [],
   "source": [
    "for celeb in celebs['first_names']:\n",
    "    print(f\"It is nice to meet you {celeb.title()}\")"
   ]
  },
  {
   "cell_type": "markdown",
   "id": "e891aa81",
   "metadata": {},
   "source": [
    "### Dictionary of Dictionaries"
   ]
  },
  {
   "cell_type": "code",
   "execution_count": null,
   "id": "a76a2028",
   "metadata": {},
   "outputs": [],
   "source": [
    "person1 = {'first_name':'olu', 'last_name':'jacobs', 'age':80}\n",
    "person2 = {'first_name':'joke', 'last_name':'silva', 'age':60}\n",
    "person3 = {'first_name':'pete', 'last_name':'edochie', 'age':75}\n",
    "\n",
    "celebs = {'person1':person1, 'person2':person2, 'person3':person3}     # A dictionary where all the values are dicts."
   ]
  },
  {
   "cell_type": "code",
   "execution_count": null,
   "id": "89ab0178",
   "metadata": {},
   "outputs": [],
   "source": [
    "celebs"
   ]
  },
  {
   "cell_type": "code",
   "execution_count": null,
   "id": "83f72519",
   "metadata": {
    "scrolled": true
   },
   "outputs": [],
   "source": [
    "list(celebs.values())     # Accessing the values through values() method."
   ]
  },
  {
   "cell_type": "code",
   "execution_count": null,
   "id": "9df68202",
   "metadata": {},
   "outputs": [],
   "source": [
    "celebs.values()   # Accessing a single value"
   ]
  },
  {
   "cell_type": "code",
   "execution_count": null,
   "id": "13b0d83b",
   "metadata": {},
   "outputs": [],
   "source": [
    "for celeb in celebs.values():\n",
    "    print(f\"It is nice to meet you {celeb['first_name'].title()}\")"
   ]
  },
  {
   "cell_type": "markdown",
   "id": "8825e7ae",
   "metadata": {},
   "source": [
    "## Exercise \n",
    "Improve the course registration from __[LESSON 5](LESSON%205.%20Loops%20and%20Control%20Statements.ipynb)__. by including a database of bonafide students. The database should be a nested dictionary with the matriculaion number as keys and each value is the record of each student which itself is another dictionary. The program should receive a matriculation number and check if this number is available in our database. If the student matriculation number checks out, the student should be granted permission to register his/her courses. Otherwise an appropriate message should be displayed.  "
   ]
  },
  {
   "cell_type": "code",
   "execution_count": null,
   "id": "86a002e2",
   "metadata": {
    "scrolled": true
   },
   "outputs": [],
   "source": [
    "database = {'dc2211':{'f_name':'john',\n",
    "                      'l_name':'diggle',\n",
    "                      'age':18},\n",
    "            'dc2222':{'f_name':'lebron',\n",
    "                      'l_name':'james',\n",
    "                      'age':21},\n",
    "            'dc2235':{'f_name':'kenny',\n",
    "                      'l_name':'newton',\n",
    "                      'age':20},\n",
    "            'dc3432':person\n",
    "           }\n",
    "\n",
    "science = ['english', 'mathematics', 'biology', 'economics', 'geography', 'physics', 'chemistry']\n",
    "commercial = ['english', 'mathematics', 'biology', 'economics', 'commerce','accounting', 'geography']\n",
    "art = ['english', 'mathematics', 'biology', 'economics', 'government', 'literature', 'history']\n",
    "\n",
    "mat_no = input('Please enter your Matriculation Number to login in: ')\n",
    "if mat_no in database:\n",
    "    rec = database[mat_no]\n",
    "    f_name = rec['f_name']\n",
    "    print(f\"Welcome {f_name.title()}! Please register your courses\")\n",
    "    \n",
    "    # Get the department the student belongs to\n",
    "    dept = input('Specify your class.\\nEnter 1 for Science, 2 for Commercial, 3 for Art: ')\n",
    "    dept = int(dept)\n",
    "    \n",
    "    if dept == 1:\n",
    "        available_subjects = science\n",
    "    elif dept == 2:\n",
    "        available_subjects = commercial\n",
    "    elif dept == 3:\n",
    "        available_subjects = art\n",
    "        \n",
    "    # Get the subjects for registration\n",
    "    submitted_subjects = ''\n",
    "    while submitted_subjects == '':\n",
    "        print(\"\\nMinimum of one subject must be submitted for registration!\")\n",
    "        submitted_subjects = input('Enter subjects for registration.\\nSeperate each subject with a comma: ') \n",
    "        print('\\n')\n",
    "\n",
    "    #  Coverts the string input to lower case and split\n",
    "    submitted_subjects = submitted_subjects.lower().split(',')\n",
    "\n",
    "    # Remove padded spaces caused by the split process\n",
    "    submitted_subjects = [submitted_subject.strip() for submitted_subject in submitted_subjects]\n",
    "    \n",
    "    for submitted_subject in submitted_subjects:\n",
    "        if submitted_subject not in available_subjects:\n",
    "            print(f\"There won't be {submitted_subject.title()} classes or exams for the current term.\")\n",
    "        else:\n",
    "            print(f'{submitted_subject.title()} has been registered as part of your courses for the term')\n",
    "    print(f'\\nAll available subjects submited has been registerd. Success in your exams!') \n",
    "\n",
    "else:\n",
    "    print('No student with this Matriculation number. Ensure you enter the correct Number')"
   ]
  },
  {
   "cell_type": "markdown",
   "id": "b4f3447c",
   "metadata": {},
   "source": [
    "*Copyright &copy; 2025 DataClax. This content is licensed solely for personal use. Redistribution or publication of this material is strictly prohibited.*"
   ]
  }
 ],
 "metadata": {
  "kernelspec": {
   "display_name": "Python 3 (ipykernel)",
   "language": "python",
   "name": "python3"
  },
  "language_info": {
   "codemirror_mode": {
    "name": "ipython",
    "version": 3
   },
   "file_extension": ".py",
   "mimetype": "text/x-python",
   "name": "python",
   "nbconvert_exporter": "python",
   "pygments_lexer": "ipython3",
   "version": "3.11.7"
  }
 },
 "nbformat": 4,
 "nbformat_minor": 5
}
