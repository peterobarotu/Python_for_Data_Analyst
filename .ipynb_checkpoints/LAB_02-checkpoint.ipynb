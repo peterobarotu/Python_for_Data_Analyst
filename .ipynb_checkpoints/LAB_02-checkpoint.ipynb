{
 "cells": [
  {
   "cell_type": "markdown",
   "id": "96db48fe",
   "metadata": {},
   "source": [
    "### Instructions: Implementing a Sniper Simulation\n",
    "\n",
    "In this assignment, you will be implementing a simulation involving different classes to represent a sniper within a military unit. Follow the provided redacted code snippets to complete the classes and functionalities as described. The assignment consists of five main classes: Soldier, Sniper, SniperRifle, Skills, and Mission."
   ]
  },
  {
   "cell_type": "markdown",
   "id": "fb8f89e8",
   "metadata": {},
   "source": [
    "A Soldier is a fundamental unit within a military organization. The `Soldier` class represents a soldier, serving as a base for more specialized roles. It includes attributes and methods that are commonly applicable to all soldiers. This class is designed to capture essential information about soldiers and provide methods for modifying their attributes."
   ]
  },
  {
   "cell_type": "code",
   "execution_count": null,
   "id": "71440c2e",
   "metadata": {},
   "outputs": [],
   "source": [
    "class Soldier:\n",
    "    \"\"\"\n",
    "    Represents a soldier within a military unit.\n",
    "    \n",
    "    Args:\n",
    "        name (str): Name of the soldier.\n",
    "        rank (str): Rank of the soldier.\n",
    "        serial_no (str): Serial number of the soldier.\n",
    "        weapon (str): The soldier's assigned weapon.\n",
    "        unit (str, optional): Assigned unit of the soldier. Default is 'unassigned'.\n",
    "    \"\"\"\n",
    "    \n",
    "    def __init__(self, name, rank, serial_no, weapon, unit='unassigned'):\n",
    "        # Initialize attributes specific to a soldier\n",
    "        # TODO: Assign the input parameters to the corresponding attributes\n",
    "        "
   ]
  },
  {
   "cell_type": "markdown",
   "id": "7649fdb1",
   "metadata": {},
   "source": [
    "Add some methods to the class:`"
   ]
  },
  {
   "cell_type": "code",
   "execution_count": null,
   "id": "88640061",
   "metadata": {},
   "outputs": [],
   "source": [
    "class Soldier:\n",
    "\n",
    "    \"\"\"\n",
    "    Represents a soldier within a military unit.\n",
    "\n",
    "    Args:\n",
    "        name (str): Name of the soldier.\n",
    "        rank (str): Rank of the soldier.\n",
    "        serial_no (str): Serial number of the soldier.\n",
    "        weapon (str): The soldier's assigned weapon.\n",
    "        unit (str, optional): Assigned unit of the soldier. Default is 'unassigned'.\n",
    "    \"\"\"\n",
    "    \n",
    "    def __init__(self, name, rank, serial_no, weapon, unit='unassigned'):\n",
    "        \"\"\"\n",
    "        Initialize a Soldier object with specified attributes.\n",
    "        \"\"\"\n",
    "        #TODO: fill in the missing value or code\n",
    "        self.name = ...\n",
    "        self.rank = ...\n",
    "        self.serial_no = ...\n",
    "        self.weapon = ....\n",
    "        self.unit = ...\n",
    "        \n",
    "    def change_unit(self, new_unit):\n",
    "        \"\"\"\n",
    "        Change the assigned unit of the soldier.\n",
    "\n",
    "        Args:\n",
    "            new_unit (str): The new unit to which the soldier is being reassigned.\n",
    "\n",
    "        Returns:\n",
    "            None\n",
    "        \"\"\"\n",
    "        # TODO: check if the new unit is the same as the current unit\n",
    "        if ...:\n",
    "            print('Cannot reassign to the same unit')\n",
    "        else:\n",
    "            self.unit = ...\n",
    "            print(f'{self.name} has been reassign to {new_unit}')\n",
    "            \n",
    "    def promote(self, new_rank):\n",
    "        \"\"\"\n",
    "        Promote the soldier to a new rank.\n",
    "\n",
    "        Args:\n",
    "            new_rank (str): The new rank to which the soldier is being promoted.\n",
    "\n",
    "        Returns:\n",
    "            None\n",
    "        \"\"\"\n",
    "        # TODO: fill in the missing value/code\n",
    "        self.rank = ...\n",
    "        print(f\"{self.name} has been promoted to {new_rank}.\")\n",
    "    \n",
    "    def __repr__(self):\n",
    "        \"\"\"Return a formatted string displaying soldier information.\"\"\"\n",
    "        # TODO: fill in the missing values\n",
    "        str1 = f\"Soldier \\n{7*'='} \\nName: {self.name.title()} \\nRank: {...}\\n\" \n",
    "        str2 = f\"Serial Number: {...} \\nUnit: {...} \\nWeapon: {self.weapon}\"\n",
    "        return str1 + ...\n"
   ]
  },
  {
   "cell_type": "code",
   "execution_count": null,
   "id": "f6004810",
   "metadata": {},
   "outputs": [],
   "source": [
    "# Create an instance of the Soldier class\n",
    "soldier1 = Soldier('jack bauer', 'lieutenant', '12345', 'M4 Carbine', unit='alpha company')\n",
    "soldier2 = Soldier('renee walker', 'sergeant', '56789', 'FN FAL')"
   ]
  },
  {
   "cell_type": "code",
   "execution_count": null,
   "id": "3bf5754c",
   "metadata": {},
   "outputs": [],
   "source": [
    "# Print/call the the instance\n",
    "soldier1"
   ]
  },
  {
   "cell_type": "markdown",
   "id": "ab3469a6",
   "metadata": {},
   "source": [
    "A dictionary that describe Sniper's experience level is defined below:"
   ]
  },
  {
   "cell_type": "code",
   "execution_count": null,
   "id": "464ec15f",
   "metadata": {},
   "outputs": [],
   "source": [
    "experience_levels = {\n",
    "    \n",
    "'novice':\n",
    "\"\"\"\n",
    "Description: A newly trained sniper with basic skills and limited field experience. \n",
    "Characteristics: Has completed sniper training but lacks combat experience. \n",
    "Focused on honing marksmanship and camouflage skills.\n",
    "Skills: Basic marksmanship, camouflage techniques, and observation abilities.\n",
    "\"\"\",\n",
    "          \n",
    "'skilled':\n",
    "\"\"\"\n",
    "Description: A competent sniper with several successful missions under their belt.\n",
    "Characteristics: Demonstrates consistent accuracy and effectiveness in engaging targets. May take on more challenging missions.\n",
    "Skills: Proficient marksmanship, effective camouflage and concealment, capable of coordinating with a spotter.\n",
    "\"\"\",\n",
    "\n",
    "'expert':\n",
    "\"\"\"\n",
    "Description: An experienced and highly trained sniper recognized for their proficiency.\n",
    "Characteristics: Has a significant number of confirmed kills and successfully completed complex missions. May mentor other snipers.\n",
    "Skills: Exceptional marksmanship, advanced fieldcraft, expert communication with team members, and adaptability.\n",
    "\"\"\",\n",
    "    \n",
    "'master':\n",
    "\"\"\"\n",
    "Description: A sniper at the pinnacle of skill and experience, with a long and successful career.\n",
    "Characteristics: Known for outstanding accuracy, effectiveness, and leadership within the sniper community.\n",
    "Skills: Mastery of long-range shooting, expert fieldcraft, ability to lead and train other snipers,\n",
    "and exceptional decision-making in high-pressure situations.\n",
    "\"\"\"       \n",
    "         }\n"
   ]
  },
  {
   "cell_type": "code",
   "execution_count": null,
   "id": "41279336",
   "metadata": {},
   "outputs": [],
   "source": [
    "print(experience_levels['master'])"
   ]
  },
  {
   "cell_type": "markdown",
   "id": "0c33b9dd",
   "metadata": {},
   "source": [
    "A Sniper is a specialized soldier with advanced training in long-range marksmanship. The Sniper class represents a sniper within a military unit. It's a subclass of the Soldier class, inheriting attributes and methods that are common to all soldiers. "
   ]
  },
  {
   "cell_type": "code",
   "execution_count": null,
   "id": "165d721e",
   "metadata": {},
   "outputs": [],
   "source": [
    "class Sniper(Soldier):\n",
    "    \"\"\"Represents a sniper within a military unit.\"\"\"\n",
    "    def __init__(self, name, rank, serial_no, weapon='m107_rifle', unit='unassigned', specialization='sniper', skill='novice'):\n",
    "        \"\"\"\n",
    "        Initialize a SniperRifle object with specified attributes.\n",
    "\n",
    "        Args:\n",
    "            Args:\n",
    "            name (str): Name of the sniper rifle.\n",
    "            price (int): Price of the sniper rifle.\n",
    "            repair_token (int): Token required for repairing the rifle.\n",
    "            accuracy (int): Accuracy level of the rifle (0-100).\n",
    "            eff_range (int): Effective range of the rifle in meters (600-2300).\n",
    "            muzzle_velocity (int): Muzzle velocity of the rifle in meters/second (762-950).\n",
    "            caliber (float): Caliber of the rifle (6.5-14.5mm).\n",
    "            suppressor_power (int): Suppressor power of the rifle (0-100).\n",
    "        \"\"\"\n",
    "        # TODO: Initialize/acquire parents attributes and methods\n",
    "        ...\n",
    "        \n",
    "        # TODO: Initialize other attributes specific to child\n",
    "        self.specialization = ...\n",
    "        self.skill = ...\n",
    "        self.token = 0\n",
    "        \n",
    "    def describe(self):\n",
    "        \"\"\"\n",
    "        Print a description of the sniper's experience level.\n",
    "\n",
    "        Returns:\n",
    "            None\n",
    "        \"\"\"\n",
    "        # TODO: Print the description of the sniper's experience level using the experience_levels dict.\n",
    "        print(...)\n",
    "        \n",
    "    def __repr__(self):\n",
    "        \"\"\"\n",
    "        Return a string representation of the Sniper object.\n",
    "\n",
    "        Returns:\n",
    "            str: A formatted string displaying sniper information.\n",
    "        \"\"\"\n",
    "        str1 = f\"Sniper \\n{6*'='} \\nName: {self.name.title()} \\nRank: {self.rank.title()}\\n\" \n",
    "        str2 = f\"Serial Number: {self.serial_no} \\nUnit: {self.unit.title()} \\nWeapon: {self.weapon}\"\n",
    "        return str1 + str2\n"
   ]
  },
  {
   "cell_type": "code",
   "execution_count": null,
   "id": "b66bd51d",
   "metadata": {},
   "outputs": [],
   "source": [
    "sniper1 = Sniper('jack bauer', 'lieutenant', '12345', unit='alpha company')"
   ]
  },
  {
   "cell_type": "code",
   "execution_count": null,
   "id": "cf1ea5e2",
   "metadata": {
    "scrolled": true
   },
   "outputs": [],
   "source": [
    "sniper1"
   ]
  },
  {
   "cell_type": "code",
   "execution_count": null,
   "id": "cd180e8b",
   "metadata": {
    "scrolled": true
   },
   "outputs": [],
   "source": [
    "sniper1.describe()"
   ]
  },
  {
   "cell_type": "markdown",
   "id": "a5c916a4",
   "metadata": {},
   "source": [
    "A sniper rifle is a specialized firearm designed for accurate long-range shooting. It's used by snipers, who are highly trained marksmen. We'll define a `SniperRifle` class that encapsulates the attributes and behavior of a sniper rifle. It allows for initializing, repairing, calculating effectiveness, simulating shooting, and representing the rifle as a string. This class models the characteristics and behavior of a sniper rifle, which is crucial for any sniper simulation or game.\n",
    "\n",
    "Let's clarify some things we need before we define the class.\n",
    "1. We need to simulate the outcome of a sniper's shot\n",
    "2. A sniper rifle's effectiveness gradually diminishes over time due to its use, eventually leading to total damage. To simulate this, we'll introduce random damage that incrementally impacts the rifle's effectiveness as time passes.\n",
    "3. We need to normalize/rescale each attributes of the gun for proper calculation because they are on different ranges"
   ]
  },
  {
   "cell_type": "code",
   "execution_count": null,
   "id": "b18cd677",
   "metadata": {},
   "outputs": [],
   "source": [
    "from numpy import random"
   ]
  },
  {
   "cell_type": "code",
   "execution_count": null,
   "id": "5abb6c55",
   "metadata": {
    "scrolled": true
   },
   "outputs": [],
   "source": [
    "# simulate the outcome of a snipers shot\n",
    "eff = 0.35           # Use different values btw 0 and 1 to observe different outcomes\n",
    "random.choice(['head_shot', 'fatal_shot', 'target_missed'], p=[eff, (1-eff)*2/3, (1-eff)*1/3])"
   ]
  },
  {
   "cell_type": "markdown",
   "id": "6a05b1f5",
   "metadata": {},
   "source": [
    "We use the `random.choice` from numpy random module to simulate the outcome of shooting a sniper rifle. The probabilities of the outcomes are defined by the `p` parameter, which is a list of probabilities corresponding to each outcome.\n",
    "\n",
    "* `eff = 0.35`: This represents the effectiveness of the shot, which is a value between 0 and 1. In the example above, let's say the gun is 35% effective.\n",
    "\n",
    "* `['head_shot', 'fatal_shot', 'target_missed']`: This is the list of possible outcomes when shooting the rifle.\n",
    "\n",
    "* `p=[eff, (1-eff)*2/3, (1-eff)*1/3]`: This is the probability distribution for each outcome. The probabilities are calculated based on the effectiveness (eff) of the riffle and must sum up to 1.\n",
    "* `eff` is the probability of getting a 'head_shot'.\n",
    "* `(1-eff)*2/3` is the probability of getting a 'fatal_shot'. Since 'head_shot' is already accounted for, the remaining effectiveness is `(1 - eff)`. The `(1 - eff)  2/3` part ensures that the total probability for 'fatal_shot' and 'head_shot' combined is 2/3 (because 1/3 is allocated for 'target_missed').\n",
    "* `(1-eff)*1/3` is the probability of getting a 'target_missed'. Similar to above, the remaining effectiveness is (1 - eff), and 1/3 of that is allocated to 'target_missed'."
   ]
  },
  {
   "cell_type": "code",
   "execution_count": null,
   "id": "8189000d",
   "metadata": {
    "scrolled": true
   },
   "outputs": [],
   "source": [
    "# Generate random damages in btw 0 to 1 (0-100%)\n",
    "random.uniform(low=0.01, high=0.16, size=3)"
   ]
  },
  {
   "cell_type": "markdown",
   "id": "b0e96031",
   "metadata": {},
   "source": [
    "The above code uses the `random.uniform()` function to generate three random values within the range (0.01, 0.16). Each value represents a damage ratio that will be applied to the rifle's accuracy, muzzle velocity, and suppressor power, respectively. These ratios will simulate the wear and tear the rifle experiences over time due to usage. For example, if the accuracy was 70% (0.7) and we **assumed** that the first value generated in the array above is 0.1197 or ~ 12% and its the percentage of damage to the accuracy, we'll subtract 0.7 * 0.12 from the initial accuracy to get the new value for accuracy as follows:\n",
    "\n",
    "$$ accuracy = accuracy -  accuracy * 0.12 $$\n",
    "$$ accuracy = 0.7 - 0.7 * 0.12 $$\n",
    "$$ accuracy = 0.7 * (1 - 0.12) $$\n",
    "$$ accuracy = 0.616$$\n",
    "So in this case, we say accuracy drops by 12% from 70% to ~ 62%"
   ]
  },
  {
   "cell_type": "markdown",
   "id": "0c655f85",
   "metadata": {},
   "source": [
    "Lastly, lets look at how to normalize values for some attributes. Imagine you have a variety of numbers that represent different qualities of a sniper rifle, like accuracy, muzzle velocity, caliber, and suppressor power. These numbers are in different ranges - some between 0 and 100, others between 700 and 950, and so on.\n",
    "\n",
    "Now, you want to measure how effective the rifle is by considering all these qualities together. But since the numbers are in different ranges, it's a bit tricky to compare them directly. This is where the `normalize()` function comes into play.\n",
    "\n",
    "Think of it as a tool that helps you change these numbers to a common scale. We're using a type of normalization called \"Min-Max Normalization\". This method takes a number, like accuracy, and transforms it into a smaller number between 0 and 1. This way, no matter how large or small the original numbers were, they're all rescaled to fit nicely between 0 and 1.\n",
    "\n",
    "So, in our sniper rifle code, we're using the `normalize()` function to ensure that all the qualities of the rifle are measured fairly. We're making sure that no quality gains more importance just because its numbers are larger. It's like creating an equal playing field for all qualities in our calculations."
   ]
  },
  {
   "cell_type": "code",
   "execution_count": null,
   "id": "5aec6624",
   "metadata": {},
   "outputs": [],
   "source": [
    "def normalize(value, min_value, max_value):\n",
    "    return (value - min_value) / (max_value - min_value)"
   ]
  },
  {
   "cell_type": "code",
   "execution_count": null,
   "id": "b58d6821",
   "metadata": {},
   "outputs": [],
   "source": [
    "normalize(835, 700, 950)"
   ]
  },
  {
   "cell_type": "code",
   "execution_count": null,
   "id": "2e937ae6",
   "metadata": {},
   "outputs": [],
   "source": [
    "class SniperRifle:\n",
    "    \"\"\"Represents a sniper rifle within a military unit.\"\"\"\n",
    "    \n",
    "    from numpy import random\n",
    "    \n",
    "    def __init__(self, name, price, repair_token, accuracy, eff_range, muzzle_velocity, caliber, suppressor_power):\n",
    "        \"\"\"\n",
    "        Initialize a SniperRifle object with specified attributes.\n",
    "\n",
    "        Args:\n",
    "            name (str): Name of the sniper rifle.\n",
    "            price (int): Price of the sniper rifle.\n",
    "            repair_token (int): Token required for repairing the rifle.\n",
    "            accuracy (int): Accuracy level of the rifle (0-100).\n",
    "            eff_range (int): Effective range of the rifle in meters (600-2300).\n",
    "            muzzle_velocity (int): Muzzle velocity of the rifle in meters/second (762-950).\n",
    "            caliber (float): Caliber of the rifle (6.5-14.5mm).\n",
    "            suppressor_power (int): Suppressor power of the rifle (0-100).\n",
    "        \"\"\"\n",
    "        # Save some initial values. When the gun is repaired after damage, these values are reset.\n",
    "        self.init_values = dict(accuracy=accuracy, muzzle_velocity=muzzle_velocity, suppressor_power=suppressor_power)\n",
    "      \n",
    "        self.name = ...\n",
    "        self.price = ...\n",
    "        self.repair_token = ...\n",
    "        self.accuracy = ...           \n",
    "        self.eff_range = ...              \n",
    "        self.muzzle_velocity = ...       \n",
    "        self.caliber = ...     \n",
    "        self.suppressor_power = ...   \n",
    "    \n",
    "    def repair(self):\n",
    "        \"\"\"Restore some of the parameters of the gun to their initial values\"\"\"\n",
    "        # TODO: Reset the accuracy, muzzle_velocity, and suppressor_power to their initial values\n",
    "        self.accuracy = self.init_values['accuracy']\n",
    "        self.muzzle_velocity = ...\n",
    "        self.suppressor_power = ...\n",
    "        \n",
    "    def normalize(self, value, min_value, max_value):\n",
    "        \"\"\"\n",
    "        Normalize a value from its original range [min_value, max_value] \n",
    "        into a normalized range between 0 and 1.\n",
    "        \"\"\"\n",
    "        # TODO: Implement the normalization formula\n",
    "        return ...\n",
    "        \n",
    "    def effectiveness(self):\n",
    "        \"\"\"\n",
    "        Calculates the effectiveness of a gun using a weighted average model.\n",
    "\n",
    "        Returns:\n",
    "            float: The calculated effectiveness value.\n",
    "        \"\"\"\n",
    "        # Define weights for each parameter(must sum up to 1)\n",
    "        weight_accuracy = 0.4\n",
    "        weight_muzzle_velocity = 0.3\n",
    "        weight_caliber = ...\n",
    "        weight_suppressor_power = ...\n",
    "        \n",
    "        # TODO: Set the minimum and maximum values for each parameter\n",
    "        # Define minimum values for each parameter\n",
    "        min_accuracy = 0\n",
    "        min_muzzle_velocity = ...\n",
    "        min_caliber =...\n",
    "        min_suppressor_power = ...\n",
    "              \n",
    "        # Define maximum values for each parameter\n",
    "        max_accuracy = 100\n",
    "        max_muzzle_velocity = ...\n",
    "        max_caliber = 14.5\n",
    "        max_suppressor_power = ...\n",
    "        \n",
    "        # Calculate the effectiveness based on the weighted average of the normalized values\n",
    "        # TODO: Implement the effectiveness calculation\n",
    "        effectiveness = (weight_accuracy * self.normalize(self.accuracy, min_accuracy, max_accuracy) + .... + ....)\n",
    "        return max(effectiveness, 0)  # Ensure effectiveness doesn't go below 0\n",
    "    \n",
    "    def shoot(self):\n",
    "        \"\"\"\n",
    "        Simulate the shooting action based on the gun's effectiveness.\n",
    "\n",
    "        Returns:\n",
    "            str: Outcome of the shot, which can be 'head_shot', 'fatal_shot', 'target_missed', or \n",
    "            a message indicating the gun is damaged.\n",
    "        \"\"\"\n",
    "        eff = self.effectiveness() \n",
    "        if eff > 0.30: \n",
    "            # Probability distribution for outcomes: head_shot, fatal_shot, target_missed\n",
    "            outcome = random.choice(['head_shot', 'fatal_shot', 'target_missed'],\n",
    "                                    p=[eff, (1-eff)*0.65, (1-eff)*0.35])\n",
    "        elif eff > 0:\n",
    "            # Probability distribution for outcomes: head_shot, fatal_shot, target_missed\n",
    "            outcome = random.choice(['head_shot', 'fatal_shot', 'target_missed'], \n",
    "                                    p=[eff, (1-eff)*0.55, (1-eff)*0.45])\n",
    "        else:\n",
    "            print(\"Gun totally damaged. Change weapon or repair\")\n",
    "            outcome = 'target_missed'\n",
    "        \n",
    "        # Every shot will incur mechanical damage to certain parts of the gun \n",
    "        damage_ratios = random.uniform(low=0.01, high=0.06, size=3)   # sample between 1% to 5%\n",
    "        # TODO: Update the gun's accuracy, muzzle_velocity, and suppressor_power based on damage_ratios\n",
    "        self.accuracy = ...\n",
    "        self.muzzle_velocity = ...\n",
    "        self.suppressor_power = ...\n",
    "        return outcome  \n",
    "        \n",
    "    def __repr__(self):\n",
    "        \"\"\"Return a string representation of the SniperRifle object.\"\"\"\n",
    "        return self.name.title()\n"
   ]
  },
  {
   "cell_type": "code",
   "execution_count": null,
   "id": "a8b94aa3",
   "metadata": {},
   "outputs": [],
   "source": [
    "remington_700_sps_tactical = SniperRifle(name='remington_700',\n",
    "                                         price=0,\n",
    "                                         repair_token=40,\n",
    "                                         accuracy=65,\n",
    "                                         eff_range=700,\n",
    "                                         muzzle_velocity=800,\n",
    "                                         caliber=7.82,\n",
    "                                         suppressor_power = 70\n",
    "                                        )"
   ]
  },
  {
   "cell_type": "code",
   "execution_count": null,
   "id": "f619da02",
   "metadata": {},
   "outputs": [],
   "source": [
    "remington_700_sps_tactical"
   ]
  },
  {
   "cell_type": "code",
   "execution_count": null,
   "id": "75377a1a",
   "metadata": {},
   "outputs": [],
   "source": [
    "sniper1 = Sniper('jack bauer', 'Lieutenant', '12345', weapon=remington_700_sps_tactical, unit='Alpha Company')"
   ]
  },
  {
   "cell_type": "code",
   "execution_count": null,
   "id": "00b126bf",
   "metadata": {},
   "outputs": [],
   "source": [
    "sniper1.weapon.effectiveness()"
   ]
  },
  {
   "cell_type": "code",
   "execution_count": null,
   "id": "7167c1ec",
   "metadata": {},
   "outputs": [],
   "source": [
    "# Creates different instances of weapon\n",
    "m24_rifle = SniperRifle(\"m24\", price=500, repair_token=80, accuracy=83, eff_range=1200, muzzle_velocity=850, caliber=7.82, suppressor_power=85)\n",
    "arctic_warfare_rifle = SniperRifle(\"artic\", price=600, repair_token=100, accuracy=88, eff_range=1800, muzzle_velocity=890, caliber=8.58, suppressor_power=85)\n",
    "m107_rifle = SniperRifle(\"barret_m107\", price=750, repair_token=110, accuracy=95, eff_range=2000, muzzle_velocity=920, caliber=12.7, suppressor_power=90)\n",
    "m110_sass_rifle = SniperRifle(\"m110_sass\", price=850, repair_token=150, accuracy=98, eff_range=2300, muzzle_velocity=940, caliber=14.5, suppressor_power=100)\n",
    "\n",
    "# Save weapons to armoury\n",
    "armoury = dict(remington_700=remington_700_sps_tactical, m24=m24_rifle, artic=arctic_warfare_rifle,\n",
    "               barret_m107=m107_rifle, m110_sass=m110_sass_rifle)"
   ]
  },
  {
   "cell_type": "code",
   "execution_count": null,
   "id": "8fb51e4a",
   "metadata": {},
   "outputs": [],
   "source": [
    "m107_rifle.effectiveness()"
   ]
  },
  {
   "cell_type": "code",
   "execution_count": null,
   "id": "68f2419e",
   "metadata": {},
   "outputs": [],
   "source": [
    "m110_sass_rifle.effectiveness()"
   ]
  },
  {
   "cell_type": "markdown",
   "id": "c6ca3c20",
   "metadata": {},
   "source": [
    "Let's redefine the Sniper class to have `get_gun`, `change_gun`, `repair_weapon` and `engage_target` methods. Again let's  first clarify a concept we will be using in the class called recursion. A recursive method is a function that calls itself in order to achieve a certain result.\n",
    "\n",
    "One classic example of explaining recursion is through the calculation of the factorial of a non-negative integer.\n",
    "Factorial of a non-negative integer \"n\" is denoted as \"$n!$\" and is calculated as the product of all positive integers from 1 to \"$n$\". \n",
    "\n",
    "Mathematically:\n",
    "\n",
    "$n! = n * (n - 1) * (n - 2)  * ... * 3 * 2 * 1$\n",
    "\n",
    "if $n = 5$, then\n",
    "\n",
    "$5! = 5 \\times 4 \\times 3 \\times 2 \\times1 = 120 $\n",
    "\n",
    "This is also equivlent to $5 \\times 4!$ and $4!$ is equavalent to $4 \\times 3!$ and $3!$ is equal to $3 \\times 2!$ and $2!$ is equal to $2 \\times 1!$ and $1!$ is equal to $1$.\n",
    "\n",
    "$5!=$ \n",
    "\n",
    "$5 \\times 4! =$\n",
    "\n",
    "$5 \\times 4 \\times 3!=$\n",
    "\n",
    "$5 \\times 4 \\times 3 \\times 2!=$\n",
    "\n",
    "$5 \\times 4 \\times 3 \\times 2 \\times 1$\n",
    "\n",
    "We notice that the function is repeatedly calling itself until it reaches a point where $n$ equals 1. This process is called recursion. The implementation is provided below:"
   ]
  },
  {
   "cell_type": "code",
   "execution_count": null,
   "id": "df58f801",
   "metadata": {},
   "outputs": [],
   "source": [
    "def factorial(n):\n",
    "    if n == 1:\n",
    "        return 1\n",
    "    return n * factorial(n - 1)"
   ]
  },
  {
   "cell_type": "code",
   "execution_count": null,
   "id": "649f6830",
   "metadata": {},
   "outputs": [],
   "source": [
    "factorial(5)"
   ]
  },
  {
   "cell_type": "markdown",
   "id": "ab204d99",
   "metadata": {},
   "source": [
    "**NOTE**: when we use a `return` statement inside a function, it immediately exits the function and returns the specified value to the caller. There's no need to add an `else` statement after the if statement (return 1 if n == 1), because the `return` statement itself serves as the exit point of the function.\n",
    "\n",
    "Using `return` without an `else` statement in this context improves the readability and simplicity of the code. It's a concise way to handle the different cases, and it avoids unnecessary indentation levels."
   ]
  },
  {
   "cell_type": "code",
   "execution_count": null,
   "id": "cc444554",
   "metadata": {},
   "outputs": [],
   "source": [
    "class Sniper(Soldier):\n",
    "    \"\"\"Represents a sniper rifle used by snipers within a military unit.\"\"\"\n",
    "    \n",
    "    def __init__(self, name, rank, serial_no, weapon, unit='unassigned', specialization='sniper', skill='novice'):\n",
    "        # Initialize/acquire parents attributes and methods\n",
    "        super().__init__(name, rank, serial_no, weapon, unit)\n",
    "        \n",
    "        # Initialize other attributes specific to child\n",
    "        self.specialization = ...\n",
    "        self.skill = ...\n",
    "        self.token = 0\n",
    "        self.available_guns = {weapon.name:weapon}       # Store all acquired weapons/guns, starting with the current gun     \n",
    "        \n",
    "    def describe(self):\n",
    "        \"\"\"Return the description of a sniper base on the level of skill\"\"\"\n",
    "        # TODO: Print the description of the sniper's experience level using the experience_levels dict.\n",
    "        print(...)            \n",
    "        \n",
    "    def get_gun(self, name):\n",
    "        \"\"\"\n",
    "        Acquire a gun from the armoury if available and affordable.\n",
    "        \n",
    "        Args:\n",
    "            name (str): The name of the gun to be acquired.\n",
    "\n",
    "        Returns:\n",
    "            str: A message indicating whether the gun was acquired, or reasons for failure.\n",
    "        \"\"\"\n",
    "        # TODO: implement this method\n",
    "        \n",
    "    def change_gun(self, name):\n",
    "        \"\"\"\n",
    "        Change the current weapon to a different available gun.\n",
    "        \n",
    "        Args:\n",
    "            name (str): The name of the gun to be changed to. \n",
    "        \n",
    "        Returns:\n",
    "            str: A message indicating whether the weapon was changed or other instructions.\n",
    "        \"\"\"\n",
    "        if name in self.available_guns:\n",
    "            self.weapon = self.available_guns[name]\n",
    "            print(f\"Weapon changed to {name}\")\n",
    "        else:\n",
    "            print(f\"You do not have {name}\")\n",
    "            response = input(\"Would you like to get it from the armoury ['Yes'/'No']: \").lower()\n",
    "            if response == 'yes':\n",
    "                self.get_gun(name)\n",
    "                self.change_gun(name)       # Apply recursion (change_gun calls itself when a particular gun is acquired)\n",
    "    \n",
    "        \n",
    "    def repair_weapon(self):\n",
    "        \"\"\"\n",
    "        Repair the Sniper's current weapon if affordable.\n",
    "        \n",
    "        Returns:\n",
    "            None\n",
    "        \"\"\"\n",
    "        # TODO: implement this method\n",
    "        if self.token >= self.weapon.repair_token:\n",
    "            ...\n",
    "        else:\n",
    "            print('You do not have enough token')\n",
    "            print(f'You only have {self.token} tokens available')\n",
    "    \n",
    "    def engage_target(self, target_distance):\n",
    "        \"\"\"\n",
    "        Engage a target at the specified distance using the Sniper's weapon.\n",
    "\n",
    "        Args:\n",
    "            target_distance (int): The distance to the target in meters.\n",
    "\n",
    "        Returns:\n",
    "            str: Outcome of the shot and associated reward, or instructions to change gun.\n",
    "        \"\"\"\n",
    "        reward = dict(head_shot=50, fatal_shot=30, target_missed=0)\n",
    "        if self.weapon.eff_range >= target_distance:\n",
    "            # TODO: complete this code\n",
    "            outcome = ...     # Either 'head_shot', 'fatal_shot', or 'target_missed'\n",
    "            print(f\"Target engaged at {target_distance} meters.\")\n",
    "            print(f'Result: {outcome}. Reward:{reward.get(outcome)}')\n",
    "            # Add the reward of the shot to Sniper's total token depending on the outcome \n",
    "            ...\n",
    "            return outcome\n",
    "      \n",
    "        print(f\"Couldn't reach the target at {target_distance} meters. Out of effective range.\")\n",
    "        res = input(\"Would you like to change gun ['Yes'/'No']: \").lower()           \n",
    "        if res == 'yes':\n",
    "            print(\"Available guns: \", *self.available_guns, sep=',')\n",
    "            name = input(\"Input name: \").lower()\n",
    "            self.change_gun(name)\n",
    "            # After a gun has been changed, we re-engage the target by using recursion method \n",
    "            # i.e engage_target calls itself again\n",
    "            # TODO: fill in this code\n",
    "            ...\n",
    "        else:\n",
    "            print('target_missed')\n",
    "    \n",
    "    def __repr__(self):\n",
    "        \"\"\"Return a string representation of the Sniper object.\"\"\"\n",
    "        # TODO: fill in the missing values/code\n",
    "        str1 = f\"Sniper \\n{6*'='} \\nName: {self.name.title()} \\nRank: {...}\\n\" \n",
    "        str2 = f\"Serial Number: {...} \\nUnit: {...} \\nWeapon: {self.weapon}\"\n",
    "        return str1 + ...\n"
   ]
  },
  {
   "cell_type": "code",
   "execution_count": null,
   "id": "43968b05",
   "metadata": {},
   "outputs": [],
   "source": [
    "remington_700_sps_tactical = SniperRifle(name='remington_700',\n",
    "                                         price=0,\n",
    "                                         repair_token=40,\n",
    "                                         accuracy=65,\n",
    "                                         eff_range=700,\n",
    "                                         muzzle_velocity=850,\n",
    "                                         caliber=7.82,\n",
    "                                         suppressor_power=70\n",
    "                                        )"
   ]
  },
  {
   "cell_type": "code",
   "execution_count": null,
   "id": "6a9ae30d",
   "metadata": {},
   "outputs": [],
   "source": [
    "sniper1 = Sniper('jack bauer', 'lieutenant', '12345', weapon=remington_700_sps_tactical, unit='Alpha Company')"
   ]
  },
  {
   "cell_type": "code",
   "execution_count": null,
   "id": "b5bdb033",
   "metadata": {},
   "outputs": [],
   "source": [
    "sniper1"
   ]
  },
  {
   "cell_type": "code",
   "execution_count": null,
   "id": "c88f9478",
   "metadata": {
    "scrolled": true
   },
   "outputs": [],
   "source": [
    "print(f'gun_accuracy: {sniper1.weapon.accuracy}, gun_effectiveness: {sniper1.weapon.effectiveness()}')\n",
    "print(f'{sniper1.name.title()} total token:{sniper1.token}')"
   ]
  },
  {
   "cell_type": "code",
   "execution_count": null,
   "id": "827d374c",
   "metadata": {},
   "outputs": [],
   "source": [
    "sniper1.engage_target(700)"
   ]
  },
  {
   "cell_type": "code",
   "execution_count": null,
   "id": "46cdec3c",
   "metadata": {
    "scrolled": true
   },
   "outputs": [],
   "source": [
    "print(f'gun_accuracy: {sniper1.weapon.accuracy}, gun_effectiveness: {sniper1.weapon.effectiveness()}')\n",
    "print(f'{sniper1.name.title()} total token: {sniper1.token}')"
   ]
  },
  {
   "cell_type": "markdown",
   "id": "cf586b8e",
   "metadata": {},
   "source": [
    "###### As you repeatedly run the above code, the guns accuracy and effectiveness decreases until finally the gun effevtiveness turns to zero. With enough repair token, we can bring the gun back to its original effectiveness and accuracy."
   ]
  },
  {
   "cell_type": "code",
   "execution_count": null,
   "id": "7f0ab961",
   "metadata": {
    "scrolled": true
   },
   "outputs": [],
   "source": [
    "sniper1.repair_weapon()"
   ]
  },
  {
   "cell_type": "code",
   "execution_count": null,
   "id": "e0ec7c2c",
   "metadata": {
    "scrolled": true
   },
   "outputs": [],
   "source": [
    "sniper1.weapon.accuracy, sniper1.weapon.effectiveness()"
   ]
  },
  {
   "cell_type": "code",
   "execution_count": null,
   "id": "c3469064",
   "metadata": {
    "scrolled": true
   },
   "outputs": [],
   "source": [
    "sniper1.weapon.eff_range      "
   ]
  },
  {
   "cell_type": "markdown",
   "id": "d65a6d8d",
   "metadata": {},
   "source": [
    "###### Targets outside a gun effective range  can't be reach."
   ]
  },
  {
   "cell_type": "code",
   "execution_count": null,
   "id": "a08689fd",
   "metadata": {},
   "outputs": [],
   "source": [
    "sniper1.engage_target(1100)"
   ]
  },
  {
   "cell_type": "markdown",
   "id": "63338b21",
   "metadata": {},
   "source": [
    "###### You can decide to change gun/weapon or might need to visit the armoury to get new guns not available in your arsenal with the appropriate price token."
   ]
  },
  {
   "cell_type": "code",
   "execution_count": null,
   "id": "ce2236ff",
   "metadata": {
    "scrolled": true
   },
   "outputs": [],
   "source": [
    "sniper1.change_gun('m24')"
   ]
  },
  {
   "cell_type": "markdown",
   "id": "9160193c",
   "metadata": {},
   "source": [
    "###### You should go on a side missions to engage more targets with less range to get a lot of token to buy a gun with longer effective range:"
   ]
  },
  {
   "cell_type": "code",
   "execution_count": null,
   "id": "afc07454",
   "metadata": {
    "scrolled": true
   },
   "outputs": [],
   "source": [
    "sniper1.engage_target(650)     # Run this code and the repair code when the gun is damaged until you have enough token."
   ]
  },
  {
   "cell_type": "code",
   "execution_count": null,
   "id": "7ddb8ef6",
   "metadata": {
    "scrolled": true
   },
   "outputs": [],
   "source": [
    "sniper1.repair_weapon()"
   ]
  },
  {
   "cell_type": "markdown",
   "id": "d57ac993",
   "metadata": {},
   "source": [
    "###### Once you have enough token you can buy a new gun from the armoury and go back to the original missions to engage the farther targets"
   ]
  },
  {
   "cell_type": "code",
   "execution_count": null,
   "id": "11f5c481",
   "metadata": {
    "scrolled": true
   },
   "outputs": [],
   "source": [
    "sniper1.change_gun('m24')"
   ]
  },
  {
   "cell_type": "code",
   "execution_count": null,
   "id": "faaf37f4",
   "metadata": {},
   "outputs": [],
   "source": [
    "sniper1.engage_target(1100)           # Revisits the previous target"
   ]
  },
  {
   "cell_type": "code",
   "execution_count": null,
   "id": "e869a5be",
   "metadata": {},
   "outputs": [],
   "source": [
    "print(f'gun_accuracy: {sniper1.weapon.accuracy}, gun_effectiveness: {sniper1.weapon.effectiveness()}')\n",
    "print(f'{sniper1.name} total token:{sniper1.token}')"
   ]
  },
  {
   "cell_type": "markdown",
   "id": "3a7ce675",
   "metadata": {},
   "source": [
    "We'll define another class called the `Skills` class which represents the various skill attributes of a sniper in a military unit. Snipers are highly trained soldiers with specialized abilities, and this class captures those skills in a structured manner. The class is designed to store information about a sniper's confirmed kills, accuracy, missions participated in, combat experience, decision-making ability, adaptability, communication skills, and survival and evasion skills.\n",
    "\n",
    "The class also includes a method named `calculate_skills_score`, which calculates an overall skill score based on weighted averages of the attributes. This score represents the sniper's proficiency level, taking into account their performance across different skill categories. The `get_experience` method then translates the calculated skill score into an experience level, categorizing the sniper as \"master,\" \"expert,\" \"skilled,\" or \"novice\" based on specific skill score ranges."
   ]
  },
  {
   "cell_type": "code",
   "execution_count": null,
   "id": "811840c0",
   "metadata": {},
   "outputs": [],
   "source": [
    "class Skills:\n",
    "    \"\"\"\n",
    "    Represents the skill attributes of a sniper.\n",
    "\n",
    "    Args:\n",
    "        confirmed_kills (int): Number of confirmed kills by the sniper.\n",
    "        accuracy (float): Accuracy level of the sniper (0-100).\n",
    "        missions (int): Number of missions the sniper has participated in.\n",
    "        combat_experience (float): Combat experience level of the sniper (0-100).\n",
    "        decision_making (float): Decision-making ability of the sniper (0-100).\n",
    "        adaptability (float): Adaptability level of the sniper (0-100).\n",
    "        communication (float): Communication skills of the sniper (0-100).\n",
    "        survival_evasion (float): Survival and evasion skills of the sniper (0-100).\n",
    "    \"\"\"\n",
    "    def __init__(self, confirmed_kills, accuracy, missions, combat_experience, decision_making, adaptability, communication, survival_evasion):\n",
    "        \"\"\"\n",
    "        Initialize a Skills object with specified attributes.\n",
    "        \"\"\"\n",
    "        self.confirmed_kills = ...\n",
    "        self.accuracy = ...\n",
    "        self.missions = ...\n",
    "        self.combat_experience = ...\n",
    "        self.decision_making = ...\n",
    "        self.adaptability = ...\n",
    "        self.communication = ...\n",
    "        self.survival_evasion = ...\n",
    "        \n",
    "    def normalize(self, value, min_value=0, max_value=100):\n",
    "        \"\"\"\n",
    "        Normalize a given value within a specified range.\n",
    "\n",
    "        Args:\n",
    "            value (float): The value to be normalized.\n",
    "            min_value (float, optional): Minimum value of the range. Default is 0.\n",
    "            max_value (float, optional): Maximum value of the range. Default is 100.\n",
    "\n",
    "        Returns:\n",
    "            float: The normalized value within the range [min_value, max_value].\n",
    "        \"\"\"\n",
    "        return ...\n",
    "        \n",
    "    def calculate_skills_score(self):\n",
    "        \"\"\"\n",
    "        Calculate the total weighted average skill score of a Sniper based on defined attributes.\n",
    "\n",
    "        Returns:\n",
    "            float: The calculated skill score indicating the Sniper's proficiency level.\n",
    "        \"\"\"\n",
    "        # Define the weights(sums to 1) for each attribute (relative importance)\n",
    "        weight_confirmed_kills = 0.25\n",
    "        weight_accuracy = 0.15\n",
    "        weight_missions = 0.15\n",
    "        weight_combat_experience = 0.12\n",
    "        weight_decision_making = 0.1\n",
    "        weight_adaptability = 0.08\n",
    "        weight_communication = 0.05\n",
    "        weight_survival_evasion = 0.1\n",
    "        \n",
    "        # The min and max values of each parameters are 0 and 100 respectively except \n",
    "        # for confirmed_kills which max is assumed to  be 1000.\n",
    "        \n",
    "        # TODO: Calculate the skill score using the weighted average formula\n",
    "        skill_score = (\n",
    "                        weight_confirmed_kills * self.normalize(self.confirmed_kills, 0, 1000) +\n",
    "                        # ... (similarly for other attributes)\n",
    "                    )\n",
    "        return skill_score\n",
    "        \n",
    "    def get_experience(self):\n",
    "        \"\"\"\n",
    "        Determine the Sniper's experience level based on their skill score.\n",
    "\n",
    "        Returns:\n",
    "            str: A string indicating the Sniper's experience level (master, expert, skilled, novice).\n",
    "        \"\"\"\n",
    "        skill_score = self.calculate_skills_score()\n",
    "        if skill_score >= 0.85:\n",
    "            return \"master \"\n",
    "        elif skill_score >= 0.65:\n",
    "            return \"expert \"\n",
    "        elif skill_score >= 0.45:\n",
    "            return \"skilled \"\n",
    "        else:\n",
    "            return \"novice\"\n",
    "        \n",
    "    def __repr__(self):\n",
    "        str1 = f\"confirmed_kills: {self.confirmed_kills} \\naccuracy: {self.accuracy} \\nmissions: {self.missions}\\n\"\n",
    "        str2 = f\"combat_experience: {self.combat_experience} \\ndecision_making: {self.decision_making} \\nadaptability: {self.adaptability}\\n\"\n",
    "        str3 = f\"communication: {self.communication} \\nsurvival_evasion: {self.survival_evasion}\"\n",
    "        return ..."
   ]
  },
  {
   "cell_type": "code",
   "execution_count": null,
   "id": "ccf0ca2b",
   "metadata": {},
   "outputs": [],
   "source": [
    "sniper_skills = Skills(confirmed_kills=0,\n",
    "                     accuracy=50,\n",
    "                     missions=0,\n",
    "                     combat_experience=30,\n",
    "                     decision_making=40,\n",
    "                     adaptability=65,\n",
    "                     communication=75,\n",
    "                     survival_evasion=60\n",
    ")"
   ]
  },
  {
   "cell_type": "code",
   "execution_count": null,
   "id": "cc06f7db",
   "metadata": {
    "scrolled": true
   },
   "outputs": [],
   "source": [
    "sniper_skills.calculate_skills_score()"
   ]
  },
  {
   "cell_type": "code",
   "execution_count": null,
   "id": "1044f788",
   "metadata": {},
   "outputs": [],
   "source": [
    "sniper_skills.get_experience()"
   ]
  },
  {
   "cell_type": "code",
   "execution_count": null,
   "id": "69ab73be",
   "metadata": {},
   "outputs": [],
   "source": [
    "sniper_skills"
   ]
  },
  {
   "cell_type": "markdown",
   "id": "0c7c8750",
   "metadata": {},
   "source": [
    "Factors or forces such as wind, gravity, and other environmental conditions can significantly affect the accuracy of a shot and the ability to hit a target. These factors are often referred to as __\"external ballistics\"__ and should be accounted for by a Sniper to improve the effectiveness of a shot.\n",
    "\n",
    "Let's revise the Sniper class once more, this time introducing a method for calculating external ballistics. The idea is to consider the effect of various factors on the sniper's performance, while also factoring in their skill/experience to mitigate these influences. The calculated skill score will be subtracted from the combined effect of these factors, symbolizing how a sniper's experience serves to minimize their impact.\n",
    "\n",
    "Finally, we should enhance the `engage_target()` method to incorporate a check for potential gun damage that might occur during a mission, such as gun jams. In such cases, the `change_gun()` method should be utilized within this context to provide a seamless solution. "
   ]
  },
  {
   "cell_type": "code",
   "execution_count": null,
   "id": "21c6a00d",
   "metadata": {},
   "outputs": [],
   "source": [
    "class Sniper(Soldier):\n",
    "    \"\"\"\n",
    "    Represents a sniper within a military unit.\n",
    "\n",
    "    Args:\n",
    "        name (str): Name of the sniper.\n",
    "        rank (str): Rank of the sniper.\n",
    "        serial_no (str): Serial number of the sniper.\n",
    "        weapon (SniperRifle): The initial weapon carried by the sniper.\n",
    "        unit (str, optional): Assigned unit of the sniper. Default is 'unassigned'.\n",
    "        specialization (str, optional): Specialization of the sniper. Default is 'sniper'.\n",
    "        skills (Skills or str, optional): Skills of the sniper or their experience level. Default is 'novice'.\n",
    "\n",
    "    Attributes:\n",
    "        specialization (str): Specialization of the sniper.\n",
    "        skills (Skills or str): Skills or experience level of the sniper.\n",
    "        token (int): Total tokens earned by the sniper.\n",
    "        available_guns (dict): Dictionary of acquired guns, starting with the initial weapon.\n",
    "\n",
    "    \"\"\"\n",
    "    def __init__(self, name, rank, serial_no, weapon, unit='unassigned', specialization='sniper', skills='novice'):\n",
    "        \"\"\"\n",
    "        Initialize a Sniper object with specified attributes.\n",
    "\n",
    "        (Inherits and initializes attributes from the Soldier class.)\n",
    "        \"\"\"\n",
    "        # TODO: Initialize/acquire parents attributes and methods\n",
    "        ...\n",
    "        \n",
    "        # TODO: Initialize other attributes specific to child\n",
    "        self.specialization = ...\n",
    "        self.skill = ...\n",
    "        self.token = 0\n",
    "        self.available_guns = {weapon.name:weapon}       # Store all acquired weapons/guns, starting with the current gun     \n",
    "        \n",
    "    def describe(self):\n",
    "        \"\"\"Return the description of a sniper base on the level of skill\"\"\"\n",
    "        # TODO: Print the description of the sniper's experience level using the experience_levels dict.\n",
    "        print(...)            \n",
    "        \n",
    "    def get_gun(self, name):\n",
    "        \"\"\"\n",
    "        Acquire a gun from the armoury if available and affordable.\n",
    "        \n",
    "        Args:\n",
    "            name (str): The name of the gun to be acquired.\n",
    "\n",
    "        Returns:\n",
    "            str: A message indicating whether the gun was acquired, or reasons for failure.\n",
    "        \"\"\"\n",
    "        # TODO: implement this method\n",
    "        \n",
    "    def change_gun(self, name):\n",
    "        \"\"\"\n",
    "        Change the current weapon to a different available gun.\n",
    "        \n",
    "        Args:\n",
    "            name (str): The name of the gun to be changed to. \n",
    "        \n",
    "        Returns:\n",
    "            str: A message indicating whether the weapon was changed or other instructions.\n",
    "        \"\"\"\n",
    "        if name in self.available_guns:\n",
    "            self.weapon = self.available_guns[name]\n",
    "            print(f\"Weapon changed to {name}\")\n",
    "        else:\n",
    "            print(f\"You do not have {name}\")\n",
    "            response = input(\"Would you like to get it from the armoury ['Yes'/'No']: \").lower()\n",
    "            if response == 'yes':\n",
    "                self.get_gun(name)\n",
    "                self.change_gun(name)       # Apply recursion (change_gun calls itself to change to the gun just acquired)\n",
    "    \n",
    "        \n",
    "    def repair_weapon(self):\n",
    "        \"\"\"\n",
    "        Repair the Sniper's current weapon if affordable.\n",
    "        \n",
    "        Returns:\n",
    "            None\n",
    "        \"\"\"\n",
    "        # TODO: complete the code\n",
    "        if self.token >= self.weapon.repair_token:\n",
    "            ...\n",
    "        else:\n",
    "            print('You do not have enough token')\n",
    "            print(f'You only have {self.token} tokens available')\n",
    "    \n",
    "    def calculate_external_ballistics(self, wind_factor=0.1, distance_factor=0.08, gravity_factor=0.035, **other_factors):\n",
    "        \"\"\"\n",
    "        Calculate the external ballistics factor based on specified factors.\n",
    "\n",
    "        Args:\n",
    "            wind_factor (float, optional): Weight for wind-related factors. Default is 0.1.\n",
    "            distance_factor (float, optional): Weight for distance-related factors. Default is 0.08.\n",
    "            gravity_factor (float, optional): Weight for gravity-related factors. Default is 0.035.\n",
    "            other_factors (float, optional): Weight for other external factors. Default is 0.025.\n",
    "\n",
    "        Returns:\n",
    "            float: The calculated external ballistics factor.\n",
    "        \"\"\"\n",
    "        external_ballistics = # TODO: Sum all the factors together\n",
    "        return external_ballistics\n",
    "    \n",
    "    def engage_target(self, target_distance, **factors):\n",
    "        \"\"\"\n",
    "        Engage a target at the specified distance using the Sniper's weapon, considering external ballistics and skill factors.\n",
    "\n",
    "        Args:\n",
    "            target_distance (int): The distance to the target in meters.\n",
    "            **factors (dict): External factors affecting the shot, including wind, gravity, distance, and others.\n",
    "\n",
    "        Returns:\n",
    "            str: Outcome of the shot, associated reward, or instructions to change gun.\n",
    "        \"\"\" \n",
    "        external_ballistics = self.calculate_external_ballistics(**factors)\n",
    "        # if external_ballistics is greater than 1, use the default values and ignore the values of the factors that is passed.\n",
    "        if external_ballistics > 1:\n",
    "            print(\"Sum of external ballistic factors is greater than 1. Using default values\")\n",
    "            external_ballistics = # TODO: calculates the default values       \n",
    "        \n",
    "        # The skills of a Sniper will mitigate the effect of external_ballistics and improve the shot\n",
    "        skills_score = # TODO: calculates the skills_score\n",
    "        adjusted_balistics = external_ballistics - skills_score\n",
    "        \n",
    "        reward = dict(head_shot=50, fatal_shot=30, target_missed=0)    \n",
    "        if self.weapon.effectiveness() == 0:\n",
    "            print(\"Gun totally damage. Repair or change gun\" )\n",
    "            response = input(\"Enter 1 for repair or 2 to change gun or hit the Enter key to continue: \")\n",
    "            \n",
    "            if response == '1':\n",
    "                # TODO: repair gun\n",
    "            elif response == '2':\n",
    "                name = input(\"Input name: \").lower()\n",
    "                # TODO: change gun\n",
    "                \n",
    "        if self.weapon.eff_range >= target_distance:\n",
    "            outcome = self.weapon.shoot(adjusted_balistics)\n",
    "            print(f\"Target engaged at {target_distance} meters.\")\n",
    "            print(f'Result: {outcome}. Reward:{reward.get(outcome)}')\n",
    "            # TODO: Add the reward of the shot to the total token depending on the outcome of shot\n",
    "            ...\n",
    "            # TODO: Increase confirmed_kills by 1 for a successful shot\n",
    "            ...\n",
    "            return outcome\n",
    "        \n",
    "        print(f\"Couldn't reach the target at {target_distance} meters. Out of effective range.\")\n",
    "        response = input(\"Would you like to change gun ['Yes'/'No']: \").lower()           \n",
    "        if response == 'yes':\n",
    "            print(\"Available guns: \", *self.available_guns, sep=',')\n",
    "            name = input(\"Input name: \").lower()\n",
    "            self.change_gun(name)\n",
    "            # After a gun has been changed, re-engage the target by using recursion method \n",
    "            # i.e engage_target calls itself again\n",
    "            # TODO: fill in this code\n",
    "            ...\n",
    "        else:\n",
    "            print('target_missed')\n",
    "    \n",
    "    def __repr__(self):\n",
    "        \"\"\"Return a string representation of the Sniper object.\"\"\"\n",
    "        # TODO: fill in the missing values/code\n",
    "        str1 = f\"Sniper \\n{6*'='} \\nName: {self.name.title()} \\nRank: {...}\\n\" \n",
    "        str2 = f\"Serial Number: {...} \\nUnit: {...} \\nWeapon: {self.weapon}\"\n",
    "        return ...\n",
    "\n",
    "        "
   ]
  },
  {
   "cell_type": "code",
   "execution_count": null,
   "id": "9dcb1fcb",
   "metadata": {},
   "outputs": [],
   "source": [
    "class SniperRifle:\n",
    "    \"\"\"Represents a sniper rifle used by snipers within a military unit.\"\"\"\n",
    "    \n",
    "    def __init__(self, name, price, repair_token, accuracy, eff_range, muzzle_velocity, caliber, suppressor_power):\n",
    "        \"\"\"\n",
    "        Initialize a SniperRifle object with specified attributes.\n",
    "\n",
    "        Args:\n",
    "            name (str): Name of the sniper rifle.\n",
    "            price (int): Price of the sniper rifle.\n",
    "            repair_token (int): Token required for repairing the rifle.\n",
    "            accuracy (int): Accuracy level of the rifle (0-100).\n",
    "            eff_range (int): Effective range of the rifle in meters (600-2300).\n",
    "            muzzle_velocity (int): Muzzle velocity of the rifle in meters/second (762-950).\n",
    "            caliber (float): Caliber of the rifle (6.5-14.5mm).\n",
    "            suppressor_power (int): Suppressor power of the rifle (0-100).\n",
    "        \"\"\"\n",
    "        self.init_values = dict(accuracy=accuracy, muzzle_velocity=muzzle_velocity, suppressor_power=suppressor_power)\n",
    "        # TODO: fill in the missing code\n",
    "        self.name = ...\n",
    "        self.price = ...\n",
    "        self.repair_token = ...\n",
    "        self.accuracy = ...           \n",
    "        self.eff_range = ...              \n",
    "        self.muzzle_velocity = ...       \n",
    "        self.caliber = ...     \n",
    "        self.suppressor_power = ...   \n",
    "    \n",
    "    def repair(self):\n",
    "        \"\"\"Restore some of the parameters of the gun to their initial values\"\"\"\n",
    "        # TODO: Reset the accuracy, muzzle_velocity, and suppressor_power to their initial values\n",
    "        self.accuracy = self.init_values['accuracy']\n",
    "        self.muzzle_velocity = ...\n",
    "        self.suppressor_power = ...\n",
    "        \n",
    "    def normalize(self, value, min_value, max_value):\n",
    "        \"\"\"\n",
    "        Normalize a value from its original range [min_value, max_value] \n",
    "        into a normalized range between 0 and 1.\n",
    "        \"\"\"\n",
    "        # TODO: Implement the normalization formula\n",
    "        return ...\n",
    "        \n",
    "    def effectiveness(self):\n",
    "        \"\"\"\n",
    "        Calculates the effectiveness of a gun using a weighted average model.\n",
    "\n",
    "        Returns:\n",
    "            float: The calculated effectiveness value.\n",
    "        \"\"\"\n",
    "        # Define weights for each parameter(must sum up to 1)\n",
    "        weight_accuracy = 0.4\n",
    "        weight_muzzle_velocity = 0.3\n",
    "        weight_caliber = ...\n",
    "        weight_suppressor_power = ...\n",
    "        \n",
    "        # TODO: Set the minimum and maximum values for each parameter\n",
    "        # Define minimum values for each parameter\n",
    "        min_accuracy = 0\n",
    "        min_muzzle_velocity = ...\n",
    "        min_caliber =...\n",
    "        min_suppressor_power = ...\n",
    "              \n",
    "        # Define maximum values for each parameter\n",
    "        max_accuracy = 100\n",
    "        max_muzzle_velocity = ...\n",
    "        max_caliber = 14.5\n",
    "        max_suppressor_power = ...\n",
    "        \n",
    "        # Calculate the effectiveness based on the weighted average of the normalized values\n",
    "        # TODO: Implement the effectiveness calculation\n",
    "        effectiveness = (weight_accuracy * self.normalize(self.accuracy, min_accuracy, max_accuracy) + .... + ....)\n",
    "        return max(effectiveness, 0)  # Ensure effectiveness doesn't go below 0\n",
    "    \n",
    "    def shoot(self, adjusted_balistics):\n",
    "        \"\"\"\n",
    "        Simulate shooting with the sniper rifle based on adjusted ballistics and weapon effectiveness.\n",
    "\n",
    "        Args:\n",
    "            adjusted_balistics (float): Adjusted external ballistics factor after considering skill effects.\n",
    "\n",
    "        Returns:\n",
    "            str: Outcome of the shot (head_shot, fatal_shot, target_missed) or target_missed if gun is damaged.\n",
    "        \"\"\"\n",
    "        from numpy import random\n",
    "        eff = self.effectiveness()\n",
    "        if eff == 0:\n",
    "            print(\"Gun totally damage.\")\n",
    "            return 'target_missed'\n",
    "        \n",
    "        adjusted_eff = eff - adjusted_balistics    # adjusted_eff = efficiency of gun(eff)- (external_ballistics - skills_score)\n",
    "        adjusted_eff = max(adjusted_eff, 0)        # Ensure adjusted_eff doesn't go below 0 \n",
    "        if adjusted_eff > 0.30: \n",
    "            # Probability distribution for outcomes: head_shot, fatal_shot, target_missed\n",
    "            outcome = random.choice(['head_shot', 'fatal_shot', 'target_missed'], \n",
    "                                    p=[adjusted_eff, (1-adjusted_eff)*0.65, (1-adjusted_eff)*0.35])\n",
    "        else:\n",
    "            # Probability distribution for outcomes: head_shot, fatal_shot, target_missed\n",
    "            outcome = random.choice(['head_shot', 'fatal_shot', 'target_missed'], \n",
    "                                    p=[adjusted_eff, (1-adjusted_eff)*0.55, (1-adjusted_eff)*0.45])    \n",
    "        \n",
    "        # Every shot will incure a mechanical damage to certain parts of the gun \n",
    "        damage_ratios = random.uniform(low=0.01, high=0.08, size=3)   # sample btw 1 to 7%\n",
    "        # TODO: Update the gun's accuracy, muzzle_velocity, and suppressor_power based on damage_ratios\n",
    "        self.accuracy = ...\n",
    "        self.muzzle_velocity = ...\n",
    "        self.suppressor_power = ...\n",
    "        return outcome\n",
    "    \n",
    "    def __repr__(self):\n",
    "        return self.name.title()"
   ]
  },
  {
   "cell_type": "code",
   "execution_count": null,
   "id": "febbe79f",
   "metadata": {},
   "outputs": [],
   "source": [
    "# Creates different instances of weapon\n",
    "remington_700_sps_tactical = SniperRifle(name='remington_700', price=0,repair_token=40, accuracy=65, eff_range=700, muzzle_velocity=850,caliber=7.82, suppressor_power=70)\n",
    "m24_rifle = SniperRifle(\"m24\", price=500, repair_token=80, accuracy=83, eff_range=1200, muzzle_velocity=850, caliber=7.82, suppressor_power=85)\n",
    "arctic_warfare_rifle = SniperRifle(\"artic\", price=600, repair_token=100, accuracy=88, eff_range=1800, muzzle_velocity=890, caliber=8.58, suppressor_power=85)\n",
    "m107_rifle = SniperRifle(\"barret_m107\", price=750, repair_token=110, accuracy=95, eff_range=2000, muzzle_velocity=920, caliber=12.7, suppressor_power=90)\n",
    "m110_sass_rifle = SniperRifle(\"m110_sass\", price=850, repair_token=150, accuracy=98, eff_range=2300, muzzle_velocity=940, caliber=14.5, suppressor_power=100)\n",
    "\n",
    "# Save weapons to armoury\n",
    "armoury = dict(remington_700=remington_700_sps_tactical, m24=m24_rifle, artic=arctic_warfare_rifle,\n",
    "               barret_m107=m107_rifle, m110_sass=m110_sass_rifle)"
   ]
  },
  {
   "cell_type": "code",
   "execution_count": null,
   "id": "7950d802",
   "metadata": {},
   "outputs": [],
   "source": [
    "sniper1 = Sniper('jack bauer', 'lieutenant', '12345', remington_700_sps_tactical, unit='alpha company', skills=sniper_skills)"
   ]
  },
  {
   "cell_type": "code",
   "execution_count": null,
   "id": "6537f293",
   "metadata": {},
   "outputs": [],
   "source": [
    "sniper1.describe()"
   ]
  },
  {
   "cell_type": "code",
   "execution_count": null,
   "id": "bb3ec6de",
   "metadata": {
    "scrolled": true
   },
   "outputs": [],
   "source": [
    "sniper1.weapon.effectiveness()"
   ]
  },
  {
   "cell_type": "code",
   "execution_count": null,
   "id": "41ae35e5",
   "metadata": {},
   "outputs": [],
   "source": [
    "sniper1.skills.calculate_skills_score()"
   ]
  },
  {
   "cell_type": "code",
   "execution_count": null,
   "id": "c81c2791",
   "metadata": {},
   "outputs": [],
   "source": [
    "sniper1.calculate_external_ballistics(wind_factor=0.1, distance_factor=0.15, gravity=0.2, drag=0.1)"
   ]
  },
  {
   "cell_type": "code",
   "execution_count": null,
   "id": "dee04424",
   "metadata": {},
   "outputs": [],
   "source": [
    "sniper1.engage_target(target_distance=700, \n",
    "                      wind_factor=.1, \n",
    "                      distance_factor=.15,\n",
    "                      gravity=.2,\n",
    "                      drag=.17, \n",
    "                      coriolis_effect=.0075)"
   ]
  },
  {
   "cell_type": "code",
   "execution_count": null,
   "id": "ec8be423",
   "metadata": {},
   "outputs": [],
   "source": [
    "sniper1.engage_target(target_distance=700, wind_factor=0.1, distance_factor=0.15, drag=.8)"
   ]
  },
  {
   "cell_type": "code",
   "execution_count": null,
   "id": "a953fc90",
   "metadata": {},
   "outputs": [],
   "source": [
    "sniper1.skills.confirmed_kills"
   ]
  },
  {
   "cell_type": "markdown",
   "id": "a2203274",
   "metadata": {},
   "source": [
    "Now that we have our `Sniper` and `SniperRiffle` class, let's proceed to define the `Mission` class that define many missions a sniper can go to: Once again we need to clarify some things needed for this class:\n",
    "\n",
    "1. We'll use the `randrange` function from Python's random module. The randrange takes three argument: `start`, `stop` and `step` which can be pass as a sequence using the star expression to unpack the values.\n",
    "\n",
    "2. The time module has a `sleep` function that pauses the program for the duration specified in seconds. This will be useful for introducing delays in the simulation to create a more realistic experience.\n",
    "\n",
    "3. Also the time module has a `ctime` function that returns the current system time in human readable format. This will be useful to generate the date and time a mission was executed.\n",
    "\n",
    "4. Upon mission completion, the sniper's skill set should undergo an enhancement, reflecting the experience gained during the mission. The `missions` attribute within the `Skill` class should be augmented by 1 after each mission, effectively representing the count of missions the sniper has participated in. This provides a quantifiable measure of the sniper's mission experience. Additionally, the remaining skills should see improvements based on a predetermined development factor, highlighting the sniper's progression in various aspects."
   ]
  },
  {
   "cell_type": "code",
   "execution_count": null,
   "id": "629c2930",
   "metadata": {},
   "outputs": [],
   "source": [
    "import random as r"
   ]
  },
  {
   "cell_type": "code",
   "execution_count": null,
   "id": "89886917",
   "metadata": {
    "scrolled": true
   },
   "outputs": [],
   "source": [
    "r.randrange(*(650, 1500, 10))"
   ]
  },
  {
   "cell_type": "code",
   "execution_count": null,
   "id": "588d4c06",
   "metadata": {},
   "outputs": [],
   "source": [
    "import time\n",
    "print('start')\n",
    "time.sleep(5)\n",
    "print('stop')"
   ]
  },
  {
   "cell_type": "code",
   "execution_count": null,
   "id": "250f638d",
   "metadata": {},
   "outputs": [],
   "source": [
    "time.ctime()"
   ]
  },
  {
   "cell_type": "code",
   "execution_count": null,
   "id": "989f6f3e",
   "metadata": {},
   "outputs": [],
   "source": [
    "class Mission:\n",
    "    \"\"\"\n",
    "    Represents a mission assignment for a sniper in a military unit.\n",
    "    \"\"\"\n",
    "    \n",
    "    def __init__(self, name, location, objectives, targets, targets_estimated_range, asset, development_factor=0.08, **ext_ballistics_factors):\n",
    "        \"\"\"\n",
    "        Args:\n",
    "            name (str): Name of the mission.\n",
    "            location (str): Location where the mission takes place.\n",
    "            objectives (list): List of objectives to be achieved during the mission.\n",
    "            targets (list): List of target names for the mission.\n",
    "            targets_estimated_range (list): Sequence of estimated ranges to the targets in meters.\n",
    "            asset (str): The valuable asset or information associated with the mission.\n",
    "            ext_ballistics_factors (dict): Dictionary of weather-related factors affecting the mission.\n",
    "            development_factor (float): Development factor affecting mission difficulty.\n",
    "        \"\"\"\n",
    "        # TODO: Initialize the attributes of the Mission class\n",
    "        \n",
    "    def get_dist(self):\n",
    "        \"\"\"\n",
    "        Get a random target distance within the estimated range.\n",
    "\n",
    "        Returns:\n",
    "            int: Random target distance.\n",
    "        \"\"\"\n",
    "        from random import randrange\n",
    "        target_distance = # TODO: supply this code\n",
    "        return target_distance\n",
    "    \n",
    "    def improve_skills(self):\n",
    "        \"\"\"\n",
    "        Improve the skills and experience of a Sniper by the development_factor for a given mission\n",
    "        \n",
    "        Returns:\n",
    "            None\n",
    "        \"\"\"\n",
    "        self.asset.skills.missions += 1\n",
    "        # TODO: calculate the new values of other skills\n",
    "        # Multiply a skill value by the development_factor and add the result to the skill to get its new value\n",
    "    \n",
    "    def mission_summary(self, outcomes):\n",
    "        \"\"\"\n",
    "        Generate a summary of the mission's results and outcomes.\n",
    "\n",
    "        Args:\n",
    "            outcomes (list): List of outcomes for each target.\n",
    "\n",
    "        Returns:\n",
    "            str: A formatted summary of mission results.\n",
    "        \"\"\"\n",
    "        import time\n",
    "        targets = [f'target_{n}' for n in range(1, self.targets + 1)]    # will produce 'target_1', 'target_2', etc\n",
    "        results = dict(zip(targets, outcomes))\n",
    "        str1 = f\"Mission Name: {self.name} \\nDate and Time of the Mission: {time.ctime()} \\nLocation: {self.location}\\n\"\n",
    "        str2 = f\"Objective(s): {self.objectives} \\nAsset Name: \\n{self.asset.name.title()}\\n\"\n",
    "        str3 = f\"Results and Outcomes:{results}\"\n",
    "        return str1 + str2 + str3\n",
    "        \n",
    "    def execute(self):\n",
    "        \"\"\"\n",
    "        Execute the mission, engaging targets and providing mission outcomes.\n",
    "\n",
    "        Returns:\n",
    "            None\n",
    "        \"\"\"\n",
    "        import time\n",
    "        print(self.objectives)\n",
    "        outcomes = []\n",
    "        for target in range(self.targets):   # target will be 0, 1, ... (targets-1)\n",
    "            print(\"\\nPerforming a reconaissance to locate hostile\")\n",
    "            print(50*'=')\n",
    "            time.sleep(3)\n",
    "            target_distance = # TODO: get the distance\n",
    "            print(f\"Target found at {target_distance}\")\n",
    "            outcome = # TODO:  Engage the target by supplying the target_distance and ext_ballistics_factors           \n",
    "            outcomes.append(outcome)\n",
    "            \n",
    "            # Give extra token bonus if the previous and current outcome is 'headshot' \n",
    "            # but this is done only after the first loop to avoid error\n",
    "            if target > 0:\n",
    "                previous_outcome = outcomes[target - 1]                \n",
    "                # TODO: Implement the code to give extra 20 token for succesive headshot\n",
    "                ...\n",
    "                \n",
    "        self.improve_skills()\n",
    "        print('\\n', 'summary'.rjust(60))   # rjust justifies/offset the string to the right\n",
    "        print(120*'=')\n",
    "        print(self.mission_summary(outcomes)) \n",
    "        if 'target_missed' in outcomes:\n",
    "            print('Mission Failed! At least one target survived')\n",
    "            response = input(\"Try Again: Yes/No: \").lower()\n",
    "            if response == 'yes':\n",
    "                self.asset.skills.missions -= 1\n",
    "                print('\\nRestating Mission')\n",
    "                self.execute()\n",
    "        else:\n",
    "            print(\"Mission Succesful\")\n",
    "       \n",
    "    def __repr__(self):\n",
    "        \"\"\"\n",
    "        Return a string representation of the Mission object.\n",
    "\n",
    "        Returns:\n",
    "            str: A formatted string containing mission details including name, location, objectives, number of targets,\n",
    "            and estimated target range.\n",
    "        \"\"\"\n",
    "        str1 = f\"{self.name.title()}\\n {len(self.name)*'='} \\nLocation: {self.location} \\nBackground and Objectives: {25*'_'}\\n\"\n",
    "        str2 = f\"Number of Targets: {self.targets} \\n Targets Estimated Range: {self.targets_estimated_range}\"\n",
    "        return str1 + str2\n",
    "          "
   ]
  },
  {
   "cell_type": "markdown",
   "id": "9814facc",
   "metadata": {},
   "source": [
    "Let's bring all the components together to create a comprehensive simulation of a sniper's world. We'll start by defining a `SniperRifle` object that represents the weapon the sniper uses. Next, we'll create a `Skills` instance to represent the sniper's skillset, encompassing various attributes like confirmed kills, accuracy, combat experience, and more. With these foundational pieces in place, we'll create a `Sniper` object, giving them a name, rank, serial number, the previously defined rifle, and the skills they possess.\n",
    "\n",
    "With our `Sniper` ready, we'll move on to creating missions. Each mission will have its unique attributes, such as name, location, objectives, number of targets, estimated target ranges, and external ballistics factors. We'll associate a Sniper with a mission, providing them the opportunity to engage targets, taking into account external factors like wind, gravity, and distance.\n",
    "\n",
    "Once a mission is executed, the Sniper's skills will evolve based on the outcome, with attributes such as confirmed kills and experience gaining an increment. **The entire simulation showcases how classes interact** to create an experience that simulates a sniper's journey."
   ]
  },
  {
   "cell_type": "code",
   "execution_count": null,
   "id": "51229d30",
   "metadata": {},
   "outputs": [],
   "source": [
    "# Create a weapon\n",
    "remington_700_sps_tactical = SniperRifle(name='remington_700',\n",
    "                                         price=0,\n",
    "                                         repair_token=40,\n",
    "                                         accuracy=65,\n",
    "                                         eff_range=700,\n",
    "                                         muzzle_velocity=850,\n",
    "                                         caliber=7.82,\n",
    "                                         suppressor_power=70\n",
    "                                        )\n",
    "\n",
    "# Define the asset's skill set\n",
    "sniper_skills = Skills(confirmed_kills=0,\n",
    "                       accuracy=50,\n",
    "                       missions=0,\n",
    "                       combat_experience=30,\n",
    "                       decision_making=40,\n",
    "                       adaptability=65,\n",
    "                       communication=75,\n",
    "                       survival_evasion=60\n",
    "                      )\n",
    "\n",
    "# Define the asset\n",
    "jack = Sniper('jack bauer', 'lieutenant', '12345', \n",
    "              weapon=remington_700_sps_tactical,\n",
    "              unit='alpha company', \n",
    "              skills=sniper_skills)\n",
    "\n",
    "# Define a mission for the asset\n",
    "name = \"Operation Silent Shadows\"\n",
    "location = \"Kandahar, remote mountain region\"\n",
    "objectives = \"Eliminate four sniper targets guarding the enemy communications base to make way for the ground assault and distruction of the area\"\n",
    "silent_shadows = Mission(name=name, \n",
    "                         location=location, \n",
    "                         objectives=objectives, \n",
    "                         targets=4, \n",
    "                         targets_estimated_range=(400, 700),\n",
    "                         asset= jack\n",
    "                        )"
   ]
  },
  {
   "cell_type": "code",
   "execution_count": null,
   "id": "f32314ea",
   "metadata": {},
   "outputs": [],
   "source": [
    "silent_shadows.execute()"
   ]
  },
  {
   "cell_type": "code",
   "execution_count": null,
   "id": "92ac9f2b",
   "metadata": {
    "scrolled": true
   },
   "outputs": [],
   "source": [
    "silent_shadows.asset.skills.missions\n"
   ]
  },
  {
   "cell_type": "code",
   "execution_count": null,
   "id": "c5c9795a",
   "metadata": {},
   "outputs": [],
   "source": [
    "jack.skills.confirmed_kills"
   ]
  },
  {
   "cell_type": "code",
   "execution_count": null,
   "id": "0193aecf",
   "metadata": {},
   "outputs": [],
   "source": [
    "# Same as above\n",
    "silent_shadows.asset.skills.confirmed_kills"
   ]
  },
  {
   "cell_type": "code",
   "execution_count": null,
   "id": "59906336",
   "metadata": {},
   "outputs": [],
   "source": [
    "silent_shadows.asset.token "
   ]
  },
  {
   "cell_type": "code",
   "execution_count": null,
   "id": "1073a29f",
   "metadata": {
    "scrolled": true
   },
   "outputs": [],
   "source": [
    "# Same as above\n",
    "jack.token"
   ]
  },
  {
   "cell_type": "code",
   "execution_count": null,
   "id": "ed6f84ee",
   "metadata": {},
   "outputs": [],
   "source": [
    "jack.skills"
   ]
  },
  {
   "cell_type": "code",
   "execution_count": null,
   "id": "86f7ef81",
   "metadata": {},
   "outputs": [],
   "source": [
    "jack.calculate_external_ballistics(drag=0.11,\n",
    "                                   coriolis_effect=0.07,\n",
    "                                   magnus_effect=0.02)"
   ]
  },
  {
   "cell_type": "code",
   "execution_count": null,
   "id": "d2a5707d",
   "metadata": {
    "scrolled": true
   },
   "outputs": [],
   "source": [
    "silent_shadows = Mission(name, location, objectives, targets=4, \n",
    "                         targets_estimated_range=(400, 700),\n",
    "                         asset= jack,\n",
    "                         drag=0.11,\n",
    "                         coriolis_effect=0.07,\n",
    "                         magnus_effect=0.02\n",
    "                        )\n",
    "\n",
    "silent_shadows.execute()"
   ]
  },
  {
   "cell_type": "markdown",
   "id": "0a5772d8",
   "metadata": {},
   "source": [
    "*Copyright &copy; 2025 DataClax. This content is licensed solely for personal use. Redistribution or publication of this material is strictly prohibited.*"
   ]
  }
 ],
 "metadata": {
  "kernelspec": {
   "display_name": "Python 3 (ipykernel)",
   "language": "python",
   "name": "python3"
  },
  "language_info": {
   "codemirror_mode": {
    "name": "ipython",
    "version": 3
   },
   "file_extension": ".py",
   "mimetype": "text/x-python",
   "name": "python",
   "nbconvert_exporter": "python",
   "pygments_lexer": "ipython3",
   "version": "3.11.7"
  }
 },
 "nbformat": 4,
 "nbformat_minor": 5
}
