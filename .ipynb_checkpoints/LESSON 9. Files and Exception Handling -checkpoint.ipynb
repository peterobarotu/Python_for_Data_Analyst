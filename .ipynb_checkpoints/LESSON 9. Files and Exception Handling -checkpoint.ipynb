{
 "cells": [
  {
   "cell_type": "markdown",
   "id": "febbad6a",
   "metadata": {},
   "source": [
    "## Reading a File\n",
    "In programming it's common to work with files. For example, you might need to analyze data from a file (e.g csv, txt) or save your work into a file. Let's first look at how to open/read a file."
   ]
  },
  {
   "cell_type": "markdown",
   "id": "4f32e624",
   "metadata": {},
   "source": [
    "The `open` function is used to interact with files, enabling you to read or write data. It accepts the `filename` as its primary argument and can be accompanied by other optional parameter like the `mode` parameter, which dictates the manner in which the file is opened. While various modes are available, the default mode is `'r'`, signifying read-only access. Others include:\n",
    "\n",
    "* `'r+'` for reading and writing. If the file doesn't exist, it raises a `FileNotFoundError`. If the file does exist it overwrite existing content.\n",
    "* `'w'` for writing only,  If the file already exists, it truncates(overwites) the content.\n",
    "* `'w+'` for reading and writing. `w+` automatically creates a new file if file doesn't exist. If the file already exists, it truncates(overwites) the content.  \n",
    "* `'a'` for appending/writing to the end of a file. It automatically creates a new file if file doesn't exist.\n",
    "* `'a+'` for reading and appending/writing to the end of a file. It automatically creates a new file if file doesn't exist. \n",
    "* `'x'`: represents the \"exclusive creation\" mode. It's used for creating a new file but raises an error if the file already exists. This prevents accidentally overwriting an existing file.\n",
    "* `'t'`: Text mode (default). Used with other modes to treat the file as text e.g `'rt'` for reading a text file. This is redundant since by default files are treated as text.\n",
    "* `'b'`: Binary mode. Used alongside other modes to treat the file as binary data e.g `'rb'` for reading a binary file..\n",
    "\n",
    "The `open` function returns a _file object_ which has a `read()` method to view the content of the file."
   ]
  },
  {
   "cell_type": "code",
   "execution_count": null,
   "id": "9c294b8d",
   "metadata": {
    "scrolled": true
   },
   "outputs": [],
   "source": [
    "f_obj = open('anthem.txt', 'r')\n",
    "f_obj   # A file object"
   ]
  },
  {
   "cell_type": "code",
   "execution_count": null,
   "id": "2eb827ce",
   "metadata": {
    "scrolled": true
   },
   "outputs": [],
   "source": [
    "f_obj.read()      # Using the read() method of a file object"
   ]
  },
  {
   "cell_type": "code",
   "execution_count": null,
   "id": "dc27fcae",
   "metadata": {},
   "outputs": [],
   "source": [
    "f_obj = open('anthem.txt', 'r')\n",
    "print(f_obj.read())         # Used the print function to properly render the text."
   ]
  },
  {
   "cell_type": "markdown",
   "id": "67218325",
   "metadata": {},
   "source": [
    "Some of the commonly used attributes and methods of a file object includes:\n",
    "\n",
    "* `name`: Determines the name of the file.\n",
    "* `mode`: Determines the mode in which the file is open\n",
    "* `closed`: Determines if the file is closed or not \n",
    "* `read([size=-1])`: Reads and returns the specified number of bytes from the file. If no size is specified, or if the size is negative, it reads the entire file.\n",
    "* `write(string)`:Writes the given string to the file. Overwrites existing content if the file is opened in write mode.\n",
    "* `readline()`:Reads and returns a single line from the file, including the newline character.\n",
    "* `readlines()`:Reads all lines from the file and returns them as a list of strings, including newline characters.\n",
    "* `writelines(lines)`: Writes a list of strings to the file. Strings are concatenated without adding newline characters.\n",
    "* `seek(offset)`: Moves the file pointer to the specified `offset` position.\n",
    "* `tell()`: Returns the current position of the file pointer.\n",
    "* `close()`:  Used to properly close a file. Closing the file ensures that any resources associated with the file are released, such as file handles, memory buffers, etc"
   ]
  },
  {
   "cell_type": "code",
   "execution_count": null,
   "id": "a0532cf0",
   "metadata": {
    "scrolled": true
   },
   "outputs": [],
   "source": [
    "f_obj.name             # Determines the name of the file"
   ]
  },
  {
   "cell_type": "code",
   "execution_count": null,
   "id": "0addafcc",
   "metadata": {},
   "outputs": [],
   "source": [
    "f_obj.mode             # Determines the mode in which the file is open"
   ]
  },
  {
   "cell_type": "code",
   "execution_count": null,
   "id": "d0836fc8",
   "metadata": {},
   "outputs": [],
   "source": [
    "f_obj.closed           # Determines if the file is closed or not"
   ]
  },
  {
   "cell_type": "code",
   "execution_count": null,
   "id": "3126d7ba",
   "metadata": {},
   "outputs": [],
   "source": [
    "f_obj = open('anthem.txt', 'r')\n",
    "f_obj.read(5)    # Returns five characters from the current position of the cursor"
   ]
  },
  {
   "cell_type": "markdown",
   "id": "7a61d87f",
   "metadata": {},
   "source": [
    "The `read` method shift the file pointer's position by the number of bytes read. The `tell` method tells you the current position of the file pointer:"
   ]
  },
  {
   "cell_type": "code",
   "execution_count": null,
   "id": "59e48efd",
   "metadata": {},
   "outputs": [],
   "source": [
    "f_obj.tell()"
   ]
  },
  {
   "cell_type": "markdown",
   "id": "ca0e1a07",
   "metadata": {},
   "source": [
    "We can move the position of the file pointer using the `seek` method:"
   ]
  },
  {
   "cell_type": "code",
   "execution_count": null,
   "id": "cccc4524",
   "metadata": {},
   "outputs": [],
   "source": [
    "f_obj.seek(7)      # Offset the file pointer's position by 7 bytes from the beginning of the file\n",
    "f_obj.tell()"
   ]
  },
  {
   "cell_type": "code",
   "execution_count": null,
   "id": "e011f252",
   "metadata": {},
   "outputs": [],
   "source": [
    "f_obj.read(12)"
   ]
  },
  {
   "cell_type": "code",
   "execution_count": null,
   "id": "44aec569",
   "metadata": {},
   "outputs": [],
   "source": [
    "f_obj.tell()"
   ]
  },
  {
   "cell_type": "markdown",
   "id": "e5ef81a0",
   "metadata": {},
   "source": [
    "It is normally good to close your file once done with it to avoid data loss or corrupting the file. The `close()` method helps to achieve this. Once a file is closed, you can no longer access it until you open it again."
   ]
  },
  {
   "cell_type": "code",
   "execution_count": null,
   "id": "a89deae5",
   "metadata": {},
   "outputs": [],
   "source": [
    "f_obj.close()"
   ]
  },
  {
   "cell_type": "code",
   "execution_count": null,
   "id": "b03f6857",
   "metadata": {},
   "outputs": [],
   "source": [
    "f_obj.closed      # The file is now closed"
   ]
  },
  {
   "cell_type": "markdown",
   "id": "0d86f3c0",
   "metadata": {},
   "source": [
    "Using Python's built-in mechanisms for managing file access is generally considered a good programming practice. Rather than manually closing a file using the close line, it's recommended to allow Python to handle this process for you. This approach mitigates the risk of leaving a file improperly closed due to unexpected errors that might occur before reaching the close statement.\n",
    "\n",
    "Furthermore, relying on Python to manage file closures helps you avoid potential issues where access to a file could be denied due to it still being in use. Python's automated file closure ensures that resources are appropriately released.\n",
    "\n",
    "A streamlined way to achieve this is by utilizing the `with` statement, which establishes a context for the file operations. The context manager takes care of automatically closing the file when you're finished with it. Here's how it works:"
   ]
  },
  {
   "cell_type": "code",
   "execution_count": null,
   "id": "9be309e9",
   "metadata": {},
   "outputs": [],
   "source": [
    "with open('anthem.txt', 'r') as f_obj:\n",
    "    content = f_obj.read()\n",
    "    print(content)"
   ]
  },
  {
   "cell_type": "markdown",
   "id": "b601a487",
   "metadata": {},
   "source": [
    "You can read through each line by using the `readline()` method to return a single line at a time."
   ]
  },
  {
   "cell_type": "code",
   "execution_count": null,
   "id": "fbabf3a2",
   "metadata": {},
   "outputs": [],
   "source": [
    "with open('anthem.txt', 'r') as f_obj:\n",
    "    print(f_obj.readline())"
   ]
  },
  {
   "cell_type": "code",
   "execution_count": null,
   "id": "ab6ef4f6",
   "metadata": {},
   "outputs": [],
   "source": [
    "with open('anthem.txt', 'r') as f_obj:\n",
    "    print(f_obj.readline())\n",
    "    print(f_obj.readline())"
   ]
  },
  {
   "cell_type": "markdown",
   "id": "9a4fa594",
   "metadata": {},
   "source": [
    "### Looping Through Files\n",
    "Instead of using `readline()` to return each line, we can use the `for` loop to print out each lines of the file."
   ]
  },
  {
   "cell_type": "code",
   "execution_count": null,
   "id": "b1613e42",
   "metadata": {},
   "outputs": [],
   "source": [
    "with open('anthem.txt', 'r') as f_obj:\n",
    "    for line in f_obj:                     # Loop through each line and print\n",
    "        print(line)      \n",
    "       "
   ]
  },
  {
   "cell_type": "code",
   "execution_count": null,
   "id": "237ca78b",
   "metadata": {},
   "outputs": [],
   "source": [
    "with open('anthem.txt', 'r') as f_obj:\n",
    "    for line in f_obj:\n",
    "        print(line.strip()) # The strip method removes the spaces in between lines"
   ]
  },
  {
   "cell_type": "markdown",
   "id": "6348b87a",
   "metadata": {},
   "source": [
    "### Working with File Content\n",
    "To work with file content, you can use the `readlines()` (note the __'s'__), to return all the content of a file into a __list__ that can be processed later (outside the `with` block)"
   ]
  },
  {
   "cell_type": "code",
   "execution_count": null,
   "id": "7739a05c",
   "metadata": {},
   "outputs": [],
   "source": [
    "with open('anthem.txt', 'r') as f_obj:\n",
    "    lines = f_obj.readlines()   # returns a list\n",
    "    print(lines)"
   ]
  },
  {
   "cell_type": "code",
   "execution_count": null,
   "id": "6fd6c819",
   "metadata": {},
   "outputs": [],
   "source": [
    "with open('anthem.txt', 'r') as f_obj:\n",
    "    lines = f_obj.readlines()\n",
    "    for line in lines:     # loop through the list\n",
    "        print(line.strip())"
   ]
  },
  {
   "cell_type": "code",
   "execution_count": null,
   "id": "7688fc91",
   "metadata": {},
   "outputs": [],
   "source": [
    "with open('anthem.txt', 'r') as f_obj:\n",
    "    lines = f_obj.readlines()\n",
    "\n",
    "lines            #called outside the 'with' block"
   ]
  },
  {
   "cell_type": "code",
   "execution_count": null,
   "id": "00369caa",
   "metadata": {},
   "outputs": [],
   "source": [
    "with open('anthem.txt', 'r') as f_obj:\n",
    "    lines = f_obj.readlines()\n",
    "\n",
    "for line in lines:                    #looping through the content outside the with block\n",
    "    print(line.strip())"
   ]
  },
  {
   "cell_type": "code",
   "execution_count": null,
   "id": "5e29ec63",
   "metadata": {},
   "outputs": [],
   "source": [
    "# The following code replaces 'our' with 'my'\n",
    "\n",
    "with open('anthem.txt', 'r') as f_obj:\n",
    "    lines = f_obj.readlines()\n",
    "\n",
    "for line in lines:\n",
    "    line = line.replace(' our', ' my')\n",
    "    print(line.strip())"
   ]
  },
  {
   "cell_type": "code",
   "execution_count": null,
   "id": "cf6402b0",
   "metadata": {},
   "outputs": [],
   "source": [
    "with open('anthem.txt', 'r') as f_obj:\n",
    "    lines = f_obj.readlines()\n",
    "\n",
    "len(lines)     #Count the number of lines in the text"
   ]
  },
  {
   "cell_type": "markdown",
   "id": "398d64d5",
   "metadata": {},
   "source": [
    "To count all the words in the contents of the file, we need to remove all the non-alphabetical characters. In this case we remove the the commas and whitespaces in the text before spliting, after that we can apply `len` function on the result."
   ]
  },
  {
   "cell_type": "code",
   "execution_count": null,
   "id": "37a0a366",
   "metadata": {},
   "outputs": [],
   "source": [
    "line_1 = 'Arise, O Compatriots'\n",
    "line_1.split()"
   ]
  },
  {
   "cell_type": "code",
   "execution_count": null,
   "id": "a70b32ff",
   "metadata": {},
   "outputs": [],
   "source": [
    "line_1 = 'Arise, O Compatriots'\n",
    "sentence = line_1.replace(',', '')\n",
    "print(sentence)\n",
    "sentence.split()       # 3 words in the returned list"
   ]
  },
  {
   "cell_type": "code",
   "execution_count": null,
   "id": "83b29de9",
   "metadata": {
    "scrolled": true
   },
   "outputs": [],
   "source": [
    "with open('anthem.txt', 'r') as f_obj:\n",
    "    lines = f_obj.readlines()\n",
    "\n",
    "count = 0    \n",
    "for line in lines:\n",
    "    sentence = line.replace(',', '')\n",
    "    splitted_sentence = sentence.split()\n",
    "    count += len(splitted_sentence)\n",
    "    \n",
    "count"
   ]
  },
  {
   "cell_type": "markdown",
   "id": "a2f39b1c",
   "metadata": {},
   "source": [
    "## Writing to a File\n",
    "To write to a file you specify the name of the file provided as an argument in the open function along with corresponding mode (`w` or `w+`). The write() method is use to write into the opened file. An Example is given below."
   ]
  },
  {
   "cell_type": "code",
   "execution_count": null,
   "id": "96d53ecc",
   "metadata": {},
   "outputs": [],
   "source": [
    "with open('my_note.txt', 'w') as f:\n",
    "    f.write(\"My Hobbies:\")"
   ]
  },
  {
   "attachments": {
    "image-2.png": {
     "image/png": "[encoded data removed]"
    }
   },
   "cell_type": "markdown",
   "id": "e749888e",
   "metadata": {},
   "source": [
    "This automatically creates a new file in the current working directory and write our message as shown in the image below:\n",
    "![image-2.png](attachment:image-2.png)\n",
    "\n",
    "We can also view this in Python using the `read()` method: "
   ]
  },
  {
   "cell_type": "code",
   "execution_count": null,
   "id": "25318945",
   "metadata": {},
   "outputs": [],
   "source": [
    "with open('my_note.txt', 'r') as f:\n",
    "    print(f.read())"
   ]
  },
  {
   "cell_type": "markdown",
   "id": "66524e1b",
   "metadata": {},
   "source": [
    "Multiple lines can also be written to a file as shown below:"
   ]
  },
  {
   "cell_type": "code",
   "execution_count": null,
   "id": "691c236d",
   "metadata": {},
   "outputs": [],
   "source": [
    "with open('my_note.txt', 'w') as f:\n",
    "    f.write(\"My Hobbies:\")\n",
    "    f.write(\"I Love going shopping with my friends\")\n",
    "    f.write(\"I also love riding bicycle\")"
   ]
  },
  {
   "cell_type": "code",
   "execution_count": null,
   "id": "7b0d808a",
   "metadata": {},
   "outputs": [],
   "source": [
    "with open('my_note.txt', 'r') as f:\n",
    "    print(f.read())"
   ]
  },
  {
   "cell_type": "markdown",
   "id": "d0a1dab8",
   "metadata": {},
   "source": [
    "The file is not exactly in the right format as we do expect. we can format it using whitespace such as spaces, `\\n`, `\\t`"
   ]
  },
  {
   "cell_type": "code",
   "execution_count": null,
   "id": "1f8f666c",
   "metadata": {},
   "outputs": [],
   "source": [
    "with open('my_note.txt', 'w') as f:\n",
    "    f.write(\"My Hobbies:\\n\")\n",
    "    f.write(\"I Love going shopping with my friends\\n\")\n",
    "    f.write(\"I also love riding bicycle\\n\")"
   ]
  },
  {
   "cell_type": "code",
   "execution_count": null,
   "id": "7c606361",
   "metadata": {
    "scrolled": true
   },
   "outputs": [],
   "source": [
    "with open('my_note.txt', 'r') as f:\n",
    "    print(f.read())"
   ]
  },
  {
   "cell_type": "markdown",
   "id": "af7678c7",
   "metadata": {},
   "source": [
    "Rather than using multiple `write`, we can put all the lines/strings in a list and use `writelines` to write them to a file:"
   ]
  },
  {
   "cell_type": "code",
   "execution_count": null,
   "id": "d96d556f",
   "metadata": {},
   "outputs": [],
   "source": [
    "lines = [\"My Hobbies:\", \"\\nI Love going shopping with my friends\", \"\\nI also love riding bicycle\" ]\n",
    "with open('my_note.txt', 'w') as f:\n",
    "    f.writelines(lines)"
   ]
  },
  {
   "cell_type": "code",
   "execution_count": null,
   "id": "090682e9",
   "metadata": {},
   "outputs": [],
   "source": [
    "with open('my_note.txt', 'r') as f:\n",
    "    print(f.read())"
   ]
  },
  {
   "cell_type": "markdown",
   "id": "8bffa62d",
   "metadata": {},
   "source": [
    "### Appending to a File\n",
    "Writting to a file automatically erase the content of the file if it exist, before writing to it. Therefore you must be careful not to use a filename that already exist unless you're absolutely sure you want to rewrite its content. To append to a file that already exist, use the append (`a`) mode."
   ]
  },
  {
   "cell_type": "code",
   "execution_count": null,
   "id": "c67fea96",
   "metadata": {},
   "outputs": [],
   "source": [
    "with open('my_note.txt', 'a') as f:\n",
    "    f.write(\"\\nI read novels when I'm bored\\n\")\n",
    "    f.write(\"Programming in Python is what I enjoy most\\n\")"
   ]
  },
  {
   "cell_type": "code",
   "execution_count": null,
   "id": "a8066f11",
   "metadata": {},
   "outputs": [],
   "source": [
    "with open('my_note.txt', 'r') as f:\n",
    "    print(f.read())"
   ]
  },
  {
   "cell_type": "markdown",
   "id": "dde4fd75",
   "metadata": {},
   "source": [
    "## Relative and Absolute file Path \n",
    "\n",
    "A file path is the direction to the location of a file on your computer. We have been working with files that are directly under under our current directory. The current working directory is the directory where you saved the current Python file or Jupyter notebook you are working on. If the file doesn't exist in the current working directory an error occurs because the file specified (through its name-- the way we have been using it) won't be found. To avoid this we must specify its location either ralatively or absolutely. \n",
    "\n",
    "You can specify a file path relatively if the file exist along the path of the working directory. For example let's say the  file exist in a folder under the working directory, we can write the file path like this:\n",
    "\n",
    "    folder_name/file_name.txt\n",
    "Let's see an example of this below. I created a new folder in the current directory name _new_folder_,  inside it is a file name _pledge_."
   ]
  },
  {
   "cell_type": "code",
   "execution_count": null,
   "id": "91a8b504",
   "metadata": {},
   "outputs": [],
   "source": [
    "with open('new_folder/pledge.txt', 'r') as file_object:\n",
    "    print(file_object.read())"
   ]
  },
  {
   "cell_type": "code",
   "execution_count": null,
   "id": "fcfa4ce7",
   "metadata": {
    "scrolled": true
   },
   "outputs": [],
   "source": [
    "filename = 'new_folder/pledge.txt'\n",
    "with open(filename, 'r') as file_object:\n",
    "    print(file_object.read())"
   ]
  },
  {
   "cell_type": "markdown",
   "id": "b619939f",
   "metadata": {},
   "source": [
    "Assuming the file is anywhere on our system, we can use its absolute file path, something that look like this for windows and linux OS respectively:\n",
    "\n",
    "    'C:/Users/Desktop/documents/text_folder/filename.txt'\n",
    "    '/home/user/documents/text_folder/filename.txt'"
   ]
  },
  {
   "cell_type": "markdown",
   "id": "d659be2c",
   "metadata": {},
   "source": [
    "### JSON\n",
    "\n",
    "Java Script Object Notation (JSON) is another way of storing data. json was originally developed for JavaScript but Python and other programming language have adopted it because of its lightweight and ease of sharing data with other programs. To use it, we need to import the json module."
   ]
  },
  {
   "cell_type": "code",
   "execution_count": null,
   "id": "1bd6755b",
   "metadata": {},
   "outputs": [],
   "source": [
    "import json\n",
    "\n",
    "cities = ['lagos', 'miami', 'dakar', 'new york', 'berlin']\n",
    "with open('cities.json', 'w') as f:       # Open a file\n",
    "    json.dump(cities, f)"
   ]
  },
  {
   "cell_type": "markdown",
   "id": "0b4074bb",
   "metadata": {},
   "source": [
    "In the above cell we create a list of `cities`, open a new file call `cities.json`, the list is then write into the file object return by `open` using `json.dump()`. This takes two arguments, the first is the object you want to save and the second is the file (object) you are saving into. \n",
    "\n",
    "To open a json file, we simply use `json.load()` which takes an argument of the json filename.\n"
   ]
  },
  {
   "cell_type": "code",
   "execution_count": null,
   "id": "df19896e",
   "metadata": {},
   "outputs": [],
   "source": [
    "with open('cities.json', 'r') as f:     # Open the json file\n",
    "    cities = json.load(f)               # Read the file\n",
    "    print(cities)"
   ]
  },
  {
   "cell_type": "code",
   "execution_count": null,
   "id": "c64809ec",
   "metadata": {},
   "outputs": [],
   "source": [
    "def user(f_name, l_name, age, country='nigeria', **user_info):\n",
    "    \"Returns a dictionary of user data\"\n",
    "    user_info['f_name'] = f_name\n",
    "    user_info['l_name'] = l_name\n",
    "    user_info['age'] = age\n",
    "    user_info['country'] = country\n",
    "     \n",
    "    return(user_info)  "
   ]
  },
  {
   "cell_type": "code",
   "execution_count": null,
   "id": "d163a48b",
   "metadata": {},
   "outputs": [],
   "source": [
    "f_name = input('Enter first name: ')\n",
    "l_name = input('Enter last name: ')\n",
    "middle_name = input('Enter middle name: ')\n",
    "age = int(input('Enter your age: '))\n",
    "country = input(\"Country (Nigeria by default)\")\n",
    "\n",
    "new_user = user(f_name, l_name, age, middle_name=middle_name, country = country )\n",
    "with open('users.json', 'w') as f:\n",
    "    json.dump(new_user, f)"
   ]
  },
  {
   "cell_type": "code",
   "execution_count": null,
   "id": "4b3095b1",
   "metadata": {},
   "outputs": [],
   "source": [
    "with open('users.json') as f:\n",
    "    users = json.load(f)\n",
    "    print(users)"
   ]
  },
  {
   "cell_type": "code",
   "execution_count": null,
   "id": "323995a4",
   "metadata": {},
   "outputs": [],
   "source": [
    "with open('users.json') as f:\n",
    "    users = json.load(f)\n",
    "    \n",
    "print(f\"{users['f_name']} {users['l_name']}\")"
   ]
  },
  {
   "cell_type": "markdown",
   "id": "c4456952",
   "metadata": {},
   "source": [
    "## Errors and Exceptions"
   ]
  },
  {
   "cell_type": "markdown",
   "id": "a6be77c3",
   "metadata": {},
   "source": [
    "You have come across lot of errors during the course of learning Python. In programming there are two major type of errors: Syntax and Logical error. Syntax error also known as parsing error is a way a program raise a complain about an 'inappropriate' code. An example of syntax error is shown in the cell below."
   ]
  },
  {
   "cell_type": "code",
   "execution_count": null,
   "id": "a03e765b",
   "metadata": {},
   "outputs": [],
   "source": [
    "## Syntax error\n",
    "for number in range(10)\n",
    "    print(number)"
   ]
  },
  {
   "cell_type": "markdown",
   "id": "43a27e9a",
   "metadata": {},
   "source": [
    "If you look at the error message carefully (always learn to read error messages), you will notice there's a colon missing(`:`) which the little up arrow (`^`) is trying to notify us about. On the other hand, logical errors are not obvious to a program and therefore they never raise an error. Logical error are error in logic or reasoning by the programmer and not a mistake in the programming language. In such cases, result returned by the program is logically incorrect. An example of such is converting hours to minutes by dividing by  60 instead of multiplying.\n",
    "\n",
    "A program can also raise an error, not necessarily because the statement or expression is syntactically incorrect but because an error was encountered in executing that statement. This is called runtime error or ***exceptions***. When an exception occurs, it interrupts the normal flow of the program and the system raises an error message that indicates what went wrong.\n",
    "\n",
    "Here are some examples of common exceptions in Python:\n",
    "* `TypeError`: Raised when an operation or function is applied to an object of inappropriate type.\n",
    "* `ValueError`: Raised when a function is called with an argument of the correct type, but with an inappropriate value.\n",
    "* `IndexError`: Raised when a sequence index is out of range.\n",
    "* `KeyError`: Raised when a dictionary key is not found in the dictionary.\n",
    "* `ZeroDivisionError`: Raised when division or modulo by zero is encountered.\n",
    "* `FileNotFoundError`: Raised when a file or directory cannot be found."
   ]
  },
  {
   "cell_type": "code",
   "execution_count": null,
   "id": "5ed5a49a",
   "metadata": {},
   "outputs": [],
   "source": [
    "x = 10\n",
    "y = \"hello\"\n",
    "z = x + y     # This will raise a TypeError"
   ]
  },
  {
   "cell_type": "code",
   "execution_count": null,
   "id": "0c084921",
   "metadata": {},
   "outputs": [],
   "source": [
    "int('2')"
   ]
  },
  {
   "cell_type": "code",
   "execution_count": null,
   "id": "16a44321",
   "metadata": {},
   "outputs": [],
   "source": [
    "x = int(\"hello\")  # This will raise a ValueError"
   ]
  },
  {
   "cell_type": "code",
   "execution_count": null,
   "id": "6199a0d4",
   "metadata": {},
   "outputs": [],
   "source": [
    "my_list = [1, 2, 3]\n",
    "print(my_list[3])      # This will raise an IndexError"
   ]
  },
  {
   "cell_type": "code",
   "execution_count": null,
   "id": "7d3b5047",
   "metadata": {},
   "outputs": [],
   "source": [
    "my_dict = {\"a\": 1, \"b\": 2, \"c\": 3}\n",
    "print(my_dict[\"d\"])       # This will raise a KeyError"
   ]
  },
  {
   "cell_type": "code",
   "execution_count": null,
   "id": "19ecf4df",
   "metadata": {},
   "outputs": [],
   "source": [
    "x = 10\n",
    "y = 0\n",
    "z = x/y  # This will raise a ZeroDivisionError  "
   ]
  },
  {
   "cell_type": "code",
   "execution_count": null,
   "id": "dc14c60b",
   "metadata": {},
   "outputs": [],
   "source": [
    "f = open(\"nonexistent_file.txt\")     # This will raise a FileNotFoundError"
   ]
  },
  {
   "cell_type": "markdown",
   "id": "2cc7d553",
   "metadata": {},
   "source": [
    "### Handling Exceptions\n",
    "Python provides a way of handling this exceptions using the `try` statements. The general form is given as:\n",
    "\n",
    "    try:\n",
    "        some code...\n",
    "    except an_error:\n",
    "        do this then\n",
    "\n",
    "Examples of how to handle some of the exeptions listed above is given below: "
   ]
  },
  {
   "cell_type": "code",
   "execution_count": null,
   "id": "92d23620",
   "metadata": {},
   "outputs": [],
   "source": [
    "## TypeError\n",
    "\n",
    "x = 10\n",
    "y = \"hello\"\n",
    "\n",
    "try:\n",
    "    z = x + y       # This will raise a TypeError\n",
    "except TypeError:\n",
    "    print(\"You can't add a number and a string\")"
   ]
  },
  {
   "cell_type": "code",
   "execution_count": null,
   "id": "f6c3463b",
   "metadata": {},
   "outputs": [],
   "source": [
    "## ValueError\n",
    "\n",
    "x = input(\"Enter the first number: \")\n",
    "y = input(\"Enter the second number: \")\n",
    "\n",
    "try:  \n",
    "    z = int(x) / int(y)         # ValueError will occur if one of the number is not of the appropriate value.\n",
    "    print(z)                    # A digit string is required for both x and y. \n",
    "except ValueError:   \n",
    "    print(\"Kindly enter a valid number\")"
   ]
  },
  {
   "cell_type": "code",
   "execution_count": null,
   "id": "174ed62f",
   "metadata": {},
   "outputs": [],
   "source": [
    "## FileNotFoundError\n",
    "\n",
    "try:\n",
    "    f = open(\"nonexistent_file.txt\")  # This will raise a FileNotFoundError\n",
    "except FileNotFoundError:\n",
    "    pass"
   ]
  },
  {
   "cell_type": "markdown",
   "id": "0271cffb",
   "metadata": {},
   "source": [
    "In the above code we allow the program to *fail silently* by using the `pass` statements. The `pass` statement in Python is a placeholder statement that serves as a no-operation or null operation. It doesn't perform any action and is often used as a placeholder where syntactically some code is required but you don't want to execute any actual instructions.\n",
    "\n",
    "An error can also be assign to a variable for later use by using the `as` statements:"
   ]
  },
  {
   "cell_type": "code",
   "execution_count": null,
   "id": "c99e3cb1",
   "metadata": {},
   "outputs": [],
   "source": [
    "x = 10\n",
    "y = \"hello\"\n",
    "\n",
    "try:\n",
    "    z = x + y  # This will raise a TypeError\n",
    "except TypeError as e:\n",
    "    print(\"You can't add a number and a string\")\n",
    "    print(f\"Class: {type(e)}\")        # print the class of the error\n",
    "    print(f\"message: {e}\")            # Print the error message\n",
    "    print(f\"{e=}\")                    # Print the full error message \n"
   ]
  },
  {
   "cell_type": "markdown",
   "id": "9aad9213",
   "metadata": {},
   "source": [
    "### The `else` Clause\n",
    "The `else` clause can be use to execute a block of codes if no exceptions occurs. **The else block will only run if there are no exceptions in the `try` block** and control then resumes below the entire `try` block. Hence, the `else` block depends entirely on the try statement being successful. If there are exceptions, there must be a proper `except` *clause* to handle it, if not the program crashes."
   ]
  },
  {
   "cell_type": "code",
   "execution_count": null,
   "id": "bf736a3b",
   "metadata": {},
   "outputs": [],
   "source": [
    "x = input(\"Enter the first number: \")\n",
    "y = input(\"Enter the second number: \")\n",
    "\n",
    "try:\n",
    "    z = int(x) / int(y)      # ValueError will occur if one of the number is not of the appropriate value.                             # A digit string is required for both x and y. \n",
    "except ValueError:   \n",
    "    print(\"Kindly enter a valid number\")\n",
    "else:\n",
    "    print(z)"
   ]
  },
  {
   "cell_type": "markdown",
   "id": "72038af2",
   "metadata": {},
   "source": [
    "Assuming we have a program that perform certain calculations, we might want to avoid `TypeError`, `ZeroDivisionError`, `ValueError` or any other type of error that may occur in the `try` block by using more than one `except` clause.\n",
    "\n",
    "In the program above, we successfully handle the `ValueError` exception in our program that may occur if someone tries to supply an invalid input. In this case the valid input should be a number (digit), otherwise when converting the string  to an integer (remember the `input` function will return a string), we will have a `ValueError`. But what happens if the value for y is zero, we would not have a `ValueError` but `ZeroDivisionError`. We have to find a way to handle that also:"
   ]
  },
  {
   "cell_type": "code",
   "execution_count": null,
   "id": "a79c4652",
   "metadata": {},
   "outputs": [],
   "source": [
    "x = input(\"Enter the first number: \")\n",
    "y = input(\"Enter the second number: \")\n",
    "\n",
    "try:\n",
    "    z = int(x) / int(y)      # ZeroDivisioError wiil occur if y is zero \n",
    "except ValueError:   \n",
    "    print(\"Kindly enter a valid number\")\n",
    "except ZeroDivisionError:\n",
    "    print(\"Can't divide a number with zero\")\n",
    "else:\n",
    "    print(z)"
   ]
  },
  {
   "cell_type": "markdown",
   "id": "8108540f",
   "metadata": {},
   "source": [
    "More exceptions can be included. if for example, we decided to add z to a non-existing list, the program will raise a `NameError` exception:"
   ]
  },
  {
   "cell_type": "code",
   "execution_count": null,
   "id": "8b2ab2fa",
   "metadata": {},
   "outputs": [],
   "source": [
    "x = input(\"Enter the first number: \")\n",
    "y = input(\"Enter the second number: \")\n",
    "\n",
    "try:\n",
    "    x = int(x)\n",
    "    y = int(y)\n",
    "    z = x / y     \n",
    "    some_list.append(z)     # NameError will be raised. 'some_list' does not exist\n",
    "except ValueError:   \n",
    "    print(\"Kindly enter a valid number\")\n",
    "except ZeroDivisionError:\n",
    "    print(\"Can't divide a number with zero\")\n",
    "except NameError:\n",
    "    print(\"some_list doesn't exist\")\n",
    "else:\n",
    "    print(some_list)\n"
   ]
  },
  {
   "cell_type": "markdown",
   "id": "5d03e958",
   "metadata": {},
   "source": [
    "In the above cell, `some_list` does not exist and there is an exception handler in our `try` block that handles the `NameError`, but if there exist `some_list`, the block of code under the try statement will be successful and no exception will be raised which in turn will cause the `else` block to execute (which just print the list). \n",
    "\n",
    "If the list does exist but we decided we needed the item at the fifth index, the program will raise an `IndexErorr` exception if the list is not up to that range:"
   ]
  },
  {
   "cell_type": "code",
   "execution_count": null,
   "id": "770c2d1a",
   "metadata": {},
   "outputs": [],
   "source": [
    "x = input(\"Enter the first number: \")\n",
    "y = input(\"Enter the second number: \")\n",
    "some_list = []\n",
    "try:\n",
    "    x = int(x)\n",
    "    y = int(y)\n",
    "    z = x / y     \n",
    "    some_list.extend([x, y, z])\n",
    "    a = some_list[5]                # This will raise IndexErorr        \n",
    "except ValueError:   \n",
    "    print(\"Kindly enter a valid number\")\n",
    "except ZeroDivisionError:\n",
    "    print(\"Can't divide a number with zero\")\n",
    "except NameError:\n",
    "    print(\"some_list doesn't exist\")\n",
    "except IndexError as e:\n",
    "    print(e)\n",
    "else:\n",
    "    print(some_list)\n",
    "        "
   ]
  },
  {
   "cell_type": "markdown",
   "id": "4dbca5ef",
   "metadata": {},
   "source": [
    "Multiple exceptions could be passed to an `except` clause using a tuple:"
   ]
  },
  {
   "cell_type": "code",
   "execution_count": null,
   "id": "de104dc5",
   "metadata": {},
   "outputs": [],
   "source": [
    "x = input(\"Enter the first number: \")\n",
    "y = input(\"Enter the second number: \")\n",
    "my_list = []\n",
    "try:\n",
    "    x = int(x)\n",
    "    y = int(y)\n",
    "    z = x / y     \n",
    "    my_list.extend([x, y, z])\n",
    "    a = my_list[5]                # This will raise IndexErorr        \n",
    "except ValueError:   \n",
    "    print(\"Kindly enter a valid number\")\n",
    "except ZeroDivisionError:\n",
    "    print(\"Can't divide a number with zero\")\n",
    "except (NameError, IndexError):    # handles both NameError and IndexError\n",
    "    print(\"Something went wrong \") \n",
    "                         \n",
    "else:\n",
    "    print(my_list)\n",
    "\n",
    "\n"
   ]
  },
  {
   "cell_type": "markdown",
   "id": "26664d85",
   "metadata": {},
   "source": [
    "When passing multiple exceptions, to know which of the exceptions was raised, we could save the error as a variable and print it:"
   ]
  },
  {
   "cell_type": "code",
   "execution_count": null,
   "id": "1b360406",
   "metadata": {
    "scrolled": true
   },
   "outputs": [],
   "source": [
    "x = input(\"Enter the first number: \")\n",
    "y = input(\"Enter the second number: \")\n",
    "my_list = []\n",
    "try:\n",
    "    x = int(x)\n",
    "    y = int(y)\n",
    "    z = x / y     \n",
    "    my_list.extend([x, y, z])\n",
    "     a = my_list[5]                   \n",
    "except (ValueError, ZeroDivisionError, NameError, IndexError) as error: \n",
    "    print(\"One of the exceptions occurred \")\n",
    "    print(f\"{error=}\")\n",
    "else:\n",
    "    print(my_list)\n",
    "    \n"
   ]
  },
  {
   "cell_type": "markdown",
   "id": "f82962ec",
   "metadata": {},
   "source": [
    "Sometimes we may not be able to determine ahead what exceptions might occur in a program, Python provides a way of catching\n",
    "any exception that is derived from the base class `BaseException`. This includes common exceptions such as `TypeError`, `NameError`,  and `ValueError`, as well as other less commonly used exceptions:"
   ]
  },
  {
   "cell_type": "code",
   "execution_count": null,
   "id": "00fa73ae",
   "metadata": {},
   "outputs": [],
   "source": [
    "x = input(\"Enter the first number: \")\n",
    "y = input(\"Enter the second number: \")\n",
    "\n",
    "try:\n",
    "    x = int(x)\n",
    "    y = int(y)\n",
    "    z = x / y                     \n",
    "except Exception: \n",
    "    print(\"One of the exceptions occurred\")\n",
    "    print(e)\n",
    "else:\n",
    "    print(z)"
   ]
  },
  {
   "cell_type": "markdown",
   "id": "339f02f4",
   "metadata": {},
   "source": [
    "We could have alised the `except Exception` statement as a variable and determine the actual exception that was raised. It's generally recommended to be specific about the exceptions you catch and handle, rather than using a broad catch-all `except Exception` statement. This can help you better understand and debug your code, as well as prevent unexpected errors from being masked."
   ]
  },
  {
   "cell_type": "markdown",
   "id": "b5695ccb",
   "metadata": {},
   "source": [
    "### The `finally` Clause\n",
    "Another clause belonging to the `try` statements is `finally`. The block of code under the `finally` statements runs irrespective of whether the `try` block is successful or an exception was raised."
   ]
  },
  {
   "cell_type": "code",
   "execution_count": null,
   "id": "66b53172",
   "metadata": {},
   "outputs": [],
   "source": [
    "x = 3\n",
    "y = 'hi'\n",
    "try:\n",
    "    z = x / y                     \n",
    "except ZeroDivisionError: \n",
    "    print(\"Can't divide by zero\")   \n",
    "else:\n",
    "    print(z)\n",
    "finally:\n",
    "    print(\"finally always executes\")"
   ]
  },
  {
   "cell_type": "markdown",
   "id": "d6fb00fd",
   "metadata": {},
   "source": [
    "In the above program, the `try` block was successful, hence the `else` block was executed but also the `finally` block. If the `try` block fails, the finally block still executes irrespective of whether there is a proper `except` clause to handle the failure or not:"
   ]
  },
  {
   "cell_type": "code",
   "execution_count": null,
   "id": "4f789cd8",
   "metadata": {},
   "outputs": [],
   "source": [
    "x = 3\n",
    "y = 0\n",
    "try:\n",
    "    z = x / y                       # Raise ZeroDivisionError\n",
    "except ZeroDivisionError:           # Proper except clause to handle the error\n",
    "    print(\"Can't divide by zero\")   \n",
    "else:\n",
    "    print(z)\n",
    "finally:\n",
    "    print(\"finally always executes\")"
   ]
  },
  {
   "cell_type": "code",
   "execution_count": null,
   "id": "4a33debd",
   "metadata": {},
   "outputs": [],
   "source": [
    "x = 3\n",
    "y = 0\n",
    "try:\n",
    "    z = x / y                        # Raise TypeError            \n",
    "except ZeroDivisionError:            # No proper except clause to handle the TypeError\n",
    "    print(\"Can't divide by zero\") \n",
    "except Exception:\n",
    "    print(\"An exception occurs\")\n",
    "else:\n",
    "    print(z)\n",
    "finally:\n",
    "    print(\"finally always executes\")"
   ]
  },
  {
   "attachments": {
    "image.png": {
     "image/png": "[encoded data removed]"
    }
   },
   "cell_type": "markdown",
   "id": "0641a3f2",
   "metadata": {},
   "source": [
    "The `finally` clause is usually use to close a file irrespective of whether the file is used or not. A pictoral summary of the `try` statements and its clauses is shown below:\n",
    "$$ $$\n",
    "\n",
    "\n",
    "![image.png](attachment:image.png)\n",
    "    "
   ]
  },
  {
   "cell_type": "markdown",
   "id": "dcfc0063",
   "metadata": {},
   "source": [
    "We could employ the technique we treated so far in dealing with multiple files. Assuming we want to apply the word count program we created ealier to multiple files, we could write something like this:"
   ]
  },
  {
   "cell_type": "code",
   "execution_count": 1,
   "id": "c7bd0c81",
   "metadata": {
    "scrolled": true
   },
   "outputs": [
    {
     "name": "stdout",
     "output_type": "stream",
     "text": [
      "anthem.txt contains 41 words\n",
      "new_folder/pledge.txt contains 33 words\n",
      "my_note.txt contains 28 words\n"
     ]
    }
   ],
   "source": [
    "files = ['anthem.txt', 'new_folder/pledge.txt', 'my_note.txt']\n",
    "for file in files:\n",
    "    f_obj = open(file, 'r')\n",
    "    lines = f_obj.readlines()\n",
    "\n",
    "    count = 0    \n",
    "    for line in lines:\n",
    "        sentence = line.replace(',', '')\n",
    "        splitted_sentence = sentence.split()\n",
    "        count += len(splitted_sentence)\n",
    "\n",
    "    print(f\"{file} contains {count} words\")"
   ]
  },
  {
   "cell_type": "markdown",
   "id": "78cfed3e",
   "metadata": {},
   "source": [
    "But what if there was a non-existent file present in the list of files.`FileNotFoundError` will prevent the program from going to completion:"
   ]
  },
  {
   "cell_type": "code",
   "execution_count": 2,
   "id": "fb7a8f61",
   "metadata": {},
   "outputs": [
    {
     "name": "stdout",
     "output_type": "stream",
     "text": [
      "anthem.txt contains 41 words\n"
     ]
    },
    {
     "ename": "FileNotFoundError",
     "evalue": "[Errno 2] No such file or directory: 'nonexistent_file.txt'",
     "output_type": "error",
     "traceback": [
      "\u001b[0;31m---------------------------------------------------------------------------\u001b[0m",
      "\u001b[0;31mFileNotFoundError\u001b[0m                         Traceback (most recent call last)",
      "Cell \u001b[0;32mIn[2], line 3\u001b[0m\n\u001b[1;32m      1\u001b[0m files \u001b[38;5;241m=\u001b[39m [\u001b[38;5;124m'\u001b[39m\u001b[38;5;124manthem.txt\u001b[39m\u001b[38;5;124m'\u001b[39m, \u001b[38;5;124m\"\u001b[39m\u001b[38;5;124mnonexistent_file.txt\u001b[39m\u001b[38;5;124m\"\u001b[39m, \u001b[38;5;124m'\u001b[39m\u001b[38;5;124mnew_folder/pledge.txt\u001b[39m\u001b[38;5;124m'\u001b[39m, \u001b[38;5;124m'\u001b[39m\u001b[38;5;124mmy_note.txt\u001b[39m\u001b[38;5;124m'\u001b[39m]\n\u001b[1;32m      2\u001b[0m \u001b[38;5;28;01mfor\u001b[39;00m file \u001b[38;5;129;01min\u001b[39;00m files:\n\u001b[0;32m----> 3\u001b[0m     f_obj \u001b[38;5;241m=\u001b[39m \u001b[38;5;28mopen\u001b[39m(file, \u001b[38;5;124m'\u001b[39m\u001b[38;5;124mr\u001b[39m\u001b[38;5;124m'\u001b[39m)\n\u001b[1;32m      4\u001b[0m     lines \u001b[38;5;241m=\u001b[39m f_obj\u001b[38;5;241m.\u001b[39mreadlines()\n\u001b[1;32m      6\u001b[0m     count \u001b[38;5;241m=\u001b[39m \u001b[38;5;241m0\u001b[39m    \n",
      "File \u001b[0;32m~/anaconda3/lib/python3.11/site-packages/IPython/core/interactiveshell.py:310\u001b[0m, in \u001b[0;36m_modified_open\u001b[0;34m(file, *args, **kwargs)\u001b[0m\n\u001b[1;32m    303\u001b[0m \u001b[38;5;28;01mif\u001b[39;00m file \u001b[38;5;129;01min\u001b[39;00m {\u001b[38;5;241m0\u001b[39m, \u001b[38;5;241m1\u001b[39m, \u001b[38;5;241m2\u001b[39m}:\n\u001b[1;32m    304\u001b[0m     \u001b[38;5;28;01mraise\u001b[39;00m \u001b[38;5;167;01mValueError\u001b[39;00m(\n\u001b[1;32m    305\u001b[0m         \u001b[38;5;124mf\u001b[39m\u001b[38;5;124m\"\u001b[39m\u001b[38;5;124mIPython won\u001b[39m\u001b[38;5;124m'\u001b[39m\u001b[38;5;124mt let you open fd=\u001b[39m\u001b[38;5;132;01m{\u001b[39;00mfile\u001b[38;5;132;01m}\u001b[39;00m\u001b[38;5;124m by default \u001b[39m\u001b[38;5;124m\"\u001b[39m\n\u001b[1;32m    306\u001b[0m         \u001b[38;5;124m\"\u001b[39m\u001b[38;5;124mas it is likely to crash IPython. If you know what you are doing, \u001b[39m\u001b[38;5;124m\"\u001b[39m\n\u001b[1;32m    307\u001b[0m         \u001b[38;5;124m\"\u001b[39m\u001b[38;5;124myou can use builtins\u001b[39m\u001b[38;5;124m'\u001b[39m\u001b[38;5;124m open.\u001b[39m\u001b[38;5;124m\"\u001b[39m\n\u001b[1;32m    308\u001b[0m     )\n\u001b[0;32m--> 310\u001b[0m \u001b[38;5;28;01mreturn\u001b[39;00m io_open(file, \u001b[38;5;241m*\u001b[39margs, \u001b[38;5;241m*\u001b[39m\u001b[38;5;241m*\u001b[39mkwargs)\n",
      "\u001b[0;31mFileNotFoundError\u001b[0m: [Errno 2] No such file or directory: 'nonexistent_file.txt'"
     ]
    }
   ],
   "source": [
    "files = ['anthem.txt', \"nonexistent_file.txt\", 'new_folder/pledge.txt', 'my_note.txt']\n",
    "for file in files:\n",
    "    f_obj = open(file, 'r')\n",
    "    lines = f_obj.readlines()\n",
    "\n",
    "    count = 0    \n",
    "    for line in lines:\n",
    "        sentence = line.replace(',', '')\n",
    "        splitted_sentence = sentence.split()\n",
    "        count += len(splitted_sentence)\n",
    "\n",
    "    print(f\"{file} contains {count} words\")"
   ]
  },
  {
   "cell_type": "markdown",
   "id": "78e85f8a",
   "metadata": {},
   "source": [
    "The `FileNotFoundError` prevent the last two files to be counted. This can be handled by using the `except` block to silent this error and allow the program to continue:"
   ]
  },
  {
   "cell_type": "code",
   "execution_count": null,
   "id": "4d501de9",
   "metadata": {
    "scrolled": true
   },
   "outputs": [],
   "source": [
    "files = ['anthem.txt', \"nonexistent_file.txt\", 'new_folder/pledge.txt', 'my_note.txt']\n",
    "\n",
    "for file in files:\n",
    "    try:\n",
    "        f_obj = open(file, 'r')        \n",
    "    except FileNotFoundError:                 # Handles FileNotFoundError\n",
    "        print(f\"{file} does not exist\")       \n",
    "    except Exceptions:                        # Handles other errors that might arise\n",
    "        print(\"An error occur while reading the file\")\n",
    "    else:\n",
    "        lines = f_obj.readlines()\n",
    "        count = 0    \n",
    "        for line in lines:\n",
    "            sentence = line.replace(',', '')\n",
    "            splitted_sentence = sentence.split()\n",
    "            count += len(splitted_sentence)\n",
    "        print(f\"{file} contains {count} words\")  \n",
    "    finally:\n",
    "        f_obj.close()\n",
    "        "
   ]
  },
  {
   "cell_type": "markdown",
   "id": "3199d1eb",
   "metadata": {},
   "source": [
    "### Raising An Error With `raise`\n",
    "Sometimes when working with user data, it is necessary to have the right set of input. If in any case you get an inappropriate input for a program or an inappropriate argument was passed to a function, you can raise an exception using the `raise` keyword to inform the user what your program or function expected. An example of using `raise` is giving below:\n"
   ]
  },
  {
   "cell_type": "code",
   "execution_count": null,
   "id": "1d124d2b",
   "metadata": {},
   "outputs": [],
   "source": [
    "def sqrt():\n",
    "    \"\"\"A function that calculates the square root of a positive number\"\"\"\n",
    "    \n",
    "    x = input(\"Give me a positive number and I will find its square root: \")\n",
    "    x = float(x)\n",
    "    if x < 0:\n",
    "        raise ValueError(\"Positive number required\")\n",
    "    else:\n",
    "        return x**0.5\n",
    "\n",
    "sqrt()"
   ]
  },
  {
   "cell_type": "markdown",
   "id": "96c8f813",
   "metadata": {},
   "source": [
    "From the code above we can see that if any number is less than zero (negative), a `ValueError` exception with the appropriate message will be raised"
   ]
  },
  {
   "cell_type": "markdown",
   "id": "c0ae5444",
   "metadata": {},
   "source": [
    "### Defining a Custom Error\n",
    "Python allows you to create your own custom exceptions from the base `Exception` class or its subclasses:"
   ]
  },
  {
   "cell_type": "code",
   "execution_count": null,
   "id": "cbbc61f2",
   "metadata": {},
   "outputs": [],
   "source": [
    "class MyException(Exception):\n",
    "    pass\n",
    "\n",
    "def sqrt():\n",
    "    x = input(\"Give me a positive number and I will find its square root: \")\n",
    "    x = float(x)\n",
    "    if x < 0:\n",
    "        raise MyException(\"Positive number required\")\n",
    "    else:\n",
    "        return x**0.5\n",
    "\n",
    "sqrt()"
   ]
  },
  {
   "cell_type": "markdown",
   "id": "513fed4c",
   "metadata": {},
   "source": [
    "Parents attributes and methods of the `Exception` class can be overwrite and also new attributes and methods can be added. Lets define an exception that returns the time of error. To do this, we'll use the datetime module to import the `datetime` class and then use the `now()` method of the `datetime` class to get the current date and time:"
   ]
  },
  {
   "cell_type": "code",
   "execution_count": null,
   "id": "cbb4a48c",
   "metadata": {},
   "outputs": [],
   "source": [
    "from datetime import datetime\n",
    "datetime.now()"
   ]
  },
  {
   "cell_type": "code",
   "execution_count": null,
   "id": "7a758cb0",
   "metadata": {},
   "outputs": [],
   "source": [
    "print(datetime.now())"
   ]
  },
  {
   "cell_type": "code",
   "execution_count": null,
   "id": "e9839f17",
   "metadata": {
    "scrolled": true
   },
   "outputs": [],
   "source": [
    "class MyException(Exception):\n",
    "    \"\"\"A Custom exception that includes a timestamp at which an error was raised\"\"\"\n",
    "    \n",
    "    def __init__(self, message):\n",
    "        from datetime import datetime\n",
    "        self.message = message\n",
    "        self.time = datetime.now()\n",
    "        \n",
    "    def __str__(self):\n",
    "        return f\"{self.message}. Timestamp:{self.time}\"\n",
    "    \n",
    "\n",
    "def sqrt():\n",
    "    x = input(\"Give me a positive number and I will find its square root: \")\n",
    "    x = float(x)\n",
    "    if x < 0:\n",
    "        raise MyException(message='Positive number required')\n",
    "    else:\n",
    "        return x**0.5\n",
    "\n",
    "    \n",
    "sqrt()"
   ]
  },
  {
   "cell_type": "markdown",
   "id": "5b8d587d",
   "metadata": {},
   "source": [
    "`MyException` class was modified to have a Timestamp attribute created within the `__init__` method by importing the datetime function from the datetime module and using the `now()` method to get the system current time. The Timestamp generated was then use to modify the message (by including a Timestamp) in the `__str__` method of the parent class, `Exception`."
   ]
  },
  {
   "cell_type": "markdown",
   "id": "bc147659",
   "metadata": {},
   "source": [
    "*Copyright &copy; 2025 DataClax. This content is licensed solely for personal use. Redistribution or publication of this material is strictly prohibited.*"
   ]
  }
 ],
 "metadata": {
  "kernelspec": {
   "display_name": "Python 3 (ipykernel)",
   "language": "python",
   "name": "python3"
  },
  "language_info": {
   "codemirror_mode": {
    "name": "ipython",
    "version": 3
   },
   "file_extension": ".py",
   "mimetype": "text/x-python",
   "name": "python",
   "nbconvert_exporter": "python",
   "pygments_lexer": "ipython3",
   "version": "3.11.7"
  }
 },
 "nbformat": 4,
 "nbformat_minor": 5
}
