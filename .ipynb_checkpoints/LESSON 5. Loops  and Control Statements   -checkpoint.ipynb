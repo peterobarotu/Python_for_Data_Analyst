{
 "cells": [
  {
   "cell_type": "markdown",
   "id": "c4106033",
   "metadata": {},
   "source": [
    "# Coding Loops"
   ]
  },
  {
   "cell_type": "markdown",
   "id": "825bd093",
   "metadata": {},
   "source": [
    "There are two styles of looping: the ___for___ loop repeats code as it works its way through a\n",
    "vector, element by element; the ___while___ loop simply repeats code until a specific condition evaluates to `False`.\n",
    "Say we have a list of wears, `wears = ['bag', 'shoe', 'watch', 'shirt', 'trouser']`, and we want to print out each of the items in the list. we do the following:"
   ]
  },
  {
   "cell_type": "code",
   "execution_count": null,
   "id": "65f4c6c8",
   "metadata": {},
   "outputs": [],
   "source": [
    "wears = ['bag', 'shoe', 'watch', 'shirt', 'trouser']\n",
    "for wear in wears:\n",
    "    print(wear)"
   ]
  },
  {
   "cell_type": "markdown",
   "id": "2d86d452",
   "metadata": {},
   "source": [
    "Let's look at this line; `for wear in wears`. This tells python to loop through the list `wears` and attached each item to a placeholder or a variable we call `wear`. When python runs the first loop, it picks bag and save it to wear, which is then printed by the code in the second line `print(wear)`. Then python go through the loop again and picks the second item in the list and save it to wear, then prints again. This continues until the end of the list where python finally the exit the loop. The number of cycle or loop is determine by the length of the list (or the data type)."
   ]
  },
  {
   "cell_type": "code",
   "execution_count": null,
   "id": "06129b25",
   "metadata": {},
   "outputs": [],
   "source": [
    "wears = ['bag', 'shoe', 'watch', 'shirt', 'trouser']\n",
    "for wear in wears:\n",
    "    print('Loop starts')\n",
    "    print(f'The Current item is {wear}')\n",
    "    print('Loop ends\\n')"
   ]
  },
  {
   "cell_type": "markdown",
   "id": "b5332337",
   "metadata": {},
   "source": [
    "You can use loops to manipulate objects that exist outside the loop.\n",
    "Consider the following example:"
   ]
  },
  {
   "cell_type": "code",
   "execution_count": null,
   "id": "202dd109",
   "metadata": {},
   "outputs": [],
   "source": [
    "wears = ['bag', 'shoe', 'watch', 'shirt', 'trouser']\n",
    "counter = 0\n",
    "for wear in wears:\n",
    "    counter += 1                 # equivalent to counter = counter + 1\n",
    "    print(f'The item in run {counter} is {wear}')\n",
    "    "
   ]
  },
  {
   "cell_type": "markdown",
   "id": "848e56ca",
   "metadata": {},
   "source": [
    "An object counter is defined and set to zero. Then, inside the loop, counter is overwritten by itself plus 1. Each\n",
    "time the loop repeats, counter increases, and the current value is printed."
   ]
  },
  {
   "cell_type": "markdown",
   "id": "95df6607",
   "metadata": {},
   "source": [
    "### Looping via Index or Value\n",
    "The examples we have use so far loop through a value of the list but we can also loop through its index. Before we go into an example, let me briefly introduce the python range() and len() function.\n",
    "\n",
    "* The `len()` function on the other hand gives the length (the number of items) of an object. \n",
    "* The `range()` function returns a sequence of immutable sequence of integers starting from the given start integer to the stop integer."
   ]
  },
  {
   "cell_type": "code",
   "execution_count": null,
   "id": "fdb0b70a",
   "metadata": {},
   "outputs": [],
   "source": [
    "len(wears)"
   ]
  },
  {
   "cell_type": "code",
   "execution_count": null,
   "id": "c39cc1d3",
   "metadata": {},
   "outputs": [],
   "source": [
    "len((2, 3, 4, 10, 150, 300))"
   ]
  },
  {
   "cell_type": "code",
   "execution_count": null,
   "id": "d6011a54",
   "metadata": {
    "scrolled": true
   },
   "outputs": [],
   "source": [
    "range(5)"
   ]
  },
  {
   "cell_type": "code",
   "execution_count": null,
   "id": "63aaddf8",
   "metadata": {
    "scrolled": true
   },
   "outputs": [],
   "source": [
    "list(range(5)) # generates the numbers between the range 0 and 5 by wrapping the list function around the range function"
   ]
  },
  {
   "cell_type": "code",
   "execution_count": null,
   "id": "1e303aee",
   "metadata": {
    "scrolled": true
   },
   "outputs": [],
   "source": [
    "list(range(3, 8)) # generates the numbers between the range 3 and 8"
   ]
  },
  {
   "cell_type": "code",
   "execution_count": null,
   "id": "db521a61",
   "metadata": {
    "scrolled": true
   },
   "outputs": [],
   "source": [
    "list(range(2, 10, 2)) # generates the numbers between the range 2 and 10 with a step of 2"
   ]
  },
  {
   "cell_type": "markdown",
   "id": "08980470",
   "metadata": {},
   "source": [
    "Combining this two function we can loop via the list index"
   ]
  },
  {
   "cell_type": "code",
   "execution_count": null,
   "id": "4875f445",
   "metadata": {},
   "outputs": [],
   "source": [
    "vals = [3.5, 2, 7, 0.5, 1.8]\n",
    "\n",
    "for index in range(len(vals)):        # Generates numbers from 0 to 4 which is equivalent to the indexes of our list\n",
    "    print(index, vals[index], sep=':')\n",
    "   "
   ]
  },
  {
   "cell_type": "code",
   "execution_count": null,
   "id": "facb50bc",
   "metadata": {},
   "outputs": [],
   "source": [
    "for val in vals:       # Looping through values\n",
    "    print(val)"
   ]
  },
  {
   "cell_type": "markdown",
   "id": "300becac",
   "metadata": {},
   "source": [
    "### Working Within a Loop\n",
    "Any kind of operation permitted by python can be carried out within a loop. Code within the loop are indented(by `tab` key). Consider the examples below."
   ]
  },
  {
   "cell_type": "code",
   "execution_count": null,
   "id": "34c07fd8",
   "metadata": {},
   "outputs": [],
   "source": [
    "cities = ['bogota', 'rio', 'lagos', 'miami', 'london']\n",
    "for city in cities:\n",
    "    print(f'I have been to {city.title()}')\n",
    "    print(f'{city.title()} is usually beautiful at this time of the year\\n')"
   ]
  },
  {
   "cell_type": "code",
   "execution_count": null,
   "id": "859cb78d",
   "metadata": {},
   "outputs": [],
   "source": [
    "values = range(5)\n",
    "for x in values:\n",
    "    print(f'x = {x}')\n",
    "    y = 2*x\n",
    "    print(f'y = {y}')\n",
    "    z = x + y\n",
    "    print(f'z = {z}')\n",
    "    print('\\n')"
   ]
  },
  {
   "cell_type": "markdown",
   "id": "5accc607",
   "metadata": {},
   "source": [
    "### Working Outside a Loop\n",
    "Any number of operations can also  be perfomed at the end of the entire loop.Any operations that is not part of the loop must not be indented along with rest of the code in the loop. Consider the example below"
   ]
  },
  {
   "cell_type": "code",
   "execution_count": null,
   "id": "309ddb75",
   "metadata": {},
   "outputs": [],
   "source": [
    "wears = ['bag', 'shoe', 'watch', 'shirt', 'trouser']\n",
    "for wear in wears:\n",
    "    print(f'I have a beautiful {wear}')\n",
    "\n",
    "print(f'My parent bought all this wears for me during the last christmas')"
   ]
  },
  {
   "cell_type": "markdown",
   "id": "53cd7a9c",
   "metadata": {},
   "source": [
    "### Indentation Errors\n",
    "Improper, unnecessary or absence of indentation can result to an error or undesirable output. Consider the examples below"
   ]
  },
  {
   "cell_type": "code",
   "execution_count": null,
   "id": "6c21c373",
   "metadata": {},
   "outputs": [],
   "source": [
    "# No indentation Error\n",
    "\n",
    "wears = ['bag', 'shoe', 'watch', 'shirt', 'trouser']\n",
    "for wear in wears:\n",
    "print(f'I have a beautiful {wear}')     # No indentation"
   ]
  },
  {
   "cell_type": "code",
   "execution_count": null,
   "id": "f0b295e8",
   "metadata": {},
   "outputs": [],
   "source": [
    "# Partial Indentation of the code block under the loop\n",
    "\n",
    "cities = ['bogota', 'rio', 'lagos', 'miami', 'london']\n",
    "for city in cities:\n",
    "    print(f'I have been to {city.title()}')\n",
    "print(f'{city.title()} is usually beautiful at this time of the year\\n') # second line not indented"
   ]
  },
  {
   "cell_type": "code",
   "execution_count": null,
   "id": "5f3fedd2",
   "metadata": {},
   "outputs": [],
   "source": [
    "# Unnecessary Indentation\n",
    "message = \"Hello Python world!\"\n",
    "    print(message)"
   ]
  },
  {
   "cell_type": "code",
   "execution_count": null,
   "id": "3aa285ed",
   "metadata": {},
   "outputs": [],
   "source": [
    "# Unnecessary Indentation (of codes outside the block)\n",
    "\n",
    "wears = ['bag', 'shoe', 'watch', 'shirt', 'trouser']\n",
    "for wear in wears:\n",
    "    print(f'I have a beautiful {wear}')\n",
    "\n",
    "    print(f'My parent bought all this wears for me during the last christmas') # This line shouldn't be indented"
   ]
  },
  {
   "cell_type": "markdown",
   "id": "2b41e455",
   "metadata": {},
   "source": [
    "## While Loop\n",
    "In situations where you don’t know how many times the desired operations need to be run, the `while` loop is employed. the while loop runs as long as, or _while_, a certain condition is true. A while loop uses a single logical-valued to control how many times it repeats. Upon execution, the logical value is evaluated. If the condition is found to be __True__, the block of code is executed line by line as usual until complete, at which point the logical value is checked again. The\n",
    "loop terminates only when the condition evaluates to __False__, and it does so immediately."
   ]
  },
  {
   "cell_type": "code",
   "execution_count": null,
   "id": "ecdb351b",
   "metadata": {},
   "outputs": [],
   "source": [
    "current_number = 1\n",
    "while current_number <= 5:\n",
    "    print(f'My current_number is now {current_number}')\n",
    "    current_number += 1\n",
    "    print(f'current condition is {current_number<=5} \\n')"
   ]
  },
  {
   "cell_type": "markdown",
   "id": "3f73f4be",
   "metadata": {},
   "source": [
    "#### Exiting a Program"
   ]
  },
  {
   "cell_type": "code",
   "execution_count": null,
   "id": "bcb1d4f9",
   "metadata": {
    "scrolled": false
   },
   "outputs": [],
   "source": [
    "prompt = \"What's your name?\\nEnter 'quit' to exit: \"      # (1)\n",
    "name = \"\"                                                 # (2)\n",
    "while name != 'quit':                                     # (3)\n",
    "    name = input(prompt)                                  # (4)\n",
    "    print(f\"Nice to meet you {name.title()}\\n\")           # (5)"
   ]
  },
  {
   "cell_type": "markdown",
   "id": "1c624898",
   "metadata": {},
   "source": [
    "The simple program above receive a name from the user and returns a greeting message.\n",
    "At line 1 we created a message that prompt the user of the required input and save it in a variable called _prompt_. The _name_ variable is save as an empty string in line 2. At line 3, a `while` loop is created, which runs as long as the name variable is not equal to __'quit'__ (by using the not equal to operator `!=`). At line 4, we use the input function with the prompt message to collect user answer and save it to name -- name will be automatically updated from an empty string to the answer supplied. At line 5, a greeting message is printed using the user's response. The loop repeats again an the condition is checked. if the condition evaluates to true the code under loop runs but stop if the condition returns false. In this case a False condition will occur only when the name variable is set to 'quit' (Take a look at the loop condition again. It says, \"run as long as name is not equal to quit\").\n",
    "\n",
    "This program works well, except that it prints the word 'quit' as if it\n",
    "were an actual message. This can be fix with a simple `if` test:"
   ]
  },
  {
   "cell_type": "code",
   "execution_count": null,
   "id": "aadd6e71",
   "metadata": {},
   "outputs": [],
   "source": [
    "prompt = \"What's your name?\\nEnter 'quit' to exit: \"      # (1)\n",
    "name = \"\"                                                 # (2)\n",
    "while name != 'quit':                                     # (3)\n",
    "    name = input(prompt)                                  # (4)\n",
    "    if name != 'quit':                                    # (5)\n",
    "        print(f\"Nice to meet you {name.title()}\")         # (6)"
   ]
  },
  {
   "cell_type": "code",
   "execution_count": null,
   "id": "2a6d5b8f",
   "metadata": {},
   "outputs": [],
   "source": []
  },
  {
   "cell_type": "code",
   "execution_count": null,
   "id": "30f80167",
   "metadata": {},
   "outputs": [],
   "source": [
    "numbers = [3, 9, 7, 5, 12, 15, 4, 8, 3]\n",
    "less_ten = []\n",
    "index = 0\n",
    "condition = True\n",
    "\n",
    "while condition:\n",
    "    less_ten.append(numbers[index])\n",
    "    index += 1\n",
    "    condition = numbers[index] <= 10\n",
    "    \n",
    "print(less_ten)"
   ]
  },
  {
   "cell_type": "markdown",
   "id": "2dbaa00d",
   "metadata": {},
   "source": [
    "# if Statements\n",
    "To write more sophisticated programs, you’ll need to control the flow and\n",
    "order of execution in your code.  Programming often involves examining a set of conditions and deciding which action to take based on those conditions.\n",
    "\n",
    "The if statement is the key to controlling exactly which operations are\n",
    "carried out in a given chunk of code. An if statement runs a block of code\n",
    "only if a certain condition is true. "
   ]
  },
  {
   "cell_type": "markdown",
   "id": "dd0ef75b",
   "metadata": {},
   "source": [
    "### Stand-Alone if Statement\n",
    "The simplest kind of if statement has one test and one action\n",
    "    \n",
    "    if conditional_test:\n",
    "        do something"
   ]
  },
  {
   "cell_type": "code",
   "execution_count": null,
   "id": "521d5795",
   "metadata": {},
   "outputs": [],
   "source": [
    "age = 19\n",
    "if age >= 18:\n",
    "    print(\"Access granted\")"
   ]
  },
  {
   "cell_type": "markdown",
   "id": "654310be",
   "metadata": {},
   "source": [
    "Indentation plays the same role in if statements as it did in for loops.\n",
    "You can have as many lines of code as you want in the block following the if statement. "
   ]
  },
  {
   "cell_type": "code",
   "execution_count": null,
   "id": "20f90d57",
   "metadata": {},
   "outputs": [],
   "source": [
    "age = 19\n",
    "if age >= 18:\n",
    "    print(\"Access granted\")\n",
    "    print(\"Choose your preffered TV channel\")\n",
    "    print(\"Press power button to switch off decoder\")"
   ]
  },
  {
   "cell_type": "markdown",
   "id": "eea0c15f",
   "metadata": {},
   "source": [
    "### if-else Statements\n",
    "The if statement executes a chunk of code if and only if a defined condition is True. If you want something different to happen when the condition is False, you can add an `else` declaration. \n",
    "\n",
    "    if condition_test:\n",
    "        do any code in here if condition is True\n",
    "    else \n",
    "        do any code in here if condition is False"
   ]
  },
  {
   "cell_type": "code",
   "execution_count": null,
   "id": "bfdaa4a0",
   "metadata": {},
   "outputs": [],
   "source": [
    "age = 19\n",
    "if age >= 16:\n",
    "    print(\"Access granted\")\n",
    "    print(\"Choose your preffered TV channel\")\n",
    "    print(\"Press power button to switch off decoder\")\n",
    "else:\n",
    "    print(\"Access denied. Not yet 16\")\n",
    "    print(\"Parental guide needed to access channel\")"
   ]
  },
  {
   "cell_type": "markdown",
   "id": "38167c3c",
   "metadata": {},
   "source": [
    "### if-elif-else\n",
    "Many real-world situations involve more than two possible conditions.\n",
    "For example, consider an amusement park that charges different rates for\n",
    "different age groups:\n",
    "* Admission for anyone under age 4 is free.\n",
    "* Admission for anyone between the ages of 4 and 18 is $25.\n",
    "\n",
    "* Admission for anyone age 18 or older is $40"
   ]
  },
  {
   "cell_type": "code",
   "execution_count": null,
   "id": "75de33b5",
   "metadata": {},
   "outputs": [],
   "source": [
    "age = 12\n",
    "if age < 4:\n",
    "    print(\"Your admission cost is $0.\")\n",
    "elif age < 18:\n",
    "    print(\"Your admission cost is $25.\")\n",
    "else:\n",
    "    print(\"Your admission cost is $40.\")"
   ]
  },
  {
   "cell_type": "markdown",
   "id": "52081e45",
   "metadata": {},
   "source": [
    "A better way to write the above program is to set the price inside the if-elif-else chain. A seperate print statement is then use \n",
    "outside the block to report the price. Notice that the only price that will be set will be for the block that evalutes to true."
   ]
  },
  {
   "cell_type": "code",
   "execution_count": null,
   "id": "22918870",
   "metadata": {},
   "outputs": [],
   "source": [
    "age = 12\n",
    "if age < 4:\n",
    "    price = 0\n",
    "elif age < 18:\n",
    "    price = 25\n",
    "else:\n",
    "    price = 40\n",
    "print(f\"Your admission cost is ${price}.\")"
   ]
  },
  {
   "cell_type": "markdown",
   "id": "833e3078",
   "metadata": {},
   "source": [
    "### Stacking Statements (Using Multiple elif Blocks)\n",
    "Multiple elif blocks can be use when multiple conditions needs to be tested but one must evaluate to True."
   ]
  },
  {
   "cell_type": "code",
   "execution_count": null,
   "id": "ad7a4be5",
   "metadata": {},
   "outputs": [],
   "source": [
    "age = 12                                      # (1)\n",
    "if age < 4:                                   # (2)\n",
    "    price = 0                                 # (3)\n",
    "elif age < 18:                                # (4)\n",
    "    price = 25                                # (5)\n",
    "elif age < 65:                                # (6)\n",
    "    price = 40                                # (7)\n",
    "else:                                         # (8)\n",
    "    price = 20                                # (9)\n",
    "\n",
    "print(f\"Your admission cost is ${price}.\")    # (11)"
   ]
  },
  {
   "cell_type": "markdown",
   "id": "7feddc14",
   "metadata": {},
   "source": [
    "The above example is no different from the previous examples the only difference is that multiple `elif` is used. At line 1\n",
    "the age is determine. At line 2, an if statement check if age is less than 4, if this is true, the price is set to 0 in line 3 and the loop is immediately exited. This price is what is reported by the print statement at the end of the code. \n",
    "\n",
    "if the test at line 2 is false the code jumps to line 4 from line 2. At line 4 another test is perfomed (using `elif`) --which test whether\n",
    "age is less than 18,  if this is true, the price is set to 25 in line 5 and the loop is immediately exited and the price is reported by the print function but if the test at line 4 is false the code jumps to line 6 from line 4. \n",
    "\n",
    "At line 6, another `elif` conditional test is created to check\n",
    "if the person's age is less than 65, if true, the price is set to 40 and printed, else if all the above conditions fails (returns False), then set price to 20 and print."
   ]
  },
  {
   "cell_type": "markdown",
   "id": "9a67759e",
   "metadata": {},
   "source": [
    "### Omitting the else Block\n",
    "Python does not require an else block at the end of an if-elif chain. Sometimes an else block is useful; sometimes it is clearer to use an additional elif statement that catches the specific condition of interest. The `else` is a catchall statement, i.e it matches any condition that wasn’t matched by a specific if or elif test, and that can sometimes include\n",
    "invalid or even malicious data. This means that it is sometimes better to state a conditional test explicitly."
   ]
  },
  {
   "cell_type": "code",
   "execution_count": null,
   "id": "51c27a97",
   "metadata": {},
   "outputs": [],
   "source": [
    "age = 12\n",
    "if age < 4:\n",
    "    price = 0\n",
    "elif age < 18:\n",
    "    price = 25\n",
    "elif age < 65:\n",
    "    price = 40\n",
    "elif age >= 65:\n",
    "    price = 20\n",
    "\n",
    "print(f\"Your admission cost is ${price}.\")"
   ]
  },
  {
   "cell_type": "markdown",
   "id": "ca119c51",
   "metadata": {},
   "source": [
    "The potential pitfall of omitting the else block is that you must be very sure one of condition will evaluate to True. In the example below, the last elif block has been omitted, any age equal to or greater than 65 supplied to the program will cause it to fail. "
   ]
  },
  {
   "cell_type": "code",
   "execution_count": 4,
   "id": "a4788819",
   "metadata": {},
   "outputs": [
    {
     "ename": "NameError",
     "evalue": "name 'price' is not defined",
     "output_type": "error",
     "traceback": [
      "\u001b[1;31m---------------------------------------------------------------------------\u001b[0m",
      "\u001b[1;31mNameError\u001b[0m                                 Traceback (most recent call last)",
      "\u001b[1;32mC:\\Users\\GLOBAL~1\\AppData\\Local\\Temp/ipykernel_6536/3534528363.py\u001b[0m in \u001b[0;36m<module>\u001b[1;34m\u001b[0m\n\u001b[0;32m      9\u001b[0m \u001b[1;31m#     price = 20\u001b[0m\u001b[1;33m\u001b[0m\u001b[1;33m\u001b[0m\u001b[1;33m\u001b[0m\u001b[0m\n\u001b[0;32m     10\u001b[0m \u001b[1;33m\u001b[0m\u001b[0m\n\u001b[1;32m---> 11\u001b[1;33m \u001b[0mprint\u001b[0m\u001b[1;33m(\u001b[0m\u001b[1;34mf\"Your admission cost is ${price}.\"\u001b[0m\u001b[1;33m)\u001b[0m\u001b[1;33m\u001b[0m\u001b[1;33m\u001b[0m\u001b[0m\n\u001b[0m",
      "\u001b[1;31mNameError\u001b[0m: name 'price' is not defined"
     ]
    }
   ],
   "source": [
    "age = 70\n",
    "if age < 4:\n",
    "    price = 0\n",
    "elif age < 18:\n",
    "    price = 25\n",
    "elif age < 65:\n",
    "    price = 40\n",
    "\n",
    "print(f\"Your admission cost is ${price}.\")"
   ]
  },
  {
   "cell_type": "markdown",
   "id": "468605a0",
   "metadata": {},
   "source": [
    "#### The in Keyword\n",
    "To check whether a value is in an object (e.g list, tuples), the keyword `in` is used. `not in` does the opposite. let see some examples below."
   ]
  },
  {
   "cell_type": "code",
   "execution_count": 6,
   "id": "e6274968",
   "metadata": {},
   "outputs": [
    {
     "data": {
      "text/plain": [
       "True"
      ]
     },
     "execution_count": 6,
     "metadata": {},
     "output_type": "execute_result"
    }
   ],
   "source": [
    "users = ['bob', 'mary', 'john', 'sarah']\n",
    "'bob' in users"
   ]
  },
  {
   "cell_type": "code",
   "execution_count": 36,
   "id": "28897d4e",
   "metadata": {},
   "outputs": [
    {
     "data": {
      "text/plain": [
       "False"
      ]
     },
     "execution_count": 36,
     "metadata": {},
     "output_type": "execute_result"
    }
   ],
   "source": [
    "'bob' not in users    # The not keyword negates the original answer"
   ]
  },
  {
   "cell_type": "code",
   "execution_count": 9,
   "id": "214ec0a3",
   "metadata": {},
   "outputs": [
    {
     "data": {
      "text/plain": [
       "False"
      ]
     },
     "execution_count": 9,
     "metadata": {},
     "output_type": "execute_result"
    }
   ],
   "source": [
    "'davina' in users"
   ]
  },
  {
   "cell_type": "code",
   "execution_count": 35,
   "id": "1d2c4ca4",
   "metadata": {},
   "outputs": [
    {
     "data": {
      "text/plain": [
       "True"
      ]
     },
     "execution_count": 35,
     "metadata": {},
     "output_type": "execute_result"
    }
   ],
   "source": [
    "'davina' not in users"
   ]
  },
  {
   "cell_type": "code",
   "execution_count": 10,
   "id": "25043c10",
   "metadata": {},
   "outputs": [
    {
     "data": {
      "text/plain": [
       "True"
      ]
     },
     "execution_count": 10,
     "metadata": {},
     "output_type": "execute_result"
    }
   ],
   "source": [
    "'lo' in 'love'"
   ]
  },
  {
   "cell_type": "code",
   "execution_count": 12,
   "id": "a48a8489",
   "metadata": {},
   "outputs": [
    {
     "data": {
      "text/plain": [
       "True"
      ]
     },
     "execution_count": 12,
     "metadata": {},
     "output_type": "execute_result"
    }
   ],
   "source": [
    "'ve' in 'love'"
   ]
  },
  {
   "cell_type": "code",
   "execution_count": 11,
   "id": "1ac0bd55",
   "metadata": {},
   "outputs": [
    {
     "data": {
      "text/plain": [
       "False"
      ]
     },
     "execution_count": 11,
     "metadata": {},
     "output_type": "execute_result"
    }
   ],
   "source": [
    "'lv' in 'love'"
   ]
  },
  {
   "cell_type": "markdown",
   "id": "6a38f56b",
   "metadata": {},
   "source": [
    "### Stacking Statements (Using Multiple if Blocks)\n",
    "In the previous examples, once a condition is met, python skips all other test conditions. In some cases it might be beneficial to test for more than one condition. In this case, you should use a series of simple if statements with no\n",
    "elif or else blocks. This technique makes sense when more than one condition could be True, and you want to act on every condition that is True."
   ]
  },
  {
   "cell_type": "code",
   "execution_count": null,
   "id": "f1f25b89",
   "metadata": {},
   "outputs": [],
   "source": [
    "['english', 'math', 'biology', 'economics', 'geography']"
   ]
  },
  {
   "cell_type": "code",
   "execution_count": 17,
   "id": "4d1a868e",
   "metadata": {},
   "outputs": [
    {
     "name": "stdout",
     "output_type": "stream",
     "text": [
      "English has been registered as part of your courses for the term\n",
      "Mathematics has been registered as part of your courses for the term\n",
      "Biology has been registered as part of your courses for the term\n",
      "\n",
      "All submitted subjects has been registerd. Success in your exams!\n"
     ]
    }
   ],
   "source": [
    "submitted_subjects = ['english', 'math', 'biology']\n",
    "\n",
    "if 'english' in submitted_subjects:\n",
    "    print(f'English has been registered as part of your courses for the term')\n",
    "if 'math' in submitted_subjects:\n",
    "    print(f'Mathematics has been registered as part of your courses for the term')\n",
    "if 'economics' in submitted_subjects:\n",
    "    print(f'Economics has been registered as part of your courses for the term')\n",
    "if 'biology' in submitted_subjects:\n",
    "    print(f'Biology has been registered as part of your courses for the term')\n",
    "\n",
    "print(f'\\nAll submitted subjects has been registerd. Success in your exams!')#\\n is use to create newline before the message"
   ]
  },
  {
   "cell_type": "markdown",
   "id": "f02a5084",
   "metadata": {},
   "source": [
    "The above program will not give the desired results if we use an if-elif-else block;"
   ]
  },
  {
   "cell_type": "code",
   "execution_count": 19,
   "id": "f5c39e8e",
   "metadata": {},
   "outputs": [
    {
     "name": "stdout",
     "output_type": "stream",
     "text": [
      "English has been registered as part of your courses for the term\n",
      "\n",
      "All submitted subjects has been registerd. Success in your exams!\n"
     ]
    }
   ],
   "source": [
    "submitted_subjects = ['english', 'math', 'biology']\n",
    "\n",
    "if 'english' in submitted_subjects:\n",
    "    print(f'English has been registered as part of your courses for the term')\n",
    "elif 'math' in submitted_subjects:\n",
    "    print(f'Mathematics has been registered as part of your courses for the term')\n",
    "elif 'economics' in submitted_subjects:\n",
    "    print(f'Economics has been registered as part of your courses for the term')\n",
    "elif 'biology' in submitted_subjects:\n",
    "    print(f'Biology has been registered as part of your courses for the term')\n",
    "\n",
    "print(f'\\nAll submitted subjects has been registerd. Success in your exams!')"
   ]
  },
  {
   "cell_type": "markdown",
   "id": "c281bba1",
   "metadata": {},
   "source": [
    "### Checking for Special Items\n",
    "\n",
    "Continuing with our previous examples, if a students submits a subject that's not included in any of the test conditions, that particular subject will not be registered. The students need to be informed of this and probably the reason for such."
   ]
  },
  {
   "cell_type": "code",
   "execution_count": 25,
   "id": "681c2a6a",
   "metadata": {},
   "outputs": [
    {
     "name": "stdout",
     "output_type": "stream",
     "text": [
      "English has been registered as part of your courses for the term\n",
      "Mathematics has been registered as part of your courses for the term\n",
      "Biology has been registered as part of your courses for the term\n",
      "There won't be Fine Art classes or exams for the current term due to lack of a teacher.\n",
      "Economics has been registered as part of your courses for the term\n",
      "\n",
      "All submitted subjects has been registerd. Success in your exams!\n"
     ]
    }
   ],
   "source": [
    "submitted_subjects = ['english', 'mathematics', 'biology', 'fine art','economics']\n",
    "for submitted_subject in submitted_subjects:\n",
    "    if submitted_subject == 'fine art':\n",
    "        print(\"There won't be Fine Art classes or exams for the current term due to lack of a teacher.\")\n",
    "    else:\n",
    "        print(f'{submitted_subject.title()} has been registered as part of your courses for the term')\n",
    "\n",
    "print(f'\\nAll submitted subjects has been registerd. Success in your exams!')"
   ]
  },
  {
   "cell_type": "markdown",
   "id": "6613e616",
   "metadata": {},
   "source": [
    "### Checking for An Empty List\n",
    "Continuing with our subject registration program, it is necessary to check that the _submitted_subject_ is not an empty list. The above code has been modified such that before entering into the for loop an if statement is use to test whether the list is not empty. When the name of a list is used in an if statement, Python returns True if the list contains at least one item; an empty list evaluates to False."
   ]
  },
  {
   "cell_type": "code",
   "execution_count": 32,
   "id": "bbb71764",
   "metadata": {},
   "outputs": [
    {
     "name": "stdout",
     "output_type": "stream",
     "text": [
      "Minimum of one subject must be submitted for registration!\n"
     ]
    }
   ],
   "source": [
    "submitted_subjects = []\n",
    "\n",
    "if submitted_subjects:\n",
    "    for submitted_subject in submitted_subjects:\n",
    "        if submitted_subject == 'fine art':\n",
    "            print(\"There won't be Fine Art classes or exams for the current term due to lack of a teacher.\")\n",
    "        else:\n",
    "            print(f'{submitted_subject.title()} has been registered as part of your courses for the term')\n",
    "    print(f'\\nAll submitted subjects has been registerd. Success in your exams!')\n",
    "\n",
    "else:\n",
    "    print(f\"Minimum of one subject must be submitted for registration!\")\n"
   ]
  },
  {
   "cell_type": "markdown",
   "id": "f10cf0c1",
   "metadata": {},
   "source": [
    "### Using Multiple Lists\n",
    "Instead of 'hard coding' our program to check for a particular subject that is not been offered for the current term, we can create two list --one for all available subjects and the other for the subjects submitted by a student for registration. This is very useful if we want to avoid testing all cases of subjects not availble. Imagine if the student submit two or three or more unavailble subjects, we would have to create an if statements for each one of them."
   ]
  },
  {
   "cell_type": "code",
   "execution_count": 39,
   "id": "b6e2d41b",
   "metadata": {
    "scrolled": true
   },
   "outputs": [
    {
     "name": "stdout",
     "output_type": "stream",
     "text": [
      "English has been registered as part of your courses for the term\n",
      "There won't be Fine Art classes or exams for the current term.\n",
      "Economics has been registered as part of your courses for the term\n",
      "There won't be Chemistry classes or exams for the current term.\n",
      "\n",
      "All submitted subjects has been registerd. Success in your exams!\n"
     ]
    }
   ],
   "source": [
    "availble_subjects = ['english', 'mathematics', 'biology', 'economics', 'geography', 'physics', 'commerce']\n",
    "submitted_subjects = ['english', 'fine art', 'economics', 'chemistry']\n",
    "\n",
    "if submitted_subjects:\n",
    "    for submitted_subject in submitted_subjects:\n",
    "        if submitted_subject not in availble_subjects:\n",
    "            print(f\"There won't be {submitted_subject.title()} classes or exams for the current term.\")\n",
    "        else:\n",
    "            print(f'{submitted_subject.title()} has been registered as part of your courses for the term')\n",
    "    print(f'\\nAll submitted subjects has been registerd. Success in your exams!') \n",
    "\n",
    "else:\n",
    "    print(f\"Minimum of one subject must be submitted for registration!\")\n"
   ]
  },
  {
   "cell_type": "markdown",
   "id": "79b3849d",
   "metadata": {},
   "source": [
    "### Break and Continue\n",
    "* The `break` statement is use exit a _while_ loop immediately without running the rest of the code that follows.\n",
    "* The `continue` statement is use to skip the current loop to jump back to the beginning of the loop base on a particular condition."
   ]
  },
  {
   "cell_type": "code",
   "execution_count": 43,
   "id": "651ab403",
   "metadata": {},
   "outputs": [
    {
     "name": "stdout",
     "output_type": "stream",
     "text": [
      "What's your name?\n",
      "Enter 'quit' to exit: peter\n",
      "Nice to meet you Peter \n",
      "\n",
      "What's your name?\n",
      "Enter 'quit' to exit: john\n",
      "Nice to meet you John \n",
      "\n",
      "What's your name?\n",
      "Enter 'quit' to exit: quit\n"
     ]
    }
   ],
   "source": [
    "prompt = \"What's your name?\\nEnter 'quit' to exit: \"      \n",
    "\n",
    "while True:                                     \n",
    "    name = input(prompt)                                  \n",
    "    if name.lower() == 'quit':\n",
    "        break\n",
    "    else:\n",
    "        print(f\"Nice to meet you {name.title()} \\n\")         "
   ]
  },
  {
   "cell_type": "markdown",
   "id": "aa914332",
   "metadata": {},
   "source": [
    "There is a problem with an example above where we use a while loop to select any number in a list that is less than or equal to 10. The while loop was conditioned to break after hitting a value greater than 10 in the list. Imagine a situation whereby the first number is greater than 10, then the code will not work properly because any first number (whether greater than 10 or not) will be selected. An example is given below:"
   ]
  },
  {
   "cell_type": "code",
   "execution_count": 51,
   "id": "578f2e6e",
   "metadata": {},
   "outputs": [
    {
     "name": "stdout",
     "output_type": "stream",
     "text": [
      "[15, 9, 7, 5]\n"
     ]
    }
   ],
   "source": [
    "numbers = [15, 9, 7, 5, 12, 15, 4, 8, 3]\n",
    "less_ten = []\n",
    "index = 0\n",
    "condition = True\n",
    "\n",
    "while condition:\n",
    "    less_ten.append(numbers[index])\n",
    "    index += 1\n",
    "    condition = numbers[index] <= 10\n",
    "      \n",
    "print(less_ten)"
   ]
  },
  {
   "cell_type": "markdown",
   "id": "34129e1e",
   "metadata": {},
   "source": [
    "To solve this problem will could use the break keyword as shown below:"
   ]
  },
  {
   "cell_type": "code",
   "execution_count": 68,
   "id": "9c5b28ad",
   "metadata": {},
   "outputs": [
    {
     "name": "stdout",
     "output_type": "stream",
     "text": [
      "[]\n"
     ]
    }
   ],
   "source": [
    "numbers = [15, 9, 7, 5, 12, 15, 4, 8, 3]\n",
    "less_ten = []\n",
    "index = 0\n",
    "\n",
    "while numbers:\n",
    "    num = numbers[index]\n",
    "    index += 1\n",
    "    if num > 10:\n",
    "        break\n",
    "    else:\n",
    "        less_ten.append(num) \n",
    "    \n",
    "print(less_ten)"
   ]
  },
  {
   "cell_type": "markdown",
   "id": "51b7511d",
   "metadata": {},
   "source": [
    "Instead of breaking the program after hitting a number greater than 10, we could skip this number (and not add it \n",
    "to _less_ten_). By employing this technique we could filter out every number greater than 10 while looping through the entire list."
   ]
  },
  {
   "cell_type": "code",
   "execution_count": 72,
   "id": "92b454c2",
   "metadata": {},
   "outputs": [
    {
     "name": "stdout",
     "output_type": "stream",
     "text": [
      "[9, 7, 5, 4, 8, 3]\n"
     ]
    }
   ],
   "source": [
    "numbers = [15, 9, 7, 5, 12, 15, 4, 8, 3]\n",
    "less_ten = []\n",
    "index = 0\n",
    "\n",
    "while index < len(numbers):\n",
    "    num = numbers[index]\n",
    "    index += 1 \n",
    "    if num > 10:\n",
    "        continue\n",
    "    else:\n",
    "        less_ten.append(num)\n",
    "        \n",
    "print(less_ten)"
   ]
  },
  {
   "cell_type": "markdown",
   "id": "f5fa165a",
   "metadata": {},
   "source": [
    "To ensure the we don't have an infinite loop, the condition of the while loop was modified such that it only last the length of the list. While the index is lower than the length of the list, the loop runs but stop otherwise."
   ]
  },
  {
   "cell_type": "markdown",
   "id": "13af7b76",
   "metadata": {},
   "source": [
    "## List Comprehension\n",
    "_Comprehensions_ are more like a shorthand method for iterating through an iterable (e.g list) instead of using the for loop. To drive this idea home, let's look at an example below;"
   ]
  },
  {
   "cell_type": "code",
   "execution_count": 100,
   "id": "39f62556",
   "metadata": {},
   "outputs": [
    {
     "name": "stdout",
     "output_type": "stream",
     "text": [
      "[11, 12, 13, 14, 15, 16]\n"
     ]
    }
   ],
   "source": [
    "numbers = [1, 2, 3, 4, 5, 6]\n",
    "plus_ten = []\n",
    "for number in numbers:\n",
    "    plus_ten.append(number + 10)\n",
    "\n",
    "print(plus_ten)"
   ]
  },
  {
   "cell_type": "markdown",
   "id": "5e98a04c",
   "metadata": {},
   "source": [
    "The above code can be written with a list _comprehension_ as shown below:"
   ]
  },
  {
   "cell_type": "code",
   "execution_count": 103,
   "id": "8a62f4b3",
   "metadata": {
    "scrolled": true
   },
   "outputs": [
    {
     "data": {
      "text/plain": [
       "[11, 12, 13, 14, 15, 16]"
      ]
     },
     "execution_count": 103,
     "metadata": {},
     "output_type": "execute_result"
    }
   ],
   "source": [
    "numbers = [1, 2, 3, 4, 5, 6]\n",
    "plus_ten = [number + 10 for number in numbers]\n",
    "plus_ten"
   ]
  },
  {
   "cell_type": "markdown",
   "id": "712af213",
   "metadata": {},
   "source": [
    "The pseudocode can be written as:\n",
    "\n",
    "    L = [desired result for item in iterable if condition...]\n",
    "Take a look at another example. Let's say we want to select all even numbers from a given range of values into a list:"
   ]
  },
  {
   "cell_type": "code",
   "execution_count": 105,
   "id": "1c536385",
   "metadata": {},
   "outputs": [
    {
     "data": {
      "text/plain": [
       "[2, 4, 6, 8, 10, 12, 14, 16, 18]"
      ]
     },
     "execution_count": 105,
     "metadata": {},
     "output_type": "execute_result"
    }
   ],
   "source": [
    "even = [number for number in range(1, 20) if number % 2 == 0]\n",
    "even"
   ]
  },
  {
   "cell_type": "markdown",
   "id": "3c16a415",
   "metadata": {},
   "source": [
    "## Exercise\n",
    "Improve the student course registration program to be able to accept user input. It is to receive two response from the user\n",
    "; first, it must determine the class the student belongs whether Science, Commercial or Art. Secondly, it must collect the\n",
    "the subject the student wish to register. By knowing the class of the students, we can determine available subjects for that students.\n",
    "The program registers the courses submitted  by checking it against available subjects. if a subjects submitted is not avaible, an\n",
    "appropriate message should be printed."
   ]
  },
  {
   "cell_type": "code",
   "execution_count": 106,
   "id": "3937d6db",
   "metadata": {},
   "outputs": [
    {
     "name": "stdout",
     "output_type": "stream",
     "text": [
      "Specify your class.\n",
      "Enter 1 for Science, 2 for Commercial, 3 for Art: 2\n",
      "Enter subjects for registration.\n",
      "Seperate each subject with a space: \n",
      "\n",
      "Minimum of one subject must be submitted for registration!\n"
     ]
    }
   ],
   "source": [
    "science = ['english', 'mathematics', 'biology', 'economics', 'geography', 'physics', 'chemistry']\n",
    "commercial = ['english', 'mathematics', 'biology', 'economics', 'commerce','accounting', 'geography']\n",
    "art = ['english', 'mathematics', 'biology', 'economics', 'government', 'literature', 'history']\n",
    "\n",
    "dept = input('Specify your class.\\nEnter 1 for Science, 2 for Commercial, 3 for Art: ')\n",
    "dept = int(dept)\n",
    "submitted_subjects = input('Enter subjects for registration.\\nSeperate each subject with a space: ')\n",
    "submitted_subjects = submitted_subjects.split()\n",
    "\n",
    "\n",
    "if dept == 1:\n",
    "    available_subjects = science\n",
    "elif dept == 2:\n",
    "    available_subjects = commercial\n",
    "elif dept == 3:\n",
    "    available_subjects = art\n",
    "    \n",
    "if submitted_subjects:\n",
    "    print('\\n')\n",
    "    for submitted_subject in submitted_subjects:\n",
    "        if submitted_subject.lower() not in available_subjects:\n",
    "            print(f\"There won't be {submitted_subject.title()} classes or exams for the current term.\")\n",
    "        else:\n",
    "            print(f'{submitted_subject.title()} has been registered as part of your courses for the term')\n",
    "    print(f'\\nAll available subjects submited has been registerd. Success in your exams!') \n",
    "\n",
    "else:\n",
    "    print(f\"\\nMinimum of one subject must be submitted for registration!\")\n"
   ]
  },
  {
   "cell_type": "code",
   "execution_count": null,
   "id": "84d6584e",
   "metadata": {},
   "outputs": [],
   "source": []
  },
  {
   "cell_type": "markdown",
   "id": "0b43f9c4",
   "metadata": {},
   "source": [
    "*Copyright & copy; 2022 DataClax. This content is licensed solely for personal use. Redistribution or publication of this material is strictly prohibited.*"
   ]
  }
 ],
 "metadata": {
  "kernelspec": {
   "display_name": "Python 3 (ipykernel)",
   "language": "python",
   "name": "python3"
  },
  "language_info": {
   "codemirror_mode": {
    "name": "ipython",
    "version": 3
   },
   "file_extension": ".py",
   "mimetype": "text/x-python",
   "name": "python",
   "nbconvert_exporter": "python",
   "pygments_lexer": "ipython3",
   "version": "3.8.12"
  }
 },
 "nbformat": 4,
 "nbformat_minor": 5
}
