{
 "cells": [
  {
   "cell_type": "markdown",
   "id": "714a7ee2-b429-47e3-9949-2e460afdc14e",
   "metadata": {},
   "source": [
    "## Course Registration System\n",
    "\n",
    "This lab will guide you through building a simple course registration system in Python. You'll learn how to create, update, and manage course enrollments using lists and dictionaries.\n"
   ]
  },
  {
   "cell_type": "code",
   "execution_count": 2,
   "id": "762e5567",
   "metadata": {},
   "outputs": [],
   "source": [
    "def user(f_name, l_name, age, dob, phone_no, country, **user_info):\n",
    "    \"Returns a dictionary of user data\"\n",
    "    user_info['f_name'] = f_name\n",
    "    user_info['l_name'] = l_name\n",
    "    user_info['age'] = age\n",
    "    user_info['dob'] = dob\n",
    "    user_info['phone_no'] = phone_no\n",
    "    user_info['country'] = country     \n",
    "    return(user_info)    "
   ]
  },
  {
   "cell_type": "code",
   "execution_count": 5,
   "id": "28cbf621",
   "metadata": {
    "scrolled": true
   },
   "outputs": [
    {
     "data": {
      "text/plain": [
       "{'city': 'ibadan',\n",
       " 'next_of_kin': 'Trump',\n",
       " 'f_name': 'peter',\n",
       " 'l_name': 'obarotu',\n",
       " 'age': 12,\n",
       " 'dob': '12-12-12',\n",
       " 'phone_no': '09079303775',\n",
       " 'country': 'nigeria'}"
      ]
     },
     "execution_count": 5,
     "metadata": {},
     "output_type": "execute_result"
    }
   ],
   "source": [
    "peter = user('peter', 'obarotu', 12, '12-12-12', '09050505050', 'nigeria', city='ibadan', next_of_kin='Trump' )\n",
    "peter"
   ]
  },
  {
   "cell_type": "markdown",
   "id": "0031c1bf-4f18-4488-9ba5-983f8581ce9c",
   "metadata": {},
   "source": [
    "Define a function that helps us to extract additional info"
   ]
  },
  {
   "cell_type": "code",
   "execution_count": 17,
   "id": "fce8cabb-ed38-47f5-b1c5-22d63898d169",
   "metadata": {},
   "outputs": [],
   "source": [
    "def text_processor(text):\n",
    "    if text:\n",
    "        info = {}\n",
    "        for kv in text.split(','):\n",
    "            key = kv.split('=')[0].strip()\n",
    "            value = kv.split('=')[1].strip()\n",
    "            info.update({key:value})\n",
    "        return info\n",
    "    return {}"
   ]
  },
  {
   "cell_type": "code",
   "execution_count": 11,
   "id": "0bef2894-e4d0-4bae-9bde-8c0fa602abaa",
   "metadata": {},
   "outputs": [
    {
     "data": {
      "text/plain": [
       "{'fname': 'peter', 'spouse': 'ruby', 'location': 'Mt. Everest'}"
      ]
     },
     "execution_count": 11,
     "metadata": {},
     "output_type": "execute_result"
    }
   ],
   "source": [
    "text = \"fname=peter, spouse=ruby, location=Mt. Everest\"\n",
    "text_processor(text)"
   ]
  },
  {
   "cell_type": "markdown",
   "id": "c30952d8-18f8-4c7c-8ba9-43b6b6ad08cc",
   "metadata": {},
   "source": [
    "The following cells shows some basic Python functions and concepts which form the building block of writing a function for generating a random matric number"
   ]
  },
  {
   "cell_type": "code",
   "execution_count": 2,
   "id": "c575d0ee",
   "metadata": {},
   "outputs": [],
   "source": [
    "import random"
   ]
  },
  {
   "cell_type": "code",
   "execution_count": 75,
   "id": "997f334f",
   "metadata": {},
   "outputs": [
    {
     "data": {
      "text/plain": [
       "['1', '2', '3', '4', '5', '6', '7', '8', '9', '0']"
      ]
     },
     "execution_count": 75,
     "metadata": {},
     "output_type": "execute_result"
    }
   ],
   "source": [
    "list('1234567890')  # Converts the string of digits into a list of individual characters"
   ]
  },
  {
   "cell_type": "code",
   "execution_count": 3,
   "id": "4e6c738a",
   "metadata": {},
   "outputs": [
    {
     "data": {
      "text/plain": [
       "['5', '3', '8', '7', '6', '1']"
      ]
     },
     "execution_count": 3,
     "metadata": {},
     "output_type": "execute_result"
    }
   ],
   "source": [
    "# Randomly selects 6 unique digits from the list of characters '1' to '0'\n",
    "rand_sample = random.sample(list('1234567890'), k=6)\n",
    "rand_sample"
   ]
  },
  {
   "cell_type": "code",
   "execution_count": 76,
   "id": "19a849f6",
   "metadata": {},
   "outputs": [
    {
     "data": {
      "text/plain": [
       "['3', '7', '8', '0']"
      ]
     },
     "execution_count": 76,
     "metadata": {},
     "output_type": "execute_result"
    }
   ],
   "source": [
    "rand_sample = random.sample(list('1234567890'), k=4)   # Selects 4 unique digits\n",
    "rand_sample"
   ]
  },
  {
   "cell_type": "code",
   "execution_count": 77,
   "id": "5838127b",
   "metadata": {},
   "outputs": [
    {
     "data": {
      "text/plain": [
       "'3780'"
      ]
     },
     "execution_count": 77,
     "metadata": {},
     "output_type": "execute_result"
    }
   ],
   "source": [
    "''.join(rand_sample)   # Joins the randomly selected digits into a single string"
   ]
  },
  {
   "cell_type": "code",
   "execution_count": 78,
   "id": "a1d1c7eb",
   "metadata": {},
   "outputs": [
    {
     "data": {
      "text/plain": [
       "'3-7-8-0'"
      ]
     },
     "execution_count": 78,
     "metadata": {},
     "output_type": "execute_result"
    }
   ],
   "source": [
    "'-'.join(rand_sample) # Joins the randomly selected digits with a hyphen ('-') separator"
   ]
  },
  {
   "cell_type": "code",
   "execution_count": 79,
   "id": "d75d29e8",
   "metadata": {},
   "outputs": [
    {
     "data": {
      "text/plain": [
       "'dc223780'"
      ]
     },
     "execution_count": 79,
     "metadata": {},
     "output_type": "execute_result"
    }
   ],
   "source": [
    "'dc22' + ''.join(rand_sample) # Concatenates the string 'dc22' with the randomly generated sequence of digits"
   ]
  },
  {
   "cell_type": "code",
   "execution_count": 13,
   "id": "4cd561f3",
   "metadata": {},
   "outputs": [],
   "source": [
    "import random\n",
    "def generate_mat_no(lead_value, k=4):\n",
    "    rand_sample = random.sample(list('1234567890'), k=k)\n",
    "    return lead_value + ''.join(rand_sample)"
   ]
  },
  {
   "cell_type": "code",
   "execution_count": 45,
   "id": "28043f45",
   "metadata": {},
   "outputs": [
    {
     "data": {
      "text/plain": [
       "'DC229347'"
      ]
     },
     "execution_count": 45,
     "metadata": {},
     "output_type": "execute_result"
    }
   ],
   "source": [
    "generate_mat_no('DC22')"
   ]
  },
  {
   "cell_type": "code",
   "execution_count": 46,
   "id": "0f55d547",
   "metadata": {},
   "outputs": [],
   "source": [
    "database = {}\n",
    "key = generate_mat_no('DC22')\n",
    "database[key] = peter"
   ]
  },
  {
   "cell_type": "code",
   "execution_count": 70,
   "id": "34b7013f",
   "metadata": {},
   "outputs": [
    {
     "data": {
      "text/plain": [
       "{'dc226451': {'city': 'ibadan',\n",
       "  'next_of_kin': 'Trump',\n",
       "  'f_name': 'peter',\n",
       "  'l_name': 'obarotu',\n",
       "  'age': 22,\n",
       "  'dob': '12-12-12',\n",
       "  'phone_no': '09079303775',\n",
       "  'country': 'nigeria'}}"
      ]
     },
     "execution_count": 70,
     "metadata": {},
     "output_type": "execute_result"
    }
   ],
   "source": [
    "database"
   ]
  },
  {
   "cell_type": "code",
   "execution_count": 6,
   "id": "b2778b0a",
   "metadata": {},
   "outputs": [],
   "source": [
    "def register_user():   \n",
    "    print(\"All asterisk field must be filled\")\n",
    "    f_name = input('Enter first name*: ')\n",
    "    l_name = input('Enter last name*: ')\n",
    "    middle_name = input('Enter middle name: ')\n",
    "    age = int(input('Enter your age*: '))\n",
    "    dob = input('Enter date of birth in this format \"DD-MM-YY\"*: ')\n",
    "    phone_no = input('Phone Number*: ')\n",
    "    country = input('Country (Nigeria by default): ')\n",
    "    prompt = 'Enter additional information in the following format:\\n city=abuja, next of kin=Trump '\n",
    "    text = input(prompt)\n",
    "    \n",
    "    #Calls the text_processor function. Returns a dictionary of additional information\n",
    "    add_info = text_processor(text)\n",
    "    \n",
    "    #Add middle_name to add_info, if it's provided\n",
    "    if middle_name:\n",
    "        add_info['middle_name'] = middle_name  \n",
    "    if country:\n",
    "        country = country\n",
    "    else:\n",
    "        country = 'Nigeria'\n",
    "    #Calls the 'user' function. Unpacks 'add_info' with double star operator\n",
    "    student = user(f_name, l_name, age, dob, phone_no, country, **add_info)\n",
    "    mat_no = generate_mat_no('DC22')\n",
    "    while mat_no in database:\n",
    "        mat_no = generate_mat_no('DC22')              # regenerate a new mat_no  \n",
    "        \n",
    "    database[mat_no] = student\n",
    "    print(\"Registration successful\")\n",
    "    print(f\"{student['f_name'].title()}, your Matriculation number is {mat_no}\")"
   ]
  },
  {
   "cell_type": "code",
   "execution_count": 18,
   "id": "e7234d67",
   "metadata": {},
   "outputs": [
    {
     "name": "stdout",
     "output_type": "stream",
     "text": [
      "All asterisk field must be filled\n"
     ]
    },
    {
     "name": "stdin",
     "output_type": "stream",
     "text": [
      "Enter first name*:  kate\n",
      "Enter last name*:  henshaw\n",
      "Enter middle name:  pretty\n",
      "Enter your age*:  16\n",
      "Enter date of birth in this format \"DD-MM-YY\"*:  04-04-2004\n",
      "Phone Number*:  \n",
      "Country (Nigeria by default):  uk\n",
      "Enter additional information in the following format:\n",
      " city=abuja, next of kin=Trump  \n"
     ]
    },
    {
     "name": "stdout",
     "output_type": "stream",
     "text": [
      "Registration successful\n",
      "Kate, your Matriculation number is DC228034\n"
     ]
    }
   ],
   "source": [
    "database = {'DC221111':{'f_name':'john',\n",
    "                      'l_name':'diggle',\n",
    "                      'age':18},\n",
    "            'DC222222':{'f_name':'lebron',\n",
    "                      'l_name':'james',\n",
    "                      'age':21},\n",
    "            'DC223333':{'f_name':'kenny',\n",
    "                      'l_name':'newton',\n",
    "                      'age':20},\n",
    "           }\n",
    "\n",
    "register_user()"
   ]
  },
  {
   "cell_type": "code",
   "execution_count": 19,
   "id": "981ca1c2",
   "metadata": {},
   "outputs": [
    {
     "data": {
      "text/plain": [
       "{'DC221111': {'f_name': 'john', 'l_name': 'diggle', 'age': 18},\n",
       " 'DC222222': {'f_name': 'lebron', 'l_name': 'james', 'age': 21},\n",
       " 'DC223333': {'f_name': 'kenny', 'l_name': 'newton', 'age': 20},\n",
       " 'DC228034': {'middle_name': 'pretty',\n",
       "  'f_name': 'kate',\n",
       "  'l_name': 'henshaw',\n",
       "  'age': 16,\n",
       "  'dob': '04-04-2004',\n",
       "  'phone_no': '',\n",
       "  'country': 'uk'}}"
      ]
     },
     "execution_count": 19,
     "metadata": {},
     "output_type": "execute_result"
    }
   ],
   "source": [
    "database"
   ]
  },
  {
   "cell_type": "code",
   "execution_count": 20,
   "id": "cadbd19f",
   "metadata": {},
   "outputs": [
    {
     "name": "stdout",
     "output_type": "stream",
     "text": [
      "Register as a new student or register your courses as Old student\n"
     ]
    },
    {
     "name": "stdin",
     "output_type": "stream",
     "text": [
      "Register as a new student [y/n]:  n\n",
      "Please enter your Matriculation Number to login in:  DC228034\n"
     ]
    },
    {
     "name": "stdout",
     "output_type": "stream",
     "text": [
      "Welcome Kate! Please register your courses\n"
     ]
    },
    {
     "name": "stdin",
     "output_type": "stream",
     "text": [
      "Specify your class.\n",
      "Enter 1 for Science, 2 for Commercial, 3 for Art:  1\n",
      "Enter subjects for registration.\n",
      "Seperate each subject with a comma:  english, mathematics, biology, economics\n"
     ]
    },
    {
     "name": "stdout",
     "output_type": "stream",
     "text": [
      "\n",
      "\n",
      "English has been registered as part of your courses for the term\n",
      "There won't be  Mathematics classes or exams for the current term.\n",
      "There won't be  Biology classes or exams for the current term.\n",
      "There won't be  Economics classes or exams for the current term.\n",
      "\n",
      "All available subjects submited has been registerd. Success in your exams!\n"
     ]
    }
   ],
   "source": [
    "\n",
    "science = ['english', 'mathematics', 'biology', 'economics', 'geography', 'physics', 'chemistry']\n",
    "commercial = ['english', 'mathematics', 'biology', 'economics', 'commerce','accounting', 'geography']\n",
    "art = ['english', 'mathematics', 'biology', 'economics', 'government', 'literature', 'history']\n",
    "\n",
    "print('Register as a new student or register your courses as Old student')\n",
    "res = input('Register as a new student [y/n]: ')\n",
    "if res.lower() == 'n':\n",
    "    mat_no = input('Please enter your Matriculation Number to login in: ')\n",
    "    if mat_no in database:\n",
    "        rec = database[mat_no]\n",
    "        f_name = rec['f_name']\n",
    "        print(f\"Welcome {f_name.title()}! Please register your courses\")\n",
    "\n",
    "        dept = input('Specify your class.\\nEnter 1 for Science, 2 for Commercial, 3 for Art: ')\n",
    "        dept = int(dept)\n",
    "        submitted_subjects = input('Enter subjects for registration.\\nSeperate each subject with a comma: ')\n",
    "        submitted_subjects = submitted_subjects.split(',')\n",
    "\n",
    "\n",
    "        if dept == 1:\n",
    "            available_subjects = science\n",
    "        elif dept == 2:\n",
    "            available_subjects = commercial\n",
    "        elif dept == 3:\n",
    "            available_subjects = art\n",
    "\n",
    "        if submitted_subjects:\n",
    "            print('\\n')\n",
    "            for submitted_subject in submitted_subjects:\n",
    "                if submitted_subject.lower() not in available_subjects:\n",
    "                    print(f\"There won't be {submitted_subject.title()} classes or exams for the current term.\")\n",
    "                else:\n",
    "                    print(f'{submitted_subject.title()} has been registered as part of your courses for the term')\n",
    "            print(f'\\nAll available subjects submited has been registerd. Success in your exams!') \n",
    "\n",
    "        else:\n",
    "            print(f\"\\nMinimum of one subject must be submitted for registration!\")\n",
    "    else:\n",
    "        print('No student with this Matriculation number. Ensure you enter the correct Number')\n",
    "\n",
    "elif res.lower() == 'y':\n",
    "      register_user()\n",
    "      \n",
    "      "
   ]
  },
  {
   "cell_type": "markdown",
   "id": "36f07cef-aad0-47d3-bfb4-c78955d642ae",
   "metadata": {},
   "source": [
    "### Wrap the above code in a function\n",
    "\n",
    "Some importnt concept used are given below "
   ]
  },
  {
   "cell_type": "code",
   "execution_count": 36,
   "id": "684be053",
   "metadata": {},
   "outputs": [
    {
     "data": {
      "text/plain": [
       "['english', 'mathematics', 'fineart']"
      ]
     },
     "execution_count": 36,
     "metadata": {},
     "output_type": "execute_result"
    }
   ],
   "source": [
    "# Remove extra spaces between words while keeping commas as delimiters\n",
    "s = 'english,            mathematics,         fine art'\n",
    "courses = s.replace(' ', '').split(',')    # Split by comma and strip spaces\n",
    "courses"
   ]
  },
  {
   "cell_type": "code",
   "execution_count": 37,
   "id": "f5caccf8",
   "metadata": {
    "scrolled": true
   },
   "outputs": [
    {
     "data": {
      "text/plain": [
       "{'english', 'mathematics'}"
      ]
     },
     "execution_count": 37,
     "metadata": {},
     "output_type": "execute_result"
    }
   ],
   "source": [
    "set(courses).intersection(science)    # Check subjects available in both `courses` and `science`"
   ]
  },
  {
   "cell_type": "code",
   "execution_count": 21,
   "id": "3767a147",
   "metadata": {},
   "outputs": [],
   "source": [
    "student_records = {}        # A database for each students registered courses"
   ]
  },
  {
   "cell_type": "code",
   "execution_count": 38,
   "id": "2626391b",
   "metadata": {},
   "outputs": [],
   "source": [
    "def register_courses(mat_no):\n",
    "    \"\"\"Register a student courses \"\"\"\n",
    "    if mat_no in database:\n",
    "        rec = database[mat_no]\n",
    "        f_name = rec['f_name']\n",
    "        print(f\"Welcome {f_name.title()}! Please register your courses\")\n",
    "\n",
    "        dept = input('Specify your class.\\nEnter 1 for Science, 2 for Commercial, 3 for Art: ')\n",
    "        dept = int(dept)\n",
    "        submitted_subjects = input('Enter subjects for registration.\\nSeperate each subject with a comma: ')\n",
    "        submitted_subjects = submitted_subjects.replace(' ', '').split(',')\n",
    "\n",
    "        if dept == 1:\n",
    "            available_subjects = science\n",
    "        elif dept == 2:\n",
    "            available_subjects = commercial\n",
    "        elif dept == 3:\n",
    "            available_subjects = art\n",
    "\n",
    "        if submitted_subjects:\n",
    "            print('\\n')\n",
    "            for submitted_subject in submitted_subjects:\n",
    "                if submitted_subject.lower() not in available_subjects:\n",
    "                    print(f\"There won't be {submitted_subject.title()} classes or exams for the current term.\")\n",
    "                else:\n",
    "                    print(f'{submitted_subject.title()} has been registered as part of your courses for the term')\n",
    "            # Get all unique submitted subjects that are available and stores it in student_records.\n",
    "            submitted_available = set(submitted_subjects).intersection(available_subjects)\n",
    "            student_records[mat_no] = list(submitted_available)\n",
    "            \n",
    "            print(f'\\nAll available subjects submited has been registerd. Success in your exams!') \n",
    "        else:\n",
    "            print(f\"\\nMinimum of one subject must be submitted for registration!\")\n",
    "    else:\n",
    "        print('No student with this Matriculation number. Ensure you enter the correct Number')\n"
   ]
  },
  {
   "cell_type": "code",
   "execution_count": 40,
   "id": "3ea79d15",
   "metadata": {
    "scrolled": true
   },
   "outputs": [
    {
     "name": "stdout",
     "output_type": "stream",
     "text": [
      "Register as a new student or register your courses as Old student\n"
     ]
    },
    {
     "name": "stdin",
     "output_type": "stream",
     "text": [
      "Register as a new student [y/n]:  y\n"
     ]
    },
    {
     "name": "stdout",
     "output_type": "stream",
     "text": [
      "All asterisk field must be filled\n"
     ]
    },
    {
     "name": "stdin",
     "output_type": "stream",
     "text": [
      "Enter first name*:  jon\n",
      "Enter last name*:  doe\n",
      "Enter middle name:  \n",
      "Enter your age*:  16\n",
      "Enter date of birth in this format \"DD-MM-YY\"*:  07-07-2004\n",
      "Phone Number*:  07034563456\n",
      "Country (Nigeria by default):  \n",
      "Enter additional information in the following format:\n",
      " city=abuja, next of kin=Trump  \n"
     ]
    },
    {
     "name": "stdout",
     "output_type": "stream",
     "text": [
      "Registration successful\n",
      "Jon, your Matriculation number is DC220726\n"
     ]
    },
    {
     "name": "stdin",
     "output_type": "stream",
     "text": [
      "Please enter your Matriculation Number:  DC220726\n"
     ]
    },
    {
     "name": "stdout",
     "output_type": "stream",
     "text": [
      "Welcome Jon! Please register your courses\n"
     ]
    },
    {
     "name": "stdin",
     "output_type": "stream",
     "text": [
      "Specify your class.\n",
      "Enter 1 for Science, 2 for Commercial, 3 for Art:  1\n",
      "Enter subjects for registration.\n",
      "Seperate each subject with a comma:  english, mathematics, biology, geography\n"
     ]
    },
    {
     "name": "stdout",
     "output_type": "stream",
     "text": [
      "\n",
      "\n",
      "English has been registered as part of your courses for the term\n",
      "Mathematics has been registered as part of your courses for the term\n",
      "Biology has been registered as part of your courses for the term\n",
      "Geography has been registered as part of your courses for the term\n",
      "\n",
      "All available subjects submited has been registerd. Success in your exams!\n"
     ]
    }
   ],
   "source": [
    "import random\n",
    "science = ['english', 'mathematics', 'biology', 'economics', 'geography', 'physics', 'chemistry']\n",
    "commercial = ['english', 'mathematics', 'biology', 'economics', 'commerce','accounting', 'geography']\n",
    "art = ['english', 'mathematics', 'biology', 'economics', 'government', 'literature', 'history']\n",
    "\n",
    "print('Register as a new student or register your courses as Old student')\n",
    "res = input('Register as a new student [y/n]: ')\n",
    "if res.lower() == 'n':\n",
    "    mat_no = input('Please enter your Matriculation Number: ')\n",
    "    register_courses(mat_no)\n",
    "elif res.lower() == 'y':\n",
    "    register_user()\n",
    "    mat_no = input('Please enter your Matriculation Number: ')\n",
    "    register_courses(mat_no)"
   ]
  },
  {
   "cell_type": "markdown",
   "id": "53572d34-000f-4eb2-9e1f-41f1633823ac",
   "metadata": {},
   "source": [
    "*Copyright &copy; 2025 DataClax. This content is licensed solely for personal use. Redistribution or publication of this material is strictly prohibited.*"
   ]
  }
 ],
 "metadata": {
  "kernelspec": {
   "display_name": "Python 3 (ipykernel)",
   "language": "python",
   "name": "python3"
  },
  "language_info": {
   "codemirror_mode": {
    "name": "ipython",
    "version": 3
   },
   "file_extension": ".py",
   "mimetype": "text/x-python",
   "name": "python",
   "nbconvert_exporter": "python",
   "pygments_lexer": "ipython3",
   "version": "3.11.7"
  }
 },
 "nbformat": 4,
 "nbformat_minor": 5
}
