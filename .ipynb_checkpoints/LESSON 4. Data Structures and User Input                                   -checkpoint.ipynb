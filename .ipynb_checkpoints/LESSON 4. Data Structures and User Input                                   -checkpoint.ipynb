{
 "cells": [
  {
   "cell_type": "markdown",
   "id": "f85ff02f",
   "metadata": {},
   "source": [
    "# Data Structures"
   ]
  },
  {
   "cell_type": "markdown",
   "id": "a4dfcec4",
   "metadata": {},
   "source": [
    "## Tuples\n",
    "\n",
    "The tuple object (pronounced “toople” or “tuhple,” ) is\n",
    "roughly like a list that cannot be changed—tuples are sequences, like lists, but they are\n",
    "immutable, like strings. Functionally, they’re used to represent fixed collections of\n",
    "items."
   ]
  },
  {
   "cell_type": "code",
   "execution_count": null,
   "id": "fb622213",
   "metadata": {},
   "outputs": [],
   "source": [
    "# Most times tuples are created with parenthesis.\n",
    "language = ('python', 'java', 'perl', 'eve', 'scala', 'julia')\n",
    "print(language)"
   ]
  },
  {
   "cell_type": "code",
   "execution_count": null,
   "id": "23737241",
   "metadata": {},
   "outputs": [],
   "source": [
    "# By default without using parenthesis around a sequence, python generates a tuple\n",
    "language = 'python', 'java', 'perl', 'eve', 'scala', 'julia'\n",
    "print(language)"
   ]
  },
  {
   "cell_type": "code",
   "execution_count": null,
   "id": "3bd7c7a8",
   "metadata": {},
   "outputs": [],
   "source": [
    "# A single item tuple can be created with a trailing comma\n",
    "name = 'john',\n",
    "print(name)"
   ]
  },
  {
   "cell_type": "code",
   "execution_count": null,
   "id": "d8ccf9fd",
   "metadata": {},
   "outputs": [],
   "source": [
    "3,2"
   ]
  },
  {
   "cell_type": "markdown",
   "id": "6d22e6aa",
   "metadata": {},
   "source": [
    "Tuples supports indexing and slicing  just like list, but does not supports item assignment "
   ]
  },
  {
   "cell_type": "code",
   "execution_count": null,
   "id": "0ee24409",
   "metadata": {},
   "outputs": [],
   "source": [
    "language"
   ]
  },
  {
   "cell_type": "code",
   "execution_count": null,
   "id": "b10f6afe",
   "metadata": {},
   "outputs": [],
   "source": [
    "language[3]"
   ]
  },
  {
   "cell_type": "code",
   "execution_count": null,
   "id": "79b9ffe9",
   "metadata": {},
   "outputs": [],
   "source": [
    "language[0:5]"
   ]
  },
  {
   "cell_type": "code",
   "execution_count": null,
   "id": "8dc27f3e",
   "metadata": {},
   "outputs": [],
   "source": [
    "language[0] = 'javascript'  # tuples can't be changed(immutable)"
   ]
  },
  {
   "cell_type": "markdown",
   "id": "906a122d",
   "metadata": {},
   "source": [
    "Tuples supports mixed types and nesting like list and also have their methods"
   ]
  },
  {
   "cell_type": "code",
   "execution_count": null,
   "id": "95efae1d",
   "metadata": {},
   "outputs": [],
   "source": [
    "tup = 'perl', 'javascript', [1, 2, 3],\n",
    "tup"
   ]
  },
  {
   "cell_type": "code",
   "execution_count": null,
   "id": "064fc563",
   "metadata": {},
   "outputs": [],
   "source": [
    "tup[2] # The item at index 2 is a list, and it can be indexed futher."
   ]
  },
  {
   "cell_type": "code",
   "execution_count": null,
   "id": "e13a12f6",
   "metadata": {},
   "outputs": [],
   "source": [
    "tup[2][1]"
   ]
  },
  {
   "cell_type": "code",
   "execution_count": null,
   "id": "9d740481",
   "metadata": {},
   "outputs": [],
   "source": [
    "l = tup[2]"
   ]
  },
  {
   "cell_type": "code",
   "execution_count": null,
   "id": "57f54062",
   "metadata": {},
   "outputs": [],
   "source": [
    "l[1]"
   ]
  },
  {
   "cell_type": "code",
   "execution_count": null,
   "id": "6d849eac",
   "metadata": {},
   "outputs": [],
   "source": [
    "language"
   ]
  },
  {
   "cell_type": "code",
   "execution_count": null,
   "id": "cccfc26f",
   "metadata": {},
   "outputs": [],
   "source": [
    "language.index('java')"
   ]
  },
  {
   "cell_type": "code",
   "execution_count": null,
   "id": "a1f0892f",
   "metadata": {},
   "outputs": [],
   "source": [
    "'java'.index('v')"
   ]
  },
  {
   "cell_type": "code",
   "execution_count": null,
   "id": "4c0209c6",
   "metadata": {
    "scrolled": true
   },
   "outputs": [],
   "source": [
    "num = 1, 2, 2, 4, 5, 3, 4, 2\n",
    "num.count(2)"
   ]
  },
  {
   "cell_type": "markdown",
   "id": "0680537d",
   "metadata": {},
   "source": [
    "A tuple can be converted to a list and vice-versa\n",
    "* The `list()` function converts an object to a list and \n",
    "* The `tuple()` function converts an object to a tuple"
   ]
  },
  {
   "cell_type": "code",
   "execution_count": null,
   "id": "94ee6496",
   "metadata": {},
   "outputs": [],
   "source": [
    "L = list(language)\n",
    "print(L)"
   ]
  },
  {
   "cell_type": "code",
   "execution_count": null,
   "id": "f71803b8",
   "metadata": {},
   "outputs": [],
   "source": [
    "tuple(L)"
   ]
  },
  {
   "cell_type": "markdown",
   "id": "bc772cbb",
   "metadata": {},
   "source": [
    "### Named Tuple\n",
    "When you have a large file or a long list of items, it can sometimes be difficult to know the exact position(index) of an item. A named tuple can help here, where an item can be access by its __fieldname__.\n",
    "To create a named tuple, you have to import it from the collections module in the same way you did for deque list."
   ]
  },
  {
   "cell_type": "code",
   "execution_count": null,
   "id": "7b7898a0",
   "metadata": {},
   "outputs": [],
   "source": [
    "from collections import namedtuple"
   ]
  },
  {
   "cell_type": "code",
   "execution_count": null,
   "id": "37715bd7",
   "metadata": {},
   "outputs": [],
   "source": [
    "record = namedtuple('Person', ['name', 'age', 'jobs'])    # Create an instance of a namedtuple with fieldnames  \n",
    "                                                        # passed as a list of strings."
   ]
  },
  {
   "cell_type": "code",
   "execution_count": null,
   "id": "92765c2f",
   "metadata": {
    "scrolled": true
   },
   "outputs": [],
   "source": [
    "tricia = record('tricia', 30, 'HRM')  # A tuple record with values to each fieldnames passed sequentially\n",
    "tricia"
   ]
  },
  {
   "cell_type": "code",
   "execution_count": null,
   "id": "ec12fcb6",
   "metadata": {},
   "outputs": [],
   "source": [
    "record('Sydney', 10, 'student')"
   ]
  },
  {
   "cell_type": "markdown",
   "id": "8fb04275",
   "metadata": {},
   "source": [
    "Another tuple record passed non-sequentially using the fieldname along with its corresponding values.\n"
   ]
  },
  {
   "cell_type": "code",
   "execution_count": null,
   "id": "bc259d51",
   "metadata": {},
   "outputs": [],
   "source": [
    "john = record(jobs=['dev', 'mgr'], name='John', age=35) "
   ]
  },
  {
   "cell_type": "markdown",
   "id": "89e5b086",
   "metadata": {},
   "source": [
    "An item can be access either by index or by the fieldname."
   ]
  },
  {
   "cell_type": "code",
   "execution_count": null,
   "id": "9a0ff4c6",
   "metadata": {},
   "outputs": [],
   "source": [
    "john"
   ]
  },
  {
   "cell_type": "code",
   "execution_count": null,
   "id": "fbd1e3de",
   "metadata": {},
   "outputs": [],
   "source": [
    "john[0]"
   ]
  },
  {
   "cell_type": "code",
   "execution_count": null,
   "id": "4adab851",
   "metadata": {},
   "outputs": [],
   "source": [
    "tricia"
   ]
  },
  {
   "cell_type": "code",
   "execution_count": null,
   "id": "c559210c",
   "metadata": {
    "scrolled": true
   },
   "outputs": [],
   "source": [
    "tricia[0]  # Normal style"
   ]
  },
  {
   "cell_type": "code",
   "execution_count": null,
   "id": "d010ae2c",
   "metadata": {},
   "outputs": [],
   "source": [
    "tricia.name  # attribute style"
   ]
  },
  {
   "cell_type": "code",
   "execution_count": null,
   "id": "279ee436",
   "metadata": {
    "scrolled": true
   },
   "outputs": [],
   "source": [
    "john.jobs"
   ]
  },
  {
   "cell_type": "code",
   "execution_count": null,
   "id": "babc7937",
   "metadata": {
    "scrolled": true
   },
   "outputs": [],
   "source": [
    "tricia.age"
   ]
  },
  {
   "cell_type": "code",
   "execution_count": null,
   "id": "164e6aee",
   "metadata": {},
   "outputs": [],
   "source": [
    "tricia[1]"
   ]
  },
  {
   "cell_type": "code",
   "execution_count": null,
   "id": "4223d487",
   "metadata": {
    "scrolled": true
   },
   "outputs": [],
   "source": [
    "john[0]"
   ]
  },
  {
   "cell_type": "code",
   "execution_count": null,
   "id": "732ca79e",
   "metadata": {},
   "outputs": [],
   "source": [
    "john.name"
   ]
  },
  {
   "cell_type": "markdown",
   "id": "95b9acad",
   "metadata": {},
   "source": [
    "The `_replace()` method is use to reassign the value of a fieldname in a namedtuple"
   ]
  },
  {
   "cell_type": "code",
   "execution_count": null,
   "id": "50e01477",
   "metadata": {},
   "outputs": [],
   "source": [
    "john.age"
   ]
  },
  {
   "cell_type": "code",
   "execution_count": null,
   "id": "731f1c15",
   "metadata": {},
   "outputs": [],
   "source": [
    "john._replace(age=32) #set john's age to 32"
   ]
  },
  {
   "cell_type": "code",
   "execution_count": null,
   "id": "2d136b23",
   "metadata": {},
   "outputs": [],
   "source": [
    "tricia._replace(jobs='CTO') # Set  tricia's job to a new value."
   ]
  },
  {
   "cell_type": "code",
   "execution_count": null,
   "id": "a64b41d4",
   "metadata": {},
   "outputs": [],
   "source": [
    "# A namedtuple that stores components of date\n",
    "date = namedtuple('datetime', ['year', 'month', 'day', 'hour', 'min', 'sec', 'p'])"
   ]
  },
  {
   "cell_type": "code",
   "execution_count": null,
   "id": "18d38aca",
   "metadata": {},
   "outputs": [],
   "source": [
    "now = date(2023, 11, 18, 11, 35, 54, 'am')\n",
    "now"
   ]
  },
  {
   "cell_type": "code",
   "execution_count": null,
   "id": "b2f9f0d6",
   "metadata": {},
   "outputs": [],
   "source": [
    "now.min"
   ]
  },
  {
   "cell_type": "code",
   "execution_count": null,
   "id": "39805072",
   "metadata": {},
   "outputs": [],
   "source": [
    "now.year"
   ]
  },
  {
   "cell_type": "code",
   "execution_count": null,
   "id": "076191a7",
   "metadata": {},
   "outputs": [],
   "source": [
    "now[0]       # Using index to access the year component"
   ]
  },
  {
   "cell_type": "code",
   "execution_count": null,
   "id": "ee5cb66f-e406-44d0-adca-94f54814b8b1",
   "metadata": {},
   "outputs": [],
   "source": [
    "today = date(year=2023, month=5, day=27, hour=15, min=0, sec=0, p='pm')"
   ]
  },
  {
   "cell_type": "code",
   "execution_count": null,
   "id": "5892f551",
   "metadata": {
    "scrolled": true
   },
   "outputs": [],
   "source": [
    "today.year"
   ]
  },
  {
   "cell_type": "code",
   "execution_count": null,
   "id": "443753f2",
   "metadata": {},
   "outputs": [],
   "source": [
    "f'Today\\'s date is:{today.day}-{today.month}-{today.year}'"
   ]
  },
  {
   "cell_type": "code",
   "execution_count": null,
   "id": "faf737dd-3f9a-4be5-8c65-5128a898a647",
   "metadata": {
    "scrolled": true
   },
   "outputs": [],
   "source": [
    "print('Today\\'s date is: ', today.day, '-', today.month, '-', today.year, sep='')"
   ]
  },
  {
   "cell_type": "markdown",
   "id": "2a10d872",
   "metadata": {},
   "source": [
    "if we use the `dir` function to check the attributes/methods available for our datetime namedtuple object, we now have the fieldnames included"
   ]
  },
  {
   "cell_type": "code",
   "execution_count": null,
   "id": "be660f9b",
   "metadata": {},
   "outputs": [],
   "source": [
    "dir(today)"
   ]
  },
  {
   "cell_type": "markdown",
   "id": "17270618",
   "metadata": {
    "tags": []
   },
   "source": [
    "## Sets\n",
    "Sets are used to store multiple (unique) items or elements in a single variable just like list and tuple. Sets are collection of distinct objects, typically called elements or members.They are one of the four data structures in Python. The following are important things to note about set:\n",
    "* Sets are unordered unlike tuples and list, therefore can't be indexed or sliced.\n",
    "* Set elements are unique. Duplicate elements are not allowed.\n",
    "* A set itself may be modified, but the elements contained in the set must be of an immutable type.\n",
    "\n",
    "A Set can be  created  in two ways-with a curly braces `{}`, or with the `set` function with an iterable pass to it. Lets take a look at some examples below."
   ]
  },
  {
   "cell_type": "code",
   "execution_count": 1,
   "id": "43cacce3",
   "metadata": {},
   "outputs": [
    {
     "data": {
      "text/plain": [
       "{'bar', 'baz', 'foo'}"
      ]
     },
     "execution_count": 1,
     "metadata": {},
     "output_type": "execute_result"
    }
   ],
   "source": [
    "my_set = {'foo', 'bar','baz', 'foo'} # Note from the result that the sequence is unordered containing only unique items.\n",
    "my_set                                 "
   ]
  },
  {
   "cell_type": "code",
   "execution_count": 2,
   "id": "7a06ead1",
   "metadata": {},
   "outputs": [
    {
     "data": {
      "text/plain": [
       "{1, 2, 3, 4, 5}"
      ]
     },
     "execution_count": 2,
     "metadata": {},
     "output_type": "execute_result"
    }
   ],
   "source": [
    "my_set2 = {3, 1, 2, 1, 4, 3, 5}\n",
    "my_set2"
   ]
  },
  {
   "cell_type": "code",
   "execution_count": 3,
   "id": "7d3d01dc",
   "metadata": {
    "scrolled": true
   },
   "outputs": [
    {
     "data": {
      "text/plain": [
       "{'cairo', 'lagos', 'london', 'tokyo'}"
      ]
     },
     "execution_count": 3,
     "metadata": {},
     "output_type": "execute_result"
    }
   ],
   "source": [
    "# Using the set function\n",
    "set(['lagos', 'cairo', 'tokyo', 'cairo', 'london']) # pass a list as the iterable argument"
   ]
  },
  {
   "cell_type": "code",
   "execution_count": 4,
   "id": "013258f0",
   "metadata": {
    "scrolled": true
   },
   "outputs": [
    {
     "data": {
      "text/plain": [
       "{'eve', 'java', 'perl', 'python'}"
      ]
     },
     "execution_count": 4,
     "metadata": {},
     "output_type": "execute_result"
    }
   ],
   "source": [
    "set(('python', 'java', 'java', 'perl', 'eve','perl')) # pass a tuple as the iterable argument"
   ]
  },
  {
   "cell_type": "code",
   "execution_count": 10,
   "id": "c59aa2c9",
   "metadata": {},
   "outputs": [
    {
     "name": "stdout",
     "output_type": "stream",
     "text": [
      "Hello\n"
     ]
    }
   ],
   "source": []
  },
  {
   "cell_type": "code",
   "execution_count": 5,
   "id": "7d7b27ae",
   "metadata": {
    "scrolled": true
   },
   "outputs": [
    {
     "ename": "TypeError",
     "evalue": "'set' object is not subscriptable",
     "output_type": "error",
     "traceback": [
      "\u001b[1;31m---------------------------------------------------------------------------\u001b[0m",
      "\u001b[1;31mTypeError\u001b[0m                                 Traceback (most recent call last)",
      "\u001b[1;32mC:\\Users\\GLOBAL~1\\AppData\\Local\\Temp/ipykernel_12628/377166874.py\u001b[0m in \u001b[0;36m<module>\u001b[1;34m\u001b[0m\n\u001b[1;32m----> 1\u001b[1;33m \u001b[0mmy_set\u001b[0m\u001b[1;33m[\u001b[0m\u001b[1;36m0\u001b[0m\u001b[1;33m:\u001b[0m\u001b[1;36m3\u001b[0m\u001b[1;33m]\u001b[0m   \u001b[1;31m# An error occurs because set can't be indexed or slice\u001b[0m\u001b[1;33m\u001b[0m\u001b[1;33m\u001b[0m\u001b[0m\n\u001b[0m",
      "\u001b[1;31mTypeError\u001b[0m: 'set' object is not subscriptable"
     ]
    }
   ],
   "source": [
    "my_set[0:3]   # An error occurs because set can't be indexed or slice"
   ]
  },
  {
   "cell_type": "markdown",
   "id": "f9362d68",
   "metadata": {},
   "source": [
    "There is a difference between using a curly braces to create a set and using the set function.\n",
    "* Using the set function will iterate through the list or tuple or any iterable object passed to it and set each unique values/items of the list (or any iterable object) as a member of the set.\n",
    "* Using a curly braces set each item supplied directly as a member."
   ]
  },
  {
   "cell_type": "markdown",
   "id": "54ce9acd",
   "metadata": {},
   "source": [
    "#### Take note of the difference below:"
   ]
  },
  {
   "cell_type": "code",
   "execution_count": 11,
   "id": "2538925e",
   "metadata": {
    "scrolled": true
   },
   "outputs": [
    {
     "data": {
      "text/plain": [
       "{'foo'}"
      ]
     },
     "execution_count": 11,
     "metadata": {},
     "output_type": "execute_result"
    }
   ],
   "source": [
    "# Using curly braces\n",
    "{'foo'}"
   ]
  },
  {
   "cell_type": "code",
   "execution_count": 13,
   "id": "91a31702",
   "metadata": {},
   "outputs": [
    {
     "data": {
      "text/plain": [
       "{'b', 'f', 'o'}"
      ]
     },
     "execution_count": 13,
     "metadata": {},
     "output_type": "execute_result"
    }
   ],
   "source": [
    "# Using the set function\n",
    "set('foo')                         # Note that strings are iterable like lists and tuples."
   ]
  },
  {
   "cell_type": "markdown",
   "id": "6a9fc535",
   "metadata": {},
   "source": [
    "In the output above  the set function makes each unique elements ('f' and 'o') of `foo` as elements of the set"
   ]
  },
  {
   "cell_type": "code",
   "execution_count": 14,
   "id": "7e1c18e2",
   "metadata": {},
   "outputs": [
    {
     "data": {
      "text/plain": [
       "['f', 'o', 'o']"
      ]
     },
     "execution_count": 14,
     "metadata": {},
     "output_type": "execute_result"
    }
   ],
   "source": [
    "list('foo')"
   ]
  },
  {
   "cell_type": "markdown",
   "id": "8199efd9",
   "metadata": {},
   "source": [
    "Sets are mutable, i.e can change, but the **individual members must be immutable**. A tuple is immutable (cannot grow in size or change), so it can be a valid member of a set. On the other hand, list and Dictionaries (will be discuss in future lessons) \n",
    "are mutable and therefore can not be a valid member of a set."
   ]
  },
  {
   "cell_type": "code",
   "execution_count": 15,
   "id": "971d39b7",
   "metadata": {},
   "outputs": [
    {
     "data": {
      "text/plain": [
       "{(1, 2, 3), 'bar', 'foo'}"
      ]
     },
     "execution_count": 15,
     "metadata": {},
     "output_type": "execute_result"
    }
   ],
   "source": [
    "my_set3 = {'foo', 'bar', (1, 2, 3)}       # No error, string and tuple are immutable\n",
    "my_set3"
   ]
  },
  {
   "cell_type": "code",
   "execution_count": 16,
   "id": "d665f234",
   "metadata": {
    "scrolled": true
   },
   "outputs": [
    {
     "ename": "TypeError",
     "evalue": "unhashable type: 'list'",
     "output_type": "error",
     "traceback": [
      "\u001b[1;31m---------------------------------------------------------------------------\u001b[0m",
      "\u001b[1;31mTypeError\u001b[0m                                 Traceback (most recent call last)",
      "\u001b[1;32mC:\\Users\\GLOBAL~1\\AppData\\Local\\Temp/ipykernel_12628/2356412063.py\u001b[0m in \u001b[0;36m<module>\u001b[1;34m\u001b[0m\n\u001b[1;32m----> 1\u001b[1;33m \u001b[0mmy_set4\u001b[0m \u001b[1;33m=\u001b[0m \u001b[1;33m{\u001b[0m\u001b[1;34m'foo'\u001b[0m\u001b[1;33m,\u001b[0m \u001b[1;34m'bar'\u001b[0m\u001b[1;33m,\u001b[0m \u001b[1;33m[\u001b[0m\u001b[1;36m1\u001b[0m\u001b[1;33m,\u001b[0m \u001b[1;36m2\u001b[0m\u001b[1;33m,\u001b[0m \u001b[1;36m3\u001b[0m\u001b[1;33m]\u001b[0m\u001b[1;33m}\u001b[0m      \u001b[1;31m# Error occurs, lists are mutable\u001b[0m\u001b[1;33m\u001b[0m\u001b[1;33m\u001b[0m\u001b[0m\n\u001b[0m",
      "\u001b[1;31mTypeError\u001b[0m: unhashable type: 'list'"
     ]
    }
   ],
   "source": [
    "my_set4 = {'foo', 'bar', [1, 2, 3]}      # Error occurs, lists are mutable"
   ]
  },
  {
   "cell_type": "code",
   "execution_count": 17,
   "id": "ab369393",
   "metadata": {
    "scrolled": true
   },
   "outputs": [
    {
     "ename": "TypeError",
     "evalue": "unhashable type: 'dict'",
     "output_type": "error",
     "traceback": [
      "\u001b[1;31m---------------------------------------------------------------------------\u001b[0m",
      "\u001b[1;31mTypeError\u001b[0m                                 Traceback (most recent call last)",
      "\u001b[1;32mC:\\Users\\GLOBAL~1\\AppData\\Local\\Temp/ipykernel_12628/1458371485.py\u001b[0m in \u001b[0;36m<module>\u001b[1;34m\u001b[0m\n\u001b[1;32m----> 1\u001b[1;33m \u001b[0mmy_set4\u001b[0m \u001b[1;33m=\u001b[0m \u001b[1;33m{\u001b[0m\u001b[1;34m'foo'\u001b[0m\u001b[1;33m,\u001b[0m \u001b[1;34m'bar'\u001b[0m\u001b[1;33m,\u001b[0m \u001b[1;33m{\u001b[0m\u001b[1;34m'one'\u001b[0m\u001b[1;33m:\u001b[0m\u001b[1;36m1\u001b[0m\u001b[1;33m,\u001b[0m \u001b[1;34m'two'\u001b[0m\u001b[1;33m:\u001b[0m\u001b[1;36m2\u001b[0m\u001b[1;33m,\u001b[0m \u001b[1;34m'three'\u001b[0m\u001b[1;33m:\u001b[0m\u001b[1;36m3\u001b[0m\u001b[1;33m}\u001b[0m\u001b[1;33m}\u001b[0m    \u001b[1;31m# Error occurs. Dicts. are mutable\u001b[0m\u001b[1;33m\u001b[0m\u001b[1;33m\u001b[0m\u001b[0m\n\u001b[0m",
      "\u001b[1;31mTypeError\u001b[0m: unhashable type: 'dict'"
     ]
    }
   ],
   "source": [
    "my_set4 = {'foo', 'bar', {'one':1, 'two':2, 'three':3}}    # Error occurs. Dicts. are mutable"
   ]
  },
  {
   "cell_type": "markdown",
   "id": "2e3eac18",
   "metadata": {},
   "source": [
    "Any object that is unhashable is mutable and objects that are hashable are immutable. Hashable objects in Python are those that have a hash value that remains constant during their lifetime. Immutable objects like strings, integers, tuples (if they contain only hashable elements), and frozensets are hashable and can be used as set elements or dictionary keys."
   ]
  },
  {
   "cell_type": "code",
   "execution_count": 22,
   "id": "dce782cb",
   "metadata": {},
   "outputs": [
    {
     "name": "stdout",
     "output_type": "stream",
     "text": [
      "[1, 5, 3]\n"
     ]
    }
   ],
   "source": [
    "t = [1, 2, 3]\n",
    "t[1] = 5\n",
    "print(t)"
   ]
  },
  {
   "cell_type": "code",
   "execution_count": 23,
   "id": "14f37ad7",
   "metadata": {},
   "outputs": [
    {
     "data": {
      "text/plain": [
       "529344067295497451"
      ]
     },
     "execution_count": 23,
     "metadata": {},
     "output_type": "execute_result"
    }
   ],
   "source": [
    "hash((1, 2, 3))     # A tuple is hashable"
   ]
  },
  {
   "cell_type": "code",
   "execution_count": 24,
   "id": "9348db4e",
   "metadata": {},
   "outputs": [
    {
     "ename": "TypeError",
     "evalue": "unhashable type: 'list'",
     "output_type": "error",
     "traceback": [
      "\u001b[1;31m---------------------------------------------------------------------------\u001b[0m",
      "\u001b[1;31mTypeError\u001b[0m                                 Traceback (most recent call last)",
      "\u001b[1;32mC:\\Users\\GLOBAL~1\\AppData\\Local\\Temp/ipykernel_12628/798868429.py\u001b[0m in \u001b[0;36m<module>\u001b[1;34m\u001b[0m\n\u001b[1;32m----> 1\u001b[1;33m \u001b[0mhash\u001b[0m\u001b[1;33m(\u001b[0m\u001b[1;33m[\u001b[0m\u001b[1;36m1\u001b[0m\u001b[1;33m,\u001b[0m \u001b[1;36m2\u001b[0m\u001b[1;33m,\u001b[0m \u001b[1;36m3\u001b[0m\u001b[1;33m]\u001b[0m\u001b[1;33m)\u001b[0m      \u001b[1;31m# A list is unhashable because it can change\u001b[0m\u001b[1;33m\u001b[0m\u001b[1;33m\u001b[0m\u001b[0m\n\u001b[0m",
      "\u001b[1;31mTypeError\u001b[0m: unhashable type: 'list'"
     ]
    }
   ],
   "source": [
    "hash([1, 2, 3])      # A list is unhashable because it can change"
   ]
  },
  {
   "cell_type": "markdown",
   "id": "dd7cfe2b",
   "metadata": {},
   "source": [
    "### Methods and Operators in Set\n",
    "Set in Python behaves exactly like the set we're familiar with in mathematics. Using `dir` function on a set object list all the methods available to a set. Some operations in set can be perform by methods, some by operators and others by both. A more detailed knowlegde on set can be find __[here](https://realpython.com/python-sets)__. \n",
    "A few of set methods are listed below:\n",
    "* `add()`:  Add a single immutable element to a set. This has no effect if the element is already present.\n",
    "* `union()`: Return the set of all unique elements in two or more sets.\n",
    "* `intersection()`: Return a set of elements common to two or more sets.\n",
    "* `difference()`: Return all elements that are in a particular set but not present in another\n",
    "* `update()`: Add to a set elements from another set or new elemnts supplied which are not present in that set. \n",
    "* `remove()`: Removes an element from a set.\n",
    "* `pop()`: Removes an abitrarily determined element from a set\n"
   ]
  },
  {
   "attachments": {
    "image-2.png": {
     "image/png": "[encoded data removed]"
    },
    "image-3.png": {
     "image/png": "[encoded data removed]"
    },
    "image.png": {
     "image/png": "[encoded data removed]"
    }
   },
   "cell_type": "markdown",
   "id": "20191a9e",
   "metadata": {},
   "source": [
    "\n",
    "![image.png](attachment:image.png)\n",
    "$$ A ~ union ~ B ~ (A \\cup B) $$\n",
    "\n",
    "![image-2.png](attachment:image-2.png)\n",
    "$$ A ~ intersection ~ B ~(A \\cap B) $$\n",
    "\n",
    "![image-3.png](attachment:image-3.png)\n",
    "$$ A ~ difference ~ B ~(A - B) $$"
   ]
  },
  {
   "cell_type": "code",
   "execution_count": 26,
   "id": "a211e49c",
   "metadata": {},
   "outputs": [],
   "source": [
    "x1 = {'lexus', 'opel', 'ford', 'hyundai', 'toyota'}\n",
    "x2 = {'toyota','tesla', 'kia','ford'}"
   ]
  },
  {
   "cell_type": "code",
   "execution_count": 27,
   "id": "ba0ee808",
   "metadata": {},
   "outputs": [
    {
     "name": "stdout",
     "output_type": "stream",
     "text": [
      "{'toyota', 'lexus', 'hyundai', 'porsche', 'opel', 'ford'}\n"
     ]
    }
   ],
   "source": [
    "x1.add('porsche')\n",
    "print(x1)"
   ]
  },
  {
   "cell_type": "code",
   "execution_count": 28,
   "id": "62064706",
   "metadata": {},
   "outputs": [
    {
     "data": {
      "text/plain": [
       "{'ford', 'hyundai', 'kia', 'lexus', 'opel', 'porsche', 'tesla', 'toyota'}"
      ]
     },
     "execution_count": 28,
     "metadata": {},
     "output_type": "execute_result"
    }
   ],
   "source": [
    "x1.union(x2)"
   ]
  },
  {
   "cell_type": "code",
   "execution_count": 29,
   "id": "ae943447",
   "metadata": {},
   "outputs": [
    {
     "data": {
      "text/plain": [
       "{'ford', 'hyundai', 'kia', 'lexus', 'opel', 'porsche', 'tesla', 'toyota'}"
      ]
     },
     "execution_count": 29,
     "metadata": {},
     "output_type": "execute_result"
    }
   ],
   "source": [
    "x1 | x2    # Union by using the pipe (|) operator"
   ]
  },
  {
   "cell_type": "code",
   "execution_count": 30,
   "id": "a374f13c",
   "metadata": {},
   "outputs": [
    {
     "data": {
      "text/plain": [
       "{'ford', 'toyota'}"
      ]
     },
     "execution_count": 30,
     "metadata": {},
     "output_type": "execute_result"
    }
   ],
   "source": [
    "x1.intersection(x2)"
   ]
  },
  {
   "cell_type": "code",
   "execution_count": 31,
   "id": "e9392bda",
   "metadata": {},
   "outputs": [
    {
     "data": {
      "text/plain": [
       "{'ford', 'toyota'}"
      ]
     },
     "execution_count": 31,
     "metadata": {},
     "output_type": "execute_result"
    }
   ],
   "source": [
    "x1 & x2     # intersection by using the ampersand (&) operator."
   ]
  },
  {
   "cell_type": "code",
   "execution_count": 32,
   "id": "96baafe0",
   "metadata": {},
   "outputs": [
    {
     "data": {
      "text/plain": [
       "{'hyundai', 'lexus', 'opel', 'porsche'}"
      ]
     },
     "execution_count": 32,
     "metadata": {},
     "output_type": "execute_result"
    }
   ],
   "source": [
    "x1.difference(x2)"
   ]
  },
  {
   "cell_type": "code",
   "execution_count": 34,
   "id": "481d3b54",
   "metadata": {
    "scrolled": true
   },
   "outputs": [
    {
     "name": "stdout",
     "output_type": "stream",
     "text": [
      "{'toyota', 'lexus', 'hyundai', 'porsche', 'tesla', 'kia', 'opel', 'ford'}\n"
     ]
    }
   ],
   "source": [
    "x1.update(x2)\n",
    "print(x1)        # Note that the set is modified in-place unlike union that returns a copy."
   ]
  },
  {
   "cell_type": "code",
   "execution_count": 35,
   "id": "0e4f9c6a",
   "metadata": {},
   "outputs": [
    {
     "data": {
      "text/plain": [
       "{'ford', 'hyundai', 'kia', 'lexus', 'opel', 'porsche', 'tesla', 'toyota'}"
      ]
     },
     "execution_count": 35,
     "metadata": {},
     "output_type": "execute_result"
    }
   ],
   "source": [
    "x1               # The update operation above has permanently change the x1"
   ]
  },
  {
   "cell_type": "code",
   "execution_count": null,
   "id": "78103556",
   "metadata": {},
   "outputs": [],
   "source": [
    "x1 = {'lexus', 'opel', 'ford', 'hyundai', 'toyota'} # Recreate the original sets\n",
    "x2 = {'toyota','tesla', 'kia','ford'}"
   ]
  },
  {
   "cell_type": "code",
   "execution_count": null,
   "id": "c43b32db",
   "metadata": {},
   "outputs": [],
   "source": [
    "x1 |= x2           # update through the use of the combination of pipe(|) and equal sign(=) operators\n",
    "print(x1)          # Only work between two sets"
   ]
  },
  {
   "cell_type": "markdown",
   "id": "18439496",
   "metadata": {},
   "source": [
    "Note that set operators only work amongst set, using an operator with other data type will result in an error."
   ]
  },
  {
   "cell_type": "code",
   "execution_count": 36,
   "id": "327a788a",
   "metadata": {},
   "outputs": [
    {
     "ename": "TypeError",
     "evalue": "unsupported operand type(s) for |=: 'set' and 'list'",
     "output_type": "error",
     "traceback": [
      "\u001b[1;31m---------------------------------------------------------------------------\u001b[0m",
      "\u001b[1;31mTypeError\u001b[0m                                 Traceback (most recent call last)",
      "\u001b[1;32mC:\\Users\\GLOBAL~1\\AppData\\Local\\Temp/ipykernel_12628/2949098540.py\u001b[0m in \u001b[0;36m<module>\u001b[1;34m\u001b[0m\n\u001b[1;32m----> 1\u001b[1;33m \u001b[0mx1\u001b[0m \u001b[1;33m|=\u001b[0m \u001b[1;33m[\u001b[0m\u001b[1;34m'bugatti'\u001b[0m\u001b[1;33m,\u001b[0m \u001b[1;34m'mazda'\u001b[0m\u001b[1;33m]\u001b[0m\u001b[1;33m\u001b[0m\u001b[1;33m\u001b[0m\u001b[0m\n\u001b[0m",
      "\u001b[1;31mTypeError\u001b[0m: unsupported operand type(s) for |=: 'set' and 'list'"
     ]
    }
   ],
   "source": [
    "x1 |= ['bugatti', 'mazda']"
   ]
  },
  {
   "cell_type": "markdown",
   "id": "adcceb52",
   "metadata": {},
   "source": [
    "But set methods (e.g `update()` etc.) works with both sets and any other data types"
   ]
  },
  {
   "cell_type": "code",
   "execution_count": 37,
   "id": "e50c6add",
   "metadata": {},
   "outputs": [
    {
     "name": "stdout",
     "output_type": "stream",
     "text": [
      "{'toyota', 'lexus', 'hyundai', 'porsche', 'mazda', 'tesla', 'kia', 'bugatti', 'opel', 'ford'}\n"
     ]
    }
   ],
   "source": [
    "x1.update(['bugatti', 'mazda']) # adding new elements (not from another set but a list)\n",
    "print(x1)                       "
   ]
  },
  {
   "cell_type": "code",
   "execution_count": 38,
   "id": "12b8c8e9",
   "metadata": {},
   "outputs": [
    {
     "name": "stdout",
     "output_type": "stream",
     "text": [
      "{'toyota', 'lexus', 'hyundai', 'porsche', 'mazda', 'tesla', 'kia', 'opel', 'ford'}\n"
     ]
    }
   ],
   "source": [
    "x1.remove('bugatti')\n",
    "print(x1)"
   ]
  },
  {
   "cell_type": "code",
   "execution_count": 39,
   "id": "67fbddb2",
   "metadata": {},
   "outputs": [
    {
     "name": "stdout",
     "output_type": "stream",
     "text": [
      "{'lexus', 'hyundai', 'porsche', 'mazda', 'tesla', 'kia', 'opel', 'ford'}\n"
     ]
    }
   ],
   "source": [
    "x1.pop()\n",
    "print(x1)"
   ]
  },
  {
   "cell_type": "code",
   "execution_count": 44,
   "id": "6ad5de4e",
   "metadata": {},
   "outputs": [
    {
     "data": {
      "text/plain": [
       "{'ford', 'kia', 'opel'}"
      ]
     },
     "execution_count": 44,
     "metadata": {},
     "output_type": "execute_result"
    }
   ],
   "source": [
    "x1.pop()\n",
    "x1"
   ]
  },
  {
   "cell_type": "code",
   "execution_count": 45,
   "id": "8469980b",
   "metadata": {},
   "outputs": [
    {
     "name": "stdout",
     "output_type": "stream",
     "text": [
      "{'kia', 'opel', 'ford'}\n",
      "kia\n",
      "{'opel', 'ford'}\n"
     ]
    }
   ],
   "source": [
    "print(x1)\n",
    "popped = x1.pop()\n",
    "print(popped)\n",
    "print(x1)"
   ]
  },
  {
   "cell_type": "code",
   "execution_count": 47,
   "id": "4d2434fb",
   "metadata": {},
   "outputs": [
    {
     "data": {
      "text/plain": [
       "'opel'"
      ]
     },
     "execution_count": 47,
     "metadata": {},
     "output_type": "execute_result"
    }
   ],
   "source": [
    "x1.pop()"
   ]
  },
  {
   "cell_type": "code",
   "execution_count": 48,
   "id": "064c450a",
   "metadata": {},
   "outputs": [
    {
     "data": {
      "text/plain": [
       "{'ford'}"
      ]
     },
     "execution_count": 48,
     "metadata": {},
     "output_type": "execute_result"
    }
   ],
   "source": [
    "x1"
   ]
  },
  {
   "cell_type": "code",
   "execution_count": 46,
   "id": "ee6043a8",
   "metadata": {},
   "outputs": [
    {
     "data": {
      "text/plain": [
       "['__and__',\n",
       " '__class__',\n",
       " '__contains__',\n",
       " '__delattr__',\n",
       " '__dir__',\n",
       " '__doc__',\n",
       " '__eq__',\n",
       " '__format__',\n",
       " '__ge__',\n",
       " '__getattribute__',\n",
       " '__gt__',\n",
       " '__hash__',\n",
       " '__iand__',\n",
       " '__init__',\n",
       " '__init_subclass__',\n",
       " '__ior__',\n",
       " '__isub__',\n",
       " '__iter__',\n",
       " '__ixor__',\n",
       " '__le__',\n",
       " '__len__',\n",
       " '__lt__',\n",
       " '__ne__',\n",
       " '__new__',\n",
       " '__or__',\n",
       " '__rand__',\n",
       " '__reduce__',\n",
       " '__reduce_ex__',\n",
       " '__repr__',\n",
       " '__ror__',\n",
       " '__rsub__',\n",
       " '__rxor__',\n",
       " '__setattr__',\n",
       " '__sizeof__',\n",
       " '__str__',\n",
       " '__sub__',\n",
       " '__subclasshook__',\n",
       " '__xor__',\n",
       " 'add',\n",
       " 'clear',\n",
       " 'copy',\n",
       " 'difference',\n",
       " 'difference_update',\n",
       " 'discard',\n",
       " 'intersection',\n",
       " 'intersection_update',\n",
       " 'isdisjoint',\n",
       " 'issubset',\n",
       " 'issuperset',\n",
       " 'pop',\n",
       " 'remove',\n",
       " 'symmetric_difference',\n",
       " 'symmetric_difference_update',\n",
       " 'union',\n",
       " 'update']"
      ]
     },
     "execution_count": 46,
     "metadata": {},
     "output_type": "execute_result"
    }
   ],
   "source": [
    "dir(x1)"
   ]
  },
  {
   "cell_type": "markdown",
   "id": "790e65d6",
   "metadata": {},
   "source": [
    "## Dictionaries\n",
    "Like all the data types studied so far, dictionaries stores element or items or objects, but unlike any of the other data types, they are not sequence. Python dictionaries also called maps store a value through a key not by position. They map each value (item) to a key (by using colon `:`). Dictionaries will be discussed fully in latter lessons, for now a brief introduction will suffice."
   ]
  },
  {
   "cell_type": "code",
   "execution_count": 60,
   "id": "3250b1f5",
   "metadata": {},
   "outputs": [
    {
     "name": "stdout",
     "output_type": "stream",
     "text": [
      "{'one': 1, 'two': 2, 'three': 3}\n",
      "{'first_name': 'olu', 'last_name': 'jacobs', 'age': 80, 'occup': 'actor'}\n"
     ]
    }
   ],
   "source": [
    "# Creating a dictionary\n",
    "d1 = {'one':1, 'two':2, 'three':3} # Note that each key-value pair is seperated by a comma(,)\n",
    "d2 = {'first_name':'olu', 'last_name':'jacobs', 'age':80, 'occup':'actor'}\n",
    "\n",
    "print(d1)\n",
    "print(d2)"
   ]
  },
  {
   "cell_type": "code",
   "execution_count": 61,
   "id": "ac75f168",
   "metadata": {},
   "outputs": [
    {
     "data": {
      "text/plain": [
       "1"
      ]
     },
     "execution_count": 61,
     "metadata": {},
     "output_type": "execute_result"
    }
   ],
   "source": [
    "# Accessing a value through its key\n",
    "d1['one']"
   ]
  },
  {
   "cell_type": "code",
   "execution_count": 62,
   "id": "15187ac0",
   "metadata": {},
   "outputs": [
    {
     "data": {
      "text/plain": [
       "5"
      ]
     },
     "execution_count": 62,
     "metadata": {},
     "output_type": "execute_result"
    }
   ],
   "source": [
    "d1['two'] + d1['three']"
   ]
  },
  {
   "cell_type": "code",
   "execution_count": 63,
   "id": "f170d26f",
   "metadata": {},
   "outputs": [
    {
     "data": {
      "text/plain": [
       "'olu jacobs'"
      ]
     },
     "execution_count": 63,
     "metadata": {},
     "output_type": "execute_result"
    }
   ],
   "source": [
    "d2['first_name'] + ' ' +  d2['last_name']"
   ]
  },
  {
   "cell_type": "code",
   "execution_count": 64,
   "id": "abbb0092",
   "metadata": {
    "scrolled": true
   },
   "outputs": [
    {
     "data": {
      "text/plain": [
       "'Jacobs'"
      ]
     },
     "execution_count": 64,
     "metadata": {},
     "output_type": "execute_result"
    }
   ],
   "source": [
    "d2['last_name'].title()"
   ]
  },
  {
   "cell_type": "code",
   "execution_count": 56,
   "id": "8a1c28f5",
   "metadata": {},
   "outputs": [],
   "source": [
    "# Modifying a dictionary\n",
    "d1.update({'six':6})"
   ]
  },
  {
   "cell_type": "code",
   "execution_count": 57,
   "id": "9b2142a9",
   "metadata": {},
   "outputs": [
    {
     "data": {
      "text/plain": [
       "{'one': 1, 'two': 2, 'three': 3, 'six': 6}"
      ]
     },
     "execution_count": 57,
     "metadata": {},
     "output_type": "execute_result"
    }
   ],
   "source": [
    "d1"
   ]
  },
  {
   "cell_type": "markdown",
   "id": "495bc6af",
   "metadata": {},
   "source": [
    "Just as we can reassign an item of a list to another value using its index, we can also reassign a value of a dictionary but only that it's done through its key:"
   ]
  },
  {
   "cell_type": "code",
   "execution_count": 65,
   "id": "97b8595e",
   "metadata": {},
   "outputs": [
    {
     "name": "stdout",
     "output_type": "stream",
     "text": [
      "{'first_name': 'joke', 'last_name': 'silva', 'age': 60, 'occup': 'actress'}\n"
     ]
    }
   ],
   "source": [
    "d2['first_name'] \n",
    "d2['last_name'] = 'silva'\n",
    "d2['age'] = 60\n",
    "d2['occup'] = 'actress'\n",
    "\n",
    "print(d2)"
   ]
  },
  {
   "cell_type": "code",
   "execution_count": 69,
   "id": "296d7bdd",
   "metadata": {},
   "outputs": [],
   "source": [
    "d2['adress'] = 'lagos'"
   ]
  },
  {
   "cell_type": "code",
   "execution_count": 70,
   "id": "ddfe52a1",
   "metadata": {},
   "outputs": [
    {
     "data": {
      "text/plain": [
       "{'first_name': 'joke',\n",
       " 'last_name': 'silva',\n",
       " 'age': 60,\n",
       " 'occup': 'actress',\n",
       " 'adress': 'lagos'}"
      ]
     },
     "execution_count": 70,
     "metadata": {},
     "output_type": "execute_result"
    }
   ],
   "source": [
    "d2"
   ]
  },
  {
   "cell_type": "code",
   "execution_count": 71,
   "id": "cff5a1eb",
   "metadata": {},
   "outputs": [
    {
     "data": {
      "text/plain": [
       "{'messi': 'psg',\n",
       " 'ronaldo': 'al nassr',\n",
       " 'neymar': 'psg',\n",
       " 'benzema': 'madrid',\n",
       " 'lewandoski': 'barcelona',\n",
       " 'salah': 'liverpool',\n",
       " 'de bruyne': 'man city'}"
      ]
     },
     "execution_count": 71,
     "metadata": {},
     "output_type": "execute_result"
    }
   ],
   "source": [
    "footballers = {'messi': 'psg',              # Dict. in itemized format for readability\n",
    "               'ronaldo':'al nassr',\n",
    "               'neymar':'psg',\n",
    "               'benzema':'madrid',\n",
    "               'lewandoski':'barcelona',\n",
    "               'salah':'liverpool',\n",
    "               'de bruyne': 'man city',\n",
    "              }\n",
    "\n",
    "footballers"
   ]
  },
  {
   "cell_type": "code",
   "execution_count": 72,
   "id": "ed2b43b3",
   "metadata": {},
   "outputs": [
    {
     "data": {
      "text/plain": [
       "'Messi plays for PSG FC'"
      ]
     },
     "execution_count": 72,
     "metadata": {},
     "output_type": "execute_result"
    }
   ],
   "source": [
    "f\"Messi plays for {footballers['messi'].upper()} FC\""
   ]
  },
  {
   "cell_type": "markdown",
   "id": "d4e051ea",
   "metadata": {},
   "source": [
    "# User Input\n",
    "Most programs require users to supply an input or information. Therefore there is a need to get users information that can be work on. Python `input()` function is used for this purpose. The `input()` function pauses your program and waits for the user to enter some text. Once Python receives the user’s input, you can assign that input to a variable to make it convenient for you to work with."
   ]
  },
  {
   "cell_type": "code",
   "execution_count": 73,
   "id": "200e3a28",
   "metadata": {},
   "outputs": [
    {
     "name": "stdout",
     "output_type": "stream",
     "text": [
      "I'm Python, can I get your name: PETER\n",
      "PETER\n"
     ]
    }
   ],
   "source": [
    "prompt = input(\"I'm Python, can I get your name: \")\n",
    "print(prompt)"
   ]
  },
  {
   "cell_type": "code",
   "execution_count": 74,
   "id": "b2bffade",
   "metadata": {},
   "outputs": [
    {
     "name": "stdout",
     "output_type": "stream",
     "text": [
      "Peter\n"
     ]
    }
   ],
   "source": [
    "ans = input()"
   ]
  },
  {
   "cell_type": "code",
   "execution_count": 75,
   "id": "c438c6b9",
   "metadata": {},
   "outputs": [
    {
     "name": "stdout",
     "output_type": "stream",
     "text": [
      "Peter\n"
     ]
    }
   ],
   "source": [
    "print(ans)"
   ]
  },
  {
   "cell_type": "code",
   "execution_count": 76,
   "id": "867946bb",
   "metadata": {},
   "outputs": [
    {
     "data": {
      "text/plain": [
       "str"
      ]
     },
     "execution_count": 76,
     "metadata": {},
     "output_type": "execute_result"
    }
   ],
   "source": [
    "type(prompt)"
   ]
  },
  {
   "cell_type": "code",
   "execution_count": 77,
   "id": "90ef477a",
   "metadata": {
    "scrolled": true
   },
   "outputs": [
    {
     "name": "stdout",
     "output_type": "stream",
     "text": [
      "Please enter your age: 12\n",
      "12\n"
     ]
    }
   ],
   "source": [
    "age = input(\"Please enter your age: \")\n",
    "print(age)"
   ]
  },
  {
   "cell_type": "markdown",
   "id": "c60fc04a",
   "metadata": {},
   "source": [
    "Sometimes you might need to preprocess users information before they can be use or stored. For example, the age given by the user is returned as a string. Let say you need to check if they are above 18 before the system can grant them access to whatever infomation that is requested, you need to convert their age to an integer before making comparison."
   ]
  },
  {
   "cell_type": "code",
   "execution_count": 78,
   "id": "c2283abf",
   "metadata": {},
   "outputs": [
    {
     "name": "stdout",
     "output_type": "stream",
     "text": [
      "12\n"
     ]
    },
    {
     "data": {
      "text/plain": [
       "str"
      ]
     },
     "execution_count": 78,
     "metadata": {},
     "output_type": "execute_result"
    }
   ],
   "source": [
    "print(age)\n",
    "type(age)"
   ]
  },
  {
   "cell_type": "code",
   "execution_count": 82,
   "id": "1a3e34d7",
   "metadata": {},
   "outputs": [
    {
     "name": "stdout",
     "output_type": "stream",
     "text": [
      "Please enter your age: 50\n"
     ]
    },
    {
     "data": {
      "text/plain": [
       "True"
      ]
     },
     "execution_count": 82,
     "metadata": {},
     "output_type": "execute_result"
    }
   ],
   "source": [
    "age = input(\"Please enter your age: \")\n",
    "age = int(age)                           # Convert to an integer\n",
    "age > 17"
   ]
  },
  {
   "cell_type": "code",
   "execution_count": 85,
   "id": "b5ca4e4a",
   "metadata": {},
   "outputs": [
    {
     "name": "stdout",
     "output_type": "stream",
     "text": [
      "Please enter your age: 16\n",
      "Access denied! Not above 17 yet.\n"
     ]
    }
   ],
   "source": [
    "age = input(\"Please enter your age: \")\n",
    "age = int(age)                           # Convert to an integer\n",
    "\n",
    "if age > 17:\n",
    "    print(\"Access granted!\")\n",
    "else:\n",
    "    print(\"Access denied! Not above 17 yet.\")"
   ]
  },
  {
   "cell_type": "markdown",
   "id": "ae0aad63",
   "metadata": {},
   "source": [
    "### The Modulo Operator\n",
    "A useful tool for working with numerical information is the modulo operator (%),\n",
    "which divides one number by another number and returns the remainder:"
   ]
  },
  {
   "cell_type": "code",
   "execution_count": null,
   "id": "f84ba515",
   "metadata": {},
   "outputs": [],
   "source": [
    "5 % 3"
   ]
  },
  {
   "cell_type": "code",
   "execution_count": null,
   "id": "57ac178d",
   "metadata": {},
   "outputs": [],
   "source": [
    "6 % 2"
   ]
  },
  {
   "cell_type": "code",
   "execution_count": null,
   "id": "c8175bbf",
   "metadata": {},
   "outputs": [],
   "source": [
    "7 % 3"
   ]
  },
  {
   "cell_type": "markdown",
   "id": "cf760bb3",
   "metadata": {},
   "source": [
    "*Copyright &copy; 2025 DataClax. This content is licensed solely for personal use. Redistribution or publication of this material is strictly prohibited.*"
   ]
  }
 ],
 "metadata": {
  "kernelspec": {
   "display_name": "Python 3 (ipykernel)",
   "language": "python",
   "name": "python3"
  },
  "language_info": {
   "codemirror_mode": {
    "name": "ipython",
    "version": 3
   },
   "file_extension": ".py",
   "mimetype": "text/x-python",
   "name": "python",
   "nbconvert_exporter": "python",
   "pygments_lexer": "ipython3",
   "version": "3.11.7"
  }
 },
 "nbformat": 4,
 "nbformat_minor": 5
}
