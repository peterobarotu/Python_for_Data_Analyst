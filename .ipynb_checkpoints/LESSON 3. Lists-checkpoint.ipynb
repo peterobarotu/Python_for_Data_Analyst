{
 "cells": [
  {
   "cell_type": "markdown",
   "id": "03331670",
   "metadata": {},
   "source": [
    "# Lists\n",
    "Lists are positionally ordered collections of arbitrarily typed objects, and they have no fixed size. They are also mutable—unlike strings, lists can be modified in place by assignment. \n",
    "In the last lesson we discussed about variables and srtings. We could store a list of related(or unrelated) items in a variable as shown below but as you'll learn in this lesson, it will be more efficient to use a python list. "
   ]
  },
  {
   "cell_type": "code",
   "execution_count": null,
   "id": "3de5f3da",
   "metadata": {},
   "outputs": [],
   "source": [
    "language = 'python', 'java', 'perl', 'eve', 'scala', 'julia'\n",
    "print(language)"
   ]
  },
  {
   "cell_type": "markdown",
   "id": "229102b3",
   "metadata": {},
   "source": [
    "### Creating a List\n",
    "In Python, square brackets `[ ]` indicate a list, and individual elements\n",
    "in the list are separated by commas. "
   ]
  },
  {
   "cell_type": "code",
   "execution_count": null,
   "id": "1efffca2",
   "metadata": {},
   "outputs": [],
   "source": [
    "language = ['python', 'java', 'perl', 'eve', 'scala', 'julia']\n",
    "print(language)"
   ]
  },
  {
   "cell_type": "code",
   "execution_count": null,
   "id": "c6db707f",
   "metadata": {},
   "outputs": [],
   "source": [
    "cities = ['cairo', 'lagos', 'miami', 'johannesburg', 'beijing']\n",
    "print(cities)"
   ]
  },
  {
   "cell_type": "code",
   "execution_count": null,
   "id": "9b0cb5bc",
   "metadata": {},
   "outputs": [],
   "source": [
    "numbers = [100, 200, 250, 700, 50]\n",
    "print(numbers)"
   ]
  },
  {
   "cell_type": "markdown",
   "id": "fdce8e2f",
   "metadata": {},
   "source": [
    "### Indexing A List\n",
    "We can access each individual item in a list by specifying its _index_ position  in a square bracket after the name of the list. The index position is the number of the position of an item in a list. In the example below we pulled out the second item on the `cities` list."
   ]
  },
  {
   "cell_type": "code",
   "execution_count": null,
   "id": "f79b3b6d",
   "metadata": {},
   "outputs": [],
   "source": [
    "cities[1]"
   ]
  },
  {
   "cell_type": "markdown",
   "id": "43d7e8d1",
   "metadata": {},
   "source": [
    "As mentioned in the previous lesson, python numbering starts from **0 not 1**, So lagos, which is the second city in the list has index of 1, miami which is the third city has index of 2, johannesburg which is the fourth city as an index of 3 and so on."
   ]
  },
  {
   "cell_type": "code",
   "execution_count": null,
   "id": "d77751e4",
   "metadata": {},
   "outputs": [],
   "source": [
    "cities[2]"
   ]
  },
  {
   "cell_type": "code",
   "execution_count": null,
   "id": "0a486561",
   "metadata": {},
   "outputs": [],
   "source": [
    "print(cities[4])"
   ]
  },
  {
   "cell_type": "markdown",
   "id": "2c2e0f6a",
   "metadata": {},
   "source": [
    "Since each of our elements are strings, we could apply any of the string methods we learnt from the previous lesson."
   ]
  },
  {
   "cell_type": "code",
   "execution_count": null,
   "id": "8f6a1307",
   "metadata": {},
   "outputs": [],
   "source": [
    "cities[1].title()"
   ]
  },
  {
   "cell_type": "code",
   "execution_count": null,
   "id": "596d80cb",
   "metadata": {},
   "outputs": [],
   "source": [
    "print(cities[2].upper())"
   ]
  },
  {
   "cell_type": "markdown",
   "id": "81bc9d97",
   "metadata": {},
   "source": [
    "We could modify a list *in-place* by setting or assigning an item in the list to another value. This is one of the advantage a list has over storing items in a variable (which is actaually a `tuple` -- This will be discuss in the next lesson). In the example below we change the first city, `cairo`, to `accra`."
   ]
  },
  {
   "cell_type": "code",
   "execution_count": null,
   "id": "68dbae04",
   "metadata": {},
   "outputs": [],
   "source": [
    "print(cities)\n",
    "cities[0] = 'accra'\n",
    "print(cities)"
   ]
  },
  {
   "cell_type": "code",
   "execution_count": null,
   "id": "4c782122",
   "metadata": {},
   "outputs": [],
   "source": [
    "cities"
   ]
  },
  {
   "cell_type": "markdown",
   "id": "0223bc10",
   "metadata": {},
   "source": [
    "An error will be encountered if we try an perform the same operation on a tuple:"
   ]
  },
  {
   "cell_type": "code",
   "execution_count": null,
   "id": "02a79738",
   "metadata": {},
   "outputs": [],
   "source": [
    "my_tuple = 'python', 'java', 'perl', 'eve', 'scala', 'julia'\n",
    "print(my_tuple)"
   ]
  },
  {
   "cell_type": "code",
   "execution_count": null,
   "id": "bac7772e",
   "metadata": {},
   "outputs": [],
   "source": [
    "my_tuple[1] = 'sql'\n",
    "print(my_tuple)"
   ]
  },
  {
   "cell_type": "markdown",
   "id": "07649943",
   "metadata": {},
   "source": [
    "### Slicing A List\n",
    "\n",
    "We could select a subset of a list also known as *slicing*. The word slicing  does exactly what it means, you could think of it has slicing off part of a loaf of bread, but in this case we're slicing off a part or taking a subset of a list. To subset a list is similar to indexing a list, the only diffrence is, you specify a start point, an end point, and a step size seperated by a colon `:`"
   ]
  },
  {
   "cell_type": "code",
   "execution_count": null,
   "id": "589854f7",
   "metadata": {
    "scrolled": true
   },
   "outputs": [],
   "source": [
    "cities"
   ]
  },
  {
   "cell_type": "code",
   "execution_count": null,
   "id": "be89df71",
   "metadata": {
    "scrolled": true
   },
   "outputs": [],
   "source": [
    "cities[0:3]"
   ]
  },
  {
   "cell_type": "markdown",
   "id": "19e7024f",
   "metadata": {},
   "source": [
    "If you look at the above example carefully, according to what we said about python numbering, `miami` has an index of 2, so what happen to index of 3, why is `johannesburg` not included? This is due to the **inclusive - exclusive** nature of python. It means the **start point will be included** and the **end point will be excluded**. Writing [0:3] is the same as saying, “show the items from index position 0 up to (but **not** including) index position 3”—or in other\n",
    "words, items 0, 1, and 2."
   ]
  },
  {
   "cell_type": "code",
   "execution_count": null,
   "id": "f859bf7d",
   "metadata": {
    "scrolled": true
   },
   "outputs": [],
   "source": [
    "print(cities[2:4])"
   ]
  },
  {
   "cell_type": "code",
   "execution_count": null,
   "id": "7adf1c39",
   "metadata": {},
   "outputs": [],
   "source": [
    "cities[0:4:2]       # start at 0, end at 3, step of 2"
   ]
  },
  {
   "cell_type": "markdown",
   "id": "3139158c",
   "metadata": {},
   "source": [
    "#### Omitting Start Point, End Point and Step Size\n",
    "* When we omitt the **start point**, we're telling python to print the items from the beginning of the list up to (but **not** including) the specified end point using the specified step.\n",
    "\n",
    "* By omitting the **end point**, python will print from the specified start point to the end of the list using the specified step.\n",
    "\n",
    "* By omitting the **step size**, python will print from the specified start point up to (but **not** including) the specified end point with a default step of 1.\n",
    "\n",
    "* By omitting both the start and the end point, python will print the entire list, _i.e_ from beginning of the list to the end.\n",
    "\n",
    "The two previous examples can be written as follows:"
   ]
  },
  {
   "cell_type": "code",
   "execution_count": null,
   "id": "b26a1e75",
   "metadata": {},
   "outputs": [],
   "source": [
    "cities"
   ]
  },
  {
   "cell_type": "code",
   "execution_count": null,
   "id": "d042b63e",
   "metadata": {
    "scrolled": true
   },
   "outputs": [],
   "source": [
    "print(cities[:3])       # Start point was omitted."
   ]
  },
  {
   "cell_type": "code",
   "execution_count": null,
   "id": "84979842",
   "metadata": {},
   "outputs": [],
   "source": [
    "print(cities[2:])      # End point was omitted."
   ]
  },
  {
   "cell_type": "code",
   "execution_count": null,
   "id": "815f3efe",
   "metadata": {},
   "outputs": [],
   "source": [
    "print(cities[:])      # Both end point and start point was omitted."
   ]
  },
  {
   "cell_type": "code",
   "execution_count": null,
   "id": "d3d27a17",
   "metadata": {},
   "outputs": [],
   "source": [
    "print(cities[::])    # Result is same as above"
   ]
  },
  {
   "cell_type": "code",
   "execution_count": null,
   "id": "d70cd657",
   "metadata": {},
   "outputs": [],
   "source": [
    "cities[::2]         # Both end point and start point was omitted with a step of 2"
   ]
  },
  {
   "cell_type": "markdown",
   "id": "232b6c2d",
   "metadata": {},
   "source": [
    "### Negative Indexing and Slicing\n",
    "You can access a list from the back using a negative index number. The last item is -1, the second to the last is -2, _e.t.c_. We can also slice with a negative index by selecting the start and the end point to be negative. We can mix both positive and negative index to slice but this is not advisable (especially for beginners) as things can get complicated. "
   ]
  },
  {
   "cell_type": "code",
   "execution_count": null,
   "id": "fb7f118a",
   "metadata": {},
   "outputs": [],
   "source": [
    "print(language)"
   ]
  },
  {
   "cell_type": "code",
   "execution_count": null,
   "id": "e7d0b19a",
   "metadata": {},
   "outputs": [],
   "source": [
    "print(language[-1])"
   ]
  },
  {
   "cell_type": "code",
   "execution_count": null,
   "id": "d46fd515",
   "metadata": {},
   "outputs": [],
   "source": [
    "print(language[-3].title())"
   ]
  },
  {
   "cell_type": "code",
   "execution_count": null,
   "id": "ea5c0be9",
   "metadata": {},
   "outputs": [],
   "source": [
    "print(language[-3:-1]) # Take note of the inclusive-exclusive behaviour"
   ]
  },
  {
   "cell_type": "code",
   "execution_count": null,
   "id": "1ad21d9b",
   "metadata": {},
   "outputs": [],
   "source": [
    "print(language[-3:])"
   ]
  },
  {
   "cell_type": "code",
   "execution_count": null,
   "id": "478fc613",
   "metadata": {},
   "outputs": [],
   "source": [
    "language"
   ]
  },
  {
   "cell_type": "code",
   "execution_count": null,
   "id": "e8b0871e",
   "metadata": {
    "scrolled": true
   },
   "outputs": [],
   "source": [
    "print(language[-3:-1]) # Starts from the beginning of the list up to (but not including) the \n",
    "                     # index value of negative 3(which is 'eve')"
   ]
  },
  {
   "cell_type": "code",
   "execution_count": null,
   "id": "e1697f7f",
   "metadata": {
    "scrolled": true
   },
   "outputs": [],
   "source": [
    "print(language[2:-1]) # Can you explain what happen here?"
   ]
  },
  {
   "cell_type": "markdown",
   "id": "26252a4a",
   "metadata": {},
   "source": [
    "Negative step size is normally employed to flip a list i.e to reverse the order of the items."
   ]
  },
  {
   "cell_type": "code",
   "execution_count": null,
   "id": "d8b04d9e",
   "metadata": {},
   "outputs": [],
   "source": [
    "language"
   ]
  },
  {
   "cell_type": "code",
   "execution_count": null,
   "id": "f37a4ea3",
   "metadata": {},
   "outputs": [],
   "source": [
    "language[::-1]"
   ]
  },
  {
   "cell_type": "code",
   "execution_count": null,
   "id": "ca9ebb72",
   "metadata": {},
   "outputs": [],
   "source": [
    "language[::-2]"
   ]
  },
  {
   "cell_type": "markdown",
   "id": "fde60e82",
   "metadata": {},
   "source": [
    "###  Copying A List\n",
    "In the previous lesson, we mentioned that two variable name can reference the same item in memory. When we create two variables and both reference the same python list, modifying one will change the other.  "
   ]
  },
  {
   "cell_type": "code",
   "execution_count": null,
   "id": "83298bdb",
   "metadata": {},
   "outputs": [],
   "source": [
    "cities_copy = cities\n",
    "print(cities_copy)"
   ]
  },
  {
   "cell_type": "markdown",
   "id": "37926efb",
   "metadata": {},
   "source": [
    "The id() function returns a unique identity for the specified object. Every object created in Python has its own unique id"
   ]
  },
  {
   "cell_type": "code",
   "execution_count": null,
   "id": "133a09b1",
   "metadata": {},
   "outputs": [],
   "source": [
    "id(cities)"
   ]
  },
  {
   "cell_type": "code",
   "execution_count": null,
   "id": "9bae2999",
   "metadata": {},
   "outputs": [],
   "source": [
    "id(cities_copy)"
   ]
  },
  {
   "cell_type": "code",
   "execution_count": null,
   "id": "1d25bed0",
   "metadata": {},
   "outputs": [],
   "source": [
    "id(cities) == id(cities_copy)"
   ]
  },
  {
   "cell_type": "code",
   "execution_count": null,
   "id": "dbf87813",
   "metadata": {},
   "outputs": [],
   "source": [
    "cities_copy[4] = 'dubai'\n",
    "print(cities_copy)\n",
    "print(cities)"
   ]
  },
  {
   "cell_type": "markdown",
   "id": "47a5946a",
   "metadata": {},
   "source": [
    "We can see that when we change the last city in our `cities_copy` list  from `beijing` to `dubai`, the original list of `cities` also changed. This is because they are the same object, this was confirmed by comparing their location in memory using the id method, `id()` --which returns `True`. What if we dont want this but want an entirely different list but still a copy of the original list? **We can achieve this by slicing and omitting the start and end point and assigning the value to a variable**. "
   ]
  },
  {
   "cell_type": "code",
   "execution_count": null,
   "id": "732117cb",
   "metadata": {},
   "outputs": [],
   "source": [
    "cities_copy = cities[:]\n",
    "print(cities_copy)"
   ]
  },
  {
   "cell_type": "code",
   "execution_count": null,
   "id": "812ee97f",
   "metadata": {},
   "outputs": [],
   "source": [
    "id(cities)"
   ]
  },
  {
   "cell_type": "code",
   "execution_count": null,
   "id": "f5c01e6e",
   "metadata": {},
   "outputs": [],
   "source": [
    "id(cities_copy)"
   ]
  },
  {
   "cell_type": "code",
   "execution_count": null,
   "id": "132aa387",
   "metadata": {},
   "outputs": [],
   "source": [
    "id(cities) == id(cities_copy)"
   ]
  },
  {
   "cell_type": "code",
   "execution_count": null,
   "id": "2b15719c",
   "metadata": {},
   "outputs": [],
   "source": [
    "cities_copy[4] = 'london'\n",
    "print(cities_copy)\n",
    "print(cities)"
   ]
  },
  {
   "cell_type": "markdown",
   "id": "4f4d7a2f",
   "metadata": {},
   "source": [
    "The two list are now different, changing `dubai` to `london` in the copy doesn't affect the original list and their location in memory are not same hence the  `id` comparision returns False."
   ]
  },
  {
   "cell_type": "markdown",
   "id": "6284c52d",
   "metadata": {},
   "source": [
    "### Using  an Individual items of A List"
   ]
  },
  {
   "cell_type": "code",
   "execution_count": null,
   "id": "2e72b721",
   "metadata": {},
   "outputs": [],
   "source": [
    "cities_copy"
   ]
  },
  {
   "cell_type": "code",
   "execution_count": null,
   "id": "e9705283",
   "metadata": {},
   "outputs": [],
   "source": [
    "print(f'I would love to travel to the city of {cities[3].title()} in South Africa')"
   ]
  },
  {
   "cell_type": "code",
   "execution_count": null,
   "id": "ab453249",
   "metadata": {},
   "outputs": [],
   "source": [
    "print(f'{cities_copy[-1].title()} is the home to Chelsea FC')"
   ]
  },
  {
   "cell_type": "code",
   "execution_count": null,
   "id": "8b9a6006",
   "metadata": {},
   "outputs": [],
   "source": [
    "print(f'The tallest building in the world is in {cities[-1].title()}')"
   ]
  },
  {
   "cell_type": "markdown",
   "id": "61cdf4a0",
   "metadata": {},
   "source": [
    "### Adding Items to a List\n",
    "* The `append()` method add items to the end of a list.\n",
    "* The `insert()`method add items to the list at particular position"
   ]
  },
  {
   "cell_type": "code",
   "execution_count": null,
   "id": "87b4e7ee",
   "metadata": {},
   "outputs": [],
   "source": [
    "print(cities)\n",
    "cities.append('paris')\n",
    "print(cities)"
   ]
  },
  {
   "cell_type": "code",
   "execution_count": null,
   "id": "2f8dae8a",
   "metadata": {},
   "outputs": [],
   "source": [
    "cities.insert(2,'seoul')\n",
    "cities"
   ]
  },
  {
   "cell_type": "markdown",
   "id": "e5179555",
   "metadata": {},
   "source": [
    "### Removing Items From a List\n",
    "* `del` permanently removes(deletes) an item from a list.\n",
    "* The `pop()` attribute of a list removes an item from the end of a list by default or if a position is specified, it removes the item from the specified position. The 'popped' item can be saved in a variable and reuse.\n",
    "* The `remove()` attribute is used to remove an item with an unknown index position. The 'popped' can __not__ be saved in a variable or reuse. "
   ]
  },
  {
   "cell_type": "code",
   "execution_count": null,
   "id": "7e8ec994",
   "metadata": {},
   "outputs": [],
   "source": [
    "print(cities)\n",
    "del cities[3]\n",
    "print(cities)"
   ]
  },
  {
   "cell_type": "code",
   "execution_count": null,
   "id": "e4a6d2b3",
   "metadata": {},
   "outputs": [],
   "source": [
    "print(cities)\n",
    "cities.pop()\n",
    "print(cities)"
   ]
  },
  {
   "cell_type": "code",
   "execution_count": null,
   "id": "6d0431ae",
   "metadata": {},
   "outputs": [],
   "source": [
    "print(cities)\n",
    "cities.pop(2)\n",
    "print(cities)"
   ]
  },
  {
   "cell_type": "code",
   "execution_count": null,
   "id": "d76920c5",
   "metadata": {},
   "outputs": [],
   "source": [
    "print(cities)\n",
    "popped_city = cities.pop(1)\n",
    "print(cities)\n",
    "\n",
    "print(popped_city)\n",
    "f'I no longer wish to visit {popped_city.title()}, so I removed it from my list'"
   ]
  },
  {
   "cell_type": "code",
   "execution_count": null,
   "id": "bd6f1784",
   "metadata": {},
   "outputs": [],
   "source": [
    "print(cities)\n",
    "cities.remove('johannesburg')\n",
    "print(cities)"
   ]
  },
  {
   "cell_type": "code",
   "execution_count": null,
   "id": "aad473a8",
   "metadata": {},
   "outputs": [],
   "source": [
    "cities"
   ]
  },
  {
   "cell_type": "code",
   "execution_count": null,
   "id": "7deee4e0",
   "metadata": {
    "scrolled": true
   },
   "outputs": [],
   "source": [
    "cities = ['cairo', 'lagos', 'miami', 'johannesburg', 'beijing']   # Re-create the original list\n",
    "print(cities)"
   ]
  },
  {
   "cell_type": "code",
   "execution_count": null,
   "id": "0809694e",
   "metadata": {},
   "outputs": [],
   "source": [
    "print(cities)\n",
    "removed_city = cities.remove('johannesburg')\n",
    "print(cities)\n",
    "\n",
    "print(removed_city)"
   ]
  },
  {
   "cell_type": "markdown",
   "id": "952d2939",
   "metadata": {},
   "source": [
    "It can be noticed from the above cell that when we try to print our  __'removed_city'__ , the output displayed `None`, therefore, unlike `pop`, it's impossible to use the item we have removed for later use. To correct this, we'll first assign the item to a variable."
   ]
  },
  {
   "cell_type": "code",
   "execution_count": null,
   "id": "8da59543",
   "metadata": {},
   "outputs": [],
   "source": [
    "removed_city = 'lagos'\n",
    "\n",
    "print(cities)\n",
    "cities.remove(removed_city)\n",
    "print(cities)\n",
    "\n",
    "f'I no longer wish to visit {removed_city.title()}, so I removed it from my list'"
   ]
  },
  {
   "cell_type": "markdown",
   "id": "abef710f",
   "metadata": {},
   "source": [
    "### List Arithmetic\n",
    "* Two list can be joined together using the plus(`+`) operator.\n",
    "* A list can also be multiplied by an integer, using the asterick(`*`) operator, to give a repitation of itself.\n",
    "* Unfortunately using division(`/`) or minus(`-`) operator will throw an error.\n",
    "* It's also impossible to add list to a non-list."
   ]
  },
  {
   "cell_type": "code",
   "execution_count": null,
   "id": "28447de2",
   "metadata": {},
   "outputs": [],
   "source": [
    "cars1 = ['toyota', 'audi', 'hyundai', 'porsche', 'opel']\n",
    "cars2 = ['lexus', 'ford', 'tesla']"
   ]
  },
  {
   "cell_type": "code",
   "execution_count": null,
   "id": "a18e77f4",
   "metadata": {},
   "outputs": [],
   "source": [
    "all_cars = cars1 + cars2\n",
    "all_cars"
   ]
  },
  {
   "cell_type": "code",
   "execution_count": null,
   "id": "24c5e10c",
   "metadata": {},
   "outputs": [],
   "source": [
    "double_cars = cars2 * 2\n",
    "double_cars"
   ]
  },
  {
   "cell_type": "code",
   "execution_count": null,
   "id": "50e8ed6f",
   "metadata": {},
   "outputs": [],
   "source": [
    "triple_cars = cars2 * 3\n",
    "triple_cars"
   ]
  },
  {
   "cell_type": "code",
   "execution_count": null,
   "id": "899b45e9",
   "metadata": {},
   "outputs": [],
   "source": [
    "cars2 + '2'     # An Error will occur because you can't add number or a string with to a list"
   ]
  },
  {
   "cell_type": "markdown",
   "id": "0243e1f6",
   "metadata": {},
   "source": [
    "### Sorting A List\n",
    "Sorting a list involves arranging the list from smallest to largest(ascending order) or largest to \n",
    "smallest(descending order) lexicographically (dictionary order).\n",
    "* The `sorted` function return a ordered copy of the orginal list-- In other words the original list is left unsorted or unordered.\n",
    "* The `sort()` method sort the list in-place(permanently), i.e the original list is what is modified/ordered not a copy.\n",
    "\n",
    "* Both `sorted` and `sort` have an optional argument `reverse`, which takes a logical value `True` or `False` which is set to `False` by default. Setting `reverse` to `True` will return a list sorted in a descending order."
   ]
  },
  {
   "cell_type": "code",
   "execution_count": null,
   "id": "3f1ec539",
   "metadata": {},
   "outputs": [],
   "source": [
    "cities = ['cairo', 'lagos', 'miami', 'johannesburg', 'beijing'] # Re-create the original list\n",
    "print(cities)"
   ]
  },
  {
   "cell_type": "code",
   "execution_count": null,
   "id": "7a6634dc",
   "metadata": {},
   "outputs": [],
   "source": [
    "print(cities)\n",
    "sorted(cities)"
   ]
  },
  {
   "cell_type": "code",
   "execution_count": null,
   "id": "fa95b746",
   "metadata": {
    "scrolled": true
   },
   "outputs": [],
   "source": [
    "print(cities) # Our list remain unchaged even after using sorted"
   ]
  },
  {
   "cell_type": "code",
   "execution_count": null,
   "id": "4ad263e3",
   "metadata": {},
   "outputs": [],
   "source": [
    "print(cities)\n",
    "cities.sort()        # This line of code will sort the list permanently\n",
    "print(cities)"
   ]
  },
  {
   "cell_type": "code",
   "execution_count": null,
   "id": "550350ad",
   "metadata": {},
   "outputs": [],
   "source": [
    "print(cities) # Our list has changed permanently"
   ]
  },
  {
   "cell_type": "code",
   "execution_count": null,
   "id": "75b0fb6f",
   "metadata": {},
   "outputs": [],
   "source": [
    "print(cities)\n",
    "sorted(cities, reverse=True) # Sorting in descending order"
   ]
  },
  {
   "cell_type": "code",
   "execution_count": null,
   "id": "c186f607",
   "metadata": {},
   "outputs": [],
   "source": [
    "print(cities)      #original list still unchanged"
   ]
  },
  {
   "cell_type": "code",
   "execution_count": null,
   "id": "3459dd49",
   "metadata": {},
   "outputs": [],
   "source": [
    "print(cities)\n",
    "cities.sort(reverse=True) # List is permanently sorted in a descending order\n",
    "print(cities)"
   ]
  },
  {
   "cell_type": "code",
   "execution_count": null,
   "id": "da46a77d",
   "metadata": {},
   "outputs": [],
   "source": [
    "print(cities) # To confirm"
   ]
  },
  {
   "cell_type": "markdown",
   "id": "78aeacff",
   "metadata": {},
   "source": [
    "## Deque\n",
    "A deque, which stands for __d__ouble __e__nded __que__ue, is a type of list for which elements can be added to or removed\n",
    "from either front or back. It is typically faster in operation than a normal list. To use it, you must first import it from python's `collections` module."
   ]
  },
  {
   "cell_type": "code",
   "execution_count": null,
   "id": "2694ff24",
   "metadata": {},
   "outputs": [],
   "source": [
    "from collections import deque"
   ]
  },
  {
   "cell_type": "code",
   "execution_count": null,
   "id": "d4120de7",
   "metadata": {},
   "outputs": [],
   "source": [
    "deque(['toyota', 'audi', 'hyundai', 'porsche', 'opel']) # passing a list as the iterable"
   ]
  },
  {
   "cell_type": "code",
   "execution_count": null,
   "id": "567a27b0",
   "metadata": {},
   "outputs": [],
   "source": [
    "deque(('toyota', 'audi', 'hyundai', 'porsche', 'opel')) # passing a tuple as an iterable"
   ]
  },
  {
   "cell_type": "markdown",
   "id": "079b6eda",
   "metadata": {},
   "source": [
    "* The `popleft` is use to remove an item from the front of the list\n",
    "* The `appendleft` is use to add item to the front of the list\n",
    "\n",
    "Pop method can still be use to remove item from the back of the list but it can't be use to select item from a particular position which is done in the traditonal list by supplying an index value to the pop attribute."
   ]
  },
  {
   "cell_type": "code",
   "execution_count": null,
   "id": "613ac75d",
   "metadata": {},
   "outputs": [],
   "source": [
    "my_deque = deque(['toyota', 'audi', 'hyundai', 'porsche', 'opel'])\n",
    "my_deque.popleft() # remove toyota from the front of the list\n",
    "print(my_deque)"
   ]
  },
  {
   "cell_type": "code",
   "execution_count": null,
   "id": "b46d35ce",
   "metadata": {},
   "outputs": [],
   "source": [
    "print(my_deque)\n",
    "popped = my_deque.popleft()  # Save the removed item to a variable\n",
    "print(my_deque)\n",
    "\n",
    "f'{popped} has been removed from the front of our list'"
   ]
  },
  {
   "cell_type": "code",
   "execution_count": null,
   "id": "96eb9c63",
   "metadata": {
    "scrolled": true
   },
   "outputs": [],
   "source": [
    "print(my_deque)\n",
    "my_deque.appendleft('audi') # adding 'audi' to the front of the list\n",
    "print(my_deque)"
   ]
  },
  {
   "cell_type": "code",
   "execution_count": null,
   "id": "4aa26e62",
   "metadata": {},
   "outputs": [],
   "source": [
    "print(my_deque)\n",
    "my_deque.appendleft('toyota')\n",
    "print(my_deque)"
   ]
  },
  {
   "cell_type": "markdown",
   "id": "a04d6255",
   "metadata": {},
   "source": [
    "The  normal `pop()` and `append()` methhod can still work with deque list but in this case the `pop()` method doesn't acceept an index as argument."
   ]
  },
  {
   "cell_type": "code",
   "execution_count": null,
   "id": "e0e1e8f7",
   "metadata": {},
   "outputs": [],
   "source": [
    "print(my_deque)\n",
    "my_deque.pop() # removes 'opel' from the back of the list\n",
    "print(my_deque)"
   ]
  },
  {
   "cell_type": "code",
   "execution_count": null,
   "id": "88894ccd",
   "metadata": {
    "scrolled": true
   },
   "outputs": [],
   "source": [
    "print(my_deque)\n",
    "my_deque.pop(2) # Error due to an index argument supplied.\n",
    "print(my_deque)"
   ]
  },
  {
   "cell_type": "code",
   "execution_count": null,
   "id": "ff98d701",
   "metadata": {},
   "outputs": [],
   "source": [
    "print(my_deque)\n",
    "my_deque.append('opel') # append also works fine.\n",
    "print(my_deque)"
   ]
  },
  {
   "cell_type": "markdown",
   "id": "e26aa8bb",
   "metadata": {},
   "source": [
    "*Copyright &copy; 2025 DataClax. This content is licensed solely for personal use. Redistribution or publication of this material is strictly prohibited.*"
   ]
  }
 ],
 "metadata": {
  "kernelspec": {
   "display_name": "Python 3 (ipykernel)",
   "language": "python",
   "name": "python3"
  },
  "language_info": {
   "codemirror_mode": {
    "name": "ipython",
    "version": 3
   },
   "file_extension": ".py",
   "mimetype": "text/x-python",
   "name": "python",
   "nbconvert_exporter": "python",
   "pygments_lexer": "ipython3",
   "version": "3.11.7"
  }
 },
 "nbformat": 4,
 "nbformat_minor": 5
}
