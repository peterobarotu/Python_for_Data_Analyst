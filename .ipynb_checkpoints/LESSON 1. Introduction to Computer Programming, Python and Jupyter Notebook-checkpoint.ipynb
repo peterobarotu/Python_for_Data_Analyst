{
 "cells": [
  {
   "cell_type": "markdown",
   "metadata": {},
   "source": [
    "## Computer Programming"
   ]
  },
  {
   "cell_type": "markdown",
   "metadata": {},
   "source": [
    "Programming is the process of creating a set of instructions that tell a computer how to perform a task. Programming can be done using a variety of computer programming languages, such as JavaScript, Python, and C++.  According to Wikipedia Programming involves tasks such as analysis, generating algorithms, profiling algorithms' accuracy and resource consumption, and the implementation of algorithms (usually in a chosen programming language, commonly referred to as coding).\n",
    "\n",
    "A programming language is an artificial language that can be used to control the behaviour of a machine, particularly a computer. Programming languages, like human languages, are defined through the use of syntactic and semantic rules, to determine structure and meaning respectively.\n",
    "Programming languages are used to facilitate communication about the task of organizing and manipulating information, and to express algorithms precisely. \n"
   ]
  },
  {
   "cell_type": "markdown",
   "metadata": {},
   "source": [
    "### Programming Paradigm.\n",
    "\n",
    "A programming paradigm is an approach or style of programming that provides a framework for solving problems.It is one of the ways to classify programming languages based on their features. Languages can be classified into multiple paradigms. \n",
    "Common programming paradigms, which can be grouped into two broad categories, include: \n",
    "1.\t__Imperative__ in which the programmer instructs the machine how to change its state by describing a series of steps or instructions to be executed.\n",
    "\n",
    "> * ___Procedural___ which groups instructions into procedures,\n",
    "\n",
    "> * ___object-oriented___ which groups instructions with the part of the state they operate on,\n",
    "        \n",
    "2.\t__Declarative__ in which the programmer merely declares properties of the desired result, but not how to compute it\n",
    "\n",
    "> * __Functional__ in which the desired result is declared as the value of a series of function applications,\n",
    "> * ___Logic___ in which the desired result is declared as the answer to a question about a system of facts and rules,\n",
    "> * ___Mathematical___ in which the desired result is declared as the solution of an optimization problem\n",
    "> * ___Reactive___ in which the desired result is declared with data streams and the propagation of change\n",
    "\n",
    "Follow this __[link](https://www.freecodecamp.org/news/an-introduction-to-programming-paradigms/)__ and/or this __[link](https://www.watelectronics.com/types-of-programming-languages-with-differences/)__ for more information on programming Paradigm\n"
   ]
  },
  {
   "cell_type": "markdown",
   "metadata": {},
   "source": [
    "## Python As A Programming Language"
   ]
  },
  {
   "cell_type": "markdown",
   "metadata": {},
   "source": [
    "Python is a popular multi purpose, multi paradigm programming language that was created by a Dutch programmer named Guido van Rossum, and released in 1991.\n",
    "According to the python official documentation page, Python is an interpreted, interactive, object-oriented programming language. It incorporates modules, exceptions, dynamic typing, very high level dynamic data types, and classes. It supports multiple programming paradigms beyond object-oriented programming, such as procedural and functional programming. \n",
    "Python is used for:\n",
    "* AI and machine learning (ML)\n",
    "* Web development\n",
    "* Software development\n",
    "* Data analysis and Data science\n",
    "* Game development\n",
    "* Finance\n",
    "\n",
    "The following __[website](https://www.futurelearn.com/info/blog/what-is-python-used-for)__ provide a more detailed use of the Python language\n",
    "\n",
    "__Python Syntax compared to other programming languages__\n",
    "\n",
    "*\tPython was designed for readability, and has some similarities to the English language with influence from mathematics.\n",
    "\n",
    "*\tPython uses new lines to complete a command, as opposed to other programming languages which often use semicolons or parentheses.\n",
    "\n",
    "*\tPython relies on indentation, using whitespace, to define scope; such as the scope of loops, functions and classes. Other programming languages often use curly-brackets for this purpose.\n"
   ]
  },
  {
   "attachments": {
    "image.png": {
     "image/png": "[encoded data removed]"
    }
   },
   "cell_type": "markdown",
   "metadata": {},
   "source": [
    "### The Python Interpreter\n",
    "![image.png](attachment:image.png)\n",
    "\n",
    "Python’s traditional runtime execution model: source code you type is translated to byte\n",
    "code, which is then run by the Python Virtual Machine. Your code is automatically compiled, but then it is interpreted."
   ]
  },
  {
   "cell_type": "code",
   "execution_count": 1,
   "metadata": {},
   "outputs": [
    {
     "name": "stdout",
     "output_type": "stream",
     "text": [
      "Hello World\n"
     ]
    }
   ],
   "source": [
    "print(\"Hello World\")"
   ]
  },
  {
   "cell_type": "markdown",
   "metadata": {},
   "source": [
    "## Jupyter Notebook\n",
    "The Jupyter Notebook App is a server-client application that allows editing and running notebook documents via a web browser. The Jupyter Notebook App can be executed on a local desktop requiring no internet access or can be installed on a remote server and accessed through the internet.\n",
    "A Notebook is a web-based interactive computational environment produced by the Jupyter Notebook App, which contain both computer code (e.g. python ) -- that is executed through a kernel --  and rich text elements (paragraph, equations, figures, links, etc…). \n",
    "\n",
    "__Cells__\n",
    "\n",
    "A notebook is made up of cells. There are two main cell types:\n",
    "*\tA code cell contains code to be executed in the kernel. When the code is run, the notebook displays the output below the code cell that generated it.\n",
    "*\tA Markdown cell contains text formatted using __[Markdown](https://en.m.wikipedia.org/wiki/Markdown)__ and displays its output in-place when the Markdown cell is run.\n",
    "\n",
    "__Kernels__\n",
    "\n",
    "Behind every notebook runs a kernel. A notebook kernel is a “computational engine” that executes the code contained in a Notebook document. When you run a code cell, that code is executed within the kernel. Any output is returned back to the cell to be displayed. The kernel’s state persists over time and between cells — it pertains to the document as a whole and not individual cells.\n"
   ]
  },
  {
   "cell_type": "markdown",
   "metadata": {},
   "source": [
    "*Copyright &copy; 2025 DataClax. This content is licensed solely for personal use. Redistribution or publication of this material is strictly prohibited.*"
   ]
  }
 ],
 "metadata": {
  "kernelspec": {
   "display_name": "Python 3 (ipykernel)",
   "language": "python",
   "name": "python3"
  },
  "language_info": {
   "codemirror_mode": {
    "name": "ipython",
    "version": 3
   },
   "file_extension": ".py",
   "mimetype": "text/x-python",
   "name": "python",
   "nbconvert_exporter": "python",
   "pygments_lexer": "ipython3",
   "version": "3.11.7"
  }
 },
 "nbformat": 4,
 "nbformat_minor": 4
}
