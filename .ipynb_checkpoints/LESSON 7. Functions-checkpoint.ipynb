{
 "cells": [
  {
   "cell_type": "markdown",
   "id": "2ef3f4b5",
   "metadata": {},
   "source": [
    "# Functions\n",
    "A function is a named group of statements or blocks of code that are designed to perform a specific job. Functions are meant to be reusable. Defining a function allows you to reuse a chunk of code without endlessly copying and pasting."
   ]
  },
  {
   "cell_type": "markdown",
   "id": "0977b55c",
   "metadata": {},
   "source": [
    "## Defining a Function\n",
    "The `def` statement is used to define (create) a function object and assigns it to a name. Its general format is as follows:\n",
    "\n",
    "    def name(parameter_1, parameter_2,...):\n",
    "        \"\"\"docstring\"\"\"\n",
    "        blocks of code\n",
    "             .\n",
    "             .\n",
    "        return value\n",
    "\n",
    "A simple example of function definition is given below:"
   ]
  },
  {
   "cell_type": "code",
   "execution_count": null,
   "id": "e05b9738-9a84-48ce-852d-c7612d42f63c",
   "metadata": {},
   "outputs": [],
   "source": [
    "def product(x, y):               # defining the function\n",
    "    \"\"\"Return the product of two numbers\"\"\"\n",
    "    res = x * y\n",
    "    return res\n",
    "\n",
    "product(2, 3)                    # calling the function"
   ]
  },
  {
   "cell_type": "markdown",
   "id": "8ce55ce8",
   "metadata": {},
   "source": [
    "Lets examine the cell above. At line 1, we define (create) a function using the `def` statements followed by the name of the function called _product_. A parethesis followed the name then a colon (`:`). The parenthesis contains informations that is needed by  the function to perform the intended operation, in this case `x` and `y`. This informations are called **_parameters_**.\n",
    "\n",
    "At line 2, we have a string known as _docstring_ that tells us what the function does. This docstring is what is return when we use the `help` function on any object. At line 3, we have the block of codes that perfoms the operation and at line 4, the `return` statement is use to return the result. Line 2 to 4 is called the **_function body_**.\n",
    "\n",
    "After defining the function, we call the function (for use) and supply the necessary **_arguments_**, in this case, `2` and `3`. Running the cell we obtain the value of 6."
   ]
  },
  {
   "cell_type": "markdown",
   "id": "2ccd5516",
   "metadata": {
    "jp-MarkdownHeadingCollapsed": true
   },
   "source": [
    "### Parameter or Argument?\n",
    "The word parameter and argument are often used interchangeably. The variable `x` and `y` in our function __definition__ are  examples of parameters while `2` and `3` are examples of arguments in a function __call__. `x` and `y` are infomation that are needed by the function and this are supplied (passed) to the function as values of 2 and 3 when calling the function for use. In this example, 2 is assigned to x and 3 is assigned to y."
   ]
  },
  {
   "cell_type": "markdown",
   "id": "fd2ef790",
   "metadata": {},
   "source": [
    "### Options in Function Definition.\n",
    "The parameter(s), the docstring and the `return` statement are all optional in defining a functon. If a function requires no \n",
    "information to perform a task, then the parenthesis can be empty but not left out (They must be included!). \n",
    "\n",
    "The docstring has no effect on the usage of the function if left out but it is usually a good practice to include them in your function definition because they remind you or  inform anyone using your function what it does and the argument(s) required.\n",
    "\n",
    "The `return` statement usually comes last in the function body. This is resonable considering the fact that this statement should return the final result of the function. If the `return` statement is used in between the function body, the function runs the block of code up to the `return` statement and drops everything that comes after. In other words the function terminates immediately after returning the result. If the `return` statement is ommited in a function, the call to that function will return `None` even though any blocks of code within the function body will be executed.\n",
    "Examples of all this possibilities are shown in the cells below:"
   ]
  },
  {
   "cell_type": "code",
   "execution_count": null,
   "id": "c4f9c3b4",
   "metadata": {},
   "outputs": [],
   "source": [
    "# No parameter specified\n",
    "\n",
    "def message():\n",
    "    \"\"\"Display a simple message.\"\"\"\n",
    "    print(\"Hello World!\")\n",
    "    \n",
    "message()            # No argument required."
   ]
  },
  {
   "cell_type": "code",
   "execution_count": null,
   "id": "eccd6b90",
   "metadata": {
    "scrolled": true
   },
   "outputs": [],
   "source": [
    "# No return statement\n",
    "\n",
    "def product(x, y):               # defining the function\n",
    "    \"\"\"Return the product of two numbers\n",
    "    Parameters:\n",
    "    x is the first number\n",
    "    y is the second number\n",
    "    \n",
    "    return the product of x and y\n",
    "    \"\"\"\n",
    "    res = x * y\n",
    "    \n",
    "\n",
    "print(product(2, 3))                    # calling the function(using print())"
   ]
  },
  {
   "cell_type": "code",
   "execution_count": null,
   "id": "c966037b",
   "metadata": {},
   "outputs": [],
   "source": [
    "# No docstring\n",
    "\n",
    "def product_1(x, y):               # defining the function\n",
    "    res = x * y\n",
    "    return res\n",
    "\n",
    "product(2, 3)                     # calling the function"
   ]
  },
  {
   "cell_type": "code",
   "execution_count": null,
   "id": "d2356da4",
   "metadata": {},
   "outputs": [],
   "source": [
    "help(product)      # Calling help on product tells us what the function does."
   ]
  },
  {
   "cell_type": "code",
   "execution_count": null,
   "id": "a1095a48",
   "metadata": {},
   "outputs": [],
   "source": [
    "help(product_1)     # Calling help on product_1 is not helpful."
   ]
  },
  {
   "cell_type": "markdown",
   "id": "84f544ca",
   "metadata": {},
   "source": [
    "The `return` statement should be the last code in a function body because the function terminates at line where we have the `return` statement:"
   ]
  },
  {
   "cell_type": "code",
   "execution_count": null,
   "id": "79a03d3b",
   "metadata": {},
   "outputs": [],
   "source": [
    "def product(x, y):               # defining the function\n",
    "    \"\"\"Return the product of two numbers\"\"\"\n",
    "    res = x * y\n",
    "    print(\"This string will be printed. It comes before 'return'\")\n",
    "    return res\n",
    "    \n",
    "product(2, 3)                    # calling the function"
   ]
  },
  {
   "cell_type": "markdown",
   "id": "a8116f3b",
   "metadata": {},
   "source": [
    "Any code after a `return` statement will not execute!"
   ]
  },
  {
   "cell_type": "code",
   "execution_count": null,
   "id": "5d4a747a",
   "metadata": {},
   "outputs": [],
   "source": [
    "def product(x, y):               # defining the function\n",
    "    \"\"\"Return the product of two numbers\"\"\"\n",
    "    res = x * y\n",
    "    return res\n",
    "    print(\"This string will not be printed. It comes after 'return'\")\n",
    "    \n",
    "product(2, 3)                    # calling the function"
   ]
  },
  {
   "cell_type": "markdown",
   "id": "8dce4adb",
   "metadata": {},
   "source": [
    "## Scope (Global and Local)\n",
    "Scope are places where variables are defined and looked up, It defines the area of a program in which you can access a variable name or function  without conflict with another names. Scopes help prevent name clashes and unpredictable behaviours across your program’s code: names defined in one program unit don’t interfere with names in another.\n",
    "\n",
    "* __Global scope__: The names that you define in this scope are available to all your code.\n",
    "* __Local scope__: The names that you define in this scope are only available or visible to the code within the scope.\n",
    "\n",
    "Let's look at an example to drive this concept home:"
   ]
  },
  {
   "cell_type": "code",
   "execution_count": null,
   "id": "e3719fbd",
   "metadata": {},
   "outputs": [],
   "source": [
    "X = 99                          # Global scope\n",
    "\n",
    "def func():\n",
    "    X = 88                      # Local (function) scope\n",
    "    return X"
   ]
  },
  {
   "cell_type": "code",
   "execution_count": null,
   "id": "36ef18d1",
   "metadata": {
    "scrolled": true
   },
   "outputs": [],
   "source": [
    "print(X)           # print X in the Global scope    \n",
    "func()             # Returns X from the local scope"
   ]
  },
  {
   "cell_type": "markdown",
   "id": "99c40187",
   "metadata": {},
   "source": [
    "As can be seen in the previous cell, the value of `X` is different for each scope, even though they both have the same variable name(`X`). The  value of `X = 99` in the global scope is available to all code, the value of `X = 88` is only available to func and can only be use when func is called.\n",
    "\n",
    "Python scopes are implemented as dictionaries that map names to objects. These dictionaries are commonly called namespaces. Whenever you use a name, such as a variable or a function name, Python searches through different scope levels  (or namespaces) to determine whether the name exists or not. If the name exists, then you’ll always get the first occurrence of it. Otherwise, you’ll get an error.\n",
    "\n",
    "If a function calls a variable, the variable is first look-up in the local(function) scope before moving to the global scope, then the built-in scope (This scope contains names such as keywords, functions, exceptions, and other attributes that are built into Python), if the variable name is not found in any of this, an error occur. Let's take a look at an example:"
   ]
  },
  {
   "cell_type": "code",
   "execution_count": null,
   "id": "2917d61c",
   "metadata": {
    "scrolled": true
   },
   "outputs": [],
   "source": [
    "X = 10             # Global scope\n",
    "\n",
    "def func():\n",
    "    Z = X + Y           # Y is missing from both the global and local scope. \n",
    "    print ('X is available in global scope')\n",
    "    return Z     \n",
    "\n",
    "func()         # NameError occur due to missing variable 'Y'"
   ]
  },
  {
   "cell_type": "code",
   "execution_count": null,
   "id": "f2d1d67e",
   "metadata": {},
   "outputs": [],
   "source": [
    "X = 10                          # Global scope\n",
    "\n",
    "def func(Y):\n",
    "    Z = X + Y  \n",
    "    print ('X is available in global scope')\n",
    "    print('Y is available in the local scope of the function')\n",
    "    return Z   \n",
    "\n",
    "func(50)             # Y is supplied as 50 to the function"
   ]
  },
  {
   "cell_type": "code",
   "execution_count": null,
   "id": "134775e1",
   "metadata": {},
   "outputs": [],
   "source": [
    "print(Y)       # Y is a local variable belonging to func, therefore it can't be access outside the function"
   ]
  },
  {
   "cell_type": "code",
   "execution_count": null,
   "id": "a90ff930",
   "metadata": {},
   "outputs": [],
   "source": [
    "X = 10                # Global scope\n",
    "Y = 100               # Global scope\n",
    "def func(Y):\n",
    "    Z = X + Y  \n",
    "    print ('X is available in global scope')\n",
    "    print('Y is available in both global and local scope')\n",
    "    return Z    \n",
    "\n",
    "func(50)             # Y is supplied as 50 to the function"
   ]
  },
  {
   "cell_type": "markdown",
   "id": "8ea57513",
   "metadata": {},
   "source": [
    "The last example demostrate the scope search mechanism. Even though `Y` is available both in the local and global environment, the value of `Y = 50`  from the local scope is used because it is search first. Python uses the first occurence of a variable. If `Y` was missing in the local scope, it would have went ahead to use `Y = 100` from the global scope and the value of `Z` would have been 110."
   ]
  },
  {
   "cell_type": "markdown",
   "id": "a41c6907",
   "metadata": {},
   "source": [
    "### Positional Arguments\n",
    "When values are passed to the parameters of a function during a function call base on their positions, we call this values positional arguments. The order of the values (or **arguments**) must match up with the order of the **parameters** within the function definition. Consider the example below: "
   ]
  },
  {
   "cell_type": "code",
   "execution_count": null,
   "id": "508a2fcf",
   "metadata": {},
   "outputs": [],
   "source": [
    "def intro(name, nationality):                           # defining the function\n",
    "    \"\"\"Introduce a person by name and nationality\"\"\"\n",
    "    return f\"My name is {name.title()} and I am from {nationality.title()}\"\n",
    "\n",
    "intro('peter', 'nigeria')                               # Calling the function "
   ]
  },
  {
   "cell_type": "code",
   "execution_count": null,
   "id": "9bc461dd",
   "metadata": {},
   "outputs": [],
   "source": [
    "# Calling function multiple times.\n",
    "print(intro('trump', 'america'))            \n",
    "print(intro('putin', 'russia'))"
   ]
  },
  {
   "cell_type": "markdown",
   "id": "4e25e7a7",
   "metadata": {},
   "source": [
    "#### Order Matters in Positional Arguments\n",
    "If arguments are passed in the wrong order, a different result from the expected may ensued or we might run into an error."
   ]
  },
  {
   "cell_type": "code",
   "execution_count": null,
   "id": "6d84a613",
   "metadata": {},
   "outputs": [],
   "source": [
    "intro('nigeria', 'peter') "
   ]
  },
  {
   "cell_type": "code",
   "execution_count": null,
   "id": "a5f2f518",
   "metadata": {},
   "outputs": [],
   "source": [
    "def intro_age(name, age):                           # defining the function\n",
    "    \"\"\"Introduce a person by name and age\"\"\"\n",
    "    return f\"My name is {name.title()} and I am {age} years old\"\n",
    "\n",
    "intro_age('peter', 10)                             # proper order of arguments"
   ]
  },
  {
   "cell_type": "code",
   "execution_count": null,
   "id": "fdb6374d",
   "metadata": {},
   "outputs": [],
   "source": [
    "intro_age(10, 'peter')                  # improper order of arguments"
   ]
  },
  {
   "cell_type": "markdown",
   "id": "11c71da6",
   "metadata": {},
   "source": [
    "### keyword argument\n",
    "A keyword argument is a name-value pair that is pass to a function. You directly associate the name and the value within the argument, so when you pass the argument to the function, there’s no confusion. Consider the example below."
   ]
  },
  {
   "cell_type": "code",
   "execution_count": null,
   "id": "3d93537a",
   "metadata": {},
   "outputs": [],
   "source": [
    "def intro(name, nationality):                          \n",
    "    \"\"\"Introduce a person by name and nationality\"\"\"\n",
    "    return(f\"My name is {name.title()} and I am from {nationality.title()}\")\n"
   ]
  },
  {
   "cell_type": "code",
   "execution_count": null,
   "id": "65faece1",
   "metadata": {},
   "outputs": [],
   "source": [
    "intro(name='peter', nationality='nigeria')      "
   ]
  },
  {
   "cell_type": "code",
   "execution_count": null,
   "id": "60f625d9",
   "metadata": {},
   "outputs": [],
   "source": [
    "# Order doesn't matter\n",
    "intro(nationality='nigeria', name='peter')"
   ]
  },
  {
   "cell_type": "code",
   "execution_count": null,
   "id": "54564eb8",
   "metadata": {},
   "outputs": [],
   "source": [
    "def intro_age(name, age):                          \n",
    "    \"\"\"Introduce a person by name and age\"\"\"\n",
    "    return(f\"My name is {name.title()} and I am {age} years old\")\n"
   ]
  },
  {
   "cell_type": "code",
   "execution_count": null,
   "id": "53c24e9a",
   "metadata": {},
   "outputs": [],
   "source": [
    "intro_age(name='peter', age=10)                  # 'name' keyword argument comes first"
   ]
  },
  {
   "cell_type": "code",
   "execution_count": null,
   "id": "92f64463",
   "metadata": {},
   "outputs": [],
   "source": [
    "intro_age(age=10, name='peter')                  # 'age' keyword argument comes first"
   ]
  },
  {
   "cell_type": "markdown",
   "id": "28686366",
   "metadata": {},
   "source": [
    "### Setting Default Arguments\n",
    "In defining a function, we can set default values for each of our parameters. This default value is automatically use if an argument to a parameter is not specified, if it is specified, it uses the specified value. For example, in our `intro` function, we can add `language` parameter that defaults to \"english\" since it is the most spoken language. Anyone who speaks a different language will have to specify their language, otherwise english is presumed to be their language:"
   ]
  },
  {
   "cell_type": "code",
   "execution_count": null,
   "id": "0802f6f7",
   "metadata": {},
   "outputs": [],
   "source": [
    "def intro(name, nationality, language='english'):                          \n",
    "    \"\"\"Introduce a person by name and nationality\"\"\"\n",
    "    print(f\"My name is {name.title()} and I am from {nationality.title()}\")\n",
    "    print(f\"My lingua franca is {language.title()}\")\n"
   ]
  },
  {
   "cell_type": "code",
   "execution_count": null,
   "id": "159187b3",
   "metadata": {},
   "outputs": [],
   "source": [
    "intro('peter', 'nigeria')"
   ]
  },
  {
   "cell_type": "code",
   "execution_count": null,
   "id": "37ba71a5",
   "metadata": {},
   "outputs": [],
   "source": [
    "intro('peter', 'nigeria', 'english')           #  Same as above"
   ]
  },
  {
   "cell_type": "code",
   "execution_count": null,
   "id": "2042b9c6",
   "metadata": {},
   "outputs": [],
   "source": [
    "intro('malcom', 'france', 'french')    # The \"french\" value will override the default \"english\""
   ]
  },
  {
   "cell_type": "code",
   "execution_count": null,
   "id": "5eb02318",
   "metadata": {},
   "outputs": [],
   "source": [
    "intro('malcom', 'france')           # This will produce an incorrect/false introduction (Logical error)."
   ]
  },
  {
   "cell_type": "markdown",
   "id": "d1bb3892",
   "metadata": {},
   "source": [
    "When you use default values, **any parameter with a default value needs to be listed after all the parameters that don’t have default values.** This allows Python to continue interpreting positional arguments correctly."
   ]
  },
  {
   "cell_type": "markdown",
   "id": "8b1e8fc9",
   "metadata": {},
   "source": [
    "###  Optional Argument\n",
    "In the last example, if a person do not provide their language, we use a default value of english. There are some cases where the user do not have that information or do not wish to give it out. For example, in creating an online form, we must be aware that not everyone has a middle name or may be willing to submit their phone number. In these cases, we cannot use a default value for their name or phone number (how do we determine the name or phone number to use as default?). If these parameters are optional, we must find a way to make sure our code works for both individuals that submit middle names (and/or phone numbers) and those who didn't. Let's look at an example of this. Let's create a function that retrives information from an online user and stores it in a dictionary."
   ]
  },
  {
   "cell_type": "code",
   "execution_count": null,
   "id": "1c0e642a",
   "metadata": {},
   "outputs": [],
   "source": [
    "def user(f_name, l_name, age, country='nigeria', middle_name=None, phone_no=None):\n",
    "    \"Returns a dictionary of user data\"\n",
    "    rec = {'f_name':f_name,\n",
    "           'l_name':l_name,\n",
    "           'age':age,\n",
    "           'country':country\n",
    "          }\n",
    "    \n",
    "    if middle_name and phone_no:\n",
    "        rec['middle_name'] = middle_name\n",
    "        rec['phone_no'] = phone_no\n",
    "    elif middle_name:\n",
    "        rec['middle_name'] = middle_name\n",
    "    elif phone_no:\n",
    "        rec['phone_no'] = phone_no\n",
    "        \n",
    "    return(rec)    "
   ]
  },
  {
   "cell_type": "code",
   "execution_count": null,
   "id": "36ea146a",
   "metadata": {},
   "outputs": [],
   "source": [
    "user1 = user('peter', 'obarotu', 12)\n",
    "user2 = user('kobe', 'bryant', 35, country='america', middle_name='bean')\n",
    "user3 = user('phil', 'mcguiness', 58, 'ireland', phone_no='+35376329054')\n",
    "user4 = user('tom', 'mapother', 62, 'america', middle_name='cruise')"
   ]
  },
  {
   "cell_type": "code",
   "execution_count": null,
   "id": "554f63e2",
   "metadata": {
    "scrolled": true
   },
   "outputs": [],
   "source": [
    "user1"
   ]
  },
  {
   "cell_type": "code",
   "execution_count": null,
   "id": "e68b5342",
   "metadata": {
    "scrolled": true
   },
   "outputs": [],
   "source": [
    "user2"
   ]
  },
  {
   "cell_type": "code",
   "execution_count": null,
   "id": "e357bd34",
   "metadata": {},
   "outputs": [],
   "source": [
    "user3"
   ]
  },
  {
   "cell_type": "code",
   "execution_count": null,
   "id": "d729b870-39bd-48a3-a954-95dfbc6736f0",
   "metadata": {},
   "outputs": [],
   "source": [
    "user4"
   ]
  },
  {
   "cell_type": "code",
   "execution_count": null,
   "id": "00b3a072",
   "metadata": {},
   "outputs": [],
   "source": [
    "'middle_name' in user2"
   ]
  },
  {
   "cell_type": "markdown",
   "id": "3a69b4eb",
   "metadata": {},
   "source": [
    "The advantages of writing a function is further emphasized here. We can create as many user profile as we want with a single call to `user`. It saves us from writing the same code all over anytime we need to create a new user dictionary."
   ]
  },
  {
   "cell_type": "code",
   "execution_count": null,
   "id": "8f8c8cac",
   "metadata": {},
   "outputs": [],
   "source": [
    "users = [user1, user2, user3]       # putting all previously created users in a list\n",
    "for user in users:\n",
    "    if 'middle_name' in user:\n",
    "        print(f\"Nice to meet you {user['f_name'].title()} {user['middle_name'].title()} {user['l_name'].title()}\")\n",
    "    else:\n",
    "        print(f\"Nice to meet you {user['f_name'].title()} {user['l_name'].title()}\")"
   ]
  },
  {
   "cell_type": "markdown",
   "id": "8ef5e313",
   "metadata": {},
   "source": [
    "Let's write a program that makes use of the `user` function to register a new user"
   ]
  },
  {
   "cell_type": "code",
   "execution_count": null,
   "id": "db2a0694",
   "metadata": {},
   "outputs": [],
   "source": [
    "def user(f_name, l_name, age, country='nigeria', middle_name=None, phone_no=None):\n",
    "    \"Returns a dictionary of user data\"\n",
    "    rec = {'f_name':f_name,\n",
    "           'l_name':l_name,\n",
    "           'age':age,\n",
    "           'country':country\n",
    "          }\n",
    "    \n",
    "    if middle_name and phone_no:\n",
    "        rec['middle_name'] = middle_name\n",
    "        rec['phone_no'] = phone_no\n",
    "    elif middle_name:\n",
    "        rec['middle_name'] = middle_name\n",
    "    elif phone_no:\n",
    "        rec['phone_no'] = phone_no\n",
    "        \n",
    "    return rec    \n",
    "    \n",
    "\n",
    "print(\"You have to have an account to use this site.\")\n",
    "res = input(\"Create account? [y/n]\\n(Enter 'y' for Yes and 'n' for No): \")\n",
    "if res == 'y':\n",
    "    print(\"All asterisk field must be filled\")\n",
    "    f_name = input('Enter first name*: ')\n",
    "    l_name = input('Enter last name*: ')\n",
    "    middle_name = input('Enter middle name: ')\n",
    "    age = int(input('Enter your age*: '))\n",
    "    phone_no = input('Phone Number: ')\n",
    "    country = input('Country (Nigeria by default): ')\n",
    "    if not country:\n",
    "        country = 'Nigeria'   # Use a default when the string is empty.\n",
    "    \n",
    "    # Calls the 'user' function and save the return dict to `person`\n",
    "    person = user('peter', l_name, age, country, middle_name, phone_no) \n",
    "    print(\"\\nRegistration successful\")\n",
    "    if 'middle_name' in person:\n",
    "        print(f\"Thank you {person['f_name'].title()} {person['middle_name'].title()} {person['l_name'].title()}\")      \n",
    "    else:\n",
    "        print(f\"Thank you {person['f_name'].title()} {person['l_name'].title()}\")\n",
    "elif res == 'n':\n",
    "    print('\\nOver one million registered users worldwide. Join our team of tech savvy.\\nResgister now!')\n",
    "    print(\"This is our home page Ad. We are doing it to make you change your mind *smile emoji*\")\n",
    "    "
   ]
  },
  {
   "cell_type": "code",
   "execution_count": null,
   "id": "e760211a",
   "metadata": {
    "scrolled": true
   },
   "outputs": [],
   "source": [
    "person"
   ]
  },
  {
   "cell_type": "markdown",
   "id": "557d501a",
   "metadata": {},
   "source": [
    "Let's reorganize the above user registration program  by having two functions -- one is the `user` function that returns a dictionary of record about a user which we have already done, the second, which we will name `register_user` that does the actual registeration and makes use of the `user` function"
   ]
  },
  {
   "cell_type": "code",
   "execution_count": null,
   "id": "46fc1553",
   "metadata": {},
   "outputs": [],
   "source": [
    "def register_user():   \n",
    "    print(\"All asterik field must be filled\")\n",
    "    f_name = input('Enter first name*: ')\n",
    "    l_name = input('Enter last name*: ')\n",
    "    middle_name = input('Enter middle name: ')\n",
    "    age = int(input('Enter your age*: '))\n",
    "    phone_no = input('Phone Number: ')\n",
    "    country = input('Country (Nigeria by default): ')\n",
    "    if not country:\n",
    "        country = 'Nigeria'   # Use a default when the string is empty.\n",
    "\n",
    "    #Calls the 'user' function\n",
    "    person = user(f_name, l_name, age, country, middle_name, phone_no) \n",
    "    print(\"\\nRegistration successful\")\n",
    "    if 'middle_name' in person:\n",
    "        print(f\"Thank you {person['f_name'].title()} {person['middle_name'].title()} {person['l_name'].title()}!\")      \n",
    "    else:\n",
    "        print(f\"Thank you {person['f_name'].title()} {person['l_name'].title()}!\")\n",
    "    return person"
   ]
  },
  {
   "cell_type": "code",
   "execution_count": null,
   "id": "20f03ae6",
   "metadata": {
    "scrolled": true
   },
   "outputs": [],
   "source": [
    "print(\"You have to have an account to use this site.\")\n",
    "res = input(\"Create account? [y/n]\\n(Enter 'y' for Yes and 'n' for No): \")\n",
    "if res == 'y':\n",
    "    #Calling the 'register_user' function -- It returns the person dictionary\n",
    "    person = register_user()\n",
    "elif res == 'n':\n",
    "    print(\"\\nHome page Ad. We are doing it to make you change your mind *smile emoji*\")\n",
    "    print('Over one million registered users worldwide. Join our team of tech savvy.\\nResgister now!')"
   ]
  },
  {
   "cell_type": "code",
   "execution_count": null,
   "id": "7503c5b7",
   "metadata": {},
   "outputs": [],
   "source": [
    "person"
   ]
  },
  {
   "cell_type": "markdown",
   "id": "dde0434d",
   "metadata": {},
   "source": [
    "We have been able to _refactor_ our program by reducing it to a few lines of code through the use of functions. Refactoring is the process of restructuring existing code to improve its design, readability, and maintainability without changing its external behavior. The `register_user` calls the `user` function in its function body. In this case `user` function is nested inside the `register_user` function and _helps_ perform part of the task of `register_user`, as a result the `user` function is called a __helper function__."
   ]
  },
  {
   "cell_type": "markdown",
   "id": "c336dc97",
   "metadata": {},
   "source": [
    "### Arbitrary Arguments "
   ]
  },
  {
   "cell_type": "markdown",
   "id": "0d9673d7",
   "metadata": {},
   "source": [
    "Sometimes it is difficult to predict ahead of time the number of arguments that need to be passed to a function. Python uses a single asterisk(`*`) to collect an arbitrary number of arguments and packed them into a tuple.\n",
    "\n",
    "    def func(*args):\n",
    "        function body\n",
    "        return value\n",
    "__args__ is the conventional way to represents a collective arbitrary positional arguments though you can use another name in your function definition or call but always remember to use the asterisk. "
   ]
  },
  {
   "cell_type": "code",
   "execution_count": null,
   "id": "8c54805d",
   "metadata": {},
   "outputs": [],
   "source": [
    "def func(*args):                # function definition\n",
    "    print(args)   "
   ]
  },
  {
   "cell_type": "code",
   "execution_count": null,
   "id": "9468c1db",
   "metadata": {},
   "outputs": [],
   "source": [
    "func(1, 2)                    # two arguments passed to func"
   ]
  },
  {
   "cell_type": "code",
   "execution_count": null,
   "id": "8fe9d304",
   "metadata": {
    "scrolled": true
   },
   "outputs": [],
   "source": [
    "func(1, 2, 3, 4, 5, 67)              # six arguments passed to func"
   ]
  },
  {
   "cell_type": "markdown",
   "id": "003071e8",
   "metadata": {},
   "source": [
    "Let's use this idea to define a function that sums up any given number of numerical arguments pass to it. Python has `sum` function built in already, therefore we will name our function `my_sum` but the two function should produce the same output."
   ]
  },
  {
   "cell_type": "code",
   "execution_count": null,
   "id": "695162dd",
   "metadata": {},
   "outputs": [],
   "source": [
    "def my_sum(*args):\n",
    "    x = 0\n",
    "    for num in args:\n",
    "        x += num\n",
    "    return x"
   ]
  },
  {
   "cell_type": "code",
   "execution_count": null,
   "id": "9998f6be",
   "metadata": {},
   "outputs": [],
   "source": [
    "my_sum(1, 2, 3, 4, 4, 3, 10)     # Receives an arbitrary number of arguments"
   ]
  },
  {
   "cell_type": "code",
   "execution_count": null,
   "id": "619b4a43",
   "metadata": {},
   "outputs": [],
   "source": [
    "sum([1, 2, 3, 4, 4, 3, 10])     # Python built-in sum receives an iterable, hence the list."
   ]
  },
  {
   "cell_type": "markdown",
   "id": "20bcb630",
   "metadata": {},
   "source": [
    "When __calling__ a function, instead of typing all the arguments we can also pass `*args`, where args must be an iterable"
   ]
  },
  {
   "cell_type": "code",
   "execution_count": null,
   "id": "6a9bd565",
   "metadata": {},
   "outputs": [],
   "source": [
    "values = (1, 2, 3, 4)\n",
    "values"
   ]
  },
  {
   "cell_type": "code",
   "execution_count": null,
   "id": "4156adc0",
   "metadata": {},
   "outputs": [],
   "source": [
    "my_sum(*values)"
   ]
  },
  {
   "cell_type": "code",
   "execution_count": null,
   "id": "0daf4b5b",
   "metadata": {},
   "outputs": [],
   "source": [
    "values = range(1, 1000000)\n",
    "values"
   ]
  },
  {
   "cell_type": "code",
   "execution_count": null,
   "id": "5646360d",
   "metadata": {},
   "outputs": [],
   "source": [
    "my_sum(*values)"
   ]
  },
  {
   "cell_type": "markdown",
   "id": "e351f8ce",
   "metadata": {},
   "source": [
    "As an example, let's create a `greet_user` function that appreciate any number of users that register with us. In this case, we cannot determine the number of users beforehand because we expect our users to grow constantly, therefore we use the _starred expression_ when __defining__ our function. When also __calling__ the function we could pass all of the users as an iterable with an asterisk before it."
   ]
  },
  {
   "cell_type": "code",
   "execution_count": null,
   "id": "0f6cdd94",
   "metadata": {},
   "outputs": [],
   "source": [
    "def greet_user(*users):\n",
    "    \"\"\"Greet user by first name\"\"\"\n",
    "    for user in users:\n",
    "        print(f\"Welcome {user['f_name'].title()}. Thanks for joining us!\")"
   ]
  },
  {
   "cell_type": "code",
   "execution_count": null,
   "id": "3eec22ff",
   "metadata": {
    "scrolled": true
   },
   "outputs": [],
   "source": [
    "# Use the user function to create multiple users\n",
    "user1 = user('peter','obarotu', 22)\n",
    "user2 = user('kobe', 'bryant', 35, country='america', middle_name='bean')\n",
    "user3 = user('phil', 'mcguiness', 58, 'ireland', phone_no='+35376329054')\n",
    "user4 = user('lionel','messi', 34, 'argentina', middle_name='andres')\n",
    "user5 = user('jack', 'bauer', 52, 'america',)\n",
    "\n",
    "# Store all users created in a list\n",
    "users = [user1, user2, user3, user4, user5]          "
   ]
  },
  {
   "cell_type": "code",
   "execution_count": null,
   "id": "e2b18e1e",
   "metadata": {},
   "outputs": [],
   "source": [
    "user1"
   ]
  },
  {
   "cell_type": "code",
   "execution_count": null,
   "id": "81c7a4ab",
   "metadata": {
    "scrolled": true
   },
   "outputs": [],
   "source": [
    "greet_user(user1)     # one argument is pass"
   ]
  },
  {
   "cell_type": "code",
   "execution_count": null,
   "id": "788f539e",
   "metadata": {},
   "outputs": [],
   "source": [
    "greet_user(user1, user2, user3)        # three arguments is pass"
   ]
  },
  {
   "cell_type": "code",
   "execution_count": null,
   "id": "2b6ddd08",
   "metadata": {},
   "outputs": [],
   "source": [
    "greet_user(user1, user2, user3, user4, user5)               # all the arguments pass at once"
   ]
  },
  {
   "cell_type": "markdown",
   "id": "592e1121",
   "metadata": {},
   "source": [
    "As said earlier, it might be cumbersome to pass each argument one by one, so we can pass the `users` list and unpack it in the function using the star expression:"
   ]
  },
  {
   "cell_type": "code",
   "execution_count": null,
   "id": "7584ae6a",
   "metadata": {},
   "outputs": [],
   "source": [
    "users"
   ]
  },
  {
   "cell_type": "code",
   "execution_count": null,
   "id": "947aecee",
   "metadata": {},
   "outputs": [],
   "source": [
    "greet_user(*users)               # all the arguments pass at once"
   ]
  },
  {
   "cell_type": "markdown",
   "id": "85eda62a",
   "metadata": {},
   "source": [
    "Positional arguments can be mix with arbitrary arguments. Consider the examples below."
   ]
  },
  {
   "cell_type": "code",
   "execution_count": null,
   "id": "2e39f8d5",
   "metadata": {},
   "outputs": [],
   "source": [
    "def func(a, *args):      # 'a' is a positional arguments, args is the arbitrary number of arguments\n",
    "    print(a, args)\n",
    "\n",
    "func(2, 3, 4)          # a = 1, args is a tuple of 2 and 3"
   ]
  },
  {
   "cell_type": "code",
   "execution_count": null,
   "id": "134fa2e2",
   "metadata": {},
   "outputs": [],
   "source": [
    "user0 = user('dele', 'george', 47)   # Another user\n",
    "user0"
   ]
  },
  {
   "cell_type": "code",
   "execution_count": null,
   "id": "a9b61bba",
   "metadata": {},
   "outputs": [],
   "source": [
    "greet_user(user0, *users)      # user0 is the positional argument, users is the arbitrary arguments"
   ]
  },
  {
   "cell_type": "markdown",
   "id": "8e77d294",
   "metadata": {},
   "source": [
    "Let's redefine `greet_user` to have a positional parameter `dob` which is the  date of birth for a particular user. We can show them how much we care by sending them a birthday message. We can group all individuals born on a particular day in our users database to receive birthday message for that day and those who are not born on that day won't receive any."
   ]
  },
  {
   "cell_type": "code",
   "execution_count": null,
   "id": "a05a5c97",
   "metadata": {},
   "outputs": [],
   "source": [
    "def greet_bday_user(dob, *users):      # dob is the positional argument, users is the arbitrary arguments\n",
    "    \"\"\"\n",
    "    Send out birthday message to user \n",
    "    base on their date of birth(dob)\n",
    "    \"\"\"\n",
    "    for user in users:\n",
    "        print(f\"Hurray! Today is {dob}\")\n",
    "        print(f\"Happy birthday {user['f_name'].title()} {user['l_name'].title()}. We celebrate you on your day!\\n\")\n",
    "    "
   ]
  },
  {
   "cell_type": "code",
   "execution_count": null,
   "id": "dbde7fa4",
   "metadata": {
    "scrolled": true
   },
   "outputs": [],
   "source": [
    "greet_bday_user('10/12', user0)        #  Only one user passed"
   ]
  },
  {
   "cell_type": "code",
   "execution_count": null,
   "id": "96967c33",
   "metadata": {},
   "outputs": [],
   "source": [
    "greet_bday_user('10/12', user0, user1)  # Two users passed"
   ]
  },
  {
   "cell_type": "code",
   "execution_count": null,
   "id": "c25594c5",
   "metadata": {
    "scrolled": true
   },
   "outputs": [],
   "source": [
    "greet_bday_user('10/12', *users[:3])     # first three user from users list is passed"
   ]
  },
  {
   "cell_type": "markdown",
   "id": "9b4d3a6f",
   "metadata": {},
   "source": [
    "I agree there is nothing fancy about `greet_bday_user`, at least not at the moment because we have to manually select users born on a particular day, but what if we include `dob` (date of birth) field in our user dictionary, then we could filter  users base on dob before sending message to them."
   ]
  },
  {
   "cell_type": "markdown",
   "id": "618c99c1",
   "metadata": {},
   "source": [
    "### Arbitrary Keyword Arguments\n",
    "This is the same with arbitrary arguments except two asterisk is used and instead of returning a tuple, a dictionary of key-value pair is returned. This is useful when you can't determine ahead of time what __type__ of information and how __many__ of it would be passed. Consider the exaple below:"
   ]
  },
  {
   "cell_type": "code",
   "execution_count": null,
   "id": "1908e7af",
   "metadata": {},
   "outputs": [],
   "source": [
    "def func(**kwargs):\n",
    "    print(kwargs)"
   ]
  },
  {
   "cell_type": "code",
   "execution_count": null,
   "id": "54053928",
   "metadata": {},
   "outputs": [],
   "source": [
    "func(a=1, b=2)             # two keyword arguments passed to func"
   ]
  },
  {
   "cell_type": "code",
   "execution_count": null,
   "id": "3a0d2816",
   "metadata": {},
   "outputs": [],
   "source": [
    "func(a=1, b=2, c=3, d=4)     # four keyword arguments passed to func"
   ]
  },
  {
   "cell_type": "markdown",
   "id": "98bd0120",
   "metadata": {},
   "source": [
    "we can also mix positional, arbitrary, and arbitrary keyword arguments:"
   ]
  },
  {
   "cell_type": "code",
   "execution_count": null,
   "id": "b6d02d5b",
   "metadata": {},
   "outputs": [],
   "source": [
    "def func2(a, *args, **kwargs):\n",
    "    print(a, args, kwargs)"
   ]
  },
  {
   "cell_type": "code",
   "execution_count": null,
   "id": "3cc06cf8",
   "metadata": {},
   "outputs": [],
   "source": [
    "func2(1, 2, 3, d=4)       # 1 is positional, 2 and 3 are arbitrary arguments, and 4 is keyword arguments"
   ]
  },
  {
   "cell_type": "markdown",
   "id": "14f058d0",
   "metadata": {},
   "source": [
    "You can omit an  abritrary arguments(args) and/or arbitrary keyword arguments(kwargs) but you can't omit a positional argument"
   ]
  },
  {
   "cell_type": "code",
   "execution_count": null,
   "id": "20d4c8fb",
   "metadata": {
    "scrolled": true
   },
   "outputs": [],
   "source": [
    "func2(1)         # Both abritrary and abritrary keyword arguments omitted"
   ]
  },
  {
   "cell_type": "code",
   "execution_count": null,
   "id": "baeb4137",
   "metadata": {},
   "outputs": [],
   "source": [
    "func2(1, c=3, d=4)     # Abritrary argument omitted"
   ]
  },
  {
   "cell_type": "code",
   "execution_count": null,
   "id": "998eda39",
   "metadata": {},
   "outputs": [],
   "source": [
    "func2(1, 2)           # Arbitrary keyword argument omitted"
   ]
  },
  {
   "cell_type": "markdown",
   "id": "364d7412",
   "metadata": {},
   "source": [
    "If you have your keyword arguments in a dictionary, you can unpack them using the double star (`**`) expression:"
   ]
  },
  {
   "cell_type": "code",
   "execution_count": null,
   "id": "fa2bf4a3",
   "metadata": {},
   "outputs": [],
   "source": [
    "def func3(a, b, c, d):            \n",
    "    return a + b + c + d"
   ]
  },
  {
   "cell_type": "code",
   "execution_count": null,
   "id": "9d88e265",
   "metadata": {},
   "outputs": [],
   "source": [
    "values = dict(a=1, b=2, c=3, d=4)\n",
    "values"
   ]
  },
  {
   "cell_type": "code",
   "execution_count": null,
   "id": "a050ca1e",
   "metadata": {},
   "outputs": [],
   "source": [
    "func3(**values)    # The double star unpacks each key-value pair into the function"
   ]
  },
  {
   "cell_type": "markdown",
   "id": "ac268b3c",
   "metadata": {},
   "source": [
    "The above is equivalent to:"
   ]
  },
  {
   "cell_type": "code",
   "execution_count": null,
   "id": "d2a89d0a",
   "metadata": {},
   "outputs": [],
   "source": [
    "func3(a=1, b=2, c=3, d=4)    # This might be tedious if you have large values "
   ]
  },
  {
   "cell_type": "markdown",
   "id": "f1e3ea4b",
   "metadata": {},
   "source": [
    "Let's go back to our `user` function. In defining it, we use two optional keyword parameters (`middle_name` and `phone_no`). We can create more optional keywords parameters without the stress of listing them all in our function definition. By doing this the users determine the kind of information they submit apart from the mandatory ones."
   ]
  },
  {
   "cell_type": "code",
   "execution_count": null,
   "id": "50fd343d",
   "metadata": {},
   "outputs": [],
   "source": [
    "def user(f_name, l_name, age, country='nigeria', **user_info):\n",
    "    \"Returns a dictionary of user data\"\n",
    "    user_info['f_name'] = f_name\n",
    "    user_info['l_name'] = l_name\n",
    "    user_info['age'] = age\n",
    "    user_info['country'] = country\n",
    "     \n",
    "    return(user_info)    "
   ]
  },
  {
   "cell_type": "markdown",
   "id": "60dd6886",
   "metadata": {},
   "source": [
    "As said before, the __user_info__ keyword parameter returns a dictionary that contains key-value pair of the user information. We took this dictionary and add the `first name`, `last name`, `age` and `country` to it. If this is not done we only get a dictionary containing only the optional keyword information added by the users."
   ]
  },
  {
   "cell_type": "code",
   "execution_count": null,
   "id": "e6b793c6",
   "metadata": {},
   "outputs": [],
   "source": [
    "user1 = user('peter','obarotu', 22)\n",
    "user2 = user('kobe', 'bryant', 35, country='america', middle_name='bean', dob='23/08', city='philadephia')\n",
    "user3 = user('frasier', 'crane', 70, occupation='psychatrist', spouse='roz doyle', next_of_kin='niles crane')"
   ]
  },
  {
   "cell_type": "code",
   "execution_count": null,
   "id": "16c0bd46",
   "metadata": {
    "scrolled": true
   },
   "outputs": [],
   "source": [
    "user1"
   ]
  },
  {
   "cell_type": "code",
   "execution_count": null,
   "id": "41497290",
   "metadata": {
    "scrolled": true
   },
   "outputs": [],
   "source": [
    "user2"
   ]
  },
  {
   "cell_type": "code",
   "execution_count": null,
   "id": "3fcc0fa2",
   "metadata": {},
   "outputs": [],
   "source": [
    "user3"
   ]
  },
  {
   "cell_type": "markdown",
   "id": "5b716e55",
   "metadata": {},
   "source": [
    "Let's re-create our users profile to include additional information like `dob` and use the `greet_bday_user` function to automatically select all the users born on the same date with kobe bryant (August 23rd) and send a warm message to them."
   ]
  },
  {
   "cell_type": "code",
   "execution_count": null,
   "id": "e7b089d8",
   "metadata": {},
   "outputs": [],
   "source": [
    "user4 = user('phil', 'mcguiness', 58, 'ireland', dob='23/08', city='dublin', phone_no='+35376329054')\n",
    "user5 = user('lionel','messi', 34, 'argentina', dob='12/07', middle_name='andres', spouse='antonella')\n",
    "user6 = user('jack', 'bauer', 52, 'america', dob='23/08', city='los angeles', occupation='security agent')\n",
    "\n",
    "users = [user1, user2, user3, user4, user5, user6]\n"
   ]
  },
  {
   "cell_type": "code",
   "execution_count": null,
   "id": "2b72fc88",
   "metadata": {},
   "outputs": [],
   "source": [
    "user3"
   ]
  },
  {
   "cell_type": "code",
   "execution_count": null,
   "id": "60bdbe92",
   "metadata": {},
   "outputs": [],
   "source": [
    "user3.get('dob')"
   ]
  },
  {
   "cell_type": "code",
   "execution_count": null,
   "id": "644c3dfd",
   "metadata": {},
   "outputs": [],
   "source": [
    "def greet_bday_user(date, *users):\n",
    "    \"\"\"\n",
    "    Send out birthday message to user \n",
    "    base on their date of birth(dob)\n",
    "    \"\"\"\n",
    "    for user in users:\n",
    "        if user.get('dob') == date:       # use get() method to avoid error in case the dob key is missing for a user\n",
    "            print(f\"Hurray! it's {date}\")\n",
    "            print(f\"Happy birthday {user['f_name'].title()} {user['l_name'].title()}. We celebrate you on your day!\\n\")\n",
    "    "
   ]
  },
  {
   "cell_type": "code",
   "execution_count": null,
   "id": "9c8bddd5",
   "metadata": {
    "scrolled": true
   },
   "outputs": [],
   "source": [
    "greet_bday_user('23/08', user1, user2, user3)    # three arbitrary arguments"
   ]
  },
  {
   "cell_type": "code",
   "execution_count": null,
   "id": "7ae50d07",
   "metadata": {},
   "outputs": [],
   "source": [
    "greet_bday_user('23/08', *users)   # using the star operator to unpack every user in users list"
   ]
  },
  {
   "cell_type": "markdown",
   "id": "fae3b0ec",
   "metadata": {},
   "source": [
    "### Modifying an Object in a Function\n",
    "Just as an object outside a loop can be modified within a loop so also an object outside a function can be modified within the function. Consider an example below"
   ]
  },
  {
   "cell_type": "code",
   "execution_count": null,
   "id": "28b8077f",
   "metadata": {},
   "outputs": [],
   "source": [
    "def func(L):           # A function that pops from a list that is passed to it \n",
    "    L.pop()            # i.e the list is available in the function local scope"
   ]
  },
  {
   "cell_type": "code",
   "execution_count": null,
   "id": "c91524e0",
   "metadata": {
    "scrolled": true
   },
   "outputs": [],
   "source": [
    "L = [1, 'a', 'string', 10]      # Original list\n",
    "func(L)                         # Call func\n",
    "L                               # Return list with the last item removed"
   ]
  },
  {
   "cell_type": "code",
   "execution_count": null,
   "id": "0385b202",
   "metadata": {},
   "outputs": [],
   "source": [
    "def func():           # A function that pops from a list that is NOT passed to it \n",
    "    L.pop()           # i.e the list is NOT available in the function local scope"
   ]
  },
  {
   "cell_type": "code",
   "execution_count": null,
   "id": "cbdf73bc",
   "metadata": {},
   "outputs": [],
   "source": [
    "L = [1, 'a', 'string', 10]        # Original list\n",
    "func()                            # Call func\n",
    "L                                 # Return list with the last item removed"
   ]
  },
  {
   "cell_type": "markdown",
   "id": "07a2eadf",
   "metadata": {},
   "source": [
    "The `print` function prints out any number of abitrary argument passed to it, therefore you can unpack a list within it using the single star expression"
   ]
  },
  {
   "cell_type": "code",
   "execution_count": null,
   "id": "034e8cc4",
   "metadata": {
    "scrolled": true
   },
   "outputs": [],
   "source": [
    "keys = ['dob', 'city', 'age']\n",
    "print('This are missing:', *keys, sep='\\n')"
   ]
  },
  {
   "cell_type": "markdown",
   "id": "775a0c92",
   "metadata": {},
   "source": [
    "The default `sep` keyword argument is used to specify the character that seperates each arguments in these case we're using a newline character. The above is equivalent to:"
   ]
  },
  {
   "cell_type": "code",
   "execution_count": null,
   "id": "6101616c",
   "metadata": {},
   "outputs": [],
   "source": [
    "print('This are missing:', 'dob', 'city', 'age', sep='\\n')"
   ]
  },
  {
   "cell_type": "markdown",
   "id": "942de688",
   "metadata": {},
   "source": [
    "Let's combine all these idea to create a program that moves a user from an unverified list of users into a dictionary (or database) of users. Neither the list or the dictionary will be supplied directly to the program/function. We expect it to take these two objects outside its scope. First, we will define a function for the program that carries out the verification process and make sure all required information (or keys) are available for any user before they can be added to the database."
   ]
  },
  {
   "cell_type": "code",
   "execution_count": null,
   "id": "d84c8976",
   "metadata": {},
   "outputs": [],
   "source": [
    "def verify_info(current_user, required_info):\n",
    "    missing_info = [info for info in required_info if current_user.get(info) == None]  # Missing keys are stored here\n",
    "    if missing_info:\n",
    "        msg = 'Unable to complete verification due to the following missing required information:'\n",
    "        print(msg, *missing_info, sep='\\n')\n",
    "    else:\n",
    "        f_name = current_user['f_name']          # If no missing keys(i.e missing_info is empty) \n",
    "        verified_users[f_name] = current_user    # we add current user to the database. \n",
    "        print(\"verification complete\\n\")              "
   ]
  },
  {
   "cell_type": "code",
   "execution_count": null,
   "id": "092f3181",
   "metadata": {},
   "outputs": [],
   "source": [
    "verified_users = {}       # Empty database\n",
    "verify_info(current_user=user1, required_info=['dob', 'city'])"
   ]
  },
  {
   "cell_type": "markdown",
   "id": "b1a16006",
   "metadata": {},
   "source": [
    "The function below takes a user from unverfied users list, perform some verification using `verify_info` before adding the user to a dictionary of `verified_users` (initially empty) by using their first names as keys. This is done until the unverfied list is empty."
   ]
  },
  {
   "cell_type": "code",
   "execution_count": null,
   "id": "fe5eb7cd",
   "metadata": {},
   "outputs": [],
   "source": [
    "def verify_user():\n",
    "    while unverified_users:\n",
    "        current_user = unverified_users.pop()\n",
    "        f_name = current_user['f_name']\n",
    "        print(f\"Account under review:{f_name.title()}\")\n",
    "        print(f\"{27*'='}\")\n",
    "        # Checks if all required keys/info are available using the verify_info function\n",
    "        verify_info(current_user, required_info)"
   ]
  },
  {
   "cell_type": "code",
   "execution_count": null,
   "id": "023b2614",
   "metadata": {},
   "outputs": [],
   "source": [
    "# Create a list of unverified_users \n",
    "users = [user1, user2, user3, user4, user5, user6] \n",
    "unverified_users = users\n",
    "verified_users = {}       # empty dict\n",
    "required_info = ['dob', 'city']   # Required info/keys for every user dict.\n",
    "\n",
    "verify_user()       # call verify_user function "
   ]
  },
  {
   "cell_type": "code",
   "execution_count": null,
   "id": "36411f53",
   "metadata": {},
   "outputs": [],
   "source": [
    "verified_users          # No longer empty"
   ]
  },
  {
   "cell_type": "code",
   "execution_count": null,
   "id": "bbd84701",
   "metadata": {},
   "outputs": [],
   "source": [
    "unverified_users        # Empty"
   ]
  },
  {
   "cell_type": "code",
   "execution_count": null,
   "id": "89111969",
   "metadata": {},
   "outputs": [],
   "source": [
    "users       # Empty"
   ]
  },
  {
   "cell_type": "markdown",
   "id": "2cf52bff",
   "metadata": {},
   "source": [
    "To prevent a list from been modify, in these case to prevent the `verify_user` function from emptying our users list, we can use a copy of users:"
   ]
  },
  {
   "cell_type": "code",
   "execution_count": null,
   "id": "e597180d",
   "metadata": {},
   "outputs": [],
   "source": [
    "users = [user1, user2, user3, user4, user5, user6] \n",
    "unverified_users = users[:]   # We use the slice notation to create a copy of users\n",
    "verified_users = {} \n",
    "\n",
    "verify_user()     "
   ]
  },
  {
   "cell_type": "code",
   "execution_count": null,
   "id": "be7b265b",
   "metadata": {},
   "outputs": [],
   "source": [
    "unverified_users      # Empty"
   ]
  },
  {
   "cell_type": "code",
   "execution_count": null,
   "id": "f7fab950",
   "metadata": {},
   "outputs": [],
   "source": [
    "users      # Not empty"
   ]
  },
  {
   "cell_type": "markdown",
   "id": "07b6352f",
   "metadata": {},
   "source": [
    "## Lambda Functions\n",
    "To conclude this lesson, we'll explore Lambda functions. Lambda functions are anonymous and disposable (i.e created for specific task and not intended for reuse), which can take any number of arguments, but can only have one expression. They are usaually use to write a quick function to be apply in a single operation within a code. A lambda function is defined in Python using the `lambda` keyword followed by the parameters, then a colon(:), and  finally the code expresssion. The syntax is given below:\n",
    "\n",
    "    lambda parameters: expression\n",
    "    \n",
    "Consider the example below: "
   ]
  },
  {
   "cell_type": "code",
   "execution_count": null,
   "id": "eb61f19c",
   "metadata": {},
   "outputs": [],
   "source": [
    "def func(x):\n",
    "    return x**2 - x\n",
    "\n",
    "func(3)"
   ]
  },
  {
   "cell_type": "markdown",
   "id": "1e532b7f",
   "metadata": {},
   "source": [
    "The above function could be written as:"
   ]
  },
  {
   "cell_type": "code",
   "execution_count": null,
   "id": "d7ab2850",
   "metadata": {},
   "outputs": [],
   "source": [
    "# Defining the function\n",
    "func = lambda x: x**2 - x    \n",
    "\n",
    "# calling the function\n",
    "func(3)                       "
   ]
  },
  {
   "cell_type": "markdown",
   "id": "f1fd4c4e",
   "metadata": {},
   "source": [
    "Lambda functions can take any number of parameters:"
   ]
  },
  {
   "cell_type": "code",
   "execution_count": null,
   "id": "5fa83c91",
   "metadata": {},
   "outputs": [],
   "source": [
    "func = lambda x, y: x**2 - y        # Two parameters specified\n",
    "func(3, 2)"
   ]
  },
  {
   "cell_type": "markdown",
   "id": "307699ce",
   "metadata": {},
   "source": [
    "*Copyright &copy; 2025 DataClax. This content is licensed solely for personal use. Redistribution or publication of this material is strictly prohibited.*"
   ]
  }
 ],
 "metadata": {
  "kernelspec": {
   "display_name": "Python 3 (ipykernel)",
   "language": "python",
   "name": "python3"
  },
  "language_info": {
   "codemirror_mode": {
    "name": "ipython",
    "version": 3
   },
   "file_extension": ".py",
   "mimetype": "text/x-python",
   "name": "python",
   "nbconvert_exporter": "python",
   "pygments_lexer": "ipython3",
   "version": "3.11.7"
  }
 },
 "nbformat": 4,
 "nbformat_minor": 5
}
