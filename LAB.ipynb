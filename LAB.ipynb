{
 "cells": [
  {
   "cell_type": "code",
   "execution_count": null,
   "id": "71722d9a",
   "metadata": {},
   "outputs": [],
   "source": []
  },
  {
   "cell_type": "code",
   "execution_count": null,
   "id": "20e8f89e",
   "metadata": {},
   "outputs": [],
   "source": [
    "def func(**kwargs):\n",
    "    print(kwargs)\n",
    "    \n",
    "func(**{'city': 'ibadan', 'l_name': 'obarotu'})"
   ]
  },
  {
   "cell_type": "code",
   "execution_count": null,
   "id": "dc31cfa5",
   "metadata": {},
   "outputs": [],
   "source": []
  },
  {
   "cell_type": "code",
   "execution_count": 100,
   "id": "762e5567",
   "metadata": {},
   "outputs": [],
   "source": [
    "def user(f_name, l_name, age, dob, phone_no, country, **user_info):\n",
    "    \"Returns a dictionary of user data\"\n",
    "    user_info['f_name'] = f_name\n",
    "    user_info['l_name'] = l_name\n",
    "    user_info['age'] = age\n",
    "    user_info['dob'] = dob\n",
    "    user_info['phone_no'] = phone_no\n",
    "    user_info['country'] = country     \n",
    "    return(user_info)    "
   ]
  },
  {
   "cell_type": "code",
   "execution_count": 67,
   "id": "28cbf621",
   "metadata": {
    "scrolled": true
   },
   "outputs": [
    {
     "data": {
      "text/plain": [
       "{'city': 'ibadan',\n",
       " 'next_of_kin': 'Trump',\n",
       " 'f_name': 'peter',\n",
       " 'l_name': 'obarotu',\n",
       " 'age': 22,\n",
       " 'dob': '12-12-12',\n",
       " 'phone_no': '09079303775',\n",
       " 'country': 'nigeria'}"
      ]
     },
     "execution_count": 67,
     "metadata": {},
     "output_type": "execute_result"
    }
   ],
   "source": [
    "peter = user('peter', 'obarotu',22, '12-12-12', '09079303775', city='ibadan', next_of_kin='Trump' )\n",
    "peter"
   ]
  },
  {
   "cell_type": "code",
   "execution_count": 1,
   "id": "7277ee7b",
   "metadata": {},
   "outputs": [],
   "source": [
    "def text_processor(text):\n",
    "    info = {}\n",
    "    for kv in text.split(','):\n",
    "        key = kv.split('=')[0].strip()\n",
    "        value = kv.split('=')[1].strip()\n",
    "        info.update({key:value})\n",
    "    return info"
   ]
  },
  {
   "cell_type": "code",
   "execution_count": 2,
   "id": "fa2ad5b2",
   "metadata": {},
   "outputs": [
    {
     "data": {
      "text/plain": [
       "{'first_name': 'peter',\n",
       " 'location': 'ibadan',\n",
       " 'spouse': 'ruby',\n",
       " 'next of kin': 'Trump'}"
      ]
     },
     "execution_count": 2,
     "metadata": {},
     "output_type": "execute_result"
    }
   ],
   "source": [
    "info=text_processor('first_name=peter, location=ibadan, spouse=ruby, next of kin=Trump')\n",
    "info"
   ]
  },
  {
   "cell_type": "code",
   "execution_count": 16,
   "id": "c575d0ee",
   "metadata": {},
   "outputs": [],
   "source": [
    "import random"
   ]
  },
  {
   "cell_type": "code",
   "execution_count": 74,
   "id": "4e6c738a",
   "metadata": {},
   "outputs": [
    {
     "data": {
      "text/plain": [
       "['0', '6', '4', '8', '1', '7']"
      ]
     },
     "execution_count": 74,
     "metadata": {},
     "output_type": "execute_result"
    }
   ],
   "source": [
    "rand_sample = random.sample(list('1234567890'), k=6)\n",
    "rand_sample"
   ]
  },
  {
   "cell_type": "code",
   "execution_count": 75,
   "id": "997f334f",
   "metadata": {},
   "outputs": [
    {
     "data": {
      "text/plain": [
       "['1', '2', '3', '4', '5', '6', '7', '8', '9', '0']"
      ]
     },
     "execution_count": 75,
     "metadata": {},
     "output_type": "execute_result"
    }
   ],
   "source": [
    "list('1234567890')"
   ]
  },
  {
   "cell_type": "code",
   "execution_count": 76,
   "id": "19a849f6",
   "metadata": {},
   "outputs": [
    {
     "data": {
      "text/plain": [
       "['3', '7', '8', '0']"
      ]
     },
     "execution_count": 76,
     "metadata": {},
     "output_type": "execute_result"
    }
   ],
   "source": [
    "rand_sample = random.sample(list('1234567890'), k=4)\n",
    "rand_sample"
   ]
  },
  {
   "cell_type": "code",
   "execution_count": 77,
   "id": "5838127b",
   "metadata": {},
   "outputs": [
    {
     "data": {
      "text/plain": [
       "'3780'"
      ]
     },
     "execution_count": 77,
     "metadata": {},
     "output_type": "execute_result"
    }
   ],
   "source": [
    "''.join(rand_sample)"
   ]
  },
  {
   "cell_type": "code",
   "execution_count": 78,
   "id": "a1d1c7eb",
   "metadata": {},
   "outputs": [
    {
     "data": {
      "text/plain": [
       "'3-7-8-0'"
      ]
     },
     "execution_count": 78,
     "metadata": {},
     "output_type": "execute_result"
    }
   ],
   "source": [
    "'-'.join(rand_sample)"
   ]
  },
  {
   "cell_type": "code",
   "execution_count": 79,
   "id": "d75d29e8",
   "metadata": {},
   "outputs": [
    {
     "data": {
      "text/plain": [
       "'dc223780'"
      ]
     },
     "execution_count": 79,
     "metadata": {},
     "output_type": "execute_result"
    }
   ],
   "source": [
    "'dc22'+''.join(rand_sample)"
   ]
  },
  {
   "cell_type": "code",
   "execution_count": 150,
   "id": "4cd561f3",
   "metadata": {},
   "outputs": [],
   "source": [
    "import random\n",
    "def generate_mat_no(lead_value, k=4):\n",
    "    rand_sample = random.sample(list('1234567890'), k=k)\n",
    "    return lead_value + ''.join(rand_sample)"
   ]
  },
  {
   "cell_type": "code",
   "execution_count": 81,
   "id": "28043f45",
   "metadata": {},
   "outputs": [
    {
     "data": {
      "text/plain": [
       "'dc226750'"
      ]
     },
     "execution_count": 81,
     "metadata": {},
     "output_type": "execute_result"
    }
   ],
   "source": [
    "generate_mat_no('dc22')"
   ]
  },
  {
   "cell_type": "code",
   "execution_count": null,
   "id": "df29b546",
   "metadata": {},
   "outputs": [],
   "source": []
  },
  {
   "cell_type": "code",
   "execution_count": 69,
   "id": "0f55d547",
   "metadata": {},
   "outputs": [],
   "source": [
    "database = {}\n",
    "key = generate_mat_no('dc22')\n",
    "database[key] = peter"
   ]
  },
  {
   "cell_type": "code",
   "execution_count": 70,
   "id": "34b7013f",
   "metadata": {},
   "outputs": [
    {
     "data": {
      "text/plain": [
       "{'dc226451': {'city': 'ibadan',\n",
       "  'next_of_kin': 'Trump',\n",
       "  'f_name': 'peter',\n",
       "  'l_name': 'obarotu',\n",
       "  'age': 22,\n",
       "  'dob': '12-12-12',\n",
       "  'phone_no': '09079303775',\n",
       "  'country': 'nigeria'}}"
      ]
     },
     "execution_count": 70,
     "metadata": {},
     "output_type": "execute_result"
    }
   ],
   "source": [
    "database"
   ]
  },
  {
   "cell_type": "code",
   "execution_count": 117,
   "id": "b2778b0a",
   "metadata": {},
   "outputs": [],
   "source": [
    "def register_user():   \n",
    "    print(\"All asterisk field must be filled\")\n",
    "    f_name = input('Enter first name*: ')\n",
    "    l_name = input('Enter last name*: ')\n",
    "    middle_name = input('Enter middle name: ')\n",
    "    age = int(input('Enter your age*: '))\n",
    "    dob = input('Enter date of birth in this format \"DD-MM-YY\"*: ')\n",
    "    phone_no = input('Phone Number*: ')\n",
    "    country = input('Country (Nigeria by default): ')\n",
    "    prompt = 'Enter additional information in the following format:\\n city=abuja, next of kin=Trump '\n",
    "    text = input(prompt)\n",
    "    \n",
    "    #Calls the text_processor function. Returns a dictionary of additional information\n",
    "    add_info = text_processor(text)\n",
    "    \n",
    "    #Add middle_name to add_info, if it's provided\n",
    "    if middle_name:\n",
    "        add_info['middle_name'] = middle_name  \n",
    "    if country:\n",
    "        country = country\n",
    "    else:\n",
    "        country = 'Nigeria'\n",
    "    #Calls the 'user' function. Unpacks 'add_info' with double star operator\n",
    "    student = user(f_name, l_name, age, dob, phone_no, country, **add_info)\n",
    "    mat_no = generate_mat_no('DC22')\n",
    "    while mat_no in database:\n",
    "        mat_no = generate_mat_no('DC22')              # regenerate a new mat_no  \n",
    "        \n",
    "    database[mat_no] = student\n",
    "    print(\"Registration successful\")\n",
    "    print(f\"{student['f_name'].title()}, your Matriculation number is {mat_no}\")"
   ]
  },
  {
   "cell_type": "code",
   "execution_count": 102,
   "id": "e7234d67",
   "metadata": {
    "scrolled": true
   },
   "outputs": [
    {
     "name": "stdout",
     "output_type": "stream",
     "text": [
      "All asterisk field must be filled\n",
      "Enter first name*: obarotu\n",
      "Enter last name*: urhuerhi\n",
      "Enter middle name: peter\n",
      "Enter your age*: 11\n",
      "Enter date of birth in this format \"DD-MM-YY\"*: 12-12-12\n",
      "Phone Number*: 09079303775\n",
      "Country (Nigeria by default): \n",
      "Enter additional information in the following format:\n",
      " city=abuja, next of kin=Trump city=ibadan\n",
      "Registration successful\n",
      "Obarotu, your Matriculation number is DC229186\n"
     ]
    }
   ],
   "source": [
    "database = {'DC221111':{'f_name':'john',\n",
    "                      'l_name':'diggle',\n",
    "                      'age':18},\n",
    "            'DC222222':{'f_name':'lebron',\n",
    "                      'l_name':'james',\n",
    "                      'age':21},\n",
    "            'DC223333':{'f_name':'kenny',\n",
    "                      'l_name':'newton',\n",
    "                      'age':20},\n",
    "           }\n",
    "\n",
    "register_user()"
   ]
  },
  {
   "cell_type": "code",
   "execution_count": 103,
   "id": "981ca1c2",
   "metadata": {},
   "outputs": [
    {
     "data": {
      "text/plain": [
       "{'DC221111': {'f_name': 'john', 'l_name': 'diggle', 'age': 18},\n",
       " 'DC222222': {'f_name': 'lebron', 'l_name': 'james', 'age': 21},\n",
       " 'DC223333': {'f_name': 'kenny', 'l_name': 'newton', 'age': 20},\n",
       " 'DC229186': {'city': 'ibadan',\n",
       "  'middle_name': 'peter',\n",
       "  'f_name': 'obarotu',\n",
       "  'l_name': 'urhuerhi',\n",
       "  'age': 11,\n",
       "  'dob': '12-12-12',\n",
       "  'phone_no': '09079303775',\n",
       "  'country': 'Nigeria'}}"
      ]
     },
     "execution_count": 103,
     "metadata": {},
     "output_type": "execute_result"
    }
   ],
   "source": [
    "database"
   ]
  },
  {
   "cell_type": "code",
   "execution_count": null,
   "id": "19787536",
   "metadata": {},
   "outputs": [],
   "source": [
    "database = {'DC221111':{'f_name':'john',\n",
    "                      'l_name':'diggle',\n",
    "                      'age':18},\n",
    "            'DC222222':{'f_name':'lebron',\n",
    "                      'l_name':'james',\n",
    "                      'age':21},\n",
    "            'DC223333':{'f_name':'kenny',\n",
    "                      'l_name':'newton',\n",
    "                      'age':20},\n",
    "           }"
   ]
  },
  {
   "cell_type": "code",
   "execution_count": 106,
   "id": "cadbd19f",
   "metadata": {},
   "outputs": [
    {
     "name": "stdout",
     "output_type": "stream",
     "text": [
      "Register as a new student or register your courses as Old student\n",
      "Register as a new student [y/n]: n\n",
      "Please enter your Matriculation Number to login in: DC228412\n",
      "Welcome Obarotu! Please register your courses\n",
      "Specify your class.\n",
      "Enter 1 for Science, 2 for Commercial, 3 for Art: 1\n",
      "Enter subjects for registration.\n",
      "Seperate each subject with a space: english mathematics chemistry\n",
      "\n",
      "\n",
      "English has been registered as part of your courses for the term\n",
      "Mathematics has been registered as part of your courses for the term\n",
      "Chemistry has been registered as part of your courses for the term\n",
      "\n",
      "All available subjects submited has been registerd. Success in your exams!\n"
     ]
    }
   ],
   "source": [
    "\n",
    "science = ['english', 'mathematics', 'biology', 'economics', 'geography', 'physics', 'chemistry']\n",
    "commercial = ['english', 'mathematics', 'biology', 'economics', 'commerce','accounting', 'geography']\n",
    "art = ['english', 'mathematics', 'biology', 'economics', 'government', 'literature', 'history']\n",
    "\n",
    "print('Register as a new student or register your courses as Old student')\n",
    "res = input('Register as a new student [y/n]: ')\n",
    "if res.lower() == 'n':\n",
    "    mat_no = input('Please enter your Matriculation Number to login in: ')\n",
    "    if mat_no in database:\n",
    "        rec = database[mat_no]\n",
    "        f_name = rec['f_name']\n",
    "        print(f\"Welcome {f_name.title()}! Please register your courses\")\n",
    "\n",
    "        dept = input('Specify your class.\\nEnter 1 for Science, 2 for Commercial, 3 for Art: ')\n",
    "        dept = int(dept)\n",
    "        submitted_subjects = input('Enter subjects for registration.\\nSeperate each subject with a comma: ')\n",
    "        submitted_subjects = submitted_subjects.split(',')\n",
    "\n",
    "\n",
    "        if dept == 1:\n",
    "            available_subjects = science\n",
    "        elif dept == 2:\n",
    "            available_subjects = commercial\n",
    "        elif dept == 3:\n",
    "            available_subjects = art\n",
    "\n",
    "        if submitted_subjects:\n",
    "            print('\\n')\n",
    "            for submitted_subject in submitted_subjects:\n",
    "                if submitted_subject.lower() not in available_subjects:\n",
    "                    print(f\"There won't be {submitted_subject.title()} classes or exams for the current term.\")\n",
    "                else:\n",
    "                    print(f'{submitted_subject.title()} has been registered as part of your courses for the term')\n",
    "            print(f'\\nAll available subjects submited has been registerd. Success in your exams!') \n",
    "\n",
    "        else:\n",
    "            print(f\"\\nMinimum of one subject must be submitted for registration!\")\n",
    "    else:\n",
    "        print('No student with this Matriculation number. Ensure you enter the correct Number')\n",
    "\n",
    "elif res.lower() == 'y':\n",
    "      register_user()\n",
    "      \n",
    "      "
   ]
  },
  {
   "cell_type": "code",
   "execution_count": 105,
   "id": "63edd624",
   "metadata": {},
   "outputs": [
    {
     "data": {
      "text/plain": [
       "{'DC221111': {'f_name': 'john', 'l_name': 'diggle', 'age': 18},\n",
       " 'DC222222': {'f_name': 'lebron', 'l_name': 'james', 'age': 21},\n",
       " 'DC223333': {'f_name': 'kenny', 'l_name': 'newton', 'age': 20},\n",
       " 'DC228412': {'city': 'ibadan',\n",
       "  'middle_name': 'peter',\n",
       "  'f_name': 'obarotu',\n",
       "  'l_name': 'urhuerhi',\n",
       "  'age': 12,\n",
       "  'dob': '12-12-12',\n",
       "  'phone_no': '09079303775',\n",
       "  'country': 'Nigeria'}}"
      ]
     },
     "execution_count": 105,
     "metadata": {},
     "output_type": "execute_result"
    }
   ],
   "source": [
    "database"
   ]
  },
  {
   "cell_type": "code",
   "execution_count": 139,
   "id": "684be053",
   "metadata": {},
   "outputs": [
    {
     "data": {
      "text/plain": [
       "['english', 'mathematics', 'fineart']"
      ]
     },
     "execution_count": 139,
     "metadata": {},
     "output_type": "execute_result"
    }
   ],
   "source": [
    "s = 'english,            mathematics,         fine art'\n",
    "s.replace(' ', '').split(',')"
   ]
  },
  {
   "cell_type": "code",
   "execution_count": 116,
   "id": "f5caccf8",
   "metadata": {
    "scrolled": true
   },
   "outputs": [
    {
     "data": {
      "text/plain": [
       "{'english', 'mathematics'}"
      ]
     },
     "execution_count": 116,
     "metadata": {},
     "output_type": "execute_result"
    }
   ],
   "source": [
    "set(s.split(',')).intersection(science)"
   ]
  },
  {
   "cell_type": "code",
   "execution_count": 145,
   "id": "3767a147",
   "metadata": {},
   "outputs": [],
   "source": [
    "student_records = {}        # A database for each students registered courses"
   ]
  },
  {
   "cell_type": "code",
   "execution_count": 146,
   "id": "2626391b",
   "metadata": {},
   "outputs": [],
   "source": [
    "def register_courses(mat_no):\n",
    "    \"\"\"Register a student courses \"\"\"\n",
    "    if mat_no in database:\n",
    "        rec = database[mat_no]\n",
    "        f_name = rec['f_name']\n",
    "        print(f\"Welcome {f_name.title()}! Please register your courses\")\n",
    "\n",
    "        dept = input('Specify your class.\\nEnter 1 for Science, 2 for Commercial, 3 for Art: ')\n",
    "        dept = int(dept)\n",
    "        submitted_subjects = input('Enter subjects for registration.\\nSeperate each subject with a comma: ')\n",
    "        submitted_subjects = submitted_subjects.replace(' ', '').split(',')\n",
    "\n",
    "        if dept == 1:\n",
    "            available_subjects = science\n",
    "        elif dept == 2:\n",
    "            available_subjects = commercial\n",
    "        elif dept == 3:\n",
    "            available_subjects = art\n",
    "\n",
    "        if submitted_subjects:\n",
    "            print('\\n')\n",
    "            for submitted_subject in submitted_subjects:\n",
    "                if submitted_subject.lower() not in available_subjects:\n",
    "                    print(f\"There won't be {submitted_subject.title()} classes or exams for the current term.\")\n",
    "                else:\n",
    "                    print(f'{submitted_subject.title()} has been registered as part of your courses for the term')\n",
    "            # Get all unique submitted subjects that are available and stores it in student_records.\n",
    "            submitted_available = set(submitted_subjects).intersection(available_subjects)\n",
    "            student_records[mat_no] = list(submitted_available)\n",
    "            \n",
    "            print(f'\\nAll available subjects submited has been registerd. Success in your exams!') \n",
    "        else:\n",
    "            print(f\"\\nMinimum of one subject must be submitted for registration!\")\n",
    "    else:\n",
    "        print('No student with this Matriculation number. Ensure you enter the correct Number')\n"
   ]
  },
  {
   "cell_type": "code",
   "execution_count": 151,
   "id": "3ea79d15",
   "metadata": {},
   "outputs": [
    {
     "name": "stdout",
     "output_type": "stream",
     "text": [
      "Register as a new student or register your courses as Old student\n",
      "Register as a new student [y/n]: n\n",
      "Please enter your Matriculation Number: ddd\n",
      "No student with this Matriculation number. Ensure you enter the correct Number\n"
     ]
    }
   ],
   "source": [
    "import random\n",
    "science = ['english', 'mathematics', 'biology', 'economics', 'geography', 'physics', 'chemistry']\n",
    "commercial = ['english', 'mathematics', 'biology', 'economics', 'commerce','accounting', 'geography']\n",
    "art = ['english', 'mathematics', 'biology', 'economics', 'government', 'literature', 'history']\n",
    "\n",
    "print('Register as a new student or register your courses as Old student')\n",
    "res = input('Register as a new student [y/n]: ')\n",
    "if res.lower() == 'n':\n",
    "    mat_no = input('Please enter your Matriculation Number: ')\n",
    "    register_courses(mat_no)\n",
    "elif res.lower() == 'y':\n",
    "      register_user()"
   ]
  },
  {
   "cell_type": "code",
   "execution_count": 143,
   "id": "d7921acf",
   "metadata": {},
   "outputs": [
    {
     "data": {
      "text/plain": [
       "{'city': 'ibadan',\n",
       " 'middle_name': 'peter',\n",
       " 'f_name': 'obarotu',\n",
       " 'l_name': 'urhuerhi',\n",
       " 'age': 12,\n",
       " 'dob': '12-12-12',\n",
       " 'phone_no': '09079303775',\n",
       " 'country': 'Nigeria'}"
      ]
     },
     "execution_count": 143,
     "metadata": {},
     "output_type": "execute_result"
    }
   ],
   "source": [
    "mat_no = 'DC228412'\n",
    "database[mat_no]"
   ]
  },
  {
   "cell_type": "code",
   "execution_count": 149,
   "id": "2dab4a50",
   "metadata": {},
   "outputs": [
    {
     "data": {
      "text/plain": [
       "['mathematics', 'english', 'biology']"
      ]
     },
     "execution_count": 149,
     "metadata": {},
     "output_type": "execute_result"
    }
   ],
   "source": [
    "student_records[mat_no]"
   ]
  },
  {
   "cell_type": "code",
   "execution_count": null,
   "id": "77ab79f4",
   "metadata": {},
   "outputs": [],
   "source": []
  },
  {
   "cell_type": "code",
   "execution_count": null,
   "id": "6d49a845",
   "metadata": {},
   "outputs": [],
   "source": []
  },
  {
   "cell_type": "code",
   "execution_count": null,
   "id": "32765924",
   "metadata": {},
   "outputs": [],
   "source": []
  },
  {
   "cell_type": "code",
   "execution_count": null,
   "id": "d86d6842",
   "metadata": {},
   "outputs": [],
   "source": []
  }
 ],
 "metadata": {
  "kernelspec": {
   "display_name": "Python 3 (ipykernel)",
   "language": "python",
   "name": "python3"
  },
  "language_info": {
   "codemirror_mode": {
    "name": "ipython",
    "version": 3
   },
   "file_extension": ".py",
   "mimetype": "text/x-python",
   "name": "python",
   "nbconvert_exporter": "python",
   "pygments_lexer": "ipython3",
   "version": "3.11.7"
  }
 },
 "nbformat": 4,
 "nbformat_minor": 5
}
